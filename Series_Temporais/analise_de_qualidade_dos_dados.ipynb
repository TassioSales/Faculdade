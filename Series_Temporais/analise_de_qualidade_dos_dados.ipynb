{
 "cells": [
  {
   "cell_type": "code",
   "execution_count": 1,
   "metadata": {},
   "outputs": [],
   "source": [
    "import pandas as pd\n",
    "import os\n",
    "import glob as gb\n",
    "import seaborn as sns\n",
    "import matplotlib.pyplot as plt\n",
    "import numpy as np\n",
    "import warnings\n",
    "import datetime as dt\n",
    "import matplotlib.dates as mdates\n",
    "import matplotlib.ticker as ticker\n",
    "import seaborn as sns\n",
    "import gc\n",
    "from datetime import datetime\n",
    "import re"
   ]
  },
  {
   "cell_type": "code",
   "execution_count": 2,
   "metadata": {},
   "outputs": [
    {
     "data": {
      "text/plain": [
       "\"#criar função para verificar se as colunas de cada arquivo são iguais\\ndef verificar_colunas():\\n    #verificar colunas de uma dos arquivos csv da pasta arquivos_csv\\n    df = pd.read_csv('arquivoscsv/ca-2004-01.csv', sep=';', encoding='latin-1')\\n    #criar lista com as colunas do arquivo\\n    coluna =[col for col in df.columns]\\n    #ler o reestante dos arquivos usando a biblioteca glob e verificar se as colunas são iguais\\n    for arquivo in gb.glob('arquivoscsv/*.csv'):\\n        df = pd.read_csv(arquivo, sep=';', encoding='latin-1')\\n        coluna2 = [col for col in df.columns]\\n        if coluna == coluna2:\\n            print(f'Colunas do arquivo {arquivo} são iguais')\\n        else:\\n            print(f'Colunas do arquivo {arquivo} são diferentes')\\n    #caso as colunas sejam diferentes, mostrar quais são as colunas diferentes\\n    if coluna != coluna2:\\n        print(f'Colunas diferentes: {set(coluna) - set(coluna2)}')\""
      ]
     },
     "execution_count": 2,
     "metadata": {},
     "output_type": "execute_result"
    }
   ],
   "source": [
    "'''#criar função para verificar se as colunas de cada arquivo são iguais\n",
    "def verificar_colunas():\n",
    "    #verificar colunas de uma dos arquivos csv da pasta arquivos_csv\n",
    "    df = pd.read_csv('arquivoscsv/ca-2004-01.csv', sep=';', encoding='latin-1')\n",
    "    #criar lista com as colunas do arquivo\n",
    "    coluna =[col for col in df.columns]\n",
    "    #ler o reestante dos arquivos usando a biblioteca glob e verificar se as colunas são iguais\n",
    "    for arquivo in gb.glob('arquivoscsv/*.csv'):\n",
    "        df = pd.read_csv(arquivo, sep=';', encoding='latin-1')\n",
    "        coluna2 = [col for col in df.columns]\n",
    "        if coluna == coluna2:\n",
    "            print(f'Colunas do arquivo {arquivo} são iguais')\n",
    "        else:\n",
    "            print(f'Colunas do arquivo {arquivo} são diferentes')\n",
    "    #caso as colunas sejam diferentes, mostrar quais são as colunas diferentes\n",
    "    if coluna != coluna2:\n",
    "        print(f'Colunas diferentes: {set(coluna) - set(coluna2)}')'''"
   ]
  },
  {
   "cell_type": "code",
   "execution_count": 3,
   "metadata": {},
   "outputs": [
    {
     "data": {
      "text/plain": [
       "'verificar_colunas()'"
      ]
     },
     "execution_count": 3,
     "metadata": {},
     "output_type": "execute_result"
    }
   ],
   "source": [
    "'''verificar_colunas()'''"
   ]
  },
  {
   "cell_type": "code",
   "execution_count": 4,
   "metadata": {},
   "outputs": [
    {
     "data": {
      "text/plain": [
       "\"#como a coluna Regiao e inrrelevantes para a análise, vamos excluí-la de todos os arquivos\\n#remover a primeira coluna de cada arquivo csv\\ndef remover_primeira_coluna():\\n    for arquivo in gb.glob('arquivoscsv/*.csv'):\\n        df = pd.read_csv(arquivo, sep=';', encoding='latin-1')\\n        df.drop(df.columns[0], axis=1, inplace=True)\\n        #mostra o arquivo que foi modificado\\n        print(f'Arquivo {arquivo} modificado')\\n        #salvar o arquivo modificado\\n        df.to_csv(arquivo, sep=';', encoding='latin-1', index=False)\\n        #mostra o arquivo salvo\\n        print(f'Arquivo {arquivo} foi salvo')\""
      ]
     },
     "execution_count": 4,
     "metadata": {},
     "output_type": "execute_result"
    }
   ],
   "source": [
    "'''#como a coluna Regiao e inrrelevantes para a análise, vamos excluí-la de todos os arquivos\n",
    "#remover a primeira coluna de cada arquivo csv\n",
    "def remover_primeira_coluna():\n",
    "    for arquivo in gb.glob('arquivoscsv/*.csv'):\n",
    "        df = pd.read_csv(arquivo, sep=';', encoding='latin-1')\n",
    "        df.drop(df.columns[0], axis=1, inplace=True)\n",
    "        #mostra o arquivo que foi modificado\n",
    "        print(f'Arquivo {arquivo} modificado')\n",
    "        #salvar o arquivo modificado\n",
    "        df.to_csv(arquivo, sep=';', encoding='latin-1', index=False)\n",
    "        #mostra o arquivo salvo\n",
    "        print(f'Arquivo {arquivo} foi salvo')'''"
   ]
  },
  {
   "cell_type": "code",
   "execution_count": 5,
   "metadata": {},
   "outputs": [
    {
     "data": {
      "text/plain": [
       "'remover_primeira_coluna()'"
      ]
     },
     "execution_count": 5,
     "metadata": {},
     "output_type": "execute_result"
    }
   ],
   "source": [
    "'''remover_primeira_coluna()'''"
   ]
  },
  {
   "cell_type": "code",
   "execution_count": 6,
   "metadata": {},
   "outputs": [
    {
     "data": {
      "text/plain": [
       "'#apos a remoção da coluna Regiao, vamos verificar se as colunas dos arquivos são iguais\\nverificar_colunas()'"
      ]
     },
     "execution_count": 6,
     "metadata": {},
     "output_type": "execute_result"
    }
   ],
   "source": [
    "'''#apos a remoção da coluna Regiao, vamos verificar se as colunas dos arquivos são iguais\n",
    "verificar_colunas()'''"
   ]
  },
  {
   "cell_type": "code",
   "execution_count": 7,
   "metadata": {},
   "outputs": [
    {
     "data": {
      "text/plain": [
       "'#agora podemos concatenar os arquivos em um único arquivo\\n#concatenar os arquivos csv em um único arquivo salvar arquivo com o nome de dados_combustiveis.csv\\n#encoding = \"utf-8\" para evitar erros de codificação e cep = \\';\\' para separar as colunas\\ndef concatenar_arquivos():\\n    df = pd.concat([pd.read_csv(f, sep=\\';\\', encoding=\\'latin-1\\') for f in gb.glob(\\'arquivoscsv/*.csv\\')])\\n    df.to_csv(\\'arquivoscsv/dados_combustiveis.csv\\', sep=\\';\\', encoding=\\'utf-8\\', index=False)\\n    print(\\'Arquivo concatenado\\')'"
      ]
     },
     "execution_count": 7,
     "metadata": {},
     "output_type": "execute_result"
    }
   ],
   "source": [
    "'''#agora podemos concatenar os arquivos em um único arquivo\n",
    "#concatenar os arquivos csv em um único arquivo salvar arquivo com o nome de dados_combustiveis.csv\n",
    "#encoding = \"utf-8\" para evitar erros de codificação e cep = ';' para separar as colunas\n",
    "def concatenar_arquivos():\n",
    "    df = pd.concat([pd.read_csv(f, sep=';', encoding='latin-1') for f in gb.glob('arquivoscsv/*.csv')])\n",
    "    df.to_csv('arquivoscsv/dados_combustiveis.csv', sep=';', encoding='utf-8', index=False)\n",
    "    print('Arquivo concatenado')'''"
   ]
  },
  {
   "cell_type": "code",
   "execution_count": 8,
   "metadata": {},
   "outputs": [
    {
     "data": {
      "text/plain": [
       "'concatenar_arquivos()'"
      ]
     },
     "execution_count": 8,
     "metadata": {},
     "output_type": "execute_result"
    }
   ],
   "source": [
    "'''concatenar_arquivos()'''"
   ]
  },
  {
   "cell_type": "code",
   "execution_count": 9,
   "metadata": {},
   "outputs": [
    {
     "data": {
      "text/plain": [
       "\"#verificar se o arquivo presente na pasta arquivoscsv\\ndef verificar_arquivo():\\n    for arquivo in gb.glob('arquivoscsv/*.csv'):\\n        print(f'Arquivo {arquivo} presente na pasta arquivoscsv')\""
      ]
     },
     "execution_count": 9,
     "metadata": {},
     "output_type": "execute_result"
    }
   ],
   "source": [
    "'''#verificar se o arquivo presente na pasta arquivoscsv\n",
    "def verificar_arquivo():\n",
    "    for arquivo in gb.glob('arquivoscsv/*.csv'):\n",
    "        print(f'Arquivo {arquivo} presente na pasta arquivoscsv')'''"
   ]
  },
  {
   "cell_type": "code",
   "execution_count": 10,
   "metadata": {},
   "outputs": [
    {
     "data": {
      "text/plain": [
       "'verificar_arquivo()'"
      ]
     },
     "execution_count": 10,
     "metadata": {},
     "output_type": "execute_result"
    }
   ],
   "source": [
    "'''verificar_arquivo()'''"
   ]
  },
  {
   "cell_type": "code",
   "execution_count": 11,
   "metadata": {},
   "outputs": [
    {
     "data": {
      "text/plain": [
       "'#limpar a memória do computador usando a biblioteca gc\\ngc.collect()'"
      ]
     },
     "execution_count": 11,
     "metadata": {},
     "output_type": "execute_result"
    }
   ],
   "source": [
    "'''#limpar a memória do computador usando a biblioteca gc\n",
    "gc.collect()'''"
   ]
  },
  {
   "cell_type": "code",
   "execution_count": 12,
   "metadata": {},
   "outputs": [
    {
     "data": {
      "text/plain": [
       "\"#remover os arquivos csv diferentes do arquivo dados_combustiveis.csv\\ndef remover_arquivos():\\n    for arquivo in gb.glob('arquivoscsv/*.csv'):\\n        if arquivo != 'arquivoscsv\\\\dados_combustiveis.csv':\\n            os.remove(arquivo)\\n            print(f'Arquivo {arquivo} removido')\""
      ]
     },
     "execution_count": 12,
     "metadata": {},
     "output_type": "execute_result"
    }
   ],
   "source": [
    "'''#remover os arquivos csv diferentes do arquivo dados_combustiveis.csv\n",
    "def remover_arquivos():\n",
    "    for arquivo in gb.glob('arquivoscsv/*.csv'):\n",
    "        if arquivo != 'arquivoscsv\\dados_combustiveis.csv':\n",
    "            os.remove(arquivo)\n",
    "            print(f'Arquivo {arquivo} removido')'''"
   ]
  },
  {
   "cell_type": "code",
   "execution_count": 13,
   "metadata": {},
   "outputs": [
    {
     "data": {
      "text/plain": [
       "'remover_arquivos()'"
      ]
     },
     "execution_count": 13,
     "metadata": {},
     "output_type": "execute_result"
    }
   ],
   "source": [
    "'''remover_arquivos()'''"
   ]
  },
  {
   "cell_type": "markdown",
   "metadata": {},
   "source": [
    "<h1>Visualizando os dados</h1>\n",
    "\n",
    "O preço de combustíveis é um tema bastante sensível, pois afeta diretamente o orçamento das famílias. Nos últimos anos, o preço do petróleo tem sofrido grandes oscilações, o que tem impactado no preço dos combustíveis.\n",
    "\n",
    "Os dados históricos do preço de combustíveis foram coletados do site da Agência Nacional do Petróleo, Gás Natural e Biocombustíveis (ANP). Os preços são referentes ao combustível vendido nas bombas de combustíveis. Os dados foram coletados no dia 21 de janeiro de 2022.\n",
    "\n",
    "A coleta dos dados foi feita através de webscarping."
   ]
  },
  {
   "cell_type": "code",
   "execution_count": 14,
   "metadata": {},
   "outputs": [],
   "source": [
    "#lendo o arquivo dados_combustiveis.csv e salvando em um dataframe df e verificando o tamanho do arquivo em MB\n",
    "def verificar_tamanho_arquivo():\n",
    "    df = pd.read_csv('arquivoscsv/dados_combustiveis.csv', sep=';', encoding='utf-8')\n",
    "    print(f'Tamanho do arquivo: {os.path.getsize(\"arquivoscsv/dados_combustiveis.csv\") / 1024 / 1024:.2f} MB')\n",
    "    return df\n",
    "df = verificar_tamanho_arquivo()\n",
    "    "
   ]
  },
  {
   "cell_type": "code",
   "execution_count": 15,
   "metadata": {},
   "outputs": [
    {
     "name": "stderr",
     "output_type": "stream",
     "text": [
      "C:\\Users\\tassi\\AppData\\Local\\Temp\\ipykernel_6452\\3982469969.py:3: DtypeWarning: Columns (12) have mixed types. Specify dtype option on import or set low_memory=False.\n",
      "  df = pd.read_csv('arquivoscsv/dados_combustiveis.csv', sep=';', encoding='utf-8')\n"
     ]
    },
    {
     "name": "stdout",
     "output_type": "stream",
     "text": [
      "Tamanho do arquivo: 2636.34 MB\n"
     ]
    }
   ],
   "source": [
    "df = verificar_tamanho_arquivo()"
   ]
  },
  {
   "cell_type": "code",
   "execution_count": 16,
   "metadata": {},
   "outputs": [
    {
     "data": {
      "text/html": [
       "<div>\n",
       "<style scoped>\n",
       "    .dataframe tbody tr th:only-of-type {\n",
       "        vertical-align: middle;\n",
       "    }\n",
       "\n",
       "    .dataframe tbody tr th {\n",
       "        vertical-align: top;\n",
       "    }\n",
       "\n",
       "    .dataframe thead th {\n",
       "        text-align: right;\n",
       "    }\n",
       "</style>\n",
       "<table border=\"1\" class=\"dataframe\">\n",
       "  <thead>\n",
       "    <tr style=\"text-align: right;\">\n",
       "      <th></th>\n",
       "      <th>Estado - Sigla</th>\n",
       "      <th>Municipio</th>\n",
       "      <th>Revenda</th>\n",
       "      <th>CNPJ da Revenda</th>\n",
       "      <th>Nome da Rua</th>\n",
       "      <th>Numero Rua</th>\n",
       "      <th>Complemento</th>\n",
       "      <th>Bairro</th>\n",
       "      <th>Cep</th>\n",
       "      <th>Produto</th>\n",
       "      <th>Data da Coleta</th>\n",
       "      <th>Valor de Venda</th>\n",
       "      <th>Valor de Compra</th>\n",
       "      <th>Unidade de Medida</th>\n",
       "      <th>Bandeira</th>\n",
       "    </tr>\n",
       "  </thead>\n",
       "  <tbody>\n",
       "    <tr>\n",
       "      <th>0</th>\n",
       "      <td>SP</td>\n",
       "      <td>GUARULHOS</td>\n",
       "      <td>AUTO POSTO SAKAMOTO LTDA</td>\n",
       "      <td>49.051.667/0001-02</td>\n",
       "      <td>RODOVIA PRESIDENTE DUTRA</td>\n",
       "      <td>S/N</td>\n",
       "      <td>KM 210,5-SENT SP/RJ</td>\n",
       "      <td>BONSUCESSO</td>\n",
       "      <td>07178-580</td>\n",
       "      <td>GASOLINA</td>\n",
       "      <td>11/05/2004</td>\n",
       "      <td>1,967</td>\n",
       "      <td>1,6623</td>\n",
       "      <td>R$ / litro</td>\n",
       "      <td>PETROBRAS DISTRIBUIDORA S.A.</td>\n",
       "    </tr>\n",
       "    <tr>\n",
       "      <th>1</th>\n",
       "      <td>SP</td>\n",
       "      <td>GUARULHOS</td>\n",
       "      <td>AUTO POSTO SAKAMOTO LTDA</td>\n",
       "      <td>49.051.667/0001-02</td>\n",
       "      <td>RODOVIA PRESIDENTE DUTRA</td>\n",
       "      <td>S/N</td>\n",
       "      <td>KM 210,5-SENT SP/RJ</td>\n",
       "      <td>BONSUCESSO</td>\n",
       "      <td>07178-580</td>\n",
       "      <td>ETANOL</td>\n",
       "      <td>11/05/2004</td>\n",
       "      <td>0,899</td>\n",
       "      <td>0,6282</td>\n",
       "      <td>R$ / litro</td>\n",
       "      <td>PETROBRAS DISTRIBUIDORA S.A.</td>\n",
       "    </tr>\n",
       "    <tr>\n",
       "      <th>2</th>\n",
       "      <td>SP</td>\n",
       "      <td>GUARULHOS</td>\n",
       "      <td>AUTO POSTO SAKAMOTO LTDA</td>\n",
       "      <td>49.051.667/0001-02</td>\n",
       "      <td>RODOVIA PRESIDENTE DUTRA</td>\n",
       "      <td>S/N</td>\n",
       "      <td>KM 210,5-SENT SP/RJ</td>\n",
       "      <td>BONSUCESSO</td>\n",
       "      <td>07178-580</td>\n",
       "      <td>DIESEL</td>\n",
       "      <td>11/05/2004</td>\n",
       "      <td>1,299</td>\n",
       "      <td>1,1704</td>\n",
       "      <td>R$ / litro</td>\n",
       "      <td>PETROBRAS DISTRIBUIDORA S.A.</td>\n",
       "    </tr>\n",
       "    <tr>\n",
       "      <th>3</th>\n",
       "      <td>SP</td>\n",
       "      <td>SOROCABA</td>\n",
       "      <td>COMPETRO COMERCIO E DISTRIBUICAO DE DERIVADOS ...</td>\n",
       "      <td>00.003.188/0001-21</td>\n",
       "      <td>RUA HUMBERTO DE CAMPOS</td>\n",
       "      <td>306</td>\n",
       "      <td>NaN</td>\n",
       "      <td>JARDIM ZULMIRA</td>\n",
       "      <td>18061-000</td>\n",
       "      <td>GASOLINA</td>\n",
       "      <td>10/05/2004</td>\n",
       "      <td>1,85</td>\n",
       "      <td>1,67</td>\n",
       "      <td>R$ / litro</td>\n",
       "      <td>BRANCA</td>\n",
       "    </tr>\n",
       "    <tr>\n",
       "      <th>4</th>\n",
       "      <td>SP</td>\n",
       "      <td>SOROCABA</td>\n",
       "      <td>COMPETRO COMERCIO E DISTRIBUICAO DE DERIVADOS ...</td>\n",
       "      <td>00.003.188/0001-21</td>\n",
       "      <td>RUA HUMBERTO DE CAMPOS</td>\n",
       "      <td>306</td>\n",
       "      <td>NaN</td>\n",
       "      <td>JARDIM ZULMIRA</td>\n",
       "      <td>18061-000</td>\n",
       "      <td>ETANOL</td>\n",
       "      <td>10/05/2004</td>\n",
       "      <td>0,78</td>\n",
       "      <td>0,48</td>\n",
       "      <td>R$ / litro</td>\n",
       "      <td>BRANCA</td>\n",
       "    </tr>\n",
       "  </tbody>\n",
       "</table>\n",
       "</div>"
      ],
      "text/plain": [
       "  Estado - Sigla  Municipio  \\\n",
       "0             SP  GUARULHOS   \n",
       "1             SP  GUARULHOS   \n",
       "2             SP  GUARULHOS   \n",
       "3             SP   SOROCABA   \n",
       "4             SP   SOROCABA   \n",
       "\n",
       "                                             Revenda      CNPJ da Revenda  \\\n",
       "0                           AUTO POSTO SAKAMOTO LTDA   49.051.667/0001-02   \n",
       "1                           AUTO POSTO SAKAMOTO LTDA   49.051.667/0001-02   \n",
       "2                           AUTO POSTO SAKAMOTO LTDA   49.051.667/0001-02   \n",
       "3  COMPETRO COMERCIO E DISTRIBUICAO DE DERIVADOS ...   00.003.188/0001-21   \n",
       "4  COMPETRO COMERCIO E DISTRIBUICAO DE DERIVADOS ...   00.003.188/0001-21   \n",
       "\n",
       "                Nome da Rua Numero Rua          Complemento          Bairro  \\\n",
       "0  RODOVIA PRESIDENTE DUTRA        S/N  KM 210,5-SENT SP/RJ      BONSUCESSO   \n",
       "1  RODOVIA PRESIDENTE DUTRA        S/N  KM 210,5-SENT SP/RJ      BONSUCESSO   \n",
       "2  RODOVIA PRESIDENTE DUTRA        S/N  KM 210,5-SENT SP/RJ      BONSUCESSO   \n",
       "3    RUA HUMBERTO DE CAMPOS        306                  NaN  JARDIM ZULMIRA   \n",
       "4    RUA HUMBERTO DE CAMPOS        306                  NaN  JARDIM ZULMIRA   \n",
       "\n",
       "         Cep   Produto Data da Coleta Valor de Venda Valor de Compra  \\\n",
       "0  07178-580  GASOLINA     11/05/2004          1,967          1,6623   \n",
       "1  07178-580    ETANOL     11/05/2004          0,899          0,6282   \n",
       "2  07178-580    DIESEL     11/05/2004          1,299          1,1704   \n",
       "3  18061-000  GASOLINA     10/05/2004           1,85            1,67   \n",
       "4  18061-000    ETANOL     10/05/2004           0,78            0,48   \n",
       "\n",
       "  Unidade de Medida                      Bandeira  \n",
       "0        R$ / litro  PETROBRAS DISTRIBUIDORA S.A.  \n",
       "1        R$ / litro  PETROBRAS DISTRIBUIDORA S.A.  \n",
       "2        R$ / litro  PETROBRAS DISTRIBUIDORA S.A.  \n",
       "3        R$ / litro                        BRANCA  \n",
       "4        R$ / litro                        BRANCA  "
      ]
     },
     "execution_count": 16,
     "metadata": {},
     "output_type": "execute_result"
    }
   ],
   "source": [
    "#mostrar as 5 primeiras linhas do arquivo\n",
    "df.head()"
   ]
  },
  {
   "cell_type": "markdown",
   "metadata": {},
   "source": [
    "<h1>Verificar e redundancia dos dados</h1>\n",
    "\n",
    "<p>A verificação e redundância dos dados é um processo que consiste em verificar se os dados armazenados estão corretos e se há alguma forma de redundância para garantir a integridade dos dados. Esse processo é importante para garantir a segurança dos dados e evitar possíveis erros.</p>\n",
    "\n",
    "<p>Para verificar e redundância dos dados, é necessário verificar se os dados estão corretos e se há alguma forma de redundância para garantir a integridade dos dados.</p>\n",
    "\n",
    "<p>Além disso, é importante verificar se os dados estão sendo armazenados de forma segura, para evitar possíveis erros.</p>\n",
    "\n",
    "<ul>\n",
    "    <li>Se há dados nulos \n",
    "    <li>Se há redundância\n",
    "    <li>Se Há duplicação\n",
    "</ul>"
   ]
  },
  {
   "cell_type": "markdown",
   "metadata": {},
   "source": [
    "<h1>1 - Verificando e trantando dados nulos</h1>\n",
    "\n",
    "A verificação de dados nulos na tabela aumenta a performance do banco de dados porque elimina a necessidade de buscar registros que não existem na tabela.\n",
    "\n",
    "assim, a verificação de dados nulos na tabela aumenta a performance do banco de dados porque elimina a necessidade de buscar registros que não existem na tabela."
   ]
  },
  {
   "cell_type": "code",
   "execution_count": 17,
   "metadata": {},
   "outputs": [],
   "source": [
    "#criar função para verificar se existem valores nulos no arquivo\n",
    "def verificar_valores_nulos(df):\n",
    "    for colunas in df.columns:\n",
    "        if df[colunas].isnull().sum() > 0:\n",
    "            print(f'Coluna {colunas} possui {df[colunas].isnull().sum()} valores nulos')\n",
    "        else:\n",
    "            print(f'Coluna {colunas} não possui valores nulos')\n",
    "            \n",
    "#o objetivo é verificar se existem valores nulos no dataframe mostrando a quantidade de valores nulos por coluna\n"
   ]
  },
  {
   "cell_type": "code",
   "execution_count": 18,
   "metadata": {},
   "outputs": [
    {
     "name": "stdout",
     "output_type": "stream",
     "text": [
      "Coluna Estado - Sigla não possui valores nulos\n",
      "Coluna Municipio não possui valores nulos\n",
      "Coluna Revenda possui 2 valores nulos\n",
      "Coluna CNPJ da Revenda possui 6 valores nulos\n",
      "Coluna Nome da Rua possui 7 valores nulos\n",
      "Coluna Numero Rua possui 8758 valores nulos\n",
      "Coluna Complemento possui 11706546 valores nulos\n",
      "Coluna Bairro possui 51724 valores nulos\n",
      "Coluna Cep possui 8 valores nulos\n",
      "Coluna Produto possui 8 valores nulos\n",
      "Coluna Data da Coleta possui 10 valores nulos\n",
      "Coluna Valor de Venda possui 10 valores nulos\n",
      "Coluna Valor de Compra possui 8313560 valores nulos\n",
      "Coluna Unidade de Medida possui 10 valores nulos\n",
      "Coluna Bandeira possui 10 valores nulos\n"
     ]
    }
   ],
   "source": [
    "#verificar se existem valores nulos no dataframe\n",
    "verificar_valores_nulos(df)"
   ]
  },
  {
   "cell_type": "code",
   "execution_count": 19,
   "metadata": {},
   "outputs": [],
   "source": [
    "#verificar % de valores nulos por coluna\n",
    "def verificar_porcentagem_valores_nulos(df):\n",
    "    for colunas in df.columns:\n",
    "        if df[colunas].isnull().sum() > 0:\n",
    "            print(f'Coluna {colunas} possui {df[colunas].isnull().sum() / df.shape[0] * 100:.5f}% de valores nulos')\n",
    "        else:\n",
    "            print(f'Coluna {colunas} não possui valores nulos')\n",
    "            \n",
    "#o objetivo é verificar a porcentagem de valores nulos por coluna mostrando a porcentagem de valores nulos por coluna"
   ]
  },
  {
   "cell_type": "code",
   "execution_count": 20,
   "metadata": {},
   "outputs": [
    {
     "name": "stdout",
     "output_type": "stream",
     "text": [
      "Coluna Estado - Sigla não possui valores nulos\n",
      "Coluna Municipio não possui valores nulos\n",
      "Coluna Revenda possui 0.00001% de valores nulos\n",
      "Coluna CNPJ da Revenda possui 0.00004% de valores nulos\n",
      "Coluna Nome da Rua possui 0.00004% de valores nulos\n",
      "Coluna Numero Rua possui 0.05438% de valores nulos\n",
      "Coluna Complemento possui 72.69053% de valores nulos\n",
      "Coluna Bairro possui 0.32117% de valores nulos\n",
      "Coluna Cep possui 0.00005% de valores nulos\n",
      "Coluna Produto possui 0.00005% de valores nulos\n",
      "Coluna Data da Coleta possui 0.00006% de valores nulos\n",
      "Coluna Valor de Venda possui 0.00006% de valores nulos\n",
      "Coluna Valor de Compra possui 51.62215% de valores nulos\n",
      "Coluna Unidade de Medida possui 0.00006% de valores nulos\n",
      "Coluna Bandeira possui 0.00006% de valores nulos\n"
     ]
    }
   ],
   "source": [
    "#mostrar a porcentagem de valores nulos por coluna\n",
    "verificar_porcentagem_valores_nulos(df)"
   ]
  },
  {
   "cell_type": "code",
   "execution_count": 21,
   "metadata": {},
   "outputs": [],
   "source": [
    "#remover a coluna Complemento da tabela pois possui 72.69% de valores nulos, isso torna a coluna irrelevante para a análise\n",
    "df.drop('Complemento', axis=1, inplace=True)"
   ]
  },
  {
   "cell_type": "code",
   "execution_count": 22,
   "metadata": {},
   "outputs": [],
   "source": [
    "#criar função para substituir , por . nos valores da coluna Valor Venda e Valor Compra\n",
    "def substituir_virgula_ponto(df):\n",
    "    df['Valor de Venda'] = df['Valor de Venda'].str.replace(',', '.')\n",
    "    df['Valor de Compra'] = df['Valor de Compra'].str.replace(',', '.')\n",
    "    #substituir os valores nulos por 0\n",
    "    df['Valor de Venda'].fillna(0, inplace=True)\n",
    "    df['Valor de Compra'].fillna(0, inplace=True)\n",
    "    return df\n",
    "#o objetivo é substituir , por . nos valores da coluna Valor Venda e Valor Compra\n",
    "#e substituir os valores nulos por 0 para que possamos converter os valores para float\n",
    "#objetivo do tratamento dos valores e para que passamos substituir os valores nulos do dataframe"
   ]
  },
  {
   "cell_type": "code",
   "execution_count": 23,
   "metadata": {},
   "outputs": [],
   "source": [
    "#substituir , por . nos valores da coluna Valor Venda e Valor Compra\n",
    "df = substituir_virgula_ponto(df)"
   ]
  },
  {
   "cell_type": "code",
   "execution_count": 24,
   "metadata": {},
   "outputs": [],
   "source": [
    "#criar função para converter os valores da coluna Valor Venda e Valor Compra para float\n",
    "def converter_para_float(df):\n",
    "    df['Valor de Venda'] = df['Valor de Venda'].astype(float)\n",
    "    df['Valor de Compra'] = df['Valor de Compra'].astype(float)\n",
    "    return df\n",
    "#o objetivo é converter os valores da coluna Valor Venda e Valor Compra para float"
   ]
  },
  {
   "cell_type": "code",
   "execution_count": 25,
   "metadata": {},
   "outputs": [],
   "source": [
    "#converter os valores da coluna Valor Venda e Valor Compra para float\n",
    "df = converter_para_float(df)"
   ]
  },
  {
   "cell_type": "code",
   "execution_count": 26,
   "metadata": {},
   "outputs": [
    {
     "data": {
      "text/plain": [
       "Estado - Sigla        object\n",
       "Municipio             object\n",
       "Revenda               object\n",
       "CNPJ da Revenda       object\n",
       "Nome da Rua           object\n",
       "Numero Rua            object\n",
       "Bairro                object\n",
       "Cep                   object\n",
       "Produto               object\n",
       "Data da Coleta        object\n",
       "Valor de Venda       float64\n",
       "Valor de Compra      float64\n",
       "Unidade de Medida     object\n",
       "Bandeira              object\n",
       "dtype: object"
      ]
     },
     "execution_count": 26,
     "metadata": {},
     "output_type": "execute_result"
    }
   ],
   "source": [
    "#verificar o tipo de dados das colunas\n",
    "df.dtypes"
   ]
  },
  {
   "cell_type": "code",
   "execution_count": 27,
   "metadata": {},
   "outputs": [],
   "source": [
    "#criar para inputar os valores da coluna Valor de Compra com 25% a menos do valor da coluna Valor de Venda\n",
    "def inputar_valores_compra(df):\n",
    "    df['Valor de Compra'] = df['Valor de Compra'].mask(df['Valor de Compra'] == 0, df['Valor de Venda'] * 0.75)\n",
    "    return df\n",
    "#o objetivo é inputar os valores da coluna Valor de Compra com 25% a menos do valor da coluna Valor de Venda"
   ]
  },
  {
   "cell_type": "code",
   "execution_count": 28,
   "metadata": {},
   "outputs": [],
   "source": [
    "#inputar os valores da coluna Valor de Compra com 25% a menos do valor da coluna Valor de Venda\n",
    "df = inputar_valores_compra(df)"
   ]
  },
  {
   "cell_type": "code",
   "execution_count": 29,
   "metadata": {},
   "outputs": [
    {
     "name": "stdout",
     "output_type": "stream",
     "text": [
      "Coluna Estado - Sigla não possui valores nulos\n",
      "Coluna Municipio não possui valores nulos\n",
      "Coluna Revenda possui 0.00001% de valores nulos\n",
      "Coluna CNPJ da Revenda possui 0.00004% de valores nulos\n",
      "Coluna Nome da Rua possui 0.00004% de valores nulos\n",
      "Coluna Numero Rua possui 0.05438% de valores nulos\n",
      "Coluna Bairro possui 0.32117% de valores nulos\n",
      "Coluna Cep possui 0.00005% de valores nulos\n",
      "Coluna Produto possui 0.00005% de valores nulos\n",
      "Coluna Data da Coleta possui 0.00006% de valores nulos\n",
      "Coluna Valor de Venda não possui valores nulos\n",
      "Coluna Valor de Compra não possui valores nulos\n",
      "Coluna Unidade de Medida possui 0.00006% de valores nulos\n",
      "Coluna Bandeira possui 0.00006% de valores nulos\n"
     ]
    }
   ],
   "source": [
    "#verificar se ainda existem valores nulos no dataframe\n",
    "verificar_porcentagem_valores_nulos(df)"
   ]
  },
  {
   "cell_type": "code",
   "execution_count": 30,
   "metadata": {},
   "outputs": [],
   "source": [
    "#contar quantos valores 0 existem na coluna Valor de Compra e Valor de Venda\n",
    "def contar_valores_0(df):\n",
    "    print(f'Coluna Valor de Compra possui {df[df[\"Valor de Compra\"] == 0].shape[0]} valores 0')\n",
    "    print(f'Coluna Valor de Venda possui {df[df[\"Valor de Venda\"] == 0].shape[0]} valores 0')"
   ]
  },
  {
   "cell_type": "code",
   "execution_count": 31,
   "metadata": {},
   "outputs": [
    {
     "name": "stdout",
     "output_type": "stream",
     "text": [
      "Coluna Valor de Compra possui 10 valores 0\n",
      "Coluna Valor de Venda possui 10 valores 0\n"
     ]
    }
   ],
   "source": [
    "contar_valores_0(df)"
   ]
  },
  {
   "cell_type": "code",
   "execution_count": 32,
   "metadata": {},
   "outputs": [],
   "source": [
    "#remover as linhas onde o valor de compra é 0\n",
    "df = df[df['Valor de Compra'] != 0]\n",
    "#remover as linhas onde o valor de venda é 0\n",
    "df = df[df['Valor de Venda'] != 0]"
   ]
  },
  {
   "cell_type": "code",
   "execution_count": 33,
   "metadata": {},
   "outputs": [
    {
     "name": "stdout",
     "output_type": "stream",
     "text": [
      "Coluna Valor de Compra possui 0 valores 0\n",
      "Coluna Valor de Venda possui 0 valores 0\n"
     ]
    }
   ],
   "source": [
    "contar_valores_0(df)"
   ]
  },
  {
   "cell_type": "code",
   "execution_count": 34,
   "metadata": {},
   "outputs": [],
   "source": [
    "#remover o restante dos valores nulos\n",
    "df.dropna(inplace=True)"
   ]
  },
  {
   "cell_type": "code",
   "execution_count": 35,
   "metadata": {},
   "outputs": [
    {
     "name": "stdout",
     "output_type": "stream",
     "text": [
      "Coluna Estado - Sigla não possui valores nulos\n",
      "Coluna Municipio não possui valores nulos\n",
      "Coluna Revenda não possui valores nulos\n",
      "Coluna CNPJ da Revenda não possui valores nulos\n",
      "Coluna Nome da Rua não possui valores nulos\n",
      "Coluna Numero Rua não possui valores nulos\n",
      "Coluna Bairro não possui valores nulos\n",
      "Coluna Cep não possui valores nulos\n",
      "Coluna Produto não possui valores nulos\n",
      "Coluna Data da Coleta não possui valores nulos\n",
      "Coluna Valor de Venda não possui valores nulos\n",
      "Coluna Valor de Compra não possui valores nulos\n",
      "Coluna Unidade de Medida não possui valores nulos\n",
      "Coluna Bandeira não possui valores nulos\n"
     ]
    }
   ],
   "source": [
    "verificar_porcentagem_valores_nulos(df)"
   ]
  },
  {
   "cell_type": "markdown",
   "metadata": {},
   "source": [
    "<h1>Verificar e redundancia dos dados</h1>\n",
    "\n",
    "A verificação e redundância dos dados é um processo que consiste em verificar se os dados armazenados estão corretos e se há alguma forma de redundância para garantir a integridade dos dados. Esse processo é importante para garantir a segurança dos dados e evitar possíveis erros.\n",
    "\n",
    "Para verificar e redundância dos dados, é necessário verificar se os dados estão corretos e se há alguma forma de redundância para garantir a integridade dos dados.\n",
    "\n",
    "Além disso, é importante verificar se os dados estão sendo armazenados de forma segura, para evitar possíveis erros."
   ]
  },
  {
   "cell_type": "code",
   "execution_count": 36,
   "metadata": {},
   "outputs": [
    {
     "data": {
      "text/plain": [
       "0"
      ]
     },
     "execution_count": 36,
     "metadata": {},
     "output_type": "execute_result"
    }
   ],
   "source": [
    "#verificar se existem valores duplicados no dataframe\n",
    "df.duplicated().sum()\n",
    "\n",
    "#foi observado que nao existem valores duplicados no dataframe"
   ]
  },
  {
   "cell_type": "code",
   "execution_count": 37,
   "metadata": {},
   "outputs": [],
   "source": [
    "#criar uma lista com os nomes das colunas\n",
    "colunas = df.columns"
   ]
  },
  {
   "cell_type": "code",
   "execution_count": 38,
   "metadata": {},
   "outputs": [
    {
     "data": {
      "text/plain": [
       "0"
      ]
     },
     "execution_count": 38,
     "metadata": {},
     "output_type": "execute_result"
    }
   ],
   "source": [
    "#verificar se existem valores duplicados em todas as colunas\n",
    "df.duplicated(subset=colunas).sum()"
   ]
  },
  {
   "cell_type": "markdown",
   "metadata": {},
   "source": [
    "<p>conclusao: nao existem valores duplicados em todas as colunas</p>\n",
    "<p>sendo assim, nao existe necessidade de remover os valores duplicados</p>"
   ]
  },
  {
   "cell_type": "code",
   "execution_count": 39,
   "metadata": {},
   "outputs": [
    {
     "name": "stderr",
     "output_type": "stream",
     "text": [
      "C:\\Users\\tassi\\AppData\\Local\\Temp\\ipykernel_6452\\2211369547.py:3: UserWarning: Parsing dates in DD/MM/YYYY format when dayfirst=False (the default) was specified. This may lead to inconsistently parsed dates! Specify a format to ensure consistent parsing.\n",
      "  df['Data da Coleta'] = pd.to_datetime(df['Data da Coleta'])\n"
     ]
    }
   ],
   "source": [
    "#Consistência e domínio do campo Data da Coleta.\n",
    "#primeiro vamos modificar o tipo de dados da coluna Data da Coleta para datetime\n",
    "df['Data da Coleta'] = pd.to_datetime(df['Data da Coleta'])\n",
    "#segundo vamos modificar o formato da coluna Data da Coleta para dd/mm/yyyy\n",
    "df['Data da Coleta'] = df['Data da Coleta'].dt.strftime('%d/%m/%Y')"
   ]
  },
  {
   "cell_type": "code",
   "execution_count": 40,
   "metadata": {},
   "outputs": [
    {
     "data": {
      "text/html": [
       "<div>\n",
       "<style scoped>\n",
       "    .dataframe tbody tr th:only-of-type {\n",
       "        vertical-align: middle;\n",
       "    }\n",
       "\n",
       "    .dataframe tbody tr th {\n",
       "        vertical-align: top;\n",
       "    }\n",
       "\n",
       "    .dataframe thead th {\n",
       "        text-align: right;\n",
       "    }\n",
       "</style>\n",
       "<table border=\"1\" class=\"dataframe\">\n",
       "  <thead>\n",
       "    <tr style=\"text-align: right;\">\n",
       "      <th></th>\n",
       "      <th>Estado - Sigla</th>\n",
       "      <th>Municipio</th>\n",
       "      <th>Revenda</th>\n",
       "      <th>CNPJ da Revenda</th>\n",
       "      <th>Nome da Rua</th>\n",
       "      <th>Numero Rua</th>\n",
       "      <th>Bairro</th>\n",
       "      <th>Cep</th>\n",
       "      <th>Produto</th>\n",
       "      <th>Data da Coleta</th>\n",
       "      <th>Valor de Venda</th>\n",
       "      <th>Valor de Compra</th>\n",
       "      <th>Unidade de Medida</th>\n",
       "      <th>Bandeira</th>\n",
       "    </tr>\n",
       "  </thead>\n",
       "  <tbody>\n",
       "    <tr>\n",
       "      <th>0</th>\n",
       "      <td>SP</td>\n",
       "      <td>GUARULHOS</td>\n",
       "      <td>AUTO POSTO SAKAMOTO LTDA</td>\n",
       "      <td>49.051.667/0001-02</td>\n",
       "      <td>RODOVIA PRESIDENTE DUTRA</td>\n",
       "      <td>S/N</td>\n",
       "      <td>BONSUCESSO</td>\n",
       "      <td>07178-580</td>\n",
       "      <td>GASOLINA</td>\n",
       "      <td>05/11/2004</td>\n",
       "      <td>1.967</td>\n",
       "      <td>1.6623</td>\n",
       "      <td>R$ / litro</td>\n",
       "      <td>PETROBRAS DISTRIBUIDORA S.A.</td>\n",
       "    </tr>\n",
       "    <tr>\n",
       "      <th>1</th>\n",
       "      <td>SP</td>\n",
       "      <td>GUARULHOS</td>\n",
       "      <td>AUTO POSTO SAKAMOTO LTDA</td>\n",
       "      <td>49.051.667/0001-02</td>\n",
       "      <td>RODOVIA PRESIDENTE DUTRA</td>\n",
       "      <td>S/N</td>\n",
       "      <td>BONSUCESSO</td>\n",
       "      <td>07178-580</td>\n",
       "      <td>ETANOL</td>\n",
       "      <td>05/11/2004</td>\n",
       "      <td>0.899</td>\n",
       "      <td>0.6282</td>\n",
       "      <td>R$ / litro</td>\n",
       "      <td>PETROBRAS DISTRIBUIDORA S.A.</td>\n",
       "    </tr>\n",
       "    <tr>\n",
       "      <th>2</th>\n",
       "      <td>SP</td>\n",
       "      <td>GUARULHOS</td>\n",
       "      <td>AUTO POSTO SAKAMOTO LTDA</td>\n",
       "      <td>49.051.667/0001-02</td>\n",
       "      <td>RODOVIA PRESIDENTE DUTRA</td>\n",
       "      <td>S/N</td>\n",
       "      <td>BONSUCESSO</td>\n",
       "      <td>07178-580</td>\n",
       "      <td>DIESEL</td>\n",
       "      <td>05/11/2004</td>\n",
       "      <td>1.299</td>\n",
       "      <td>1.1704</td>\n",
       "      <td>R$ / litro</td>\n",
       "      <td>PETROBRAS DISTRIBUIDORA S.A.</td>\n",
       "    </tr>\n",
       "    <tr>\n",
       "      <th>3</th>\n",
       "      <td>SP</td>\n",
       "      <td>SOROCABA</td>\n",
       "      <td>COMPETRO COMERCIO E DISTRIBUICAO DE DERIVADOS ...</td>\n",
       "      <td>00.003.188/0001-21</td>\n",
       "      <td>RUA HUMBERTO DE CAMPOS</td>\n",
       "      <td>306</td>\n",
       "      <td>JARDIM ZULMIRA</td>\n",
       "      <td>18061-000</td>\n",
       "      <td>GASOLINA</td>\n",
       "      <td>05/10/2004</td>\n",
       "      <td>1.850</td>\n",
       "      <td>1.6700</td>\n",
       "      <td>R$ / litro</td>\n",
       "      <td>BRANCA</td>\n",
       "    </tr>\n",
       "    <tr>\n",
       "      <th>4</th>\n",
       "      <td>SP</td>\n",
       "      <td>SOROCABA</td>\n",
       "      <td>COMPETRO COMERCIO E DISTRIBUICAO DE DERIVADOS ...</td>\n",
       "      <td>00.003.188/0001-21</td>\n",
       "      <td>RUA HUMBERTO DE CAMPOS</td>\n",
       "      <td>306</td>\n",
       "      <td>JARDIM ZULMIRA</td>\n",
       "      <td>18061-000</td>\n",
       "      <td>ETANOL</td>\n",
       "      <td>05/10/2004</td>\n",
       "      <td>0.780</td>\n",
       "      <td>0.4800</td>\n",
       "      <td>R$ / litro</td>\n",
       "      <td>BRANCA</td>\n",
       "    </tr>\n",
       "  </tbody>\n",
       "</table>\n",
       "</div>"
      ],
      "text/plain": [
       "  Estado - Sigla  Municipio  \\\n",
       "0             SP  GUARULHOS   \n",
       "1             SP  GUARULHOS   \n",
       "2             SP  GUARULHOS   \n",
       "3             SP   SOROCABA   \n",
       "4             SP   SOROCABA   \n",
       "\n",
       "                                             Revenda      CNPJ da Revenda  \\\n",
       "0                           AUTO POSTO SAKAMOTO LTDA   49.051.667/0001-02   \n",
       "1                           AUTO POSTO SAKAMOTO LTDA   49.051.667/0001-02   \n",
       "2                           AUTO POSTO SAKAMOTO LTDA   49.051.667/0001-02   \n",
       "3  COMPETRO COMERCIO E DISTRIBUICAO DE DERIVADOS ...   00.003.188/0001-21   \n",
       "4  COMPETRO COMERCIO E DISTRIBUICAO DE DERIVADOS ...   00.003.188/0001-21   \n",
       "\n",
       "                Nome da Rua Numero Rua          Bairro        Cep   Produto  \\\n",
       "0  RODOVIA PRESIDENTE DUTRA        S/N      BONSUCESSO  07178-580  GASOLINA   \n",
       "1  RODOVIA PRESIDENTE DUTRA        S/N      BONSUCESSO  07178-580    ETANOL   \n",
       "2  RODOVIA PRESIDENTE DUTRA        S/N      BONSUCESSO  07178-580    DIESEL   \n",
       "3    RUA HUMBERTO DE CAMPOS        306  JARDIM ZULMIRA  18061-000  GASOLINA   \n",
       "4    RUA HUMBERTO DE CAMPOS        306  JARDIM ZULMIRA  18061-000    ETANOL   \n",
       "\n",
       "  Data da Coleta  Valor de Venda  Valor de Compra Unidade de Medida  \\\n",
       "0     05/11/2004           1.967           1.6623        R$ / litro   \n",
       "1     05/11/2004           0.899           0.6282        R$ / litro   \n",
       "2     05/11/2004           1.299           1.1704        R$ / litro   \n",
       "3     05/10/2004           1.850           1.6700        R$ / litro   \n",
       "4     05/10/2004           0.780           0.4800        R$ / litro   \n",
       "\n",
       "                       Bandeira  \n",
       "0  PETROBRAS DISTRIBUIDORA S.A.  \n",
       "1  PETROBRAS DISTRIBUIDORA S.A.  \n",
       "2  PETROBRAS DISTRIBUIDORA S.A.  \n",
       "3                        BRANCA  \n",
       "4                        BRANCA  "
      ]
     },
     "execution_count": 40,
     "metadata": {},
     "output_type": "execute_result"
    }
   ],
   "source": [
    "df.head()"
   ]
  },
  {
   "cell_type": "code",
   "execution_count": 41,
   "metadata": {},
   "outputs": [
    {
     "name": "stdout",
     "output_type": "stream",
     "text": [
      "Não existe redundância na variável Data da Coleta no dia\n",
      "Não existe redundância na variável Data da Coleta no mês\n",
      "Não existe redundância na variável Data da Coleta no ano\n"
     ]
    }
   ],
   "source": [
    "#criar uma função para verificar se existe redundância nos na variável Data da Coleta\n",
    "def verificar_redundancia_data_coleta(df):\n",
    "    #se existir um dia maior que 31 ou menor que 1, então existe redundância\n",
    "    if df['Data da Coleta'].str.split('/').str[0].astype(int).between(1, 31).all():\n",
    "        print('Não existe redundância na variável Data da Coleta no dia')\n",
    "    else:\n",
    "        print('Existe redundância na variável Data da Coleta pois existem dias maiores que 31 ou menores que 1')\n",
    "    #se existir um mês maior que 12 ou menor que 1, então existe redundância\n",
    "    if df['Data da Coleta'].str.split('/').str[1].astype(int).between(1, 12).all():\n",
    "        print('Não existe redundância na variável Data da Coleta no mês')\n",
    "    else:\n",
    "        print('Existe redundância na variável Data da Coleta pois existem meses maiores que 12 ou menores que 1')\n",
    "    #se existir um ano maior que 2021 ou menor que 2004, então existe redundância\n",
    "    if df['Data da Coleta'].str.split('/').str[2].astype(int).between(2004, 2021).all():\n",
    "        print('Não existe redundância na variável Data da Coleta no ano')\n",
    "    else:\n",
    "        print('Existe redundância na variável Data da Coleta pois existem anos maiores que 2021 ou menores que 2004')\n",
    "        \n",
    "verificar_redundancia_data_coleta(df)"
   ]
  },
  {
   "cell_type": "code",
   "execution_count": 42,
   "metadata": {},
   "outputs": [],
   "source": [
    "#criar funçao para vericar valores unicos de cada coluna\n",
    "def verificar_valores_unicos(df):\n",
    "    for coluna in df.columns:\n",
    "        print(f'Coluna {coluna} possui {df[coluna].nunique()} valores únicos')\n",
    "        print('')"
   ]
  },
  {
   "cell_type": "code",
   "execution_count": 43,
   "metadata": {},
   "outputs": [
    {
     "name": "stdout",
     "output_type": "stream",
     "text": [
      "Coluna Estado - Sigla possui 27 valores únicos\n",
      "\n",
      "Coluna Municipio possui 697 valores únicos\n",
      "\n",
      "Coluna Revenda possui 29483 valores únicos\n",
      "\n",
      "Coluna CNPJ da Revenda possui 34428 valores únicos\n",
      "\n",
      "Coluna Nome da Rua possui 16761 valores únicos\n",
      "\n",
      "Coluna Numero Rua possui 5735 valores únicos\n",
      "\n",
      "Coluna Bairro possui 9784 valores únicos\n",
      "\n",
      "Coluna Cep possui 17822 valores únicos\n",
      "\n",
      "Coluna Produto possui 7 valores únicos\n",
      "\n",
      "Coluna Data da Coleta possui 2940 valores únicos\n",
      "\n",
      "Coluna Valor de Venda possui 6500 valores únicos\n",
      "\n",
      "Coluna Valor de Compra possui 90413 valores únicos\n",
      "\n",
      "Coluna Unidade de Medida possui 3 valores únicos\n",
      "\n",
      "Coluna Bandeira possui 262 valores únicos\n",
      "\n"
     ]
    }
   ],
   "source": [
    "verificar_valores_unicos(df)"
   ]
  },
  {
   "cell_type": "code",
   "execution_count": 44,
   "metadata": {},
   "outputs": [
    {
     "name": "stdout",
     "output_type": "stream",
     "text": [
      "Não existe inconsistência na coluna Estado\n"
     ]
    }
   ],
   "source": [
    "#verificar inconsistências na coluna Estado\n",
    "#criar lista com a siglas dos estados brasileiros\n",
    "estados = ['AC', 'AL', 'AP', 'AM', 'BA', 'CE', 'DF', 'ES', 'GO', 'MA', 'MT', 'MS', 'MG', 'PA', 'PB', 'PR', 'PE', 'PI', 'RJ', 'RN', 'RS', 'RO', 'RR', 'SC', 'SP', 'SE', 'TO']\n",
    "\n",
    "#se existir algum valor que nao esteja na lista de estados, então existe inconsistência\n",
    "if df['Estado - Sigla'].isin(estados).all():\n",
    "    print('Não existe inconsistência na coluna Estado')\n",
    "else:\n",
    "    print('Existe inconsistência na coluna Estado')\n",
    "    #mostrar os valores que nao estao na lista de estados\n",
    "    print(df[~df['Estado - Sigla'].isin(estados)]['Estado - Sigla'].unique())\n"
   ]
  },
  {
   "cell_type": "code",
   "execution_count": 45,
   "metadata": {},
   "outputs": [],
   "source": [
    "#ler o arquivo csv com os dados de municipios \n",
    "df_municipios = pd.read_csv('arquivoscsv/municipios.csv', sep=',')"
   ]
  },
  {
   "cell_type": "code",
   "execution_count": 46,
   "metadata": {},
   "outputs": [
    {
     "name": "stderr",
     "output_type": "stream",
     "text": [
      "C:\\Users\\tassi\\AppData\\Local\\Temp\\ipykernel_6452\\3946477195.py:14: FutureWarning: The frame.append method is deprecated and will be removed from pandas in a future version. Use pandas.concat instead.\n",
      "  df_municipios = df_municipios.append({'Municipio': 'SANTANA DO LIVRAMENTO'}, ignore_index=True)\n",
      "C:\\Users\\tassi\\AppData\\Local\\Temp\\ipykernel_6452\\3946477195.py:15: FutureWarning: The frame.append method is deprecated and will be removed from pandas in a future version. Use pandas.concat instead.\n",
      "  df_municipios = df_municipios.append({'Municipio': 'ESPIGAO DO OESTE'}, ignore_index=True)\n"
     ]
    }
   ],
   "source": [
    "#criar um dataframe com apenas com o nome do municipio\n",
    "df_municipios = df_municipios[['nome']]\n",
    "#renomear a coluna nome para Municipio\n",
    "df_municipios.rename(columns={'nome': 'Municipio'}, inplace=True)\n",
    "#coloar todos os nomes de municipios em caixa alta\n",
    "df_municipios['Municipio'] = df_municipios['Municipio'].str.upper()\n",
    "#remover os acentos dos nomes de municipios\n",
    "df_municipios['Municipio'] = df_municipios['Municipio'].str.normalize('NFKD').str.encode('ascii', errors='ignore').str.decode('utf-8')\n",
    "#remover os espaços em branco do inicio e do fim dos nomes de municipios\n",
    "df_municipios['Municipio'] = df_municipios['Municipio'].str.strip()\n",
    "#remover os espaços em branco duplicados dos nomes de municipios\n",
    "df_municipios['Municipio'] = df_municipios['Municipio'].str.replace('  ', ' ')\n",
    "#adicionar dos nomes de SANTANA DO LIVRAMENTO e ESPIGAO DO OESTE\n",
    "df_municipios = df_municipios.append({'Municipio': 'SANTANA DO LIVRAMENTO'}, ignore_index=True)\n",
    "df_municipios = df_municipios.append({'Municipio': 'ESPIGAO DO OESTE'}, ignore_index=True)"
   ]
  },
  {
   "cell_type": "code",
   "execution_count": 47,
   "metadata": {},
   "outputs": [
    {
     "name": "stdout",
     "output_type": "stream",
     "text": [
      "Não existe inconsistência na coluna Municipio\n"
     ]
    }
   ],
   "source": [
    "#verificar inconsistências na coluna Municipio do dataframe df\n",
    "#se existir algum valor que nao esteja na lista de municipios, então existe inconsistência\n",
    "if df['Municipio'].isin(df_municipios['Municipio']).all():\n",
    "    print('Não existe inconsistência na coluna Municipio')\n",
    "else:\n",
    "    print('Existe inconsistência na coluna Municipio')\n",
    "    #mostrar os valores que nao estao na lista de municipios\n",
    "    print(df[~df['Municipio'].isin(df_municipios['Municipio'])]['Municipio'].unique())"
   ]
  },
  {
   "cell_type": "code",
   "execution_count": 50,
   "metadata": {},
   "outputs": [],
   "source": [
    "import validate_docbr as docbr\n",
    "\n",
    "\n",
    "#criar uma função para verificar se existe inconsistência na coluna cnpj_revenda\n",
    "def verificar_inconsistencia_cnpj_revenda(df):\n",
    "    #criar uma lista com os cnpjs que estão com inconsistência\n",
    "    lista_cnpj_inconsistente = []\n",
    "    #percorrer cada cnpj da coluna cnpj_revenda\n",
    "    for cnpj in df['CNPJ da Revenda']:\n",
    "        #deixa somente os numeros do cnpj usando regex\n",
    "        cnpj = re.sub('[^0-9]', '', cnpj)\n",
    "        #se o cnpj não for válido, então adicionar na lista de cnpj inconsistente\n",
    "        if not docbr.CNPJ().validate(cnpj):\n",
    "            lista_cnpj_inconsistente.append(cnpj)\n",
    "    #se a lista de cnpj inconsistente estiver vazia, então não existe inconsistência\n",
    "    if len(lista_cnpj_inconsistente) == 0:\n",
    "        print('Não existe inconsistência na coluna cnpj_revenda')\n",
    "    else:\n",
    "        print('Existe inconsistência na coluna cnpj_revenda')\n",
    "        #mostrar os cnpjs que estão com inconsistência\n",
    "        print(lista_cnpj_inconsistente)\n"
   ]
  },
  {
   "cell_type": "code",
   "execution_count": 51,
   "metadata": {},
   "outputs": [
    {
     "name": "stdout",
     "output_type": "stream",
     "text": [
      "Não existe inconsistência na coluna cnpj_revenda\n"
     ]
    }
   ],
   "source": [
    "verificar_inconsistencia_cnpj_revenda(df)"
   ]
  },
  {
   "cell_type": "code",
   "execution_count": 65,
   "metadata": {},
   "outputs": [
    {
     "name": "stdout",
     "output_type": "stream",
     "text": [
      "O dataframe df possui 16044161 linhas e 14 colunas\n"
     ]
    }
   ],
   "source": [
    "#verificar dimensionamento do dataframe\n",
    "print(f'O dataframe df possui {df.shape[0]} linhas e {df.shape[1]} colunas')"
   ]
  },
  {
   "cell_type": "code",
   "execution_count": 63,
   "metadata": {},
   "outputs": [
    {
     "data": {
      "text/html": [
       "<div>\n",
       "<style scoped>\n",
       "    .dataframe tbody tr th:only-of-type {\n",
       "        vertical-align: middle;\n",
       "    }\n",
       "\n",
       "    .dataframe tbody tr th {\n",
       "        vertical-align: top;\n",
       "    }\n",
       "\n",
       "    .dataframe thead th {\n",
       "        text-align: right;\n",
       "    }\n",
       "</style>\n",
       "<table border=\"1\" class=\"dataframe\">\n",
       "  <thead>\n",
       "    <tr style=\"text-align: right;\">\n",
       "      <th></th>\n",
       "      <th>Produto</th>\n",
       "      <th>Frequencia de Combustiveis</th>\n",
       "    </tr>\n",
       "  </thead>\n",
       "  <tbody>\n",
       "    <tr>\n",
       "      <th>0</th>\n",
       "      <td>GASOLINA</td>\n",
       "      <td>5353973</td>\n",
       "    </tr>\n",
       "    <tr>\n",
       "      <th>1</th>\n",
       "      <td>ETANOL</td>\n",
       "      <td>4965700</td>\n",
       "    </tr>\n",
       "    <tr>\n",
       "      <th>2</th>\n",
       "      <td>DIESEL</td>\n",
       "      <td>3961421</td>\n",
       "    </tr>\n",
       "    <tr>\n",
       "      <th>3</th>\n",
       "      <td>DIESEL S10</td>\n",
       "      <td>1270040</td>\n",
       "    </tr>\n",
       "    <tr>\n",
       "      <th>4</th>\n",
       "      <td>GNV</td>\n",
       "      <td>308370</td>\n",
       "    </tr>\n",
       "    <tr>\n",
       "      <th>5</th>\n",
       "      <td>GASOLINA ADITIVADA</td>\n",
       "      <td>167208</td>\n",
       "    </tr>\n",
       "    <tr>\n",
       "      <th>6</th>\n",
       "      <td>DIESEL S50</td>\n",
       "      <td>17449</td>\n",
       "    </tr>\n",
       "  </tbody>\n",
       "</table>\n",
       "</div>"
      ],
      "text/plain": [
       "              Produto  Frequencia de Combustiveis\n",
       "0            GASOLINA                     5353973\n",
       "1              ETANOL                     4965700\n",
       "2              DIESEL                     3961421\n",
       "3          DIESEL S10                     1270040\n",
       "4                 GNV                      308370\n",
       "5  GASOLINA ADITIVADA                      167208\n",
       "6          DIESEL S50                       17449"
      ]
     },
     "execution_count": 63,
     "metadata": {},
     "output_type": "execute_result"
    }
   ],
   "source": [
    "#criar tabela de data frame de frequencia de combustiveis\n",
    "df_combustiveis = df['Produto'].value_counts().to_frame()\n",
    "#colocar o nome da coluna Produto para Frequencia de Combustiveis\n",
    "df_combustiveis.rename(columns={'Produto': 'Frequencia de Combustiveis'}, inplace=True)\n",
    "#resetar o index\n",
    "df_combustiveis.reset_index(inplace=True)\n",
    "#renomear a coluna index para Produto\n",
    "df_combustiveis.rename(columns={'index': 'Produto'}, inplace=True)\n",
    "df_combustiveis"
   ]
  },
  {
   "cell_type": "code",
   "execution_count": 66,
   "metadata": {},
   "outputs": [
    {
     "name": "stdout",
     "output_type": "stream",
     "text": [
      "O total de combustiveis é 16044161\n"
     ]
    }
   ],
   "source": [
    "#vericar o total da frequencia de combustiveis\n",
    "print(f'O total de combustiveis é {df_combustiveis[\"Frequencia de Combustiveis\"].sum()}')"
   ]
  },
  {
   "cell_type": "code",
   "execution_count": 70,
   "metadata": {},
   "outputs": [
    {
     "data": {
      "image/png": "[encoded data removed]",
      "text/plain": [
       "<Figure size 1000x500 with 1 Axes>"
      ]
     },
     "metadata": {},
     "output_type": "display_data"
    }
   ],
   "source": [
    "#criar grafico de barras para mostrar a frequencia de combustiveis usando a biblioteca seaborn\n",
    "sns.set_style('whitegrid')\n",
    "plt.figure(figsize=(10, 5))\n",
    "sns.barplot(x='Produto', y='Frequencia de Combustiveis', data=df_combustiveis)\n",
    "plt.title('Frequencia de Combustiveis')\n",
    "#almentar o espaçamento entre os nomes dos combustiveis\n",
    "plt.xticks(rotation=45, ha='right')\n",
    "plt.show()\n"
   ]
  },
  {
   "cell_type": "code",
   "execution_count": 71,
   "metadata": {},
   "outputs": [
    {
     "data": {
      "text/html": [
       "<div>\n",
       "<style scoped>\n",
       "    .dataframe tbody tr th:only-of-type {\n",
       "        vertical-align: middle;\n",
       "    }\n",
       "\n",
       "    .dataframe tbody tr th {\n",
       "        vertical-align: top;\n",
       "    }\n",
       "\n",
       "    .dataframe thead th {\n",
       "        text-align: right;\n",
       "    }\n",
       "</style>\n",
       "<table border=\"1\" class=\"dataframe\">\n",
       "  <thead>\n",
       "    <tr style=\"text-align: right;\">\n",
       "      <th></th>\n",
       "      <th>Estado - Sigla</th>\n",
       "      <th>Frequencia de Estados</th>\n",
       "    </tr>\n",
       "  </thead>\n",
       "  <tbody>\n",
       "    <tr>\n",
       "      <th>0</th>\n",
       "      <td>SP</td>\n",
       "      <td>4551310</td>\n",
       "    </tr>\n",
       "    <tr>\n",
       "      <th>1</th>\n",
       "      <td>MG</td>\n",
       "      <td>1753002</td>\n",
       "    </tr>\n",
       "    <tr>\n",
       "      <th>2</th>\n",
       "      <td>RJ</td>\n",
       "      <td>1380882</td>\n",
       "    </tr>\n",
       "    <tr>\n",
       "      <th>3</th>\n",
       "      <td>PR</td>\n",
       "      <td>1041488</td>\n",
       "    </tr>\n",
       "    <tr>\n",
       "      <th>4</th>\n",
       "      <td>RS</td>\n",
       "      <td>1006545</td>\n",
       "    </tr>\n",
       "    <tr>\n",
       "      <th>5</th>\n",
       "      <td>BA</td>\n",
       "      <td>815242</td>\n",
       "    </tr>\n",
       "    <tr>\n",
       "      <th>6</th>\n",
       "      <td>SC</td>\n",
       "      <td>704343</td>\n",
       "    </tr>\n",
       "    <tr>\n",
       "      <th>7</th>\n",
       "      <td>PE</td>\n",
       "      <td>588644</td>\n",
       "    </tr>\n",
       "    <tr>\n",
       "      <th>8</th>\n",
       "      <td>GO</td>\n",
       "      <td>534738</td>\n",
       "    </tr>\n",
       "    <tr>\n",
       "      <th>9</th>\n",
       "      <td>CE</td>\n",
       "      <td>483773</td>\n",
       "    </tr>\n",
       "    <tr>\n",
       "      <th>10</th>\n",
       "      <td>ES</td>\n",
       "      <td>347517</td>\n",
       "    </tr>\n",
       "    <tr>\n",
       "      <th>11</th>\n",
       "      <td>MT</td>\n",
       "      <td>324416</td>\n",
       "    </tr>\n",
       "    <tr>\n",
       "      <th>12</th>\n",
       "      <td>PA</td>\n",
       "      <td>272891</td>\n",
       "    </tr>\n",
       "    <tr>\n",
       "      <th>13</th>\n",
       "      <td>MA</td>\n",
       "      <td>248909</td>\n",
       "    </tr>\n",
       "    <tr>\n",
       "      <th>14</th>\n",
       "      <td>MS</td>\n",
       "      <td>248875</td>\n",
       "    </tr>\n",
       "    <tr>\n",
       "      <th>15</th>\n",
       "      <td>RN</td>\n",
       "      <td>223295</td>\n",
       "    </tr>\n",
       "    <tr>\n",
       "      <th>16</th>\n",
       "      <td>PB</td>\n",
       "      <td>219489</td>\n",
       "    </tr>\n",
       "    <tr>\n",
       "      <th>17</th>\n",
       "      <td>AM</td>\n",
       "      <td>192832</td>\n",
       "    </tr>\n",
       "    <tr>\n",
       "      <th>18</th>\n",
       "      <td>AL</td>\n",
       "      <td>181420</td>\n",
       "    </tr>\n",
       "    <tr>\n",
       "      <th>19</th>\n",
       "      <td>RO</td>\n",
       "      <td>175428</td>\n",
       "    </tr>\n",
       "    <tr>\n",
       "      <th>20</th>\n",
       "      <td>PI</td>\n",
       "      <td>173904</td>\n",
       "    </tr>\n",
       "    <tr>\n",
       "      <th>21</th>\n",
       "      <td>DF</td>\n",
       "      <td>159582</td>\n",
       "    </tr>\n",
       "    <tr>\n",
       "      <th>22</th>\n",
       "      <td>TO</td>\n",
       "      <td>113122</td>\n",
       "    </tr>\n",
       "    <tr>\n",
       "      <th>23</th>\n",
       "      <td>SE</td>\n",
       "      <td>111936</td>\n",
       "    </tr>\n",
       "    <tr>\n",
       "      <th>24</th>\n",
       "      <td>AC</td>\n",
       "      <td>91331</td>\n",
       "    </tr>\n",
       "    <tr>\n",
       "      <th>25</th>\n",
       "      <td>RR</td>\n",
       "      <td>50362</td>\n",
       "    </tr>\n",
       "    <tr>\n",
       "      <th>26</th>\n",
       "      <td>AP</td>\n",
       "      <td>48885</td>\n",
       "    </tr>\n",
       "  </tbody>\n",
       "</table>\n",
       "</div>"
      ],
      "text/plain": [
       "   Estado - Sigla  Frequencia de Estados\n",
       "0              SP                4551310\n",
       "1              MG                1753002\n",
       "2              RJ                1380882\n",
       "3              PR                1041488\n",
       "4              RS                1006545\n",
       "5              BA                 815242\n",
       "6              SC                 704343\n",
       "7              PE                 588644\n",
       "8              GO                 534738\n",
       "9              CE                 483773\n",
       "10             ES                 347517\n",
       "11             MT                 324416\n",
       "12             PA                 272891\n",
       "13             MA                 248909\n",
       "14             MS                 248875\n",
       "15             RN                 223295\n",
       "16             PB                 219489\n",
       "17             AM                 192832\n",
       "18             AL                 181420\n",
       "19             RO                 175428\n",
       "20             PI                 173904\n",
       "21             DF                 159582\n",
       "22             TO                 113122\n",
       "23             SE                 111936\n",
       "24             AC                  91331\n",
       "25             RR                  50362\n",
       "26             AP                  48885"
      ]
     },
     "execution_count": 71,
     "metadata": {},
     "output_type": "execute_result"
    }
   ],
   "source": [
    "#criar dataframe com a frequencia de estados\n",
    "df_estados = df['Estado - Sigla'].value_counts().to_frame()\n",
    "#colocar o nome da coluna Estado - Sigla para Frequencia de Estados\n",
    "df_estados.rename(columns={'Estado - Sigla': 'Frequencia de Estados'}, inplace=True)\n",
    "#resetar o index\n",
    "df_estados.reset_index(inplace=True)\n",
    "#renomear a coluna index para Estado - Sigla\n",
    "df_estados.rename(columns={'index': 'Estado - Sigla'}, inplace=True)\n",
    "df_estados"
   ]
  },
  {
   "cell_type": "code",
   "execution_count": 73,
   "metadata": {},
   "outputs": [
    {
     "name": "stdout",
     "output_type": "stream",
     "text": [
      "O total de estados é 16044161\n"
     ]
    }
   ],
   "source": [
    "#verificar o total de frequencia de estados\n",
    "print(f'O total de estados é {df_estados[\"Frequencia de Estados\"].sum()}')"
   ]
  },
  {
   "cell_type": "code",
   "execution_count": 72,
   "metadata": {},
   "outputs": [
    {
     "data": {
      "image/png": "[encoded data removed]",
      "text/plain": [
       "<Figure size 1000x500 with 1 Axes>"
      ]
     },
     "metadata": {},
     "output_type": "display_data"
    }
   ],
   "source": [
    "#criar grafico de barras para mostrar a frequencia de estados usando a biblioteca seaborn\n",
    "sns.set_style('whitegrid')\n",
    "plt.figure(figsize=(10, 5))\n",
    "sns.barplot(x='Estado - Sigla', y='Frequencia de Estados', data=df_estados)\n",
    "plt.title('Frequencia de Estados')\n",
    "plt.show()"
   ]
  },
  {
   "cell_type": "code",
   "execution_count": 74,
   "metadata": {},
   "outputs": [
    {
     "data": {
      "image/png": "[encoded data removed]",
      "text/plain": [
       "<Figure size 1000x500 with 1 Axes>"
      ]
     },
     "metadata": {},
     "output_type": "display_data"
    }
   ],
   "source": [
    "#criar histograma para mostrar a distribuição de preços de combustiveis usando a biblioteca seaborn\n",
    "plt.figure(figsize=(10, 5))\n",
    "sns.histplot(df['Valor de Venda'], kde=True)\n",
    "plt.title('Distribuição de Preços de Combustiveis')\n",
    "plt.show()"
   ]
  },
  {
   "cell_type": "code",
   "execution_count": 75,
   "metadata": {},
   "outputs": [
    {
     "data": {
      "image/png": "[encoded data removed]",
      "text/plain": [
       "<Figure size 1000x500 with 1 Axes>"
      ]
     },
     "metadata": {},
     "output_type": "display_data"
    }
   ],
   "source": [
    "plt.figure(figsize=(10, 5))\n",
    "sns.histplot(df['Valor de Compra'], kde=True)\n",
    "plt.title('Distribuição de Preços de Combustiveis')\n",
    "plt.show()"
   ]
  },
  {
   "cell_type": "code",
   "execution_count": 80,
   "metadata": {},
   "outputs": [
    {
     "data": {
      "image/png": "[encoded data removed]",
      "text/plain": [
       "<Figure size 1500x800 with 2 Axes>"
      ]
     },
     "metadata": {},
     "output_type": "display_data"
    }
   ],
   "source": [
    "df.hist(bins=50,figsize=(15,8))\n",
    "#ajustar o espaçamento entre os graficos\n",
    "plt.tight_layout()\n",
    "plt.show()"
   ]
  },
  {
   "cell_type": "code",
   "execution_count": null,
   "metadata": {},
   "outputs": [],
   "source": []
  }
 ],
 "metadata": {
  "kernelspec": {
   "display_name": "Python 3.10.8 64-bit",
   "language": "python",
   "name": "python3"
  },
  "language_info": {
   "codemirror_mode": {
    "name": "ipython",
    "version": 3
   },
   "file_extension": ".py",
   "mimetype": "text/x-python",
   "name": "python",
   "nbconvert_exporter": "python",
   "pygments_lexer": "ipython3",
   "version": "3.10.8"
  },
  "orig_nbformat": 4,
  "vscode": {
   "interpreter": {
    "hash": "b791338c3e88062bab114cb03291c948bb196a0ab0843e63e81bf93440029bb6"
   }
  }
 },
 "nbformat": 4,
 "nbformat_minor": 2
}
