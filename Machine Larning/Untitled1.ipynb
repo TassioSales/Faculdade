{
 "cells": [
  {
   "cell_type": "code",
   "execution_count": 1,
   "id": "a18f1f0f-68ca-4a0e-86c7-81d18fb47084",
   "metadata": {},
   "outputs": [],
   "source": [
    "import pandas as pd\n",
    "import numpy as np\n",
    "from sklearn.datasets import make_classification"
   ]
  },
  {
   "cell_type": "code",
   "execution_count": 2,
   "id": "807fabc7-fe52-498a-8ca8-75040b0565cb",
   "metadata": {},
   "outputs": [],
   "source": [
    "X, y = make_classification(n_samples=10000, n_features=2, n_redundant=0,\n",
    "n_clusters_per_class=1, weights=[0.99], flip_y=0, random_state=1)"
   ]
  },
  {
   "cell_type": "code",
   "execution_count": 3,
   "id": "0f880661-6736-4b7a-ae58-72922aad8ebd",
   "metadata": {},
   "outputs": [
    {
     "data": {
      "text/plain": [
       "array([[0.22201371, 0.54020654],\n",
       "       [1.34743875, 1.41282352],\n",
       "       [0.53723817, 0.37273043],\n",
       "       ...,\n",
       "       [1.87813003, 0.82950037],\n",
       "       [2.58593336, 1.92799501],\n",
       "       [1.1233558 , 1.04575545]])"
      ]
     },
     "execution_count": 3,
     "metadata": {},
     "output_type": "execute_result"
    }
   ],
   "source": [
    "X"
   ]
  },
  {
   "cell_type": "code",
   "execution_count": 5,
   "id": "e23a1de3-ba10-48ba-a36e-cbc41ba2c08f",
   "metadata": {},
   "outputs": [],
   "source": [
    "X_min = X[y == 1]\n",
    "X_maj = X[y == 0]"
   ]
  },
  {
   "cell_type": "code",
   "execution_count": 7,
   "id": "c0629d35-4f87-4619-822d-e7166fe021c2",
   "metadata": {},
   "outputs": [
    {
     "data": {
      "text/plain": [
       "array([[0.22201371, 0.54020654],\n",
       "       [1.34743875, 1.41282352],\n",
       "       [0.53723817, 0.37273043],\n",
       "       ...,\n",
       "       [1.87813003, 0.82950037],\n",
       "       [2.58593336, 1.92799501],\n",
       "       [1.1233558 , 1.04575545]])"
      ]
     },
     "execution_count": 7,
     "metadata": {},
     "output_type": "execute_result"
    }
   ],
   "source": [
    "X_maj"
   ]
  }
 ],
 "metadata": {
  "kernelspec": {
   "display_name": "Python 3 (ipykernel)",
   "language": "python",
   "name": "python3"
  },
  "language_info": {
   "codemirror_mode": {
    "name": "ipython",
    "version": 3
   },
   "file_extension": ".py",
   "mimetype": "text/x-python",
   "name": "python",
   "nbconvert_exporter": "python",
   "pygments_lexer": "ipython3",
   "version": "3.9.7"
  }
 },
 "nbformat": 4,
 "nbformat_minor": 5
}
