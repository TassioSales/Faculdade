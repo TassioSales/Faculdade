{
 "cells": [
  {
   "cell_type": "code",
   "execution_count": null,
   "id": "209021a6",
   "metadata": {},
   "outputs": [],
   "source": [
    "import pandas as pd\n",
    "import numpy as np"
   ]
  },
  {
   "cell_type": "markdown",
   "id": "0bd41681",
   "metadata": {},
   "source": [
    "<h1>Tassio</h1>\n",
    "<h2>Tassio</h2>\n",
    "\n",
    "<ol>\n",
    "<li> Tassio\n",
    "<li> Pedro\n",
    "<li> felipe\n",
    "</ol>\n",
    "\n",
    "<p><a href =\"https://github.com/storopoli/ciencia-de-dados\" >Github</a><p>"
   ]
  }
 ],
 "metadata": {
  "kernelspec": {
   "display_name": "Python 3 (ipykernel)",
   "language": "python",
   "name": "python3"
  },
  "language_info": {
   "codemirror_mode": {
    "name": "ipython",
    "version": 3
   },
   "file_extension": ".py",
   "mimetype": "text/x-python",
   "name": "python",
   "nbconvert_exporter": "python",
   "pygments_lexer": "ipython3",
   "version": "3.9.7"
  }
 },
 "nbformat": 4,
 "nbformat_minor": 5
}
