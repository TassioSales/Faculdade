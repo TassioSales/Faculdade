{
 "cells": [
  {
   "cell_type": "code",
   "execution_count": 20,
   "id": "18aa8840",
   "metadata": {},
   "outputs": [
    {
     "data": {
      "text/html": [
       "        <script type=\"text/javascript\">\n",
       "        window.PlotlyConfig = {MathJaxConfig: 'local'};\n",
       "        if (window.MathJax) {MathJax.Hub.Config({SVG: {font: \"STIX-Web\"}});}\n",
       "        if (typeof require !== 'undefined') {\n",
       "        require.undef(\"plotly\");\n",
       "        requirejs.config({\n",
       "            paths: {\n",
       "                'plotly': ['https://cdn.plot.ly/plotly-2.11.1.min']\n",
       "            }\n",
       "        });\n",
       "        require(['plotly'], function(Plotly) {\n",
       "            window._Plotly = Plotly;\n",
       "        });\n",
       "        }\n",
       "        </script>\n",
       "        "
      ]
     },
     "metadata": {},
     "output_type": "display_data"
    },
    {
     "data": {
      "text/html": [
       "        <script type=\"text/javascript\">\n",
       "        window.PlotlyConfig = {MathJaxConfig: 'local'};\n",
       "        if (window.MathJax) {MathJax.Hub.Config({SVG: {font: \"STIX-Web\"}});}\n",
       "        if (typeof require !== 'undefined') {\n",
       "        require.undef(\"plotly\");\n",
       "        requirejs.config({\n",
       "            paths: {\n",
       "                'plotly': ['https://cdn.plot.ly/plotly-2.11.1.min']\n",
       "            }\n",
       "        });\n",
       "        require(['plotly'], function(Plotly) {\n",
       "            window._Plotly = Plotly;\n",
       "        });\n",
       "        }\n",
       "        </script>\n",
       "        "
      ]
     },
     "metadata": {},
     "output_type": "display_data"
    },
    {
     "data": {
      "text/html": [
       "        <script type=\"text/javascript\">\n",
       "        window.PlotlyConfig = {MathJaxConfig: 'local'};\n",
       "        if (window.MathJax) {MathJax.Hub.Config({SVG: {font: \"STIX-Web\"}});}\n",
       "        if (typeof require !== 'undefined') {\n",
       "        require.undef(\"plotly\");\n",
       "        requirejs.config({\n",
       "            paths: {\n",
       "                'plotly': ['https://cdn.plot.ly/plotly-2.11.1.min']\n",
       "            }\n",
       "        });\n",
       "        require(['plotly'], function(Plotly) {\n",
       "            window._Plotly = Plotly;\n",
       "        });\n",
       "        }\n",
       "        </script>\n",
       "        "
      ]
     },
     "metadata": {},
     "output_type": "display_data"
    }
   ],
   "source": [
    "import numpy as np # linear algebra\n",
    "import pandas as pd # data processing, CSV file I/O (e.g. pd.read_csv)\n",
    "\n",
    "# Data processing, metrics and modeling\n",
    "from sklearn.preprocessing import LabelEncoder, StandardScaler\n",
    "from sklearn.model_selection import train_test_split\n",
    "from sklearn.model_selection import StratifiedKFold\n",
    "from datetime import datetime\n",
    "from sklearn.metrics import precision_score, recall_score, confusion_matrix, accuracy_score, roc_auc_score, f1_score, roc_curve, auc,precision_recall_curve\n",
    "from sklearn import metrics\n",
    "import matplotlib.pyplot as plt \n",
    "# Suppr warning\n",
    "import warnings\n",
    "warnings.filterwarnings(\"ignore\")\n",
    "\n",
    "# matplotlib and seaborn for plotting\n",
    "import matplotlib.pyplot as plt\n",
    "%matplotlib inline\n",
    "\n",
    "import seaborn as sns\n",
    "import matplotlib.patches as patches\n",
    "\n",
    "from plotly import tools, subplots\n",
    "import plotly.offline as py\n",
    "py.init_notebook_mode(connected=True)\n",
    "import plotly.graph_objs as go\n",
    "import plotly.express as px\n",
    "py.init_notebook_mode(connected=True)\n",
    "from plotly.offline import init_notebook_mode, iplot\n",
    "init_notebook_mode(connected=True)\n",
    "\n",
    "pd.set_option('max_columns', 200)\n",
    "pd.set_option('max_rows', 200)"
   ]
  },
  {
   "cell_type": "code",
   "execution_count": 21,
   "id": "1cf1e719",
   "metadata": {},
   "outputs": [],
   "source": [
    "train = pd.read_csv('data_products_train.csv')\n",
    "test = pd.read_csv('data_products_test.csv')"
   ]
  },
  {
   "cell_type": "code",
   "execution_count": 22,
   "id": "c52e19d7",
   "metadata": {},
   "outputs": [
    {
     "name": "stdout",
     "output_type": "stream",
     "text": [
      "Variáveis:\t8\n",
      "Entradas:\t12000\n"
     ]
    }
   ],
   "source": [
    "print(\"Variáveis:\\t{}\\nEntradas:\\t{}\".format(train.shape[1], train.shape[0]))"
   ]
  },
  {
   "cell_type": "code",
   "execution_count": 23,
   "id": "a0cd15bd",
   "metadata": {},
   "outputs": [
    {
     "data": {
      "text/plain": [
       "category                       object\n",
       "product_name_lenght           float64\n",
       "product_description_lenght    float64\n",
       "product_photos_qty            float64\n",
       "product_weight_g              float64\n",
       "product_length_cm             float64\n",
       "product_height_cm             float64\n",
       "product_width_cm              float64\n",
       "dtype: object"
      ]
     },
     "metadata": {},
     "output_type": "display_data"
    },
    {
     "data": {
      "text/html": [
       "<div>\n",
       "<style scoped>\n",
       "    .dataframe tbody tr th:only-of-type {\n",
       "        vertical-align: middle;\n",
       "    }\n",
       "\n",
       "    .dataframe tbody tr th {\n",
       "        vertical-align: top;\n",
       "    }\n",
       "\n",
       "    .dataframe thead th {\n",
       "        text-align: right;\n",
       "    }\n",
       "</style>\n",
       "<table border=\"1\" class=\"dataframe\">\n",
       "  <thead>\n",
       "    <tr style=\"text-align: right;\">\n",
       "      <th></th>\n",
       "      <th>category</th>\n",
       "      <th>product_name_lenght</th>\n",
       "      <th>product_description_lenght</th>\n",
       "      <th>product_photos_qty</th>\n",
       "      <th>product_weight_g</th>\n",
       "      <th>product_length_cm</th>\n",
       "      <th>product_height_cm</th>\n",
       "      <th>product_width_cm</th>\n",
       "    </tr>\n",
       "  </thead>\n",
       "  <tbody>\n",
       "    <tr>\n",
       "      <th>0</th>\n",
       "      <td>beleza_saude</td>\n",
       "      <td>59.0</td>\n",
       "      <td>1064.0</td>\n",
       "      <td>1.0</td>\n",
       "      <td>200.0</td>\n",
       "      <td>16.0</td>\n",
       "      <td>8.0</td>\n",
       "      <td>11.0</td>\n",
       "    </tr>\n",
       "    <tr>\n",
       "      <th>1</th>\n",
       "      <td>esporte_lazer</td>\n",
       "      <td>43.0</td>\n",
       "      <td>843.0</td>\n",
       "      <td>3.0</td>\n",
       "      <td>1067.0</td>\n",
       "      <td>20.0</td>\n",
       "      <td>7.0</td>\n",
       "      <td>15.0</td>\n",
       "    </tr>\n",
       "    <tr>\n",
       "      <th>2</th>\n",
       "      <td>brinquedos</td>\n",
       "      <td>32.0</td>\n",
       "      <td>141.0</td>\n",
       "      <td>2.0</td>\n",
       "      <td>2690.0</td>\n",
       "      <td>39.0</td>\n",
       "      <td>24.0</td>\n",
       "      <td>40.0</td>\n",
       "    </tr>\n",
       "    <tr>\n",
       "      <th>3</th>\n",
       "      <td>brinquedos</td>\n",
       "      <td>47.0</td>\n",
       "      <td>406.0</td>\n",
       "      <td>3.0</td>\n",
       "      <td>1875.0</td>\n",
       "      <td>35.0</td>\n",
       "      <td>23.0</td>\n",
       "      <td>28.0</td>\n",
       "    </tr>\n",
       "    <tr>\n",
       "      <th>4</th>\n",
       "      <td>beleza_saude</td>\n",
       "      <td>50.0</td>\n",
       "      <td>757.0</td>\n",
       "      <td>1.0</td>\n",
       "      <td>600.0</td>\n",
       "      <td>74.0</td>\n",
       "      <td>15.0</td>\n",
       "      <td>15.0</td>\n",
       "    </tr>\n",
       "  </tbody>\n",
       "</table>\n",
       "</div>"
      ],
      "text/plain": [
       "        category  product_name_lenght  product_description_lenght  \\\n",
       "0   beleza_saude                 59.0                      1064.0   \n",
       "1  esporte_lazer                 43.0                       843.0   \n",
       "2     brinquedos                 32.0                       141.0   \n",
       "3     brinquedos                 47.0                       406.0   \n",
       "4   beleza_saude                 50.0                       757.0   \n",
       "\n",
       "   product_photos_qty  product_weight_g  product_length_cm  product_height_cm  \\\n",
       "0                 1.0             200.0               16.0                8.0   \n",
       "1                 3.0            1067.0               20.0                7.0   \n",
       "2                 2.0            2690.0               39.0               24.0   \n",
       "3                 3.0            1875.0               35.0               23.0   \n",
       "4                 1.0             600.0               74.0               15.0   \n",
       "\n",
       "   product_width_cm  \n",
       "0              11.0  \n",
       "1              15.0  \n",
       "2              40.0  \n",
       "3              28.0  \n",
       "4              15.0  "
      ]
     },
     "metadata": {},
     "output_type": "display_data"
    }
   ],
   "source": [
    "# identificar o tipo de cada variável\n",
    "display(train.dtypes)\n",
    "\n",
    "# ver as 5 primeiras entradas do conjunto de treino\n",
    "display(train.head())"
   ]
  },
  {
   "cell_type": "code",
   "execution_count": 24,
   "id": "fe9dae6a",
   "metadata": {},
   "outputs": [
    {
     "data": {
      "text/plain": [
       "product_photos_qty            0.021500\n",
       "product_length_cm             0.020167\n",
       "product_name_lenght           0.019583\n",
       "product_width_cm              0.019500\n",
       "product_height_cm             0.019417\n",
       "product_description_lenght    0.018667\n",
       "product_weight_g              0.018417\n",
       "category                      0.000000\n",
       "dtype: float64"
      ]
     },
     "execution_count": 24,
     "metadata": {},
     "output_type": "execute_result"
    }
   ],
   "source": [
    "# ver a porcentagem valores faltantes\n",
    "(train.isnull().sum() / train.shape[0]).sort_values(ascending=False)"
   ]
  },
  {
   "cell_type": "code",
   "execution_count": 25,
   "id": "67859168",
   "metadata": {},
   "outputs": [
    {
     "data": {
      "text/html": [
       "<div>\n",
       "<style scoped>\n",
       "    .dataframe tbody tr th:only-of-type {\n",
       "        vertical-align: middle;\n",
       "    }\n",
       "\n",
       "    .dataframe tbody tr th {\n",
       "        vertical-align: top;\n",
       "    }\n",
       "\n",
       "    .dataframe thead th {\n",
       "        text-align: right;\n",
       "    }\n",
       "</style>\n",
       "<table border=\"1\" class=\"dataframe\">\n",
       "  <thead>\n",
       "    <tr style=\"text-align: right;\">\n",
       "      <th></th>\n",
       "      <th>product_name_lenght</th>\n",
       "      <th>product_description_lenght</th>\n",
       "      <th>product_photos_qty</th>\n",
       "      <th>product_weight_g</th>\n",
       "      <th>product_length_cm</th>\n",
       "      <th>product_height_cm</th>\n",
       "      <th>product_width_cm</th>\n",
       "    </tr>\n",
       "  </thead>\n",
       "  <tbody>\n",
       "    <tr>\n",
       "      <th>count</th>\n",
       "      <td>11765.000000</td>\n",
       "      <td>11776.000000</td>\n",
       "      <td>11742.000000</td>\n",
       "      <td>11779.000000</td>\n",
       "      <td>11758.000000</td>\n",
       "      <td>11767.000000</td>\n",
       "      <td>11766.000000</td>\n",
       "    </tr>\n",
       "    <tr>\n",
       "      <th>mean</th>\n",
       "      <td>48.975436</td>\n",
       "      <td>802.878482</td>\n",
       "      <td>2.095214</td>\n",
       "      <td>2019.026827</td>\n",
       "      <td>32.019816</td>\n",
       "      <td>15.807343</td>\n",
       "      <td>23.316930</td>\n",
       "    </tr>\n",
       "    <tr>\n",
       "      <th>std</th>\n",
       "      <td>10.143948</td>\n",
       "      <td>664.000839</td>\n",
       "      <td>1.696089</td>\n",
       "      <td>3870.850412</td>\n",
       "      <td>17.738056</td>\n",
       "      <td>12.011844</td>\n",
       "      <td>11.949352</td>\n",
       "    </tr>\n",
       "    <tr>\n",
       "      <th>min</th>\n",
       "      <td>5.000000</td>\n",
       "      <td>8.000000</td>\n",
       "      <td>1.000000</td>\n",
       "      <td>0.000000</td>\n",
       "      <td>8.000000</td>\n",
       "      <td>2.000000</td>\n",
       "      <td>7.000000</td>\n",
       "    </tr>\n",
       "    <tr>\n",
       "      <th>25%</th>\n",
       "      <td>43.000000</td>\n",
       "      <td>346.000000</td>\n",
       "      <td>1.000000</td>\n",
       "      <td>300.000000</td>\n",
       "      <td>19.000000</td>\n",
       "      <td>8.000000</td>\n",
       "      <td>15.000000</td>\n",
       "    </tr>\n",
       "    <tr>\n",
       "      <th>50%</th>\n",
       "      <td>52.000000</td>\n",
       "      <td>621.000000</td>\n",
       "      <td>1.000000</td>\n",
       "      <td>750.000000</td>\n",
       "      <td>26.000000</td>\n",
       "      <td>13.000000</td>\n",
       "      <td>20.000000</td>\n",
       "    </tr>\n",
       "    <tr>\n",
       "      <th>75%</th>\n",
       "      <td>57.000000</td>\n",
       "      <td>1015.000000</td>\n",
       "      <td>3.000000</td>\n",
       "      <td>1750.000000</td>\n",
       "      <td>40.000000</td>\n",
       "      <td>20.000000</td>\n",
       "      <td>30.000000</td>\n",
       "    </tr>\n",
       "    <tr>\n",
       "      <th>max</th>\n",
       "      <td>69.000000</td>\n",
       "      <td>3985.000000</td>\n",
       "      <td>18.000000</td>\n",
       "      <td>40425.000000</td>\n",
       "      <td>105.000000</td>\n",
       "      <td>105.000000</td>\n",
       "      <td>118.000000</td>\n",
       "    </tr>\n",
       "  </tbody>\n",
       "</table>\n",
       "</div>"
      ],
      "text/plain": [
       "       product_name_lenght  product_description_lenght  product_photos_qty  \\\n",
       "count         11765.000000                11776.000000        11742.000000   \n",
       "mean             48.975436                  802.878482            2.095214   \n",
       "std              10.143948                  664.000839            1.696089   \n",
       "min               5.000000                    8.000000            1.000000   \n",
       "25%              43.000000                  346.000000            1.000000   \n",
       "50%              52.000000                  621.000000            1.000000   \n",
       "75%              57.000000                 1015.000000            3.000000   \n",
       "max              69.000000                 3985.000000           18.000000   \n",
       "\n",
       "       product_weight_g  product_length_cm  product_height_cm  \\\n",
       "count      11779.000000       11758.000000       11767.000000   \n",
       "mean        2019.026827          32.019816          15.807343   \n",
       "std         3870.850412          17.738056          12.011844   \n",
       "min            0.000000           8.000000           2.000000   \n",
       "25%          300.000000          19.000000           8.000000   \n",
       "50%          750.000000          26.000000          13.000000   \n",
       "75%         1750.000000          40.000000          20.000000   \n",
       "max        40425.000000         105.000000         105.000000   \n",
       "\n",
       "       product_width_cm  \n",
       "count      11766.000000  \n",
       "mean          23.316930  \n",
       "std           11.949352  \n",
       "min            7.000000  \n",
       "25%           15.000000  \n",
       "50%           20.000000  \n",
       "75%           30.000000  \n",
       "max          118.000000  "
      ]
     },
     "execution_count": 25,
     "metadata": {},
     "output_type": "execute_result"
    }
   ],
   "source": [
    "train.describe()"
   ]
  },
  {
   "cell_type": "code",
   "execution_count": 26,
   "id": "9babaf26",
   "metadata": {},
   "outputs": [
    {
     "data": {
      "image/png": "[encoded data removed]",
      "text/plain": [
       "<Figure size 720x576 with 9 Axes>"
      ]
     },
     "metadata": {
      "needs_background": "light"
     },
     "output_type": "display_data"
    }
   ],
   "source": [
    "train.hist(figsize=(10,8));"
   ]
  },
  {
   "cell_type": "code",
   "execution_count": 27,
   "id": "84730c27",
   "metadata": {},
   "outputs": [
    {
     "data": {
      "image/png": "[encoded data removed]",
      "text/plain": [
       "<Figure size 432x288 with 2 Axes>"
      ]
     },
     "metadata": {
      "needs_background": "light"
     },
     "output_type": "display_data"
    }
   ],
   "source": [
    "sns.heatmap(train.corr(), cmap='coolwarm', fmt='.2f', linewidths=0.1,\n",
    "            vmax=1.0, square=True, linecolor='white', annot=True);"
   ]
  },
  {
   "cell_type": "code",
   "execution_count": 28,
   "id": "c9ff934d",
   "metadata": {},
   "outputs": [
    {
     "name": "stdout",
     "output_type": "stream",
     "text": [
      "df_merged.shape: (15000 x 8)\n"
     ]
    }
   ],
   "source": [
    "# salvar os índices dos datasets para recuperação posterior\n",
    "train_idx = train.shape[0]\n",
    "test_idx = test.shape[0]\n",
    "\n",
    "# concatenar treino e teste em um único DataFrame\n",
    "df_merged = pd.concat(objs=[train, test], axis=0).reset_index(drop=True)\n",
    "\n",
    "print(\"df_merged.shape: ({} x {})\".format(df_merged.shape[0], df_merged.shape[1]))"
   ]
  },
  {
   "cell_type": "code",
   "execution_count": 29,
   "id": "935d9487",
   "metadata": {},
   "outputs": [
    {
     "data": {
      "text/html": [
       "<div>\n",
       "<style scoped>\n",
       "    .dataframe tbody tr th:only-of-type {\n",
       "        vertical-align: middle;\n",
       "    }\n",
       "\n",
       "    .dataframe tbody tr th {\n",
       "        vertical-align: top;\n",
       "    }\n",
       "\n",
       "    .dataframe thead th {\n",
       "        text-align: right;\n",
       "    }\n",
       "</style>\n",
       "<table border=\"1\" class=\"dataframe\">\n",
       "  <thead>\n",
       "    <tr style=\"text-align: right;\">\n",
       "      <th></th>\n",
       "      <th>category</th>\n",
       "      <th>product_name_lenght</th>\n",
       "      <th>product_description_lenght</th>\n",
       "      <th>product_photos_qty</th>\n",
       "      <th>product_weight_g</th>\n",
       "      <th>product_length_cm</th>\n",
       "      <th>product_height_cm</th>\n",
       "      <th>product_width_cm</th>\n",
       "    </tr>\n",
       "  </thead>\n",
       "  <tbody>\n",
       "    <tr>\n",
       "      <th>0</th>\n",
       "      <td>beleza_saude</td>\n",
       "      <td>59.0</td>\n",
       "      <td>1064.0</td>\n",
       "      <td>1.0</td>\n",
       "      <td>200.0</td>\n",
       "      <td>16.0</td>\n",
       "      <td>8.0</td>\n",
       "      <td>11.0</td>\n",
       "    </tr>\n",
       "    <tr>\n",
       "      <th>1</th>\n",
       "      <td>esporte_lazer</td>\n",
       "      <td>43.0</td>\n",
       "      <td>843.0</td>\n",
       "      <td>3.0</td>\n",
       "      <td>1067.0</td>\n",
       "      <td>20.0</td>\n",
       "      <td>7.0</td>\n",
       "      <td>15.0</td>\n",
       "    </tr>\n",
       "    <tr>\n",
       "      <th>2</th>\n",
       "      <td>brinquedos</td>\n",
       "      <td>32.0</td>\n",
       "      <td>141.0</td>\n",
       "      <td>2.0</td>\n",
       "      <td>2690.0</td>\n",
       "      <td>39.0</td>\n",
       "      <td>24.0</td>\n",
       "      <td>40.0</td>\n",
       "    </tr>\n",
       "    <tr>\n",
       "      <th>3</th>\n",
       "      <td>brinquedos</td>\n",
       "      <td>47.0</td>\n",
       "      <td>406.0</td>\n",
       "      <td>3.0</td>\n",
       "      <td>1875.0</td>\n",
       "      <td>35.0</td>\n",
       "      <td>23.0</td>\n",
       "      <td>28.0</td>\n",
       "    </tr>\n",
       "    <tr>\n",
       "      <th>4</th>\n",
       "      <td>beleza_saude</td>\n",
       "      <td>50.0</td>\n",
       "      <td>757.0</td>\n",
       "      <td>1.0</td>\n",
       "      <td>600.0</td>\n",
       "      <td>74.0</td>\n",
       "      <td>15.0</td>\n",
       "      <td>15.0</td>\n",
       "    </tr>\n",
       "    <tr>\n",
       "      <th>...</th>\n",
       "      <td>...</td>\n",
       "      <td>...</td>\n",
       "      <td>...</td>\n",
       "      <td>...</td>\n",
       "      <td>...</td>\n",
       "      <td>...</td>\n",
       "      <td>...</td>\n",
       "      <td>...</td>\n",
       "    </tr>\n",
       "    <tr>\n",
       "      <th>14995</th>\n",
       "      <td>beleza_saude</td>\n",
       "      <td>45.0</td>\n",
       "      <td>376.0</td>\n",
       "      <td>3.0</td>\n",
       "      <td>800.0</td>\n",
       "      <td>16.0</td>\n",
       "      <td>16.0</td>\n",
       "      <td>16.0</td>\n",
       "    </tr>\n",
       "    <tr>\n",
       "      <th>14996</th>\n",
       "      <td>informatica_acessorios</td>\n",
       "      <td>55.0</td>\n",
       "      <td>328.0</td>\n",
       "      <td>1.0</td>\n",
       "      <td>400.0</td>\n",
       "      <td>28.0</td>\n",
       "      <td>10.0</td>\n",
       "      <td>23.0</td>\n",
       "    </tr>\n",
       "    <tr>\n",
       "      <th>14997</th>\n",
       "      <td>informatica_acessorios</td>\n",
       "      <td>41.0</td>\n",
       "      <td>374.0</td>\n",
       "      <td>1.0</td>\n",
       "      <td>611.0</td>\n",
       "      <td>NaN</td>\n",
       "      <td>NaN</td>\n",
       "      <td>NaN</td>\n",
       "    </tr>\n",
       "    <tr>\n",
       "      <th>14998</th>\n",
       "      <td>beleza_saude</td>\n",
       "      <td>29.0</td>\n",
       "      <td>870.0</td>\n",
       "      <td>1.0</td>\n",
       "      <td>185.0</td>\n",
       "      <td>23.0</td>\n",
       "      <td>24.0</td>\n",
       "      <td>22.0</td>\n",
       "    </tr>\n",
       "    <tr>\n",
       "      <th>14999</th>\n",
       "      <td>moveis_decoracao</td>\n",
       "      <td>59.0</td>\n",
       "      <td>1750.0</td>\n",
       "      <td>3.0</td>\n",
       "      <td>2300.0</td>\n",
       "      <td>105.0</td>\n",
       "      <td>3.0</td>\n",
       "      <td>70.0</td>\n",
       "    </tr>\n",
       "  </tbody>\n",
       "</table>\n",
       "<p>15000 rows × 8 columns</p>\n",
       "</div>"
      ],
      "text/plain": [
       "                     category  product_name_lenght  \\\n",
       "0                beleza_saude                 59.0   \n",
       "1               esporte_lazer                 43.0   \n",
       "2                  brinquedos                 32.0   \n",
       "3                  brinquedos                 47.0   \n",
       "4                beleza_saude                 50.0   \n",
       "...                       ...                  ...   \n",
       "14995            beleza_saude                 45.0   \n",
       "14996  informatica_acessorios                 55.0   \n",
       "14997  informatica_acessorios                 41.0   \n",
       "14998            beleza_saude                 29.0   \n",
       "14999        moveis_decoracao                 59.0   \n",
       "\n",
       "       product_description_lenght  product_photos_qty  product_weight_g  \\\n",
       "0                          1064.0                 1.0             200.0   \n",
       "1                           843.0                 3.0            1067.0   \n",
       "2                           141.0                 2.0            2690.0   \n",
       "3                           406.0                 3.0            1875.0   \n",
       "4                           757.0                 1.0             600.0   \n",
       "...                           ...                 ...               ...   \n",
       "14995                       376.0                 3.0             800.0   \n",
       "14996                       328.0                 1.0             400.0   \n",
       "14997                       374.0                 1.0             611.0   \n",
       "14998                       870.0                 1.0             185.0   \n",
       "14999                      1750.0                 3.0            2300.0   \n",
       "\n",
       "       product_length_cm  product_height_cm  product_width_cm  \n",
       "0                   16.0                8.0              11.0  \n",
       "1                   20.0                7.0              15.0  \n",
       "2                   39.0               24.0              40.0  \n",
       "3                   35.0               23.0              28.0  \n",
       "4                   74.0               15.0              15.0  \n",
       "...                  ...                ...               ...  \n",
       "14995               16.0               16.0              16.0  \n",
       "14996               28.0               10.0              23.0  \n",
       "14997                NaN                NaN               NaN  \n",
       "14998               23.0               24.0              22.0  \n",
       "14999              105.0                3.0              70.0  \n",
       "\n",
       "[15000 rows x 8 columns]"
      ]
     },
     "execution_count": 29,
     "metadata": {},
     "output_type": "execute_result"
    }
   ],
   "source": [
    "df_merged"
   ]
  },
  {
   "cell_type": "code",
   "execution_count": 30,
   "id": "a456bf4f",
   "metadata": {},
   "outputs": [],
   "source": [
    "# Usando a média para valores float\n",
    "for c in df_merged.columns:\n",
    "    if df_merged[c].dtype=='float16' or  df_merged[c].dtype=='float32' or  df_merged[c].dtype=='float64':\n",
    "        df_merged[c].fillna(df_merged[c].mean())"
   ]
  },
  {
   "cell_type": "code",
   "execution_count": 31,
   "id": "8998b07b",
   "metadata": {},
   "outputs": [],
   "source": [
    "df_merged['product_name_lenght'] = df_merged['product_name_lenght'].fillna(df_merged['product_name_lenght'].mean())\n",
    "df_merged['product_description_lenght'] = df_merged['product_description_lenght'].fillna(df_merged['product_description_lenght'].mean())\n",
    "df_merged['product_photos_qty'] = df_merged['product_photos_qty'].fillna(df_merged['product_photos_qty'].mean())\n",
    "df_merged['product_weight_g'] = df_merged['product_weight_g'].fillna(df_merged['product_weight_g'].mean())\n",
    "df_merged['product_length_cm'] = df_merged['product_length_cm'].fillna(df_merged['product_length_cm'].mean())\n",
    "df_merged['product_height_cm'] = df_merged['product_height_cm'].fillna(df_merged['product_height_cm'].mean())\n",
    "df_merged['product_width_cm'] = df_merged['product_width_cm'].fillna(df_merged['product_width_cm'].mean())"
   ]
  },
  {
   "cell_type": "code",
   "execution_count": 32,
   "id": "2d28c1ca",
   "metadata": {},
   "outputs": [
    {
     "data": {
      "text/plain": [
       "category                      0\n",
       "product_name_lenght           0\n",
       "product_description_lenght    0\n",
       "product_photos_qty            0\n",
       "product_weight_g              0\n",
       "product_length_cm             0\n",
       "product_height_cm             0\n",
       "product_width_cm              0\n",
       "dtype: int64"
      ]
     },
     "execution_count": 32,
     "metadata": {},
     "output_type": "execute_result"
    }
   ],
   "source": [
    "df_merged.isnull().sum()"
   ]
  },
  {
   "cell_type": "code",
   "execution_count": 33,
   "id": "74d4dc48",
   "metadata": {},
   "outputs": [
    {
     "data": {
      "text/html": [
       "<div>\n",
       "<style scoped>\n",
       "    .dataframe tbody tr th:only-of-type {\n",
       "        vertical-align: middle;\n",
       "    }\n",
       "\n",
       "    .dataframe tbody tr th {\n",
       "        vertical-align: top;\n",
       "    }\n",
       "\n",
       "    .dataframe thead th {\n",
       "        text-align: right;\n",
       "    }\n",
       "</style>\n",
       "<table border=\"1\" class=\"dataframe\">\n",
       "  <thead>\n",
       "    <tr style=\"text-align: right;\">\n",
       "      <th></th>\n",
       "      <th>category</th>\n",
       "      <th>product_name_lenght</th>\n",
       "      <th>product_description_lenght</th>\n",
       "      <th>product_photos_qty</th>\n",
       "      <th>product_weight_g</th>\n",
       "      <th>product_length_cm</th>\n",
       "      <th>product_height_cm</th>\n",
       "      <th>product_width_cm</th>\n",
       "    </tr>\n",
       "  </thead>\n",
       "  <tbody>\n",
       "    <tr>\n",
       "      <th>0</th>\n",
       "      <td>beleza_saude</td>\n",
       "      <td>59.0</td>\n",
       "      <td>1064.0</td>\n",
       "      <td>1.0</td>\n",
       "      <td>200.0</td>\n",
       "      <td>16.000000</td>\n",
       "      <td>8.000000</td>\n",
       "      <td>11.000000</td>\n",
       "    </tr>\n",
       "    <tr>\n",
       "      <th>1</th>\n",
       "      <td>esporte_lazer</td>\n",
       "      <td>43.0</td>\n",
       "      <td>843.0</td>\n",
       "      <td>3.0</td>\n",
       "      <td>1067.0</td>\n",
       "      <td>20.000000</td>\n",
       "      <td>7.000000</td>\n",
       "      <td>15.000000</td>\n",
       "    </tr>\n",
       "    <tr>\n",
       "      <th>2</th>\n",
       "      <td>brinquedos</td>\n",
       "      <td>32.0</td>\n",
       "      <td>141.0</td>\n",
       "      <td>2.0</td>\n",
       "      <td>2690.0</td>\n",
       "      <td>39.000000</td>\n",
       "      <td>24.000000</td>\n",
       "      <td>40.000000</td>\n",
       "    </tr>\n",
       "    <tr>\n",
       "      <th>3</th>\n",
       "      <td>brinquedos</td>\n",
       "      <td>47.0</td>\n",
       "      <td>406.0</td>\n",
       "      <td>3.0</td>\n",
       "      <td>1875.0</td>\n",
       "      <td>35.000000</td>\n",
       "      <td>23.000000</td>\n",
       "      <td>28.000000</td>\n",
       "    </tr>\n",
       "    <tr>\n",
       "      <th>4</th>\n",
       "      <td>beleza_saude</td>\n",
       "      <td>50.0</td>\n",
       "      <td>757.0</td>\n",
       "      <td>1.0</td>\n",
       "      <td>600.0</td>\n",
       "      <td>74.000000</td>\n",
       "      <td>15.000000</td>\n",
       "      <td>15.000000</td>\n",
       "    </tr>\n",
       "    <tr>\n",
       "      <th>...</th>\n",
       "      <td>...</td>\n",
       "      <td>...</td>\n",
       "      <td>...</td>\n",
       "      <td>...</td>\n",
       "      <td>...</td>\n",
       "      <td>...</td>\n",
       "      <td>...</td>\n",
       "      <td>...</td>\n",
       "    </tr>\n",
       "    <tr>\n",
       "      <th>14995</th>\n",
       "      <td>beleza_saude</td>\n",
       "      <td>45.0</td>\n",
       "      <td>376.0</td>\n",
       "      <td>3.0</td>\n",
       "      <td>800.0</td>\n",
       "      <td>16.000000</td>\n",
       "      <td>16.000000</td>\n",
       "      <td>16.000000</td>\n",
       "    </tr>\n",
       "    <tr>\n",
       "      <th>14996</th>\n",
       "      <td>informatica_acessorios</td>\n",
       "      <td>55.0</td>\n",
       "      <td>328.0</td>\n",
       "      <td>1.0</td>\n",
       "      <td>400.0</td>\n",
       "      <td>28.000000</td>\n",
       "      <td>10.000000</td>\n",
       "      <td>23.000000</td>\n",
       "    </tr>\n",
       "    <tr>\n",
       "      <th>14997</th>\n",
       "      <td>informatica_acessorios</td>\n",
       "      <td>41.0</td>\n",
       "      <td>374.0</td>\n",
       "      <td>1.0</td>\n",
       "      <td>611.0</td>\n",
       "      <td>32.105593</td>\n",
       "      <td>15.863958</td>\n",
       "      <td>23.363124</td>\n",
       "    </tr>\n",
       "    <tr>\n",
       "      <th>14998</th>\n",
       "      <td>beleza_saude</td>\n",
       "      <td>29.0</td>\n",
       "      <td>870.0</td>\n",
       "      <td>1.0</td>\n",
       "      <td>185.0</td>\n",
       "      <td>23.000000</td>\n",
       "      <td>24.000000</td>\n",
       "      <td>22.000000</td>\n",
       "    </tr>\n",
       "    <tr>\n",
       "      <th>14999</th>\n",
       "      <td>moveis_decoracao</td>\n",
       "      <td>59.0</td>\n",
       "      <td>1750.0</td>\n",
       "      <td>3.0</td>\n",
       "      <td>2300.0</td>\n",
       "      <td>105.000000</td>\n",
       "      <td>3.000000</td>\n",
       "      <td>70.000000</td>\n",
       "    </tr>\n",
       "  </tbody>\n",
       "</table>\n",
       "<p>15000 rows × 8 columns</p>\n",
       "</div>"
      ],
      "text/plain": [
       "                     category  product_name_lenght  \\\n",
       "0                beleza_saude                 59.0   \n",
       "1               esporte_lazer                 43.0   \n",
       "2                  brinquedos                 32.0   \n",
       "3                  brinquedos                 47.0   \n",
       "4                beleza_saude                 50.0   \n",
       "...                       ...                  ...   \n",
       "14995            beleza_saude                 45.0   \n",
       "14996  informatica_acessorios                 55.0   \n",
       "14997  informatica_acessorios                 41.0   \n",
       "14998            beleza_saude                 29.0   \n",
       "14999        moveis_decoracao                 59.0   \n",
       "\n",
       "       product_description_lenght  product_photos_qty  product_weight_g  \\\n",
       "0                          1064.0                 1.0             200.0   \n",
       "1                           843.0                 3.0            1067.0   \n",
       "2                           141.0                 2.0            2690.0   \n",
       "3                           406.0                 3.0            1875.0   \n",
       "4                           757.0                 1.0             600.0   \n",
       "...                           ...                 ...               ...   \n",
       "14995                       376.0                 3.0             800.0   \n",
       "14996                       328.0                 1.0             400.0   \n",
       "14997                       374.0                 1.0             611.0   \n",
       "14998                       870.0                 1.0             185.0   \n",
       "14999                      1750.0                 3.0            2300.0   \n",
       "\n",
       "       product_length_cm  product_height_cm  product_width_cm  \n",
       "0              16.000000           8.000000         11.000000  \n",
       "1              20.000000           7.000000         15.000000  \n",
       "2              39.000000          24.000000         40.000000  \n",
       "3              35.000000          23.000000         28.000000  \n",
       "4              74.000000          15.000000         15.000000  \n",
       "...                  ...                ...               ...  \n",
       "14995          16.000000          16.000000         16.000000  \n",
       "14996          28.000000          10.000000         23.000000  \n",
       "14997          32.105593          15.863958         23.363124  \n",
       "14998          23.000000          24.000000         22.000000  \n",
       "14999         105.000000           3.000000         70.000000  \n",
       "\n",
       "[15000 rows x 8 columns]"
      ]
     },
     "execution_count": 33,
     "metadata": {},
     "output_type": "execute_result"
    }
   ],
   "source": [
    "df_merged"
   ]
  },
  {
   "cell_type": "code",
   "execution_count": 34,
   "id": "4e7bfc47",
   "metadata": {},
   "outputs": [],
   "source": [
    "from sklearn.linear_model import LogisticRegression\n",
    "from sklearn.tree import DecisionTreeClassifier"
   ]
  },
  {
   "cell_type": "code",
   "execution_count": 35,
   "id": "217657de",
   "metadata": {},
   "outputs": [],
   "source": [
    "colunas = ['product_name_lenght', 'product_description_lenght','product_photos_qty', 'product_weight_g', 'product_length_cm',\n",
    "           'product_height_cm', 'product_width_cm']"
   ]
  },
  {
   "cell_type": "code",
   "execution_count": 36,
   "id": "4f2d67fd",
   "metadata": {},
   "outputs": [],
   "source": [
    "train = df_merged.iloc[:train_idx]\n",
    "test = df_merged.iloc[train_idx:]"
   ]
  },
  {
   "cell_type": "code",
   "execution_count": 37,
   "id": "792a50d4",
   "metadata": {},
   "outputs": [],
   "source": [
    "X_train = train.loc[:, colunas].values\n",
    "y_train = train.loc[:, 'category'].values"
   ]
  },
  {
   "cell_type": "code",
   "execution_count": 38,
   "id": "fe758041",
   "metadata": {},
   "outputs": [],
   "source": [
    "X_test = test.loc[:, colunas].values\n",
    "y_test = test.loc[:, 'category'].values"
   ]
  },
  {
   "cell_type": "code",
   "execution_count": 39,
   "id": "e69d5098",
   "metadata": {},
   "outputs": [],
   "source": [
    "from imblearn.over_sampling import SMOTE"
   ]
  },
  {
   "cell_type": "code",
   "execution_count": 40,
   "id": "79d26d2c",
   "metadata": {},
   "outputs": [],
   "source": [
    "oversample = SMOTE()\n",
    "X, y = oversample.fit_resample(X_train, y_train)"
   ]
  },
  {
   "cell_type": "code",
   "execution_count": 41,
   "id": "15789167",
   "metadata": {},
   "outputs": [],
   "source": [
    "from sklearn.svm import SVC\n",
    "from sklearn import tree\n",
    "from sklearn.ensemble import RandomForestClassifier\n",
    "from sklearn.neighbors import KNeighborsClassifier\n",
    "from sklearn.model_selection import GridSearchCV, cross_val_score\n",
    "from sklearn.neural_network import MLPClassifier\n",
    "from sklearn.gaussian_process.kernels import RBF\n",
    "from sklearn.ensemble import AdaBoostClassifier\n",
    "from sklearn.naive_bayes import GaussianNB\n",
    "from sklearn.linear_model import SGDClassifier\n",
    "from sklearn.discriminant_analysis import QuadraticDiscriminantAnalysis\n",
    "from sklearn.model_selection import RepeatedStratifiedKFold\n",
    "from sklearn.tree import DecisionTreeRegressor\n",
    "from sklearn.tree import DecisionTreeClassifier\n",
    "from sklearn.linear_model import LogisticRegression\n",
    "import xgboost as xgb\n",
    "from matplotlib import pyplot\n",
    "from numpy import mean"
   ]
  },
  {
   "cell_type": "code",
   "execution_count": 42,
   "id": "f3e0e934",
   "metadata": {},
   "outputs": [],
   "source": [
    "svm = SVC()\n",
    "dt  = tree.DecisionTreeClassifier()\n",
    "rf  = RandomForestClassifier()\n",
    "knn = KNeighborsClassifier()\n",
    "mlp = MLPClassifier()\n",
    "adb = AdaBoostClassifier()\n",
    "gnb = GaussianNB()\n",
    "qda = QuadraticDiscriminantAnalysis()\n",
    "xgb = xgb.XGBClassifier()\n",
    "sdg = SGDClassifier()\n",
    "atr = DecisionTreeRegressor()\n",
    "atc = DecisionTreeClassifier()\n",
    "lg =  LogisticRegression()"
   ]
  },
  {
   "cell_type": "code",
   "execution_count": 43,
   "id": "ec9f15e4",
   "metadata": {},
   "outputs": [],
   "source": [
    "X_treino, X_teste, y_treino, y_teste = train_test_split(X, y,test_size=0.15,random_state=65)"
   ]
  },
  {
   "cell_type": "code",
   "execution_count": 44,
   "id": "2564cc91",
   "metadata": {},
   "outputs": [
    {
     "name": "stdout",
     "output_type": "stream",
     "text": [
      "X_train: numero de linhas e colunas: (17153, 7)\n",
      "X_test: numero de linhas e colunas: (3027, 7)\n",
      "y_train: numero de linhas e colunas: (17153,)\n",
      "y_test: numero de linhas e colunas: (3027,)\n"
     ]
    }
   ],
   "source": [
    "# Visualizando a quantidade de linhas dos conjuntos criados acima\n",
    "print ('X_train: numero de linhas e colunas: {}'.format(X_treino.shape))\n",
    "print ('X_test: numero de linhas e colunas: {}'.format(X_teste.shape))\n",
    "print ('y_train: numero de linhas e colunas: {}'.format(y_treino.shape))\n",
    "print ('y_test: numero de linhas e colunas: {}'.format(y_teste.shape))"
   ]
  },
  {
   "cell_type": "code",
   "execution_count": 45,
   "id": "bf7f01f0",
   "metadata": {},
   "outputs": [
    {
     "data": {
      "text/plain": [
       "RandomForestClassifier()"
      ]
     },
     "execution_count": 45,
     "metadata": {},
     "output_type": "execute_result"
    }
   ],
   "source": [
    "rf.fit(X_treino, y_treino)"
   ]
  },
  {
   "cell_type": "code",
   "execution_count": 46,
   "id": "a88add53",
   "metadata": {},
   "outputs": [
    {
     "name": "stdout",
     "output_type": "stream",
     "text": [
      "                        precision    recall  f1-score   support\n",
      "\n",
      "     alimentos_bebidas       0.90      0.99      0.95       293\n",
      "            automotivo       0.72      0.58      0.64       311\n",
      "          beleza_saude       0.55      0.63      0.59       289\n",
      "            brinquedos       0.60      0.67      0.64       301\n",
      "       cama_mesa_banho       0.76      0.83      0.80       331\n",
      "         esporte_lazer       0.59      0.46      0.51       303\n",
      "informatica_acessorios       0.63      0.59      0.61       299\n",
      "      moveis_decoracao       0.73      0.61      0.67       295\n",
      "              pet_shop       0.74      0.79      0.77       295\n",
      "             telefonia       0.77      0.88      0.82       310\n",
      "\n",
      "              accuracy                           0.70      3027\n",
      "             macro avg       0.70      0.70      0.70      3027\n",
      "          weighted avg       0.70      0.70      0.70      3027\n",
      "\n"
     ]
    }
   ],
   "source": [
    "print (metrics.classification_report(y_teste,rf.predict(X_teste)))"
   ]
  },
  {
   "cell_type": "code",
   "execution_count": 47,
   "id": "82e3b16c",
   "metadata": {},
   "outputs": [
    {
     "data": {
      "text/plain": [
       "DecisionTreeClassifier()"
      ]
     },
     "execution_count": 47,
     "metadata": {},
     "output_type": "execute_result"
    }
   ],
   "source": [
    "atc.fit(X_treino, y_treino)"
   ]
  },
  {
   "cell_type": "code",
   "execution_count": 48,
   "id": "e07c2ee2",
   "metadata": {},
   "outputs": [
    {
     "name": "stdout",
     "output_type": "stream",
     "text": [
      "                        precision    recall  f1-score   support\n",
      "\n",
      "     alimentos_bebidas       0.85      0.92      0.88       293\n",
      "            automotivo       0.49      0.48      0.49       311\n",
      "          beleza_saude       0.44      0.43      0.43       289\n",
      "            brinquedos       0.52      0.54      0.53       301\n",
      "       cama_mesa_banho       0.81      0.73      0.77       331\n",
      "         esporte_lazer       0.42      0.39      0.41       303\n",
      "informatica_acessorios       0.48      0.48      0.48       299\n",
      "      moveis_decoracao       0.57      0.55      0.56       295\n",
      "              pet_shop       0.58      0.65      0.62       295\n",
      "             telefonia       0.76      0.75      0.76       310\n",
      "\n",
      "              accuracy                           0.59      3027\n",
      "             macro avg       0.59      0.59      0.59      3027\n",
      "          weighted avg       0.59      0.59      0.59      3027\n",
      "\n"
     ]
    }
   ],
   "source": [
    "print (metrics.classification_report(y_teste,atc.predict(X_teste)))"
   ]
  },
  {
   "cell_type": "code",
   "execution_count": 49,
   "id": "3718cb26",
   "metadata": {},
   "outputs": [
    {
     "data": {
      "text/plain": [
       "LogisticRegression()"
      ]
     },
     "execution_count": 49,
     "metadata": {},
     "output_type": "execute_result"
    }
   ],
   "source": [
    "lg.fit(X_treino, y_treino)"
   ]
  },
  {
   "cell_type": "code",
   "execution_count": 50,
   "id": "4cf7321c",
   "metadata": {},
   "outputs": [
    {
     "name": "stdout",
     "output_type": "stream",
     "text": [
      "                        precision    recall  f1-score   support\n",
      "\n",
      "     alimentos_bebidas       0.17      0.03      0.05       293\n",
      "            automotivo       0.20      0.03      0.05       311\n",
      "          beleza_saude       0.23      0.32      0.27       289\n",
      "            brinquedos       0.32      0.13      0.18       301\n",
      "       cama_mesa_banho       0.27      0.73      0.40       331\n",
      "         esporte_lazer       0.19      0.05      0.08       303\n",
      "informatica_acessorios       0.13      0.06      0.08       299\n",
      "      moveis_decoracao       0.18      0.12      0.15       295\n",
      "              pet_shop       0.25      0.14      0.18       295\n",
      "             telefonia       0.29      0.88      0.43       310\n",
      "\n",
      "              accuracy                           0.25      3027\n",
      "             macro avg       0.22      0.25      0.19      3027\n",
      "          weighted avg       0.22      0.25      0.19      3027\n",
      "\n"
     ]
    }
   ],
   "source": [
    "print (metrics.classification_report(y_teste,lg.predict(X_teste)))"
   ]
  },
  {
   "cell_type": "code",
   "execution_count": 51,
   "id": "9227ae51",
   "metadata": {},
   "outputs": [],
   "source": [
    "# # criar um modelo de Regressão Logística\n",
    "# lr_model = LogisticRegression(solver='liblinear')\n",
    "# lr_model.fit(train, X_train)\n",
    "\n",
    "# # verificar a acurácia do modelo\n",
    "# acc_logReg = round(lr_model.score(train, X_train) * 100, 2)\n",
    "# print(\"Acurácia do modelo de Regressão Logística: {}\".format(acc_logReg))"
   ]
  }
 ],
 "metadata": {
  "kernelspec": {
   "display_name": "Python 3 (ipykernel)",
   "language": "python",
   "name": "python3"
  },
  "language_info": {
   "codemirror_mode": {
    "name": "ipython",
    "version": 3
   },
   "file_extension": ".py",
   "mimetype": "text/x-python",
   "name": "python",
   "nbconvert_exporter": "python",
   "pygments_lexer": "ipython3",
   "version": "3.9.7"
  }
 },
 "nbformat": 4,
 "nbformat_minor": 5
}
