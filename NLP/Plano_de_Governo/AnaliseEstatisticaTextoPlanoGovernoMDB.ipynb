{
 "cells": [
  {
   "cell_type": "markdown",
   "metadata": {
    "id": "XiAFYq9gyftl"
   },
   "source": [
    "# Análise Estatística do Texto do Plano de Governo do MDB para 2022"
   ]
  },
  {
   "cell_type": "code",
   "execution_count": null,
   "metadata": {
    "colab": {
     "base_uri": "https://localhost:8080/"
    },
    "id": "oKs6FnbRybKA",
    "outputId": "325626b5-0ab0-4177-9b7d-fe452acd124f"
   },
   "outputs": [],
   "source": [
    "#!pip install pdfplumber -q"
   ]
  },
  {
   "cell_type": "code",
   "execution_count": 34,
   "metadata": {
    "colab": {
     "base_uri": "https://localhost:8080/"
    },
    "id": "W4sARkSJy-H0",
    "outputId": "506521ca-36d3-4d63-fdd4-eb5829926721"
   },
   "outputs": [
    {
     "name": "stderr",
     "output_type": "stream",
     "text": [
      "[nltk_data] Downloading package stopwords to\n",
      "[nltk_data]     C:\\Users\\tassi\\AppData\\Roaming\\nltk_data...\n",
      "[nltk_data]   Package stopwords is already up-to-date!\n"
     ]
    }
   ],
   "source": [
    "# importar bibliotecas\n",
    "import pdfplumber\n",
    "import re\n",
    "from collections import Counter\n",
    "import nltk\n",
    "from wordcloud import WordCloud, STOPWORDS\n",
    "nltk.download('stopwords')\n",
    "stopwords = nltk.corpus.stopwords.words('portuguese')"
   ]
  },
  {
   "cell_type": "code",
   "execution_count": 35,
   "metadata": {
    "colab": {
     "base_uri": "https://localhost:8080/"
    },
    "id": "o2mBkhw-4xr3",
    "outputId": "8932ad65-14f1-4636-a38f-9af26c2d98c8"
   },
   "outputs": [
    {
     "data": {
      "text/plain": [
       "['a',\n",
       " 'à',\n",
       " 'ao',\n",
       " 'aos',\n",
       " 'aquela',\n",
       " 'aquelas',\n",
       " 'aquele',\n",
       " 'aqueles',\n",
       " 'aquilo',\n",
       " 'as',\n",
       " 'às',\n",
       " 'até',\n",
       " 'com',\n",
       " 'como',\n",
       " 'da',\n",
       " 'das',\n",
       " 'de',\n",
       " 'dela',\n",
       " 'delas',\n",
       " 'dele',\n",
       " 'deles',\n",
       " 'depois',\n",
       " 'do',\n",
       " 'dos',\n",
       " 'e',\n",
       " 'é',\n",
       " 'ela',\n",
       " 'elas',\n",
       " 'ele',\n",
       " 'eles',\n",
       " 'em',\n",
       " 'entre',\n",
       " 'era',\n",
       " 'eram',\n",
       " 'éramos',\n",
       " 'essa',\n",
       " 'essas',\n",
       " 'esse',\n",
       " 'esses',\n",
       " 'esta',\n",
       " 'está',\n",
       " 'estamos',\n",
       " 'estão',\n",
       " 'estar',\n",
       " 'estas',\n",
       " 'estava',\n",
       " 'estavam',\n",
       " 'estávamos',\n",
       " 'este',\n",
       " 'esteja',\n",
       " 'estejam',\n",
       " 'estejamos',\n",
       " 'estes',\n",
       " 'esteve',\n",
       " 'estive',\n",
       " 'estivemos',\n",
       " 'estiver',\n",
       " 'estivera',\n",
       " 'estiveram',\n",
       " 'estivéramos',\n",
       " 'estiverem',\n",
       " 'estivermos',\n",
       " 'estivesse',\n",
       " 'estivessem',\n",
       " 'estivéssemos',\n",
       " 'estou',\n",
       " 'eu',\n",
       " 'foi',\n",
       " 'fomos',\n",
       " 'for',\n",
       " 'fora',\n",
       " 'foram',\n",
       " 'fôramos',\n",
       " 'forem',\n",
       " 'formos',\n",
       " 'fosse',\n",
       " 'fossem',\n",
       " 'fôssemos',\n",
       " 'fui',\n",
       " 'há',\n",
       " 'haja',\n",
       " 'hajam',\n",
       " 'hajamos',\n",
       " 'hão',\n",
       " 'havemos',\n",
       " 'haver',\n",
       " 'hei',\n",
       " 'houve',\n",
       " 'houvemos',\n",
       " 'houver',\n",
       " 'houvera',\n",
       " 'houverá',\n",
       " 'houveram',\n",
       " 'houvéramos',\n",
       " 'houverão',\n",
       " 'houverei',\n",
       " 'houverem',\n",
       " 'houveremos',\n",
       " 'houveria',\n",
       " 'houveriam',\n",
       " 'houveríamos',\n",
       " 'houvermos',\n",
       " 'houvesse',\n",
       " 'houvessem',\n",
       " 'houvéssemos',\n",
       " 'isso',\n",
       " 'isto',\n",
       " 'já',\n",
       " 'lhe',\n",
       " 'lhes',\n",
       " 'mais',\n",
       " 'mas',\n",
       " 'me',\n",
       " 'mesmo',\n",
       " 'meu',\n",
       " 'meus',\n",
       " 'minha',\n",
       " 'minhas',\n",
       " 'muito',\n",
       " 'na',\n",
       " 'não',\n",
       " 'nas',\n",
       " 'nem',\n",
       " 'no',\n",
       " 'nos',\n",
       " 'nós',\n",
       " 'nossa',\n",
       " 'nossas',\n",
       " 'nosso',\n",
       " 'nossos',\n",
       " 'num',\n",
       " 'numa',\n",
       " 'o',\n",
       " 'os',\n",
       " 'ou',\n",
       " 'para',\n",
       " 'pela',\n",
       " 'pelas',\n",
       " 'pelo',\n",
       " 'pelos',\n",
       " 'por',\n",
       " 'qual',\n",
       " 'quando',\n",
       " 'que',\n",
       " 'quem',\n",
       " 'são',\n",
       " 'se',\n",
       " 'seja',\n",
       " 'sejam',\n",
       " 'sejamos',\n",
       " 'sem',\n",
       " 'ser',\n",
       " 'será',\n",
       " 'serão',\n",
       " 'serei',\n",
       " 'seremos',\n",
       " 'seria',\n",
       " 'seriam',\n",
       " 'seríamos',\n",
       " 'seu',\n",
       " 'seus',\n",
       " 'só',\n",
       " 'somos',\n",
       " 'sou',\n",
       " 'sua',\n",
       " 'suas',\n",
       " 'também',\n",
       " 'te',\n",
       " 'tem',\n",
       " 'tém',\n",
       " 'temos',\n",
       " 'tenha',\n",
       " 'tenham',\n",
       " 'tenhamos',\n",
       " 'tenho',\n",
       " 'terá',\n",
       " 'terão',\n",
       " 'terei',\n",
       " 'teremos',\n",
       " 'teria',\n",
       " 'teriam',\n",
       " 'teríamos',\n",
       " 'teu',\n",
       " 'teus',\n",
       " 'teve',\n",
       " 'tinha',\n",
       " 'tinham',\n",
       " 'tínhamos',\n",
       " 'tive',\n",
       " 'tivemos',\n",
       " 'tiver',\n",
       " 'tivera',\n",
       " 'tiveram',\n",
       " 'tivéramos',\n",
       " 'tiverem',\n",
       " 'tivermos',\n",
       " 'tivesse',\n",
       " 'tivessem',\n",
       " 'tivéssemos',\n",
       " 'tu',\n",
       " 'tua',\n",
       " 'tuas',\n",
       " 'um',\n",
       " 'uma',\n",
       " 'você',\n",
       " 'vocês',\n",
       " 'vos']"
      ]
     },
     "execution_count": 35,
     "metadata": {},
     "output_type": "execute_result"
    }
   ],
   "source": [
    "stopwords"
   ]
  },
  {
   "cell_type": "code",
   "execution_count": 36,
   "metadata": {},
   "outputs": [],
   "source": [
    "stowordAdcionais = ['https', 'http', 'br', '2022', '2026',\"'\"]"
   ]
  },
  {
   "cell_type": "code",
   "execution_count": null,
   "metadata": {},
   "outputs": [],
   "source": [
    "def menu():\n",
    "    print('''1 - CIRO FERREIRA GOMES)\n",
    "             2 - JOSE MARIA EYMAEL\n",
    "             3 - LUIZ FELIPE CHAVES D'AVILA\n",
    "             4 - JAIR MESSIAS BOLSONARO\n",
    "             5 - LEONARDO PÉRICLES VIEIRA ROQUE\n",
    "             6 - LUIZ INÁCIO LULA DA SILVA\n",
    "             7 - PABLO HENRIQUE COSTA MARÇAL\n",
    "             8 - KELMON LUIS DA SILVA SOUZA\n",
    "             9 - ROBERTO JEFFERSON MONTEIRO FRANCISCO\n",
    "             10 - SIMONE NASSAR TEBET\n",
    "             11 - SOFIA PADUA MANZANO\n",
    "             12 - SORAYA VIEIRA THRONICKE\n",
    "             13 - VERA LUCIA PEREIRA DA SILVA SALGADO'''\n",
    "\n"
   ]
  },
  {
   "cell_type": "code",
   "execution_count": 37,
   "metadata": {},
   "outputs": [],
   "source": [
    "stopwords.extend(stowordAdcionais)"
   ]
  },
  {
   "cell_type": "code",
   "execution_count": 38,
   "metadata": {
    "id": "BL5g__KizKY1"
   },
   "outputs": [],
   "source": [
    "pdf=pdfplumber.open('ciro_gomes.pdf')"
   ]
  },
  {
   "cell_type": "code",
   "execution_count": 39,
   "metadata": {
    "colab": {
     "base_uri": "https://localhost:8080/"
    },
    "id": "FT1HBFvwzjbd",
    "outputId": "29b310c5-9ca2-436e-9f77-8ec32b94b0d4"
   },
   "outputs": [
    {
     "data": {
      "text/plain": [
       "26"
      ]
     },
     "execution_count": 39,
     "metadata": {},
     "output_type": "execute_result"
    }
   ],
   "source": [
    "len(ciro_gomes.pages)"
   ]
  },
  {
   "cell_type": "code",
   "execution_count": 40,
   "metadata": {
    "colab": {
     "base_uri": "https://localhost:8080/"
    },
    "id": "S4OnmQRjztdV",
    "outputId": "11560b16-258c-460d-f10f-0c5d081c2a28"
   },
   "outputs": [
    {
     "name": "stdout",
     "output_type": "stream",
     "text": [
      "PROGRAMA  DE  GOVERNO  DE  CIRO  GOMES  2  O 2  2 \n",
      "Crescer  mais e \n",
      "gerar  mais empregos \n",
      "■ \n",
      "O Projeto  Nacional  de  Desenvolvimento  parte  do  princípio  que  é essencial  retomar  o \n",
      "crescimento  de forma economicamente  sustentável,  o que significa  gerar empregos  e \n",
      "garantir  a estabilidade  de preços.  Para isso, prevê um pacto  entre  os setores  público  e \n",
      "privado  em torno  de metas  para o crescimento  econômico  e os objetivos  de desenvolvi \n",
      "mento  sustentável  definidos  pela ONU. \n",
      "Devemos  ter  um Estado  inteligente,  dotado  de ferramentas  tecnológicas  de gestão  e \n",
      "acompanhamento  da execução  de políticas  públicas. \n",
      "Em um  primeiro  momento,  a  retomada  das  obras  de  infraestrutura  logística  e social, \n",
      "incluindo as atualmente  paradas, será essencial  para recuperamos  o crescimento  perdido \n",
      "nas últimas  décadas  e estimularmos  o setor privado a voltar a investir fortemente  no país. \n",
      "Ao mesmo  tempo,  o setor  público deverá  recuperar  a sua capacidade  de financiar \n",
      "políticas  públicas,  incluindo  as relacionadas  com  a educação,  a saúde  e a cultura,  o \n",
      "desenvolvimento  científico,  tecnológico  e produtivo,  a segurança  pública,  a proteção \n",
      "ambiental  e os direitos  humanos  - áreas que foram  deixadas  à mingua  no atual  governo \n",
      "e são fundamentais  ao desenvolvimento  do país. \n",
      "Para financiar  essas políticas  públicas, mantendo  o equilíbrio fiscal e a sustentabili \n",
      "dade das contas  públicas, defendemos  uma ampla  reforma  tributária  e fiscal,  baseada \n",
      "nos seguintes  pontos: \n",
      "Redução  de subsídios  e incentivos  fiscais  em  20%  no primeiro  ano  de governo \n",
      "(aproximadamente  R$ 70 bilhões de redução  de despesas); \n",
      "Recriação  de imposto  sobre  lucros  e dividendos  distribuídos  (aproximadamente \n",
      "R$ 70 bi de receitas); \n",
      "Adoção  do  princípio  do  orçamento  base  zero  e exame  detalhado  dos  gastos \n",
      "(ambos auxiliarão  na redução  de despesas  correntes); \n",
      "04 \n"
     ]
    }
   ],
   "source": [
    "print(pdf.pages[5].extract_text())"
   ]
  },
  {
   "cell_type": "markdown",
   "metadata": {
    "id": "X1DSad0O0TEO"
   },
   "source": [
    "O primeiro passo é juntar todo o conteúdo."
   ]
  },
  {
   "cell_type": "code",
   "execution_count": 41,
   "metadata": {
    "id": "MbcC_jWT1BxN"
   },
   "outputs": [
    {
     "data": {
      "text/plain": [
       "pdfplumber.pdf.PDF"
      ]
     },
     "execution_count": 41,
     "metadata": {},
     "output_type": "execute_result"
    }
   ],
   "source": [
    "type(ciro_gomes)"
   ]
  },
  {
   "cell_type": "code",
   "execution_count": 42,
   "metadata": {
    "id": "ISoPQnkK0Y9F"
   },
   "outputs": [
    {
     "data": {
      "text/plain": [
       "'PDT \\nLINHASG ERAIDS O \\n\\'  \" \\nDOP  DTIA   PRESIDENCIA \\n, \\nDAR  EPUBLICEAM 2  022. PDT \\nAqui, apresentamos  as principais  diretrizes \\ndo  Projeto  Nacional  de  Desenvolvimento \\nque Ciro Gomes está apresentando  à socie \\ndade  brasileira.  A  partir  dessa  consulta, \\nserá  elaborado  o  programa  de  governo \\ndefinitivo  com o qual Ciro pretende  escrever \\numa nova história  para o Brasil. \\nPrefir \\niro12 \\nPRESIDENTE PROGRAMA  DE  GOVERNO  DE  CIRO  GOMES  2  O 2  2 \\nO Brasilp  arou \\nde  crescer \\nO Brasil vive um dos momentos  mais graves de sua história. Além das ameaças  constantes \\nà sua democracia,  o país convive há mais de uma década  com uma economia  absoluta \\nmente estagnada  que está fazendo com que a fome e a miséria voltem a ser um problema \\ncrônico - isso no país que é o segundo maior produtor de alimentos  do mundo. \\nHoje, mais  de  31 milhões  de  brasileiros  passam  fome;  125 milhões  não  fazem  as três \\nrefeições  diárias;  104 milhões  vivem  só com 14 reais por dia; 10,6 milhões  estão  desem \\npregados;  mais de 4 milhões  de crianças  de até 3 anos estão  sem creche;  e mais de 66 \\nmilhões  de pessoas  estão  penduradas  no SPC e no Serasa. \\nSó quem não se comove  com a dor do nosso povo, não consegue  enxergar  que é preciso \\nmudar.  E essa  mudança  tem  que começar  pelo modelo  econômico,  adotado  por todos \\nos últimos  governos  que, entre  outros  equívocos,  deixou de acreditar  no setor  produtivo \\ncomo  o motor  do desenvolvimento  do país. Trata-se  de um modelo  que privilegia  o setor \\nfinanceiro  e mina a capacidade  do setor  privado  para investir,  desenvolver  novidades  e \\ncriar empregos. \\nÉ, portanto,  fundamental  recuperar  o crescimento,  a disposição  dos empresários  para \\ninvestir  e dos empreendedores  para inovar e criar novos negócios,  gerando  novos e bons \\nempregos.  Mas sabemos  que será necessário  adotar  um conjunto  adicional  de políticas, \\nque não se restringem  às questões  econômicas,  para que o brasileiro  volte  a ser otimis \\nta, feliz e acredite  que seu futuro  será melhor. \\nÉ por tudo  isso que o país precisa  de um novo Projeto  Nacional  de Desenvolvimento \\n(PND), capaz  de projetar  o país que queremos  nas próximas  décadas  e explicite  o que \\nfaremos  para  chegar  lá.  É este  projeto,  que  vem  sendo  desenhado  com  a  classe \\ntrabalhadora,  empresarial,  industrial,  empreendedora  e outras  organizações  da socie \\ndade civil, que a candidatura  de Ciro Gomes defende  e representa. \\n01 PROGRAMA  DE  GOVERNO  DE  CIRO  GOMES  - 2022 \\nNeste documento,  você encontrará  as diretrizes  gerais desse  programa  de governo. Mas \\nvale lembrar  que a sua versão definitiva  continua  sendo elaborada  e aprimorada  através \\nde  ampla  consulta  aos  mais  diversos  segmentos.  Ou seja,  este  documento  não  se \\nesgota  nos  tópicos  nele  abordados.  Certamente  há  outros  assuntos  relevantes  não \\nabordados  e outros  temas  que ainda  carecem  de maior detalhamento. \\nSeja como  for, esperamos  oferecer,  aqui, uma boa síntese  do que é Projeto  Nacional  de \\nDesenvolvimento,  com  o qual  Ciro Gomes  pretende  tornar  o Brasil um país que volte  a \\ncrescer,  gerando  empregos,  distribuindo  renda  e melhorando  a qualidade  de vida  das \\npessoas.  Enfim, que volte  a ser uma nação  mais próspera  e feliz. \\n02 PROGRAMA  DE  GOVERNO  DE  CIRO  GOMES  2  O 2  2 \\nO Brasilq  ue \\nqueremos \\nQueremos  que o Brasil alcance  indicadores  de desenvolvimento  semelhantes  aos que \\nPortugal  apresentava  em 2020, os quais lhe posicionaram  como o 38º país do mundo  no \\nranking  de \"muito  elevado  desenvolvimento  humano  - o Brasil, segundo  os dados  mais \\nrecentes,  ocupa  a 84ª posição. \\nPara isso, o PND propõe: \\nInvestir em ciência  e desenvolvimento  tecnológico; \\nAumentar  a quantidade  e a qualidade  dos empregos,  reduzindo  a informalidade; \\nMelhorar os serviços  de saúde; \\nReduzir a pobreza e as desigualdades  sociais  - de renda, gênero e raça; \\nOferecer mais segurança  visando  reduzir os índices de criminalidade; \\nAmpliar  o acesso  a serviços  básicos  como  água  limpa  e tratada,  saneamento, \\ntransporte,  moradia  e iluminação,  e também  à cultura  e ao lazer; \\nExpandir o acesso  à comunicação; \\nGarantir  o acesso  e respeito  aos direitos  humanos  a todos  e especialmente  às \\nminorias; \\nReduzir o desmatamento,  a emissão  de gases danosos  à atmosfera  e viabilizar  o \\ncrescimento  econômico  sustentável,  sempre de forma  soberana  em relação aos demais \\npaíses. \\nE, muito  especialmente,  promover  uma verdade  revolução  na educação  pública. \\nTrata-se  de um rol de medidas  extenso,  mas  essencial  para  construirmos  uma  socie \\ndade mais justa  e com melhor qualidade  de vida. \\n03 PROGRAMA  DE  GOVERNO  DE  CIRO  GOMES  2  O 2  2 \\nCrescer  mais e \\ngerar  mais empregos \\n■ \\nO Projeto  Nacional  de  Desenvolvimento  parte  do  princípio  que  é essencial  retomar  o \\ncrescimento  de forma economicamente  sustentável,  o que significa  gerar empregos  e \\ngarantir  a estabilidade  de preços.  Para isso, prevê um pacto  entre  os setores  público  e \\nprivado  em torno  de metas  para o crescimento  econômico  e os objetivos  de desenvolvi \\nmento  sustentável  definidos  pela ONU. \\nDevemos  ter  um Estado  inteligente,  dotado  de ferramentas  tecnológicas  de gestão  e \\nacompanhamento  da execução  de políticas  públicas. \\nEm um  primeiro  momento,  a  retomada  das  obras  de  infraestrutura  logística  e social, \\nincluindo as atualmente  paradas, será essencial  para recuperamos  o crescimento  perdido \\nnas últimas  décadas  e estimularmos  o setor privado a voltar a investir fortemente  no país. \\nAo mesmo  tempo,  o setor  público deverá  recuperar  a sua capacidade  de financiar \\npolíticas  públicas,  incluindo  as relacionadas  com  a educação,  a saúde  e a cultura,  o \\ndesenvolvimento  científico,  tecnológico  e produtivo,  a segurança  pública,  a proteção \\nambiental  e os direitos  humanos  - áreas que foram  deixadas  à mingua  no atual  governo \\ne são fundamentais  ao desenvolvimento  do país. \\nPara financiar  essas políticas  públicas, mantendo  o equilíbrio fiscal e a sustentabili \\ndade das contas  públicas, defendemos  uma ampla  reforma  tributária  e fiscal,  baseada \\nnos seguintes  pontos: \\nRedução  de subsídios  e incentivos  fiscais  em  20%  no primeiro  ano  de governo \\n(aproximadamente  R$ 70 bilhões de redução  de despesas); \\nRecriação  de imposto  sobre  lucros  e dividendos  distribuídos  (aproximadamente \\nR$ 70 bi de receitas); \\nAdoção  do  princípio  do  orçamento  base  zero  e exame  detalhado  dos  gastos \\n(ambos auxiliarão  na redução  de despesas  correntes); \\n04 PROGRAMA  DE  GOVERNO  DE  CIRO  GOMES  - 2022 \\nTaxação  de  grandes  fortunas  (0,5%  sobre  fortunas  acima  de  R$ 20  milhões, \\nalcançando  em torno  de 60 mil contribuintes  e gerando  aproximadamente  RS6 0 bi de \\nreceitas). \\nVamos  alterar  a composição  da carga  tributária  no país, o que  significa,  em termos \\nproporcionais,  uma  redução  da tributação  sobre  a produção/consumo  e a elevação  da \\ntributação  sobre a renda. \\nEm relação aos impostos que oneram  a produção  e o consumo,  propomos  a junção  de \\ncinco  deles (ISS, IPI, ICMS, PIS e Cofins) em um único. \\nTambém  concluiremos  a reforma  da Previdência  a partir  de  três  pilares:  uma  renda \\nbásica  garantida,  uma parte  da renda associada  ao regime  de repartição  e outra  parce \\nla ao de capitalização. \\nAinda  criaremos  um fundo  para investimento  em infraestrutura,  contemplando,  além  do \\nsetor social, as áreas de transportes,  saneamento,  telecomunicações,  energia e logística. \\nDentro da estratégia  de estimular  a retomada  do setor produtivo,  será dada  uma ênfase \\nespecial  a quatro complexos industriais: os do Agronegócio,  do Petróleo, Gás e Deriva \\ndos,  da  Saúde  e da  Defesa,  os  quais  demandam  a  produção  e inovação  em  outros \\nsetores,  como  a  microeletrônica,  a  bioengenharia,  os  softwares  e  a  química  fina  e \\npesada. \\nEsses quatro  complexos  deverão  ser impulsionados  por um conjunto  de políticas  públi \\ncas  que  inclui  estímulos  à pesquisa  e inovação,  financiamentos  específicos,  compras \\npúblicas  e incentivo  às exportações. \\nA pesquisa científica  e tecnológica  voltará  a ter um papel primordial  no crescimento  do \\npaís, com elevação  dos recursos  públicos  destinados  ao setor  e a criação  de estímulos \\npara  desenvolvimento  de tecnologias  em ações  conjuntas  com  empresas  e ao surgi \\nmento  e maturação  de start-ups,  incluindo  mecanismos  específicos  de financiamento. \\nO BNDES exercerá  novamente  um papel importante  no financiamento  ao desenvolvi \\nmento,  além de permanecer  atuando  como  escritório  estruturador  de projetos. \\n05 PROGRAMA  DE  GOVERNO  DE  CIRO  GOMES  - 2022 \\nEm relação à inflação, o Banco Central deverá continuar  atuando  com autonomia  opera \\ncional  dentro  de  um  regime  de  metas,  que  deverá  buscar  a menor  inflação  e o pleno \\nemprego, a exemplo do Banco Central americano. \\nJá as agências reguladoras permanecerão  sob o modelo atual, mas o critério  de escolha \\nde toda a sua diretoria  deverá ser estritamente  técnico. \\nO elevado  endividamento  privado de famílias  e empresas  deverá  ser renegociado, \\ncom  taxas  de juros  menores  e prazos  mais  longos  de pagamento  (incluindo  as dívidas \\ncom o FIES),c om programa  a ser iniciado  pelos bancos  públicos,  ao qual poderão  aderir \\nos bancos  privados.  Deverão ser disseminados  programas  de educação  financeira. \\nVamos  redigir  um novo Código  Brasileiro  do Trabalho  (CBTJ,q ue abranja  as melhores  e \\nmais  modernas  práticas  de proteção  internacionais  e as Convenções  da Organização \\nInternacional  do Trabalho  (OIT). \\nTambém  regulamentaremos  e asseguraremos  direitos para trabalhadores  intermedia \\ndos por aplicativos,  estabelecendo  patamares  de higiene, segurança  e de ganhos  com \\npatíveis  com o Princípio da Dignidade  de Pessoa Humana, conforme  garante  nossa Con \\nstituição. \\nAs negociações  comerciais  e diplomáticas  seguirão  dois princípios  essenciais:  a defesa \\ndos interesses  nacionais  e da soberania  do país. \\nCom este  conjunto  de  medidas  e a criação  do  Plano Emergencial  de  Pleno  Emprego, \\norientado  às obras de infraestrutura,  esperamos  gerar 5 milhões  de empregos  nos dois \\nprimeiros  anos de governo. \\n06 PROGRAMA  DE  GOVERNO  DE  CIRO  GOMES  2  O 2  2 \\nA agenda  ambiental \\nque  propomos \\nO crescimento  do Brasil passa necessariamente  por uma agenda  ambiental  clara, capaz \\nde provar que a floresta  em pé vale muito  mais que um campo  desmatado.  É essencial \\nrealizarmos  de  forma  imediata  um  zoneamento  econômico  e ecológico  no  país,  em \\nespecial  na região amazônica  para defendermos  nossos ecossistemas. \\nUma estratégia  de desenvolvimento  regional,  associada  à maior  segurança  fundiária, \\npode  contribuir  muito  para  a redução  do desmatamento.  Trata-se  de uma  estratégia \\nque mostrará  como  é possível conciliar  e integrar  a lavoura, a pecuária  e a floresta. \\nSerá necessário envolver a população  local em atividades  econômicas  que sejam rentáveis \\ne sustentáveis  a eles, mas que excluam a derrubada  da floresta. \\nA pesquisa  científica  e tecnológica,  realizada  pelos  próprios  órgãos  de  pesquisa  da \\nAmazônia,  encontrará  novos produtos  e formas  de produção,  os quais serão essenciais \\npara preservar  a floresta,  possibilitar  o seu manejo  sustentável  e garantir  a realização  de \\natividades  econômicas  à população  local. \\n07 PROGRAMA  DE  GOVERNO  DE  CIRO  GOMES  2  O 2  2 \\nUma nova Petrobras \\ne um forte estímulo \\nao uso de fontes \\nde energias baratas \\ne sustentáveis \\nUma das  nossas  prioridades  será mudar  a política  de preços  da Petrobras,  que hoje só \\nbeneficia  os importadores  e acionistas,  mas prejudica  toda  a sociedade  brasileira,  dado \\nseu impacto  sobre a inflação. \\nOutra  meta  fundamental  será recuperar  e ampliar  a capacidade  das  suas  refinarias,  o \\nque nos tornará  autossuficientes  não só na produção  de petróleo,  mas também  na sua \\ntransformação  em combustíveis  e outros  derivados. \\nPor fim,  queremos  iniciar  o processo  que  transformará  a Petrobras  numa  empresa  de \\nponta  no desenvolvimento  de novas  fontes  de energia,  pois  entendemos  que  o Brasil \\ntem  uma oportunidade  de ouro para usar seus recursos  naturais  e desenvolver  energia \\nboa, barata  e progressivamente  limpa. \\nNesse contexto,  deveremos  desenvolver  várias  formas  de energia  limpa,  como  a eólica \\n(on-shore  e off-shore),  a solar e a baseada  na produção  de hidrogênio  verde. \\nVamos também  utilizar  a energia  hidroelétrica  como  fonte  de reserva  para picos de con \\nsumo de energia.  Com isso, evitaremos  a elevação  tarifária  em momentos  de escassez, \\ncomo  ocorre  atualmente,  quando  termoelétricas,  mais  caras  e poluidoras,  são aciona \\ndas para atender  a demanda  contratada. \\nO setor privado deverá atuar intensamente  nestes mercados  de geração e comercialização \\n08 PROGRAMA  DE  GOVERNO  DE  CIRO  GOMES  - 2022 \\ndas diversas  novas fontes  de energia, a partir  de um planejamento  das necessidades  e \\nda oferta  energética  no Brasil. \\nTemos todos  os recursos  naturais  necessários  para fazer a transição  e a conversão  para \\nenergia limpa a um custo  baixo e também  buscaremos,  até 2030, eliminar  o uso da ener \\ngia termoelétrica,  que contribui  para a emissão  de gases  prejudiciais  na atmosfera.  A \\nmeta  é alcançar  uma matriz  energética  100% limpa. \\n09 PROGRAMA  DE  GOVERNO  DE  CIRO  GOMES  2  O 2  2 \\nVamos colocar a \\neducação  pública \\ndo Brasile  ntre as \\nmelhoresd  o mundo \\nA grande  meta  e missão  do Projeto  Nacional  de Desenvolvimento  não é exclusivamente \\ncolocar  a economia  de pé, mas sim toda a nação de pé. Por isso, ele vai convergir  para dar \\nsuporte  ao mais revolucionário programa de educação  pública da história brasileira. \\nCiro já ajudou  a provar que um estado  pobre, como o Ceará, pode ter a melhor educação \\npública  do país. Agora, com o PND, ele quer ajudar  a provar que o Brasil também  pode, no \\nmédio e longo prazo, ter um dos melhores  sistemas  de educação  pública  do mundo. \\nA meta  é colocar  a educação  brasileira entre as dez melhores do mundo no espaço de \\n15 anos. \\nPara isso, temos  que  envolver  toda  a sociedade  neste  esforço,  cabendo  ao governo \\nfederal  liderar  e articular,  junto  com  governadores  e prefeitos,  um  corpo  técnico  de \\nexcelência,  conteúdo  teórico  de qualidade,  novas  formas  de financiamento  e uso de \\nnovas tecnologias  de ensino. \\nNesse esforço,  será essencial  aprimorar  o modelo  pedagógico  adotado  para crianças  e \\nadolescentes,  que precisam  usufruir  de um aprendizado  contextualizado  à realidade  em \\nque vivem. \\nPara isso, é necessário  adotar  um amplo  programa  de formação  e capacitação  de pro \\nfessores.  E, ao mesmo  tempo,  criar  uma estrutura  de incentivos  para que os estados  e \\nmunicípios,  no  âmbito  do  pacto  federativo,  adotem  práticas  didáticas  e  de  gestão \\nbem-sucedidas.  Entre elas, destacamos  as seguintes: \\n10 PROGRAMA  DE  GOVERNO  DE  CIRO  GOMES  - 2022 \\nA adoção  do Programa  de Alfabetização  na Idade Certa; \\nA definição  de metas  de aprendizagem  em cada  ciclo  de ensino; \\nO reconhecimento  e a qualificação  contínua  de professores  e gestores  escolares, \\ne a adoção  do processo  seletivo,  através  de concurso  público,  para ambos; \\nA criação  de incentivos  financeiros  para  as escolas  que alcançam  bom desem \\npenho, bem como  para seus professores,  além da prática  de bons salários; \\nO monitoramento  das escolas  que apresentam  pior desempenho  por aquelas  que \\napresentam  melhores  resultados, \\nO uso efetivo  das avaliações  de aprendizagem,  de acompanhamento  escolar  e do \\nambiente  familiar,  incluindo  a busca  ativa  pelos alunos  faltosos  e aulas de reforço; \\nO desenvolvimento  de competências  socioemocionais  e atividades  de cultura  e \\nlazer; \\nA constante  valorização  e capacitação  não só dos professores,  mas também  dos \\ndiretores  escolares  e outros  profissionais  da educação. \\nPartindo  dessas  premissas,  o Ensino Fundamental  deve  ser progressivamente  integral \\nao longo dos próximos  quatro  anos, com ênfase  imediata  na eliminação  do atraso  esco \\nlar provocado  pela pandemia. \\nO bem-sucedido  programa  cearense  \"Mais Primeira Infância\"  deverá ser disseminado  em \\ntodo o país, incluindo  atividades  de saúde, educação,  assistência  social, lazer e esporte. \\nTambém  deverá  ser disseminado  o Ensino Médio profissionalizante  em tempo  integral, \\ncom  o suporte  técnico  e administrativo  do governo  federal  para a sua implementação. \\nNesse sentido,  será adotado  o modelo  \"Minha escola,  meu emprego,  meu negócio\",  que, \\nalém  de ensino  profissionalizante,  oferece  aos seus alunos  estágios  remunerados  pelo \\ngoverno. \\n11 PROGRAMA  DE  GOVERNO  DE  CIRO  GOMES  2  O 2  2 \\nUm salto na \\nqualidade  da  saúde \\nA qualidade  da  saúde  pública  brasileira,  cujo  acesso  gratuito  e universal  é garantido \\npela Constituição,  já era um grave  problema  antes  da pandemia  e tornou-se  mais grave \\ndepois  dela.  O  resgate  e  a  reconstrução  do  SUS, que  vem  sendo  sumariamente \\ndesestruturado  pelo governo  federal,  é primordial  e será uma das  primeiras  medidas  a \\nserem adotadas  por nosso governo. \\nSerá  necessário  estruturar  uma  central  permanente  de  regulação  e firmar  parcerias \\ncom  a rede privada  para  reduzir, em um ano, a grande  fila de atendimentos  a todo  tipo \\nde demandas  (consultas,  diagnósticos  por meio de exames,  cirurgias). \\nVamos  revigorar  o Programa  Nacional  de  Imunizações,  com  a  retomada  de  grandes \\ncampanhas  de vacinação. \\nO fluxo  do atendimento,  na direção  do primário  para o especializado,  também  deve ser \\naprimorado.  Para isso, estimularemos  estados  e municípios  a adotar  ações  integradas, \\nem  especial  na gestão  da  rede  básica,  das  policlínicas  e do  atendimento  hospitalar \\nespecializado  e de alta  complexidade. \\nA chamada  atenção  primária,  que  inclui  a orientação,  a prevenção  e os atendimentos \\nbásicos  de saúde,  precisa  ser refortalecida  e modernizada,  com  o suporte  dos núcleos \\nde  apoio  à saúde  da  família,  e sua  integração  com  outros  estágios  do  atendimento \\nmédico,  incluindo  as unidades  básicas  de saúde. \\nAs policlínicas  devem  ser um centro  de referência  especializado  para  a realização  de \\nconsultas  e de exames  para  diagnósticos,  e os médicos  especialistas  que nela atuam \\ntambém  deverão  realizar a atividade  de qualificação  e supervisão  dos profissionais  que \\nrealizam  a atenção  básica. \\n12 PROGRAMA  DE  GOVERNO  DE  CIRO  GOMES  - 2022 \\nJá  os  centros  de  referência  especializados  e  o  atendimento  de  alta  complexidade \\ndeverão  estar  fortemente  integrados  ao atendimento  prévio em policlínicas.  Para propi \\nciar essa integração,  deve ser instituído  o registro  eletrônico  da saúde. Da mesma  forma \\nque  na educação,  unidades  com  bom  desempenho  deverão  monitorar  e auxiliar  as de \\ndesempenho  inferior. \\nVamos  retomar  a  produção  de  medicamentos  que  atualmente  são  importados, \\ncomeçando  por aqueles  cuja patente  está vencida;  vamos  também  retomar  a produção \\ndos  insumos  farmacêuticos  no país  e estimular  a pesquisa  de  novos  medicamentos, \\naproveitando  nossa  rica biodiversidade. \\nÉ também  urgente  a  retomada  do  programa  Farmácia  Popular,  que  possibilitava  o \\nacesso  dos menos favorecidos  a medicamentos  antes  de ser extinto  pelo atual  governo. \\nAdicionalmente,  como  nossa  população  está  envelhecendo,  devemos  criar  uma política \\norientada  aos cuidados  com os idosos. \\nEm função  da pandemia  e da situação  econômica  e política  vivenciada  no país, a saúde \\nmental  dos brasileiros  está  se debilitando;  estima-se  que 30%  da população  brasileira \\nesteja  sofrendo  algum  distúrbio  de origem  nervosa. Será necessário  um programa  espe \\ncial  de  auxílio,  tratamento  e acompanhamento  para  as  pessoas  que  estão  sofrendo \\nestes  distúrbios. \\nVamos  também  valorizar  a classe  médica,  que  tem  salvado  muitas  vidas  no país, em \\nespecial  durante  a pandemia.  Vamos discutir,  no âmbito  do SUS, a estrutura  da carreira \\nde médicos,  mecanismos  de atratividade,  qualificação,  reconhecimento  e estímulo  ao \\nbom desempenho,  com  cobrança  de resultados.  E, simultaneamente,  vamos  reforçar  e \\naprimorar  a formação  dos médicos  e clínicos  gerais. \\n13 PROGRAMA  DE  GOVERNO  DE  CIRO  GOMES  2  O 2  2 \\nCombate  ao \\ndesemprego! \\nà \\npobreza! \\nà \\ndesigualdade \\nà \\ne  fome \\nO desemprego,  a pobreza e a fome aumentaram  de forma  trágica  no Brasil em função  de \\num modelo  econômico  que, baseado  na concentração  de renda, é seguido  há décadas. \\nO PND irá deflagrar  um conjunto  de ações  para gerar  crédito,  renda  e emprego  no mais \\ncurto  prazo e, simultaneamente,  reduzir  a pobreza  e a fome.  Entre as principais  ações, \\ndestacamos  as seguintes: \\nCrédito popular - Vamos  refinanciar  as dívidas  das  famílias  e das  empresas,  de forma \\nque possam  reestabelecer  o crédito  e ajudar  na engrenagem  da economia.  Levando em \\nconta  que a dívida  médias  das pessoas  é de RS 4,2 mil reais - quantia  que a maioria  não \\ntem como  pagar- a proposta  do PND é estimular  os credores  a dar um desconto  de 70%, \\nreduzindo  essa  dívida  média  pra cerca  de R$ 1.400. Esse valor  seria  então  financiado \\npela Caixa Econômica  e o Banco do Brasil em 36 vezes e três anos de carência.  Um pro \\ngrama  nos mesmos  moldes  também  ajudaria  as mais de seis milhões  de empresas  que \\nestão  com o nome no Serasa. \\nPrograma de Renda Mínima - Vamos implantar  o programa  de Renda Mínima Universal, \\nque daremos  o nome de Eduardo Suplicy, englobando  os pagamentos  feitos  pelo Auxílio \\nBrasil, o Seguro Desemprego  e a Aposentadoria  Rural. Essa medida,  associada  aos pro \\ngramas  de geração  de emprego  e renda, será decisiva  para combater  a fome  e a miséria \\nno país. Além disso, os centros  de referência  de assistência  social  deverão  acompanhar \\na condição  de vida destas  famílias,  indicando  alternativas  para a obtenção  de emprego \\n14 PROGRAMA  DE  GOVERNO  DE  CIRO  GOMES  - 2022 \\ne acesso  a serviços  de saúde  e educação. \\nO Cadastro  Único, importante  instrumento  desse  processo,  deverá  ser constantemente \\naperfeiçoado,  bem como deverá  ser estruturado  um mapa  da pobreza georreferenciado. \\nOutras  medidas  adicionais  serão adotadas  para superar  a pobreza  e a fome.  Entre elas, \\na retomada  dos estoques  reguladores  de alimentos,  que amenizam  as altas  de preços  e \\nvêm sendo desmontados  nos últimos  anos. Também  possibilitaremos  o acesso  a gás de \\ncozinha  pela metade  do preço hoje praticado  para famílias  que recebam  até dois salári \\nos-mínimos. \\nPlano Emergencial de Empregos - Como já falado  anteriormente,  o PND planeja  gerar 5 \\nmilhões  de vagas já nos dois primeiros  anos de governo. A ideia é ampliar  os investimen \\ntos públicos  e dar um novo impulso à construção  civil. Para isso, serão retomadas  obras \\njá licitadas  que foram  paralisadas  ou não iniciadas  - cerca  de 14 mil em todo  o Brasil -, \\nespecialmente  as de habitação,  saneamento,  transporte  público  e mobilidade  urbana, \\nque geram  emprego  e renda mais rapidamente  e impactam  diretamente  a qualidade  de \\nvida da população. \\nSaneamento  e acesso à água potável - A meta  é universalizar  o acesso  até  2030, por \\nmeio da combinação  entre  investimento  privado  e público  e da coordenação  do governo \\nfederal  na montagem  dos blocos  que incluam  regiões  ricas e pobres, resultando  na cor \\nreta prática  do chamado  subsídio  cruzado. \\nReforma urbana e regularização  fundiária  - Implementaremos  um amplo  programa  de \\nregularização  fundiária  para  garantir  a escritura  da casa  e do terreno  para  quem  hoje \\nvive  com  medo  do amanhã.  Outro  programa,  complementar,  irá financiar  a reforma  de \\nmoradias  populares,  preferencialmente  com  contratação  de  mão-de-obra  da  própria \\nfamília  ou da comunidade. \\n15 PROGRAMA  DE  GOVERNO  DE  CIRO  GOMES  2  O 2  2 \\nUm plano  para \\ncombater  a  corrupção \\nA corrupção  representa  um  dos  males  mais  nocivos  e resilientes  à democracia  e ao \\ndesenvolvimento  econômico  e social. \\nA corrupção  que  conhecemos  no  Brasil,  bem  entendida,  não  é apenas  o desvio  de \\ndinheiro  público  para  fins  privados.  É, sobretudo,  uma aliança  entre  parcelas  das elites \\neconômicas  e  políticas  para  sua  própria  proteção  e  perpetuação  como  centros  de \\ninfluência  determinante  sobre as decisões  coletivas  mais importantes  do país. \\nA  forma  de  combate  necessária  a  esse  tipo  de  corrupção  é  uma  ação  coletiva  e \\ninstitucional.  E precisa  ser uma ação republicana  conjunta  e harmônica  dos Três Poderes. \\nPortanto,  será  necessária  ampla  política  de combate  à corrupção  no país e alguns  de \\nseus principais  pontos,  que não se esgotam  na relação  a seguir, serão: \\nNo âmbito  da organização  jurídico-institucional,  a extinção  das hipóteses  de foro \\nespecial  por  prerrogativa  de  função  (\"foro  privilegiado\"),  à  exceção  dos  chefes  de \\npoderes,  no âmbito  federal,  estadual  e municipal; \\nA autorização  legal da pena de prisão a partir da condenação  em segunda  instância; \\nA criminalização  do enriquecimento  sem causa  de agentes  públicos  e políticos; \\nA abertura  completa  do sigilo bancário  e fiscal  de ocupantes  de cargos  de primei-\\nro e segundo  escalão  no Poder Executivo. \\nNo âmbito  da organização  econômica  e empresarial,  deverá ser rigorosamente  aplicado  o \\n\"capitalismo  aos  capitalistas\",  com  fomento  radical  à competição  e desconcentração \\neconômica  e fortalecimento  de ações  antitruste  para enfrentamento  ativo de oligopólios. \\nNo âmbito  partidário,  haverá transparência  máxima  de contas  partidárias  perante  o TSE \\n(em portal  aberto  na internet  e formato  pesquisável),  com  exigências  de padronização, \\n16 PROGRAMA  DE  GOVERNO  DE  CIRO  GOMES  - 2022 \\ndetalhamento  de destino  e origem  de despesas  e auditoria  contábil  independente,  e a \\nresponsabilização  administrativa,  civil  e eleitoral  para  utilização  de  \"Caixa  2\" e crimi \\nnalização  de condutas  de indivíduos  envolvidos  com essa prática \\nNo âmbito  da organização  do Estado  e da participação  da sociedade  civil  na gestão \\npública,  deverão  ser  ampliadas,  em  benefício  do  cidadão  comum  e do  pequeno  e \\nmédio  empresário,  as  iniciativas  de  ampla  desburocratização  e  digitalização  dos \\nserviços  do Governo  Federal,  a estruturação  de  bancos  de dados  abertos,  o investi \\nmento  na  interoperabilidade  dos  sistemas  do  governo  federal,  na  automação  em \\nsetores  como  o de compras  públicas  e em tecnologias  de segurança  da informação, \\ninclusive  blockchain,  sobretudo  nos órgãos  e entidades  mais  suscetíveis  a fraudes  e \\ndesvios. \\nSerão obrigatórios  os processos  seletivos  baseados  em competências  para  ocupação \\ndos cargos  e funções  de liderança  até o nível equivalente  ao de Diretor (antigo  DAS 101.5) \\ne será proposta  uma \"Lei de Qualidade  do Gasto\", em substituição  à Lei 4.320/1964, para \\na estruturação  do orçamento  ao redor  de programas  e projetos  e estabelecimento  de \\nnovo modelo  de planejamento  orçamentário  focado  na qualidade  do gasto  público  e na \\ntransparência. \\nA segurança jurídica é essencial  para as decisões  de investimento  por parte das empresas. \\nPara  além  da  corrupção,  serão  adotadas  medidas  que  tornem  estável  e  previsível  o \\narcabouço jurídico contratual,  bem como a agilidade  na arbitragem  e resolução de conflitos. \\n17 PROGRAMA  DE  GOVERNO  DE  CIRO  GOMES  2  O 2  2 \\nAs pessoas \\nprecisam viver com \\n■  ■ \\npaz e segurança \\nO crescimento  econômico  pode contribuir  para a redução  da criminalidade,  mas certa \\nmente  é insuficiente.  Por isso, uma  série  de políticas  e ações  serão  necessárias  para \\nmelhorar  a segurança  da população  e, consequentemente,  a qualidade  de vida das pes \\nsoas e a atratividade  de negócios  e turismo.  A segurança  pública  é um direito  funda \\nmental  da sociedade. \\nDestacamos  aqui  algumas  diretrizes  importantes  que devem  ser implementadas  para \\nmelhorar  a segurança  pública  no país, de forma  a reduzir  a violência,  os roubos  e os \\nassassinatos  e, simultaneamente,  combater  o crime organizado.  As sugestões  do Fórum \\nBrasileiro de Segurança  Pública constituíram  um importante  subsídio  para o rol de medi \\ndas propostas. \\nÉ imprescindível  a implantação  do Sistema  Único de Segurança  Pública, previsto  na Lei \\n13.675/2018, bem  como  a  atuação  conjunta  e articulada  das  diversas  agências  que \\ncuidam  da segurança  pública  no país, em todas  as esferas  de governo, incluindo  o com \\npartilhamento  de informações  e coordenação  de ações. A implantação  dessa  forma  de \\natuação  é urgente  na região Amazônica,  por exemplo. \\nO combate  à criminalidade,  e principalmente  ao crime  organizado,  deve incluir o uso de \\ntecnologias  avançadas  de  gestão  do  conhecimento,  informação,  comunicação  e \\nrastreamento,  incluindo  o  referente  às  armas  e  munições,  cuja  expansão  e  uso  se \\nencontram  fora de controle.  É fundamental  que o crime  organizado  seja combatido  por \\nmeio da investigação  de suas operações  financeiras  e da lavagem  de dinheiro. \\nCertamente  precisamos  de profissionais  qualificados  e estimulados  para o desempenho \\nde suas atividades  e, portanto,  é necessário  reestruturar  as carreiras  policiais, valorizando \\ne reconhecendo  o desempenho  do  profissional  que  atua  diretamente  no combate  ao \\ncrime e em contato  com a população.  Os programas  de qualificação  devem ser aprimora-\\n18 PROGRAMA  DE  GOVERNO  DE  CIRO  GOMES  - 2022 \\ndos  e disseminados,  bem  como  devem  ser implementados  programas  de  atenção  à \\nsaúde biopsicossocial  dos profissionais  de segurança  pública. \\nO planejamento  da distribuição  do policiamento  ostensivo  deve seguir o mapeamento \\ndas regiões onde há maior ocorrência  de situações  violentas  e insegurança,  de forma a \\nprivilegiar  as populações  mais vulneráveis,  e ser feito  em articulação  entre as polícias. \\nA política sobre drogas deve ser redesenhada,  partindo  de uma abordagem  intersetorial \\nde redução  de riscos  e danos  que esteja  articulada  com justiça,  saúde  e assistência \\nsocial. A gestão  prisional deve ser aprimorada,  de modo a elevar o percentual  da popu \\nlação carcerária  que venha a se ressocializar. \\nA política  de prevenção  aos crimes  deve dedicar  atenção  especial  à segurança  das \\nmulheres,  bem como da juventude  negra e da população  LGBTQIA+d e forma  a enfren \\ntar a discriminação  e o racismo  estrutural. \\nDeve-se  implementar  a  Lei 14.330/2022, que  inclui  o Plano  Nacional  de  Prevenção  e \\nEnfrentamento  à Violência contra  a Mulher na Política Nacional de Segurança  Pública e \\nDefesa  Social  e  fortalecer  a  integração  entre  a  rede  de  acolhimento,  as  Polícias, \\nMinistérios  Públicos, Defensorias  Públicas, Poder Judiciário  e sociedade  civil. \\nDeve-se também  fortalecer  os programas  de proteção  social que atuem  na direção  da \\nredução da vulnerabilidade  social de crianças  e adolescentes  e o Programa de Proteção \\na Crianças e Adolescentes  Ameaçados  de Morte (PPCAAMJ. \\n19 PROGRAMA  DE  GOVERNO  DE  CIRO  GOMES  2  O 2  2 \\nDevemost ambém \\ngarantir a  igualdade \\nde direitosa   todos \\nos brasileiros \\nDevemos garantir  igualdade  de direitos,  liberdade  e acesso  a políticas  públicas  de todos \\nos grupos sociais. Em um país desigual  como o nosso, desenhar  políticas  com esse intui \\nto direcionadas  aos grupos  que mais sofrem  discriminação  na sociedade  é fundamen \\ntal.  Não podemos  pensar  em  um  projeto  nacional  de  desenvolvimento  sem  incluir  a \\nemancipação  social  destes  grupos  na população  brasileira,  em  pé de igualdade  com \\naqueles  que não são discriminados.  A seguir descrevemos  algumas  medidas,  dentre  as \\ninúmeras  que serão adotadas,  para ajudarão  a eliminar  a discriminação  a estes  grupos \\ne garantir  os mesmos  direitos  a todos. \\nMulheres-Em  relação às mulheres, precisamos  fortalecer  programas,  criar e fazer cum \\nprir leis que facilitem  a sua inserção  no mercado  de trabalho  em condições  de igualdade \\naos  homens,  incluindo  acesso  a vagas  de direção  e salários  equivalentes,  bem  como \\ncondições  para  poder  exercer  suas  atividades  profissionais  (por exemplo,  elevando  o \\nnúmero  de vagas  em  creches)  e garantam  a sua  proteção  contra  todos  os tipos  de \\nviolência.  O primeiro exemplo que daremos  é a equiparação  quantitativa  entre homens e \\nmulheres  na ocupação  de cargos  de direção  na administração  pública  federal. Também \\nserão implantados  programas  de microcrédito  específicos  para a população  feminina  e \\nprogramas  informativos  de prevenção  à gravidez,  dentre  outras  medidas. \\nPopulação  negra - Em relação  à população  negra, a ação  mais urgente  é o acesso  às \\nuniversidades  públicas  e às  vagas  nos  concursos  públicos,  mais  especificamente  o \\nsistema  de cotas,  cuja  prorrogação  deverá  ser avaliada  este  ano. Também  deveremos \\ncriar políticas  afirmativas  em relação  às compras  públicas  de empresas  de empreende \\ndores negros, bem como  linhas de crédito  específicas.  Deverá ser garantida  uma deter-\\n20 PROGRAMA  DE  GOVERNO  DE  CIRO  GOMES  - 2022 \\nminada  participação  no fomento  oriundo  da  Lei Rouanet,  bem  como  na ocupação  de \\ncargos  temporários  e comissionados  na administração  pública,  dentre  outras  medidas. \\nDiversidade-Em  relação  à população  LGBTQIA+,c riaremos  o Comitê  Nacional  de Políti \\ncas  Públicas  LGBTI+ com  representantes  estaduais,  assim  como  uma  Secretaria \\nNacional  de Políticas  Públicas  para a Cidadania  da população  LGBTI+ que efetivamente \\nimplemente  o Plano  Nacional  de  Promoção  da  Cidadania  e Direitos  Humanos  LGBTI+, \\nincluindo  o amparo  à seguridade  de trabalho,  emprego  e renda  e a implementação  de \\nações  afirmativas  de combate  à discriminação  institucional  de empresas  e no ambiente \\nde trabalho. \\nIndígenas - Em relação  à população  indígena,  urge que as reservas  territoriais  destina \\ndas à sua população  sejam  respeitadas,  preservadas  e não sejam  exploradas  de forma \\nilegal  por outros  grupos  étnicos.  A cultura  indígena  deve  ser preservada,  bem como  as \\natividades  produtivas  que eles realizam  para  seu sustento.  Também  é necessário  que \\nmédicos  sejam  capacitados  para o atendimento  das enfermidades  indígenas  e cuidem \\nespecificamente  da saúde  desta  população,  dentre  outras  medidas. \\nPessoas com deficiência - Em relação  às pessoas  com deficiência,  deveremos  melhorar \\na acessibilidade  nos  espaços  públicos  e estimular  que  o mesmo  ocorra  nos  espaços \\nprivados,  o que é fundamental  para  garantir  o direito  de ir e vir. Os eventos  e produtos \\naudiovisuais  deverão  prever a descrição  de fotos,  tradução  para libras e audiodescrição. \\nO auxílio  inclusão  deverá  ser  também  pago  não  apenas  às  pessoas  com  deficiência \\ninabilitadas  para  o trabalho,  mas  também  àquelas  que obtenham  uma  ocupação  com \\nremuneração  insuficiente.  Vamos  fortalecer  a Secretaria  Nacional  da Pessoa com  Defi \\nciência  e apoiar  o PL 795/2022, que cria a Instituição  Nacional  dos Direitos  das Pessoas \\ncom Deficiência,  dentre  outras  medidas. \\n21 PROGRAMA  DE  GOVERNO  DE  CIRO  GOMES  2  O 2  2 \\nA cultura como \\nafirmação  da \\nidentidade  nacional \\nA cultura  é muito  importante  no nosso Projeto  Nacional  de Desenvolvimento,  porque \\nnela se afirma  a identidade  nacional,  hoje gravemente  ameaçada,  não só por hábitos  de \\nconsumo,  mas também  por uma estética  internacional  que tem  repercussões  práticas \\nnos desejos,  hábitos  de consumo  e na própria felicidade  das pessoas. \\nNão se trata  de isolar o país em relação  a outras  culturas,  muito  pelo contrário,  pois a \\ninteração  com elas sempre  foi e será fundamental;  mas de fortalecer  a cultura  local e a \\nautoestima  de nosso povo em relação  a sua história,  tradições  e hábitos  sociais. \\nO estímulo  à cultura  deverá propiciar  ao Brasil se reconhecer  na sua diversidade  regional, \\nnas suas  diversas  expressões  tradicionais  e históricas  e na valorização  do patrimônio \\nhistórico.  Mas  também  nas  novas  estéticas,  no experimentalismo  de  vanguarda,  de \\nnovas linguagens,  passando  pela culinária,  hábitos  alimentares,  artesanato,  artes  cêni \\ncas,  artes  plásticas,  cinema,  audiovisual  e a música,  naturalmente  compreendendo \\nnosso lugar no planeta. \\nIremos investir  na democratização  do acesso, na fruição  e na expansão  do consumo  de \\nbens e serviços  culturais,  por meio de políticas  que ampliem  e popularizem  o acesso  à \\ncultura  e ao lazer, criando  espaços  de fomento,  desenvolvimento  e interação;  estimu \\nlaremos  as manifestações  culturais  que propiciam  a inclusão  social e a cultura  periféri \\nca de rua, como  as danças,  grafites  e slams;  estimularemos  as diversas  atividades  da \\nchamada  economia  criativa,  que vem se constituindo  em um importante  ramo da ativi \\ndade  econômica  e de  criação  de  empregos  para  os jovens  em  atividades  que  con \\ntribuem  para a melhoria  de seu bem-estar. \\nA exemplo do que já vem sendo feito  na Europa, vamos  regular os serviços  de streaming \\nde forma  a garantir  o investimento  obrigatório  na produção  local independente  e visibili \\ndade a esses conteúdos  nas plataformas. \\n22 PROGRAMA  DE  GOVERNO  DE  CIRO  GOMES  - 2022 \\nTambém apoiaremos  start-ups  de conteúdo  digital,  que atuem  em todas  as redes soci \\nais e de forma  transmidiática. \\nRecriaremos  o Mine,  elevando  o orçamento  para  cultura  e arte,  enquanto  a ANCINE \\ndeverá  atuar  como  regulador  do  mercado  audiovisual  brasileiro  e não  apenas  como \\nórgão fomentador  para a respectiva  indústria. \\nO PND também  leva em conta  que, na sociedade  moderna,  o acesso  à celulares  e wi-fi \\nde qualidade  é um fator  que determina  o acesso  à cultura,  à informação  e ao trabalho. \\nPor isso, o projeto  prevê a criação  do programa  Internet  do Povo, que financiará  a compra \\nde smartphones  em 36 vezes  sem juros  para os mais  vulneráveis  e a implantação  de \\nredes gratuitas  de wi-fi em áreas comunitárias.  O programa  também  contempla  a oferta \\ngratuita  de cursos  de capacitação  em informática  e de formação  em games. \\nDefesa  dos  animais  - Também  iremos  implementar  os  dispositivos  contidos  na  Lei \\n1095/2019, que cria regras específicas  de proteção  aos animais,  e debater  e implemen \\ntar uma política  nacional  para tratar  do tema. \\n23 PROGRAMA  DE  GOVERNO  DE  CIRO  GOMES  2  O 2  2 \\nComo implementar \\neste amplo \\nProjetoN  acional de \\nDesenvolvimento? \\nAs  propostas  aqui  apresentadas  são  inúmeras  e requerem  ampla  negociação  com  a \\nsociedade  para sua aprovação.  Por isso, Ciro Gomes irá propor a redefinição  de um amplo \\npacto  federativo,  buscando  o apoio  de  governadores  e prefeitos  para  encaminhar  as \\nnegociações  com o Congresso, e o fim da reeleição  para eliminar  possíveis  empecilhos  à \\naprovação  das  reformas  e medidas  necessárias.  As reformas  mais  amplas  deverão  ser \\nrealizadas  nos seis primeiros  meses  de governo. Persistindo  o impasse  na relação  com o \\nLegislativo,  elas deverão  ser submetidas  à aprovação  popular através  de plebiscitos. \\nEm meados  do governo,  deverá  ser realizada  extensa  avaliação  de sua  atuação,  com \\nmecanismos  de participação  popular,  em que todos  os aspectos  da formulação,  imple \\nmentação  e gestão  das  políticas  que não forem  avaliados  como  satisfatórios  deverão \\nser alvo de revisão. \\n24 '"
      ]
     },
     "execution_count": 42,
     "metadata": {},
     "output_type": "execute_result"
    }
   ],
   "source": [
    "conteudo=''\n",
    "for item in pdf.pages:\n",
    "  conteudo=conteudo+item.extract_text()\n",
    "\n",
    "conteudo\n",
    "\n"
   ]
  },
  {
   "cell_type": "markdown",
   "metadata": {
    "id": "5cDeYrty1qzt"
   },
   "source": [
    "Pipeline: lower case, retirar pontuacao, tokenize, retirar stopwords"
   ]
  },
  {
   "cell_type": "code",
   "execution_count": 43,
   "metadata": {
    "id": "dWkClDnZ2AJ8"
   },
   "outputs": [],
   "source": [
    "# lowercase\n",
    "conteudo = conteudo.lower()"
   ]
  },
  {
   "cell_type": "code",
   "execution_count": 44,
   "metadata": {
    "id": "X9Xk4oi42F5U"
   },
   "outputs": [],
   "source": [
    "# retirar pontuacao\n",
    "conteudo = re.sub(r'[^\\w\\s]',' ', conteudo)"
   ]
  },
  {
   "cell_type": "code",
   "execution_count": 45,
   "metadata": {
    "id": "fbSwhp6E3r9O"
   },
   "outputs": [],
   "source": [
    "# tokenizar\n",
    "conteudo = re.findall(r'\\w+',conteudo)"
   ]
  },
  {
   "cell_type": "code",
   "execution_count": 46,
   "metadata": {
    "id": "hTMJ-Ivw4XIG"
   },
   "outputs": [
    {
     "data": {
      "text/plain": [
       "['pdt',\n",
       " 'linhasg',\n",
       " 'eraids',\n",
       " 'dop',\n",
       " 'dtia',\n",
       " 'presidencia',\n",
       " 'dar',\n",
       " 'epubliceam',\n",
       " '022',\n",
       " 'pdt',\n",
       " 'aqui',\n",
       " 'apresentamos',\n",
       " 'principais',\n",
       " 'diretrizes',\n",
       " 'projeto',\n",
       " 'nacional',\n",
       " 'desenvolvimento',\n",
       " 'ciro',\n",
       " 'gomes',\n",
       " 'apresentando',\n",
       " 'socie',\n",
       " 'dade',\n",
       " 'brasileira',\n",
       " 'partir',\n",
       " 'dessa',\n",
       " 'consulta',\n",
       " 'elaborado',\n",
       " 'programa',\n",
       " 'governo',\n",
       " 'definitivo',\n",
       " 'ciro',\n",
       " 'pretende',\n",
       " 'escrever',\n",
       " 'nova',\n",
       " 'história',\n",
       " 'brasil',\n",
       " 'prefir',\n",
       " 'iro12',\n",
       " 'presidente',\n",
       " 'programa',\n",
       " 'governo',\n",
       " 'ciro',\n",
       " 'gomes',\n",
       " 'brasilp',\n",
       " 'arou',\n",
       " 'crescer',\n",
       " 'brasil',\n",
       " 'vive',\n",
       " 'momentos',\n",
       " 'graves',\n",
       " 'história',\n",
       " 'além',\n",
       " 'ameaças',\n",
       " 'constantes',\n",
       " 'democracia',\n",
       " 'país',\n",
       " 'convive',\n",
       " 'década',\n",
       " 'economia',\n",
       " 'absoluta',\n",
       " 'mente',\n",
       " 'estagnada',\n",
       " 'fazendo',\n",
       " 'fome',\n",
       " 'miséria',\n",
       " 'voltem',\n",
       " 'problema',\n",
       " 'crônico',\n",
       " 'país',\n",
       " 'segundo',\n",
       " 'maior',\n",
       " 'produtor',\n",
       " 'alimentos',\n",
       " 'mundo',\n",
       " 'hoje',\n",
       " '31',\n",
       " 'milhões',\n",
       " 'brasileiros',\n",
       " 'passam',\n",
       " 'fome',\n",
       " '125',\n",
       " 'milhões',\n",
       " 'fazem',\n",
       " 'três',\n",
       " 'refeições',\n",
       " 'diárias',\n",
       " '104',\n",
       " 'milhões',\n",
       " 'vivem',\n",
       " '14',\n",
       " 'reais',\n",
       " 'dia',\n",
       " '10',\n",
       " 'milhões',\n",
       " 'desem',\n",
       " 'pregados',\n",
       " 'milhões',\n",
       " 'crianças',\n",
       " 'anos',\n",
       " 'creche',\n",
       " '66',\n",
       " 'milhões',\n",
       " 'pessoas',\n",
       " 'penduradas',\n",
       " 'spc',\n",
       " 'serasa',\n",
       " 'comove',\n",
       " 'dor',\n",
       " 'povo',\n",
       " 'consegue',\n",
       " 'enxergar',\n",
       " 'preciso',\n",
       " 'mudar',\n",
       " 'mudança',\n",
       " 'começar',\n",
       " 'modelo',\n",
       " 'econômico',\n",
       " 'adotado',\n",
       " 'todos',\n",
       " 'últimos',\n",
       " 'governos',\n",
       " 'outros',\n",
       " 'equívocos',\n",
       " 'deixou',\n",
       " 'acreditar',\n",
       " 'setor',\n",
       " 'produtivo',\n",
       " 'motor',\n",
       " 'desenvolvimento',\n",
       " 'país',\n",
       " 'trata',\n",
       " 'modelo',\n",
       " 'privilegia',\n",
       " 'setor',\n",
       " 'financeiro',\n",
       " 'mina',\n",
       " 'capacidade',\n",
       " 'setor',\n",
       " 'privado',\n",
       " 'investir',\n",
       " 'desenvolver',\n",
       " 'novidades',\n",
       " 'criar',\n",
       " 'empregos',\n",
       " 'portanto',\n",
       " 'fundamental',\n",
       " 'recuperar',\n",
       " 'crescimento',\n",
       " 'disposição',\n",
       " 'empresários',\n",
       " 'investir',\n",
       " 'empreendedores',\n",
       " 'inovar',\n",
       " 'criar',\n",
       " 'novos',\n",
       " 'negócios',\n",
       " 'gerando',\n",
       " 'novos',\n",
       " 'bons',\n",
       " 'empregos',\n",
       " 'sabemos',\n",
       " 'necessário',\n",
       " 'adotar',\n",
       " 'conjunto',\n",
       " 'adicional',\n",
       " 'políticas',\n",
       " 'restringem',\n",
       " 'questões',\n",
       " 'econômicas',\n",
       " 'brasileiro',\n",
       " 'volte',\n",
       " 'otimis',\n",
       " 'ta',\n",
       " 'feliz',\n",
       " 'acredite',\n",
       " 'futuro',\n",
       " 'melhor',\n",
       " 'tudo',\n",
       " 'país',\n",
       " 'precisa',\n",
       " 'novo',\n",
       " 'projeto',\n",
       " 'nacional',\n",
       " 'desenvolvimento',\n",
       " 'pnd',\n",
       " 'capaz',\n",
       " 'projetar',\n",
       " 'país',\n",
       " 'queremos',\n",
       " 'próximas',\n",
       " 'décadas',\n",
       " 'explicite',\n",
       " 'faremos',\n",
       " 'chegar',\n",
       " 'lá',\n",
       " 'projeto',\n",
       " 'vem',\n",
       " 'sendo',\n",
       " 'desenhado',\n",
       " 'classe',\n",
       " 'trabalhadora',\n",
       " 'empresarial',\n",
       " 'industrial',\n",
       " 'empreendedora',\n",
       " 'outras',\n",
       " 'organizações',\n",
       " 'socie',\n",
       " 'dade',\n",
       " 'civil',\n",
       " 'candidatura',\n",
       " 'ciro',\n",
       " 'gomes',\n",
       " 'defende',\n",
       " 'representa',\n",
       " '01',\n",
       " 'programa',\n",
       " 'governo',\n",
       " 'ciro',\n",
       " 'gomes',\n",
       " 'neste',\n",
       " 'documento',\n",
       " 'encontrará',\n",
       " 'diretrizes',\n",
       " 'gerais',\n",
       " 'desse',\n",
       " 'programa',\n",
       " 'governo',\n",
       " 'vale',\n",
       " 'lembrar',\n",
       " 'versão',\n",
       " 'definitiva',\n",
       " 'continua',\n",
       " 'sendo',\n",
       " 'elaborada',\n",
       " 'aprimorada',\n",
       " 'através',\n",
       " 'ampla',\n",
       " 'consulta',\n",
       " 'diversos',\n",
       " 'segmentos',\n",
       " 'documento',\n",
       " 'esgota',\n",
       " 'tópicos',\n",
       " 'nele',\n",
       " 'abordados',\n",
       " 'certamente',\n",
       " 'outros',\n",
       " 'assuntos',\n",
       " 'relevantes',\n",
       " 'abordados',\n",
       " 'outros',\n",
       " 'temas',\n",
       " 'ainda',\n",
       " 'carecem',\n",
       " 'maior',\n",
       " 'detalhamento',\n",
       " 'esperamos',\n",
       " 'oferecer',\n",
       " 'aqui',\n",
       " 'boa',\n",
       " 'síntese',\n",
       " 'projeto',\n",
       " 'nacional',\n",
       " 'desenvolvimento',\n",
       " 'ciro',\n",
       " 'gomes',\n",
       " 'pretende',\n",
       " 'tornar',\n",
       " 'brasil',\n",
       " 'país',\n",
       " 'volte',\n",
       " 'crescer',\n",
       " 'gerando',\n",
       " 'empregos',\n",
       " 'distribuindo',\n",
       " 'renda',\n",
       " 'melhorando',\n",
       " 'qualidade',\n",
       " 'vida',\n",
       " 'pessoas',\n",
       " 'enfim',\n",
       " 'volte',\n",
       " 'nação',\n",
       " 'próspera',\n",
       " 'feliz',\n",
       " '02',\n",
       " 'programa',\n",
       " 'governo',\n",
       " 'ciro',\n",
       " 'gomes',\n",
       " 'brasilq',\n",
       " 'ue',\n",
       " 'queremos',\n",
       " 'queremos',\n",
       " 'brasil',\n",
       " 'alcance',\n",
       " 'indicadores',\n",
       " 'desenvolvimento',\n",
       " 'semelhantes',\n",
       " 'portugal',\n",
       " 'apresentava',\n",
       " '2020',\n",
       " 'quais',\n",
       " 'posicionaram',\n",
       " '38º',\n",
       " 'país',\n",
       " 'mundo',\n",
       " 'ranking',\n",
       " 'elevado',\n",
       " 'desenvolvimento',\n",
       " 'humano',\n",
       " 'brasil',\n",
       " 'segundo',\n",
       " 'dados',\n",
       " 'recentes',\n",
       " 'ocupa',\n",
       " '84ª',\n",
       " 'posição',\n",
       " 'pnd',\n",
       " 'propõe',\n",
       " 'investir',\n",
       " 'ciência',\n",
       " 'desenvolvimento',\n",
       " 'tecnológico',\n",
       " 'aumentar',\n",
       " 'quantidade',\n",
       " 'qualidade',\n",
       " 'empregos',\n",
       " 'reduzindo',\n",
       " 'informalidade',\n",
       " 'melhorar',\n",
       " 'serviços',\n",
       " 'saúde',\n",
       " 'reduzir',\n",
       " 'pobreza',\n",
       " 'desigualdades',\n",
       " 'sociais',\n",
       " 'renda',\n",
       " 'gênero',\n",
       " 'raça',\n",
       " 'oferecer',\n",
       " 'segurança',\n",
       " 'visando',\n",
       " 'reduzir',\n",
       " 'índices',\n",
       " 'criminalidade',\n",
       " 'ampliar',\n",
       " 'acesso',\n",
       " 'serviços',\n",
       " 'básicos',\n",
       " 'água',\n",
       " 'limpa',\n",
       " 'tratada',\n",
       " 'saneamento',\n",
       " 'transporte',\n",
       " 'moradia',\n",
       " 'iluminação',\n",
       " 'cultura',\n",
       " 'lazer',\n",
       " 'expandir',\n",
       " 'acesso',\n",
       " 'comunicação',\n",
       " 'garantir',\n",
       " 'acesso',\n",
       " 'respeito',\n",
       " 'direitos',\n",
       " 'humanos',\n",
       " 'todos',\n",
       " 'especialmente',\n",
       " 'minorias',\n",
       " 'reduzir',\n",
       " 'desmatamento',\n",
       " 'emissão',\n",
       " 'gases',\n",
       " 'danosos',\n",
       " 'atmosfera',\n",
       " 'viabilizar',\n",
       " 'crescimento',\n",
       " 'econômico',\n",
       " 'sustentável',\n",
       " 'sempre',\n",
       " 'forma',\n",
       " 'soberana',\n",
       " 'relação',\n",
       " 'demais',\n",
       " 'países',\n",
       " 'especialmente',\n",
       " 'promover',\n",
       " 'verdade',\n",
       " 'revolução',\n",
       " 'educação',\n",
       " 'pública',\n",
       " 'trata',\n",
       " 'rol',\n",
       " 'medidas',\n",
       " 'extenso',\n",
       " 'essencial',\n",
       " 'construirmos',\n",
       " 'socie',\n",
       " 'dade',\n",
       " 'justa',\n",
       " 'melhor',\n",
       " 'qualidade',\n",
       " 'vida',\n",
       " '03',\n",
       " 'programa',\n",
       " 'governo',\n",
       " 'ciro',\n",
       " 'gomes',\n",
       " 'crescer',\n",
       " 'gerar',\n",
       " 'empregos',\n",
       " 'projeto',\n",
       " 'nacional',\n",
       " 'desenvolvimento',\n",
       " 'parte',\n",
       " 'princípio',\n",
       " 'essencial',\n",
       " 'retomar',\n",
       " 'crescimento',\n",
       " 'forma',\n",
       " 'economicamente',\n",
       " 'sustentável',\n",
       " 'significa',\n",
       " 'gerar',\n",
       " 'empregos',\n",
       " 'garantir',\n",
       " 'estabilidade',\n",
       " 'preços',\n",
       " 'prevê',\n",
       " 'pacto',\n",
       " 'setores',\n",
       " 'público',\n",
       " 'privado',\n",
       " 'torno',\n",
       " 'metas',\n",
       " 'crescimento',\n",
       " 'econômico',\n",
       " 'objetivos',\n",
       " 'desenvolvi',\n",
       " 'mento',\n",
       " 'sustentável',\n",
       " 'definidos',\n",
       " 'onu',\n",
       " 'devemos',\n",
       " 'ter',\n",
       " 'estado',\n",
       " 'inteligente',\n",
       " 'dotado',\n",
       " 'ferramentas',\n",
       " 'tecnológicas',\n",
       " 'gestão',\n",
       " 'acompanhamento',\n",
       " 'execução',\n",
       " 'políticas',\n",
       " 'públicas',\n",
       " 'primeiro',\n",
       " 'momento',\n",
       " 'retomada',\n",
       " 'obras',\n",
       " 'infraestrutura',\n",
       " 'logística',\n",
       " 'social',\n",
       " 'incluindo',\n",
       " 'atualmente',\n",
       " 'paradas',\n",
       " 'essencial',\n",
       " 'recuperamos',\n",
       " 'crescimento',\n",
       " 'perdido',\n",
       " 'últimas',\n",
       " 'décadas',\n",
       " 'estimularmos',\n",
       " 'setor',\n",
       " 'privado',\n",
       " 'voltar',\n",
       " 'investir',\n",
       " 'fortemente',\n",
       " 'país',\n",
       " 'tempo',\n",
       " 'setor',\n",
       " 'público',\n",
       " 'deverá',\n",
       " 'recuperar',\n",
       " 'capacidade',\n",
       " 'financiar',\n",
       " 'políticas',\n",
       " 'públicas',\n",
       " 'incluindo',\n",
       " 'relacionadas',\n",
       " 'educação',\n",
       " 'saúde',\n",
       " 'cultura',\n",
       " 'desenvolvimento',\n",
       " 'científico',\n",
       " 'tecnológico',\n",
       " 'produtivo',\n",
       " 'segurança',\n",
       " 'pública',\n",
       " 'proteção',\n",
       " 'ambiental',\n",
       " 'direitos',\n",
       " 'humanos',\n",
       " 'áreas',\n",
       " 'deixadas',\n",
       " 'mingua',\n",
       " 'atual',\n",
       " 'governo',\n",
       " 'fundamentais',\n",
       " 'desenvolvimento',\n",
       " 'país',\n",
       " 'financiar',\n",
       " 'políticas',\n",
       " 'públicas',\n",
       " 'mantendo',\n",
       " 'equilíbrio',\n",
       " 'fiscal',\n",
       " 'sustentabili',\n",
       " 'dade',\n",
       " 'contas',\n",
       " 'públicas',\n",
       " 'defendemos',\n",
       " 'ampla',\n",
       " 'reforma',\n",
       " 'tributária',\n",
       " 'fiscal',\n",
       " 'baseada',\n",
       " 'seguintes',\n",
       " 'pontos',\n",
       " 'redução',\n",
       " 'subsídios',\n",
       " 'incentivos',\n",
       " 'fiscais',\n",
       " '20',\n",
       " 'primeiro',\n",
       " 'ano',\n",
       " 'governo',\n",
       " 'aproximadamente',\n",
       " '70',\n",
       " 'bilhões',\n",
       " 'redução',\n",
       " 'despesas',\n",
       " 'recriação',\n",
       " 'imposto',\n",
       " 'sobre',\n",
       " 'lucros',\n",
       " 'dividendos',\n",
       " 'distribuídos',\n",
       " 'aproximadamente',\n",
       " '70',\n",
       " 'bi',\n",
       " 'receitas',\n",
       " 'adoção',\n",
       " 'princípio',\n",
       " 'orçamento',\n",
       " 'base',\n",
       " 'zero',\n",
       " 'exame',\n",
       " 'detalhado',\n",
       " 'gastos',\n",
       " 'ambos',\n",
       " 'auxiliarão',\n",
       " 'redução',\n",
       " 'despesas',\n",
       " 'correntes',\n",
       " '04',\n",
       " 'programa',\n",
       " 'governo',\n",
       " 'ciro',\n",
       " 'gomes',\n",
       " 'taxação',\n",
       " 'grandes',\n",
       " 'fortunas',\n",
       " 'sobre',\n",
       " 'fortunas',\n",
       " 'acima',\n",
       " '20',\n",
       " 'milhões',\n",
       " 'alcançando',\n",
       " 'torno',\n",
       " '60',\n",
       " 'mil',\n",
       " 'contribuintes',\n",
       " 'gerando',\n",
       " 'aproximadamente',\n",
       " 'rs6',\n",
       " 'bi',\n",
       " 'receitas',\n",
       " 'vamos',\n",
       " 'alterar',\n",
       " 'composição',\n",
       " 'carga',\n",
       " 'tributária',\n",
       " 'país',\n",
       " 'significa',\n",
       " 'termos',\n",
       " 'proporcionais',\n",
       " 'redução',\n",
       " 'tributação',\n",
       " 'sobre',\n",
       " 'produção',\n",
       " 'consumo',\n",
       " 'elevação',\n",
       " 'tributação',\n",
       " 'sobre',\n",
       " 'renda',\n",
       " 'relação',\n",
       " 'impostos',\n",
       " 'oneram',\n",
       " 'produção',\n",
       " 'consumo',\n",
       " 'propomos',\n",
       " 'junção',\n",
       " 'cinco',\n",
       " 'iss',\n",
       " 'ipi',\n",
       " 'icms',\n",
       " 'pis',\n",
       " 'cofins',\n",
       " 'único',\n",
       " 'concluiremos',\n",
       " 'reforma',\n",
       " 'previdência',\n",
       " 'partir',\n",
       " 'três',\n",
       " 'pilares',\n",
       " 'renda',\n",
       " 'básica',\n",
       " 'garantida',\n",
       " 'parte',\n",
       " 'renda',\n",
       " 'associada',\n",
       " 'regime',\n",
       " 'repartição',\n",
       " 'outra',\n",
       " 'parce',\n",
       " 'la',\n",
       " 'capitalização',\n",
       " 'ainda',\n",
       " 'criaremos',\n",
       " 'fundo',\n",
       " 'investimento',\n",
       " 'infraestrutura',\n",
       " 'contemplando',\n",
       " 'além',\n",
       " 'setor',\n",
       " 'social',\n",
       " 'áreas',\n",
       " 'transportes',\n",
       " 'saneamento',\n",
       " 'telecomunicações',\n",
       " 'energia',\n",
       " 'logística',\n",
       " 'dentro',\n",
       " 'estratégia',\n",
       " 'estimular',\n",
       " 'retomada',\n",
       " 'setor',\n",
       " 'produtivo',\n",
       " 'dada',\n",
       " 'ênfase',\n",
       " 'especial',\n",
       " 'quatro',\n",
       " 'complexos',\n",
       " 'industriais',\n",
       " 'agronegócio',\n",
       " 'petróleo',\n",
       " 'gás',\n",
       " 'deriva',\n",
       " 'saúde',\n",
       " 'defesa',\n",
       " 'quais',\n",
       " 'demandam',\n",
       " 'produção',\n",
       " 'inovação',\n",
       " 'outros',\n",
       " 'setores',\n",
       " 'microeletrônica',\n",
       " 'bioengenharia',\n",
       " 'softwares',\n",
       " 'química',\n",
       " 'fina',\n",
       " 'pesada',\n",
       " 'quatro',\n",
       " 'complexos',\n",
       " 'deverão',\n",
       " 'impulsionados',\n",
       " 'conjunto',\n",
       " 'políticas',\n",
       " 'públi',\n",
       " 'cas',\n",
       " 'inclui',\n",
       " 'estímulos',\n",
       " 'pesquisa',\n",
       " 'inovação',\n",
       " 'financiamentos',\n",
       " 'específicos',\n",
       " 'compras',\n",
       " 'públicas',\n",
       " 'incentivo',\n",
       " 'exportações',\n",
       " 'pesquisa',\n",
       " 'científica',\n",
       " 'tecnológica',\n",
       " 'voltará',\n",
       " 'ter',\n",
       " 'papel',\n",
       " 'primordial',\n",
       " 'crescimento',\n",
       " 'país',\n",
       " 'elevação',\n",
       " 'recursos',\n",
       " 'públicos',\n",
       " 'destinados',\n",
       " 'setor',\n",
       " 'criação',\n",
       " 'estímulos',\n",
       " 'desenvolvimento',\n",
       " 'tecnologias',\n",
       " 'ações',\n",
       " 'conjuntas',\n",
       " 'empresas',\n",
       " 'surgi',\n",
       " 'mento',\n",
       " 'maturação',\n",
       " 'start',\n",
       " 'ups',\n",
       " 'incluindo',\n",
       " 'mecanismos',\n",
       " 'específicos',\n",
       " 'financiamento',\n",
       " 'bndes',\n",
       " 'exercerá',\n",
       " 'novamente',\n",
       " 'papel',\n",
       " 'importante',\n",
       " 'financiamento',\n",
       " 'desenvolvi',\n",
       " 'mento',\n",
       " 'além',\n",
       " 'permanecer',\n",
       " 'atuando',\n",
       " 'escritório',\n",
       " 'estruturador',\n",
       " 'projetos',\n",
       " '05',\n",
       " 'programa',\n",
       " 'governo',\n",
       " 'ciro',\n",
       " 'gomes',\n",
       " 'relação',\n",
       " 'inflação',\n",
       " 'banco',\n",
       " 'central',\n",
       " 'deverá',\n",
       " 'continuar',\n",
       " 'atuando',\n",
       " 'autonomia',\n",
       " 'opera',\n",
       " 'cional',\n",
       " 'dentro',\n",
       " 'regime',\n",
       " 'metas',\n",
       " 'deverá',\n",
       " 'buscar',\n",
       " 'menor',\n",
       " 'inflação',\n",
       " 'pleno',\n",
       " 'emprego',\n",
       " 'exemplo',\n",
       " 'banco',\n",
       " 'central',\n",
       " 'americano',\n",
       " 'agências',\n",
       " 'reguladoras',\n",
       " 'permanecerão',\n",
       " 'sob',\n",
       " 'modelo',\n",
       " 'atual',\n",
       " 'critério',\n",
       " 'escolha',\n",
       " 'toda',\n",
       " 'diretoria',\n",
       " 'deverá',\n",
       " 'estritamente',\n",
       " 'técnico',\n",
       " 'elevado',\n",
       " 'endividamento',\n",
       " 'privado',\n",
       " 'famílias',\n",
       " 'empresas',\n",
       " 'deverá',\n",
       " 'renegociado',\n",
       " 'taxas',\n",
       " 'juros',\n",
       " 'menores',\n",
       " 'prazos',\n",
       " 'longos',\n",
       " 'pagamento',\n",
       " 'incluindo',\n",
       " 'dívidas',\n",
       " 'fies',\n",
       " 'om',\n",
       " 'programa',\n",
       " 'iniciado',\n",
       " 'bancos',\n",
       " 'públicos',\n",
       " 'poderão',\n",
       " 'aderir',\n",
       " 'bancos',\n",
       " 'privados',\n",
       " 'deverão',\n",
       " 'disseminados',\n",
       " 'programas',\n",
       " 'educação',\n",
       " 'financeira',\n",
       " 'vamos',\n",
       " 'redigir',\n",
       " 'novo',\n",
       " 'código',\n",
       " 'brasileiro',\n",
       " 'trabalho',\n",
       " 'cbtj',\n",
       " 'ue',\n",
       " 'abranja',\n",
       " 'melhores',\n",
       " 'modernas',\n",
       " 'práticas',\n",
       " 'proteção',\n",
       " 'internacionais',\n",
       " 'convenções',\n",
       " 'organização',\n",
       " 'internacional',\n",
       " 'trabalho',\n",
       " 'oit',\n",
       " 'regulamentaremos',\n",
       " 'asseguraremos',\n",
       " 'direitos',\n",
       " 'trabalhadores',\n",
       " 'intermedia',\n",
       " 'aplicativos',\n",
       " 'estabelecendo',\n",
       " 'patamares',\n",
       " 'higiene',\n",
       " 'segurança',\n",
       " 'ganhos',\n",
       " 'patíveis',\n",
       " 'princípio',\n",
       " 'dignidade',\n",
       " 'pessoa',\n",
       " 'humana',\n",
       " 'conforme',\n",
       " 'garante',\n",
       " 'con',\n",
       " 'stituição',\n",
       " 'negociações',\n",
       " 'comerciais',\n",
       " 'diplomáticas',\n",
       " 'seguirão',\n",
       " 'dois',\n",
       " 'princípios',\n",
       " 'essenciais',\n",
       " 'defesa',\n",
       " 'interesses',\n",
       " 'nacionais',\n",
       " 'soberania',\n",
       " 'país',\n",
       " 'conjunto',\n",
       " 'medidas',\n",
       " 'criação',\n",
       " 'plano',\n",
       " 'emergencial',\n",
       " 'pleno',\n",
       " 'emprego',\n",
       " 'orientado',\n",
       " 'obras',\n",
       " 'infraestrutura',\n",
       " 'esperamos',\n",
       " 'gerar',\n",
       " 'milhões',\n",
       " 'empregos',\n",
       " 'dois',\n",
       " 'primeiros',\n",
       " 'anos',\n",
       " 'governo',\n",
       " '06',\n",
       " 'programa',\n",
       " 'governo',\n",
       " 'ciro',\n",
       " 'gomes',\n",
       " 'agenda',\n",
       " 'ambiental',\n",
       " 'propomos',\n",
       " 'crescimento',\n",
       " 'brasil',\n",
       " 'passa',\n",
       " 'necessariamente',\n",
       " 'agenda',\n",
       " 'ambiental',\n",
       " 'clara',\n",
       " 'capaz',\n",
       " 'provar',\n",
       " 'floresta',\n",
       " 'pé',\n",
       " 'vale',\n",
       " 'campo',\n",
       " 'desmatado',\n",
       " 'essencial',\n",
       " 'realizarmos',\n",
       " 'forma',\n",
       " 'imediata',\n",
       " 'zoneamento',\n",
       " 'econômico',\n",
       " 'ecológico',\n",
       " 'país',\n",
       " 'especial',\n",
       " 'região',\n",
       " 'amazônica',\n",
       " 'defendermos',\n",
       " 'ecossistemas',\n",
       " 'estratégia',\n",
       " 'desenvolvimento',\n",
       " 'regional',\n",
       " 'associada',\n",
       " 'maior',\n",
       " 'segurança',\n",
       " 'fundiária',\n",
       " 'pode',\n",
       " 'contribuir',\n",
       " 'redução',\n",
       " 'desmatamento',\n",
       " 'trata',\n",
       " 'estratégia',\n",
       " 'mostrará',\n",
       " 'possível',\n",
       " 'conciliar',\n",
       " 'integrar',\n",
       " 'lavoura',\n",
       " 'pecuária',\n",
       " 'floresta',\n",
       " 'necessário',\n",
       " 'envolver',\n",
       " 'população',\n",
       " 'local',\n",
       " 'atividades',\n",
       " 'econômicas',\n",
       " 'rentáveis',\n",
       " 'sustentáveis',\n",
       " 'excluam',\n",
       " 'derrubada',\n",
       " 'floresta',\n",
       " 'pesquisa',\n",
       " 'científica',\n",
       " 'tecnológica',\n",
       " 'realizada',\n",
       " 'próprios',\n",
       " 'órgãos',\n",
       " 'pesquisa',\n",
       " 'amazônia',\n",
       " 'encontrará',\n",
       " 'novos',\n",
       " 'produtos',\n",
       " 'formas',\n",
       " 'produção',\n",
       " 'quais',\n",
       " 'essenciais',\n",
       " 'preservar',\n",
       " 'floresta',\n",
       " 'possibilitar',\n",
       " 'manejo',\n",
       " 'sustentável',\n",
       " 'garantir',\n",
       " 'realização',\n",
       " 'atividades',\n",
       " 'econômicas',\n",
       " 'população',\n",
       " 'local',\n",
       " '07',\n",
       " 'programa',\n",
       " 'governo',\n",
       " 'ciro',\n",
       " 'gomes',\n",
       " 'nova',\n",
       " 'petrobras',\n",
       " 'forte',\n",
       " 'estímulo',\n",
       " 'uso',\n",
       " 'fontes',\n",
       " 'energias',\n",
       " 'baratas',\n",
       " 'sustentáveis',\n",
       " 'prioridades',\n",
       " 'mudar',\n",
       " 'política',\n",
       " 'preços',\n",
       " 'petrobras',\n",
       " 'hoje',\n",
       " 'beneficia',\n",
       " 'importadores',\n",
       " 'acionistas',\n",
       " ...]"
      ]
     },
     "execution_count": 46,
     "metadata": {},
     "output_type": "execute_result"
    }
   ],
   "source": [
    "conteudo_limpo=[]\n",
    "for item in conteudo:\n",
    "  if (item not in stopwords) & (len(item)>1):\n",
    "    conteudo_limpo.append(item)\n",
    "conteudo_limpo"
   ]
  },
  {
   "cell_type": "code",
   "execution_count": 47,
   "metadata": {
    "id": "mUUi-M3D6AXn"
   },
   "outputs": [],
   "source": [
    "conteudo_limpo=Counter(conteudo_limpo)\n",
    "conteudo_limpo=conteudo_limpo.most_common(30)"
   ]
  },
  {
   "cell_type": "code",
   "execution_count": 48,
   "metadata": {
    "colab": {
     "base_uri": "https://localhost:8080/",
     "height": 990
    },
    "id": "cHSgGhK_6gnH",
    "outputId": "166e70de-9510-48d1-91fa-d3e9317a6101"
   },
   "outputs": [
    {
     "data": {
      "text/html": [
       "<div>\n",
       "<style scoped>\n",
       "    .dataframe tbody tr th:only-of-type {\n",
       "        vertical-align: middle;\n",
       "    }\n",
       "\n",
       "    .dataframe tbody tr th {\n",
       "        vertical-align: top;\n",
       "    }\n",
       "\n",
       "    .dataframe thead th {\n",
       "        text-align: right;\n",
       "    }\n",
       "</style>\n",
       "<table border=\"1\" class=\"dataframe\">\n",
       "  <thead>\n",
       "    <tr style=\"text-align: right;\">\n",
       "      <th></th>\n",
       "      <th>Palavra</th>\n",
       "      <th>Quantidade</th>\n",
       "    </tr>\n",
       "  </thead>\n",
       "  <tbody>\n",
       "    <tr>\n",
       "      <th>0</th>\n",
       "      <td>governo</td>\n",
       "      <td>42</td>\n",
       "    </tr>\n",
       "    <tr>\n",
       "      <th>1</th>\n",
       "      <td>programa</td>\n",
       "      <td>41</td>\n",
       "    </tr>\n",
       "    <tr>\n",
       "      <th>2</th>\n",
       "      <td>ciro</td>\n",
       "      <td>30</td>\n",
       "    </tr>\n",
       "    <tr>\n",
       "      <th>3</th>\n",
       "      <td>gomes</td>\n",
       "      <td>28</td>\n",
       "    </tr>\n",
       "    <tr>\n",
       "      <th>4</th>\n",
       "      <td>país</td>\n",
       "      <td>25</td>\n",
       "    </tr>\n",
       "    <tr>\n",
       "      <th>5</th>\n",
       "      <td>desenvolvimento</td>\n",
       "      <td>20</td>\n",
       "    </tr>\n",
       "    <tr>\n",
       "      <th>6</th>\n",
       "      <td>nacional</td>\n",
       "      <td>18</td>\n",
       "    </tr>\n",
       "    <tr>\n",
       "      <th>7</th>\n",
       "      <td>pública</td>\n",
       "      <td>17</td>\n",
       "    </tr>\n",
       "    <tr>\n",
       "      <th>8</th>\n",
       "      <td>deverá</td>\n",
       "      <td>17</td>\n",
       "    </tr>\n",
       "    <tr>\n",
       "      <th>9</th>\n",
       "      <td>população</td>\n",
       "      <td>17</td>\n",
       "    </tr>\n",
       "    <tr>\n",
       "      <th>10</th>\n",
       "      <td>segurança</td>\n",
       "      <td>16</td>\n",
       "    </tr>\n",
       "    <tr>\n",
       "      <th>11</th>\n",
       "      <td>acesso</td>\n",
       "      <td>16</td>\n",
       "    </tr>\n",
       "    <tr>\n",
       "      <th>12</th>\n",
       "      <td>brasil</td>\n",
       "      <td>15</td>\n",
       "    </tr>\n",
       "    <tr>\n",
       "      <th>13</th>\n",
       "      <td>saúde</td>\n",
       "      <td>15</td>\n",
       "    </tr>\n",
       "    <tr>\n",
       "      <th>14</th>\n",
       "      <td>forma</td>\n",
       "      <td>14</td>\n",
       "    </tr>\n",
       "    <tr>\n",
       "      <th>15</th>\n",
       "      <td>vamos</td>\n",
       "      <td>14</td>\n",
       "    </tr>\n",
       "    <tr>\n",
       "      <th>16</th>\n",
       "      <td>bem</td>\n",
       "      <td>14</td>\n",
       "    </tr>\n",
       "    <tr>\n",
       "      <th>17</th>\n",
       "      <td>políticas</td>\n",
       "      <td>13</td>\n",
       "    </tr>\n",
       "    <tr>\n",
       "      <th>18</th>\n",
       "      <td>relação</td>\n",
       "      <td>13</td>\n",
       "    </tr>\n",
       "    <tr>\n",
       "      <th>19</th>\n",
       "      <td>renda</td>\n",
       "      <td>12</td>\n",
       "    </tr>\n",
       "    <tr>\n",
       "      <th>20</th>\n",
       "      <td>cultura</td>\n",
       "      <td>12</td>\n",
       "    </tr>\n",
       "    <tr>\n",
       "      <th>21</th>\n",
       "      <td>educação</td>\n",
       "      <td>12</td>\n",
       "    </tr>\n",
       "    <tr>\n",
       "      <th>22</th>\n",
       "      <td>públicas</td>\n",
       "      <td>12</td>\n",
       "    </tr>\n",
       "    <tr>\n",
       "      <th>23</th>\n",
       "      <td>qualidade</td>\n",
       "      <td>11</td>\n",
       "    </tr>\n",
       "    <tr>\n",
       "      <th>24</th>\n",
       "      <td>medidas</td>\n",
       "      <td>11</td>\n",
       "    </tr>\n",
       "    <tr>\n",
       "      <th>25</th>\n",
       "      <td>social</td>\n",
       "      <td>11</td>\n",
       "    </tr>\n",
       "    <tr>\n",
       "      <th>26</th>\n",
       "      <td>incluindo</td>\n",
       "      <td>11</td>\n",
       "    </tr>\n",
       "    <tr>\n",
       "      <th>27</th>\n",
       "      <td>deverão</td>\n",
       "      <td>11</td>\n",
       "    </tr>\n",
       "    <tr>\n",
       "      <th>28</th>\n",
       "      <td>deve</td>\n",
       "      <td>11</td>\n",
       "    </tr>\n",
       "    <tr>\n",
       "      <th>29</th>\n",
       "      <td>milhões</td>\n",
       "      <td>10</td>\n",
       "    </tr>\n",
       "  </tbody>\n",
       "</table>\n",
       "</div>"
      ],
      "text/plain": [
       "            Palavra  Quantidade\n",
       "0           governo          42\n",
       "1          programa          41\n",
       "2              ciro          30\n",
       "3             gomes          28\n",
       "4              país          25\n",
       "5   desenvolvimento          20\n",
       "6          nacional          18\n",
       "7           pública          17\n",
       "8            deverá          17\n",
       "9         população          17\n",
       "10        segurança          16\n",
       "11           acesso          16\n",
       "12           brasil          15\n",
       "13            saúde          15\n",
       "14            forma          14\n",
       "15            vamos          14\n",
       "16              bem          14\n",
       "17        políticas          13\n",
       "18          relação          13\n",
       "19            renda          12\n",
       "20          cultura          12\n",
       "21         educação          12\n",
       "22         públicas          12\n",
       "23        qualidade          11\n",
       "24          medidas          11\n",
       "25           social          11\n",
       "26        incluindo          11\n",
       "27          deverão          11\n",
       "28             deve          11\n",
       "29          milhões          10"
      ]
     },
     "execution_count": 48,
     "metadata": {},
     "output_type": "execute_result"
    }
   ],
   "source": [
    "import pandas as pd\n",
    "\n",
    "df= pd.DataFrame(conteudo_limpo, columns=['Palavra','Quantidade'])\n",
    "df"
   ]
  },
  {
   "cell_type": "code",
   "execution_count": 49,
   "metadata": {
    "colab": {
     "base_uri": "https://localhost:8080/",
     "height": 542
    },
    "id": "os_u6N1s67Gh",
    "outputId": "a802087a-79db-447b-95a9-0315b167b820"
   },
   "outputs": [
    {
     "data": {
      "application/vnd.plotly.v1+json": {
       "config": {
        "plotlyServerURL": "https://plot.ly"
       },
       "data": [
        {
         "alignmentgroup": "True",
         "hovertemplate": "Palavra=%{x}<br>Quantidade=%{y}<extra></extra>",
         "legendgroup": "",
         "marker": {
          "color": "#636efa",
          "pattern": {
           "shape": ""
          }
         },
         "name": "",
         "offsetgroup": "",
         "orientation": "v",
         "showlegend": false,
         "textposition": "auto",
         "type": "bar",
         "x": [
          "governo",
          "programa",
          "ciro",
          "gomes",
          "país",
          "desenvolvimento",
          "nacional",
          "pública",
          "deverá",
          "população",
          "segurança",
          "acesso",
          "brasil",
          "saúde",
          "forma",
          "vamos",
          "bem",
          "políticas",
          "relação",
          "renda",
          "cultura",
          "educação",
          "públicas",
          "qualidade",
          "medidas",
          "social",
          "incluindo",
          "deverão",
          "deve",
          "milhões"
         ],
         "xaxis": "x",
         "y": [
          42,
          41,
          30,
          28,
          25,
          20,
          18,
          17,
          17,
          17,
          16,
          16,
          15,
          15,
          14,
          14,
          14,
          13,
          13,
          12,
          12,
          12,
          12,
          11,
          11,
          11,
          11,
          11,
          11,
          10
         ],
         "yaxis": "y"
        }
       ],
       "layout": {
        "barmode": "relative",
        "legend": {
         "tracegroupgap": 0
        },
        "margin": {
         "t": 60
        },
        "template": {
         "data": {
          "bar": [
           {
            "error_x": {
             "color": "#2a3f5f"
            },
            "error_y": {
             "color": "#2a3f5f"
            },
            "marker": {
             "line": {
              "color": "#E5ECF6",
              "width": 0.5
             },
             "pattern": {
              "fillmode": "overlay",
              "size": 10,
              "solidity": 0.2
             }
            },
            "type": "bar"
           }
          ],
          "barpolar": [
           {
            "marker": {
             "line": {
              "color": "#E5ECF6",
              "width": 0.5
             },
             "pattern": {
              "fillmode": "overlay",
              "size": 10,
              "solidity": 0.2
             }
            },
            "type": "barpolar"
           }
          ],
          "carpet": [
           {
            "aaxis": {
             "endlinecolor": "#2a3f5f",
             "gridcolor": "white",
             "linecolor": "white",
             "minorgridcolor": "white",
             "startlinecolor": "#2a3f5f"
            },
            "baxis": {
             "endlinecolor": "#2a3f5f",
             "gridcolor": "white",
             "linecolor": "white",
             "minorgridcolor": "white",
             "startlinecolor": "#2a3f5f"
            },
            "type": "carpet"
           }
          ],
          "choropleth": [
           {
            "colorbar": {
             "outlinewidth": 0,
             "ticks": ""
            },
            "type": "choropleth"
           }
          ],
          "contour": [
           {
            "colorbar": {
             "outlinewidth": 0,
             "ticks": ""
            },
            "colorscale": [
             [
              0,
              "#0d0887"
             ],
             [
              0.1111111111111111,
              "#46039f"
             ],
             [
              0.2222222222222222,
              "#7201a8"
             ],
             [
              0.3333333333333333,
              "#9c179e"
             ],
             [
              0.4444444444444444,
              "#bd3786"
             ],
             [
              0.5555555555555556,
              "#d8576b"
             ],
             [
              0.6666666666666666,
              "#ed7953"
             ],
             [
              0.7777777777777778,
              "#fb9f3a"
             ],
             [
              0.8888888888888888,
              "#fdca26"
             ],
             [
              1,
              "#f0f921"
             ]
            ],
            "type": "contour"
           }
          ],
          "contourcarpet": [
           {
            "colorbar": {
             "outlinewidth": 0,
             "ticks": ""
            },
            "type": "contourcarpet"
           }
          ],
          "heatmap": [
           {
            "colorbar": {
             "outlinewidth": 0,
             "ticks": ""
            },
            "colorscale": [
             [
              0,
              "#0d0887"
             ],
             [
              0.1111111111111111,
              "#46039f"
             ],
             [
              0.2222222222222222,
              "#7201a8"
             ],
             [
              0.3333333333333333,
              "#9c179e"
             ],
             [
              0.4444444444444444,
              "#bd3786"
             ],
             [
              0.5555555555555556,
              "#d8576b"
             ],
             [
              0.6666666666666666,
              "#ed7953"
             ],
             [
              0.7777777777777778,
              "#fb9f3a"
             ],
             [
              0.8888888888888888,
              "#fdca26"
             ],
             [
              1,
              "#f0f921"
             ]
            ],
            "type": "heatmap"
           }
          ],
          "heatmapgl": [
           {
            "colorbar": {
             "outlinewidth": 0,
             "ticks": ""
            },
            "colorscale": [
             [
              0,
              "#0d0887"
             ],
             [
              0.1111111111111111,
              "#46039f"
             ],
             [
              0.2222222222222222,
              "#7201a8"
             ],
             [
              0.3333333333333333,
              "#9c179e"
             ],
             [
              0.4444444444444444,
              "#bd3786"
             ],
             [
              0.5555555555555556,
              "#d8576b"
             ],
             [
              0.6666666666666666,
              "#ed7953"
             ],
             [
              0.7777777777777778,
              "#fb9f3a"
             ],
             [
              0.8888888888888888,
              "#fdca26"
             ],
             [
              1,
              "#f0f921"
             ]
            ],
            "type": "heatmapgl"
           }
          ],
          "histogram": [
           {
            "marker": {
             "pattern": {
              "fillmode": "overlay",
              "size": 10,
              "solidity": 0.2
             }
            },
            "type": "histogram"
           }
          ],
          "histogram2d": [
           {
            "colorbar": {
             "outlinewidth": 0,
             "ticks": ""
            },
            "colorscale": [
             [
              0,
              "#0d0887"
             ],
             [
              0.1111111111111111,
              "#46039f"
             ],
             [
              0.2222222222222222,
              "#7201a8"
             ],
             [
              0.3333333333333333,
              "#9c179e"
             ],
             [
              0.4444444444444444,
              "#bd3786"
             ],
             [
              0.5555555555555556,
              "#d8576b"
             ],
             [
              0.6666666666666666,
              "#ed7953"
             ],
             [
              0.7777777777777778,
              "#fb9f3a"
             ],
             [
              0.8888888888888888,
              "#fdca26"
             ],
             [
              1,
              "#f0f921"
             ]
            ],
            "type": "histogram2d"
           }
          ],
          "histogram2dcontour": [
           {
            "colorbar": {
             "outlinewidth": 0,
             "ticks": ""
            },
            "colorscale": [
             [
              0,
              "#0d0887"
             ],
             [
              0.1111111111111111,
              "#46039f"
             ],
             [
              0.2222222222222222,
              "#7201a8"
             ],
             [
              0.3333333333333333,
              "#9c179e"
             ],
             [
              0.4444444444444444,
              "#bd3786"
             ],
             [
              0.5555555555555556,
              "#d8576b"
             ],
             [
              0.6666666666666666,
              "#ed7953"
             ],
             [
              0.7777777777777778,
              "#fb9f3a"
             ],
             [
              0.8888888888888888,
              "#fdca26"
             ],
             [
              1,
              "#f0f921"
             ]
            ],
            "type": "histogram2dcontour"
           }
          ],
          "mesh3d": [
           {
            "colorbar": {
             "outlinewidth": 0,
             "ticks": ""
            },
            "type": "mesh3d"
           }
          ],
          "parcoords": [
           {
            "line": {
             "colorbar": {
              "outlinewidth": 0,
              "ticks": ""
             }
            },
            "type": "parcoords"
           }
          ],
          "pie": [
           {
            "automargin": true,
            "type": "pie"
           }
          ],
          "scatter": [
           {
            "fillpattern": {
             "fillmode": "overlay",
             "size": 10,
             "solidity": 0.2
            },
            "type": "scatter"
           }
          ],
          "scatter3d": [
           {
            "line": {
             "colorbar": {
              "outlinewidth": 0,
              "ticks": ""
             }
            },
            "marker": {
             "colorbar": {
              "outlinewidth": 0,
              "ticks": ""
             }
            },
            "type": "scatter3d"
           }
          ],
          "scattercarpet": [
           {
            "marker": {
             "colorbar": {
              "outlinewidth": 0,
              "ticks": ""
             }
            },
            "type": "scattercarpet"
           }
          ],
          "scattergeo": [
           {
            "marker": {
             "colorbar": {
              "outlinewidth": 0,
              "ticks": ""
             }
            },
            "type": "scattergeo"
           }
          ],
          "scattergl": [
           {
            "marker": {
             "colorbar": {
              "outlinewidth": 0,
              "ticks": ""
             }
            },
            "type": "scattergl"
           }
          ],
          "scattermapbox": [
           {
            "marker": {
             "colorbar": {
              "outlinewidth": 0,
              "ticks": ""
             }
            },
            "type": "scattermapbox"
           }
          ],
          "scatterpolar": [
           {
            "marker": {
             "colorbar": {
              "outlinewidth": 0,
              "ticks": ""
             }
            },
            "type": "scatterpolar"
           }
          ],
          "scatterpolargl": [
           {
            "marker": {
             "colorbar": {
              "outlinewidth": 0,
              "ticks": ""
             }
            },
            "type": "scatterpolargl"
           }
          ],
          "scatterternary": [
           {
            "marker": {
             "colorbar": {
              "outlinewidth": 0,
              "ticks": ""
             }
            },
            "type": "scatterternary"
           }
          ],
          "surface": [
           {
            "colorbar": {
             "outlinewidth": 0,
             "ticks": ""
            },
            "colorscale": [
             [
              0,
              "#0d0887"
             ],
             [
              0.1111111111111111,
              "#46039f"
             ],
             [
              0.2222222222222222,
              "#7201a8"
             ],
             [
              0.3333333333333333,
              "#9c179e"
             ],
             [
              0.4444444444444444,
              "#bd3786"
             ],
             [
              0.5555555555555556,
              "#d8576b"
             ],
             [
              0.6666666666666666,
              "#ed7953"
             ],
             [
              0.7777777777777778,
              "#fb9f3a"
             ],
             [
              0.8888888888888888,
              "#fdca26"
             ],
             [
              1,
              "#f0f921"
             ]
            ],
            "type": "surface"
           }
          ],
          "table": [
           {
            "cells": {
             "fill": {
              "color": "#EBF0F8"
             },
             "line": {
              "color": "white"
             }
            },
            "header": {
             "fill": {
              "color": "#C8D4E3"
             },
             "line": {
              "color": "white"
             }
            },
            "type": "table"
           }
          ]
         },
         "layout": {
          "annotationdefaults": {
           "arrowcolor": "#2a3f5f",
           "arrowhead": 0,
           "arrowwidth": 1
          },
          "autotypenumbers": "strict",
          "coloraxis": {
           "colorbar": {
            "outlinewidth": 0,
            "ticks": ""
           }
          },
          "colorscale": {
           "diverging": [
            [
             0,
             "#8e0152"
            ],
            [
             0.1,
             "#c51b7d"
            ],
            [
             0.2,
             "#de77ae"
            ],
            [
             0.3,
             "#f1b6da"
            ],
            [
             0.4,
             "#fde0ef"
            ],
            [
             0.5,
             "#f7f7f7"
            ],
            [
             0.6,
             "#e6f5d0"
            ],
            [
             0.7,
             "#b8e186"
            ],
            [
             0.8,
             "#7fbc41"
            ],
            [
             0.9,
             "#4d9221"
            ],
            [
             1,
             "#276419"
            ]
           ],
           "sequential": [
            [
             0,
             "#0d0887"
            ],
            [
             0.1111111111111111,
             "#46039f"
            ],
            [
             0.2222222222222222,
             "#7201a8"
            ],
            [
             0.3333333333333333,
             "#9c179e"
            ],
            [
             0.4444444444444444,
             "#bd3786"
            ],
            [
             0.5555555555555556,
             "#d8576b"
            ],
            [
             0.6666666666666666,
             "#ed7953"
            ],
            [
             0.7777777777777778,
             "#fb9f3a"
            ],
            [
             0.8888888888888888,
             "#fdca26"
            ],
            [
             1,
             "#f0f921"
            ]
           ],
           "sequentialminus": [
            [
             0,
             "#0d0887"
            ],
            [
             0.1111111111111111,
             "#46039f"
            ],
            [
             0.2222222222222222,
             "#7201a8"
            ],
            [
             0.3333333333333333,
             "#9c179e"
            ],
            [
             0.4444444444444444,
             "#bd3786"
            ],
            [
             0.5555555555555556,
             "#d8576b"
            ],
            [
             0.6666666666666666,
             "#ed7953"
            ],
            [
             0.7777777777777778,
             "#fb9f3a"
            ],
            [
             0.8888888888888888,
             "#fdca26"
            ],
            [
             1,
             "#f0f921"
            ]
           ]
          },
          "colorway": [
           "#636efa",
           "#EF553B",
           "#00cc96",
           "#ab63fa",
           "#FFA15A",
           "#19d3f3",
           "#FF6692",
           "#B6E880",
           "#FF97FF",
           "#FECB52"
          ],
          "font": {
           "color": "#2a3f5f"
          },
          "geo": {
           "bgcolor": "white",
           "lakecolor": "white",
           "landcolor": "#E5ECF6",
           "showlakes": true,
           "showland": true,
           "subunitcolor": "white"
          },
          "hoverlabel": {
           "align": "left"
          },
          "hovermode": "closest",
          "mapbox": {
           "style": "light"
          },
          "paper_bgcolor": "white",
          "plot_bgcolor": "#E5ECF6",
          "polar": {
           "angularaxis": {
            "gridcolor": "white",
            "linecolor": "white",
            "ticks": ""
           },
           "bgcolor": "#E5ECF6",
           "radialaxis": {
            "gridcolor": "white",
            "linecolor": "white",
            "ticks": ""
           }
          },
          "scene": {
           "xaxis": {
            "backgroundcolor": "#E5ECF6",
            "gridcolor": "white",
            "gridwidth": 2,
            "linecolor": "white",
            "showbackground": true,
            "ticks": "",
            "zerolinecolor": "white"
           },
           "yaxis": {
            "backgroundcolor": "#E5ECF6",
            "gridcolor": "white",
            "gridwidth": 2,
            "linecolor": "white",
            "showbackground": true,
            "ticks": "",
            "zerolinecolor": "white"
           },
           "zaxis": {
            "backgroundcolor": "#E5ECF6",
            "gridcolor": "white",
            "gridwidth": 2,
            "linecolor": "white",
            "showbackground": true,
            "ticks": "",
            "zerolinecolor": "white"
           }
          },
          "shapedefaults": {
           "line": {
            "color": "#2a3f5f"
           }
          },
          "ternary": {
           "aaxis": {
            "gridcolor": "white",
            "linecolor": "white",
            "ticks": ""
           },
           "baxis": {
            "gridcolor": "white",
            "linecolor": "white",
            "ticks": ""
           },
           "bgcolor": "#E5ECF6",
           "caxis": {
            "gridcolor": "white",
            "linecolor": "white",
            "ticks": ""
           }
          },
          "title": {
           "x": 0.05
          },
          "xaxis": {
           "automargin": true,
           "gridcolor": "white",
           "linecolor": "white",
           "ticks": "",
           "title": {
            "standoff": 15
           },
           "zerolinecolor": "white",
           "zerolinewidth": 2
          },
          "yaxis": {
           "automargin": true,
           "gridcolor": "white",
           "linecolor": "white",
           "ticks": "",
           "title": {
            "standoff": 15
           },
           "zerolinecolor": "white",
           "zerolinewidth": 2
          }
         }
        },
        "xaxis": {
         "anchor": "y",
         "domain": [
          0,
          1
         ],
         "title": {
          "text": "Palavra"
         }
        },
        "yaxis": {
         "anchor": "x",
         "domain": [
          0,
          1
         ],
         "title": {
          "text": "Quantidade"
         }
        }
       }
      }
     },
     "metadata": {},
     "output_type": "display_data"
    }
   ],
   "source": [
    "import plotly.express as px\n",
    "fig = px.bar(df, x='Palavra', y='Quantidade')\n",
    "fig.show()"
   ]
  },
  {
   "cell_type": "code",
   "execution_count": 51,
   "metadata": {},
   "outputs": [
    {
     "data": {
      "image/png": "[encoded data removed]",
      "text/plain": [
       "<Figure size 1440x1152 with 1 Axes>"
      ]
     },
     "metadata": {
      "needs_background": "light"
     },
     "output_type": "display_data"
    }
   ],
   "source": [
    "#criar wordcloud com formato de numero 13 \n",
    "from PIL import Image\n",
    "import numpy as np\n",
    "import matplotlib.pyplot as plt\n",
    "%matplotlib inline\n",
    "\n",
    "mask = np.array(Image.open('17.png'))\n",
    "\n",
    "wordcloud = WordCloud(background_color='black', mask=mask,stopwords=stopwords, max_words=100, max_font_size=100, random_state=42)\n",
    "wordcloud.generate(str(df))\n",
    "\n",
    "plt.figure(figsize=(20,16))\n",
    "plt.imshow(wordcloud)\n",
    "plt.axis('off')\n",
    "plt.show()\n",
    "\n",
    "\n",
    "\n",
    "\n",
    "\n",
    "\n",
    "\n"
   ]
  },
  {
   "cell_type": "code",
   "execution_count": null,
   "metadata": {},
   "outputs": [],
   "source": [
    "from PIL import Image\n",
    "import numpy as np\n",
    "import matplotlib.pyplot as plt\n",
    "%matplotlib inline\n",
    "\n",
    "wordcloud = WordCloud(background_color='black',stopwords=stopwords, max_words=100, max_font_size=100, random_state=42)\n",
    "wordcloud.generate(str(conteudo_limpo))\n",
    "\n",
    "plt.figure(figsize=(20,16))\n",
    "plt.imshow(wordcloud)\n",
    "plt.axis('off')\n",
    "plt.show()\n"
   ]
  }
 ],
 "metadata": {
  "colab": {
   "provenance": []
  },
  "kernelspec": {
   "display_name": "Python 3.9.7 ('base')",
   "language": "python",
   "name": "python3"
  },
  "language_info": {
   "codemirror_mode": {
    "name": "ipython",
    "version": 3
   },
   "file_extension": ".py",
   "mimetype": "text/x-python",
   "name": "python",
   "nbconvert_exporter": "python",
   "pygments_lexer": "ipython3",
   "version": "3.9.7"
  },
  "vscode": {
   "interpreter": {
    "hash": "01f8f73e8052737d22aa5cfa52d73709cdbd5ae80fc4fa1112056b0ed1fa47c6"
   }
  }
 },
 "nbformat": 4,
 "nbformat_minor": 1
}
