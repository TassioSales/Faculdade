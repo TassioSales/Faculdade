{
 "cells": [
  {
   "cell_type": "markdown",
   "metadata": {
    "id": "qmPmefhtgEud",
    "pycharm": {
     "name": "#%% md\n"
    }
   },
   "source": [
    "## Exercícios - Expressões Regulares\n",
    "\n",
    "Hora de praticar!!!\n",
    "\n",
    "Para cada exercício, apresente o código da função que execute a ação proposta e a execute para os exemplos listados. Vide exercício 1 para modelo."
   ]
  },
  {
   "cell_type": "code",
   "execution_count": 3,
   "metadata": {
    "id": "MpHSdsl5h6U8",
    "pycharm": {
     "is_executing": true,
     "name": "#%%\n"
    }
   },
   "outputs": [],
   "source": [
    "# importação das bibliotecas\n",
    "import re"
   ]
  },
  {
   "cell_type": "markdown",
   "metadata": {
    "id": "__m85CXsgovk",
    "pycharm": {
     "name": "#%% md\n"
    }
   },
   "source": [
    "### Exemplo) Detectar palavra de 5 letras que inicia com a letra `s`.\n",
    "\n",
    "* teste=['sábado', 'sexta', 'vassoura', 'astuto', 'Santo', 'santo']\n",
    "* saída= 'sexta', 'santo'\n"
   ]
  },
  {
   "cell_type": "code",
   "execution_count": 4,
   "metadata": {
    "colab": {
     "base_uri": "https://localhost:8080/"
    },
    "id": "EmqwXECOglzM",
    "outputId": "08f56d27-c41c-49bb-8cc1-0d3578e0940e",
    "pycharm": {
     "name": "#%%\n"
    }
   },
   "outputs": [
    {
     "name": "stdout",
     "output_type": "stream",
     "text": [
      "sexta\n",
      "santo\n"
     ]
    }
   ],
   "source": [
    "teste=['sábado', 'sexta', 'vassoura', 'astuto', 'Santo', 'santo']\n",
    "regex='^s\\w{4}$'\n",
    "\n",
    "for item in teste:\n",
    "  if (re.search(regex, item)):\n",
    "    print(item)"
   ]
  },
  {
   "cell_type": "markdown",
   "metadata": {
    "id": "X6xGh31AGIdO",
    "pycharm": {
     "name": "#%% md\n"
    }
   },
   "source": [
    "### **Q1)** Detectar Uma letra `a` imediatamente seguida por uma ou mais letras `e`.\n",
    "\n",
    "* teste=['ae', 'a', 'bae', 'aeeee', 'aeeeeeeeee', 'abeeee']\n",
    "* saída= 'ae', 'bas', 'aeeee', 'aeeeeeeeee'"
   ]
  },
  {
   "cell_type": "code",
   "execution_count": 5,
   "metadata": {
    "id": "j7ateImgAhCz",
    "pycharm": {
     "name": "#%%\n"
    }
   },
   "outputs": [
    {
     "name": "stdout",
     "output_type": "stream",
     "text": [
      "['ae']\n",
      "['a']\n",
      "['ae']\n",
      "['aeeee']\n",
      "['aeeeeeeeee']\n",
      "['a']\n"
     ]
    }
   ],
   "source": [
    "teste=['ae', 'a', 'bae', 'aeeee', 'aeeeeeeeee', 'abeeee']\n",
    "\n",
    "for i in teste:\n",
    "    print(re.findall(r'a[e]*', i))"
   ]
  },
  {
   "cell_type": "markdown",
   "metadata": {
    "id": "UdY4xhtwImne",
    "pycharm": {
     "name": "#%% md\n"
    }
   },
   "source": [
    "### **Q2)** Detectar palavras de 6 a 15 letras, sem considerar caracteres especiais ou acentuação.\n",
    "\n",
    "* teste=['abraço', 'melodia', 'rotin', 'asa-delta', 'amigão', 'inconstitucionalissimamente']\n",
    "* saída= 'melodia'"
   ]
  },
  {
   "cell_type": "code",
   "execution_count": 6,
   "metadata": {
    "id": "mPA2yvbqBYpd",
    "pycharm": {
     "name": "#%%\n"
    }
   },
   "outputs": [
    {
     "name": "stdout",
     "output_type": "stream",
     "text": [
      "melodia\n"
     ]
    }
   ],
   "source": [
    "teste = ['abraço', 'melodia', 'rotin', 'asa-delta', 'amigão', 'inconstitucionalissimamente']\n",
    "\n",
    "\n",
    "def detecta_palavras(lista):\n",
    "    for palavra in lista:\n",
    "        if re.search(r'^[a-zA-Z]{6,15}$', palavra):\n",
    "            print(palavra)\n",
    "\n",
    "\n",
    "detecta_palavras(teste)"
   ]
  },
  {
   "cell_type": "markdown",
   "metadata": {
    "id": "_XSM6VrRIy24",
    "pycharm": {
     "name": "#%% md\n"
    }
   },
   "source": [
    "### **Q3)** Detectar uma palavra com 8 a 10 letras que termine com a letra 'z'\n",
    "* teste=['chafariz','antes chafariz depois', 'gravidez', 'robustezjunto', 'antestalvezjunto', 'talvez']\n",
    "* saída= 'chafariz', 'gravidez'"
   ]
  },
  {
   "cell_type": "code",
   "execution_count": null,
   "metadata": {
    "collapsed": false,
    "pycharm": {
     "name": "#%%\n"
    }
   },
   "outputs": [],
   "source": [
    "teste=['chafariz','antes chafariz depois', 'gravidez', 'robustezjunto', 'antestalvezjunto', 'talvez']\n",
    "\n",
    "regex = '(\\w{7,9}z)(\\s|$)'\n",
    "for i in teste:\n",
    "    if re.search(regex, i):\n",
    "        print(i)"
   ]
  },
  {
   "cell_type": "markdown",
   "metadata": {
    "collapsed": false,
    "pycharm": {
     "name": "#%% md\n"
    }
   },
   "source": [
    "### **Q4)** Detectar Um número inteiro com 2, 3 ou 4 dígitos, sendo que o primeiro dígito não pode ser zero.\n",
    "\n",
    "* teste=['12', '144', '09', '12345', '12a']\n",
    "* saída= 12, 144"
   ]
  },
  {
   "cell_type": "code",
   "execution_count": 28,
   "metadata": {
    "collapsed": false,
    "pycharm": {
     "name": "#%%\n"
    }
   },
   "outputs": [
    {
     "name": "stdout",
     "output_type": "stream",
     "text": [
      "12\n",
      "144\n"
     ]
    }
   ],
   "source": [
    "teste=['12', '144', '09', '12345', '12a']\n",
    "\n",
    "for i in teste:\n",
    "    if re.match(r'^[1-9][0-9]{1,3}$', i):\n",
    "        print(i)"
   ]
  },
  {
   "cell_type": "markdown",
   "metadata": {
    "collapsed": false,
    "pycharm": {
     "name": "#%% md\n"
    }
   },
   "source": [
    "### **Q5)** Detectar trechos em que inicie com um algarismo(0-9) e termine com um letra.\n",
    "\n",
    "* teste=['1111111b','1bbbb','1b1b1b','teste 1a','bb1bbbbb11b','b1b1b1b1']\n",
    "* saída= '1111111b', '1bbbb', '1b1b1b', '1a'] "
   ]
  },
  {
   "cell_type": "code",
   "execution_count": 29,
   "metadata": {
    "collapsed": false,
    "pycharm": {
     "name": "#%%\n"
    }
   },
   "outputs": [
    {
     "name": "stdout",
     "output_type": "stream",
     "text": [
      "['1111111b', '1bbbb', '1b1b1b']\n"
     ]
    }
   ],
   "source": [
    "teste=['1111111b','1bbbb','1b1b1b','teste 1a','bb1bbbbb11b','b1b1b1b1']\n",
    "\n",
    "def detecta_trechos(teste):\n",
    "    saida = []\n",
    "    for i in teste:\n",
    "        if re.match(r'\\d+[a-z]', i):\n",
    "            saida.append(i)\n",
    "    return saida\n",
    "\n",
    "\n",
    "print(detecta_trechos(teste))"
   ]
  },
  {
   "cell_type": "markdown",
   "metadata": {
    "collapsed": false,
    "pycharm": {
     "name": "#%% md\n"
    }
   },
   "source": [
    "### **Q6)** Detectar duas palavras unidas pelas preposições 'de', 'do', 'da', 'dos' ou 'das'. *As palavras somente podem conter letras e elas são separadas por um ou mais espaços.*\n",
    "* teste=['Ouviram do Ipiranga','Às margens plácidas\n",
    "De um povo heroico', \n",
    "'Brilhou no céu da pátria nesse instante', \n",
    "'um raio vívido de amor e de esperança, à terra desce']\n",
    "* saída= 'Ouviram do Ipiranga', 'céu da pátria', 'vívido de amor', 'e de esperança'"
   ]
  },
  {
   "cell_type": "code",
   "execution_count": 30,
   "metadata": {
    "collapsed": false,
    "pycharm": {
     "name": "#%%\n"
    }
   },
   "outputs": [
    {
     "name": "stdout",
     "output_type": "stream",
     "text": [
      "Ouviram do Ipiranga\n",
      "['do']\n",
      "Brilhou no céu da pátria nesse instante\n",
      "['da']\n",
      "um raio vívido de amor e de esperança, à terra desce\n",
      "['de', 'de']\n"
     ]
    }
   ],
   "source": [
    "teste=['Ouviram do Ipiranga','Às margens plácidas De um povo heroico', 'Brilhou no céu da pátria nesse instante', 'um raio vívido de amor e de esperança, à terra desce']\n",
    "\n",
    "def detecta_palavras(texto):\n",
    "    for frase in texto:\n",
    "        if re.search(r'\\b\\w+\\s(de|do|da|dos|das)\\s\\w+\\b', frase):\n",
    "            print(frase)\n",
    "            print(re.findall(r'\\b\\w+\\s(de|do|da|dos|das)\\s\\w+\\b', frase))\n",
    "\n",
    "detecta_palavras(teste)"
   ]
  },
  {
   "cell_type": "markdown",
   "metadata": {
    "collapsed": false,
    "pycharm": {
     "name": "#%% md\n"
    }
   },
   "source": [
    "### **Q7)** Detectar uma palavra seguida de um espaço seguido de um sequência de um ou mais dígitos.\n",
    "\n",
    "* teste=['teste 1234', 'parágrafo 12345','letra 1','a b 1 c','cc 11 a', 'dois espaços não pode  2']\n",
    "* saída=['teste 1234', 'parágrafo 12345', 'letra 1', 'cc 11']"
   ]
  },
  {
   "cell_type": "code",
   "execution_count": 31,
   "metadata": {
    "collapsed": false,
    "pycharm": {
     "name": "#%%\n"
    }
   },
   "outputs": [
    {
     "name": "stdout",
     "output_type": "stream",
     "text": [
      "['teste 1234']\n",
      "['parágrafo 12345']\n",
      "['letra 1']\n",
      "['b 1']\n",
      "['cc 11']\n",
      "['pode 2']\n"
     ]
    }
   ],
   "source": [
    "teste=['teste 1234', 'parágrafo 12345','letra 1','a b 1 c','cc 11 a', 'dois espaços não pode 2']\n",
    "\n",
    "for i in teste:\n",
    "    print(re.findall(r'\\w+\\s\\d+', i))"
   ]
  },
  {
   "cell_type": "markdown",
   "metadata": {
    "collapsed": false,
    "pycharm": {
     "name": "#%% md\n"
    }
   },
   "source": [
    "### **Q8)** Detectar palavras de no mínimo 3 letras e com TODAS as letras maiúsculas.\n",
    "\n",
    "* teste=['Hino Nacional Brasileiro', 'BRASIL', 'Durante o “Dia do Fico”, D. Pedro declarou que permaneceria no Brasil.', \"Bandeira DO Brasil\",\n",
    "'Durante o “Dia do Fico”, DOM PEDRO declarou que permaneceria no Brasil.'\n",
    "* saída='BRASIL, DOM, PEDRO"
   ]
  },
  {
   "cell_type": "code",
   "execution_count": 32,
   "metadata": {
    "collapsed": false,
    "pycharm": {
     "name": "#%%\n"
    }
   },
   "outputs": [
    {
     "name": "stdout",
     "output_type": "stream",
     "text": [
      "[]\n",
      "['BRASIL']\n",
      "[]\n",
      "[]\n",
      "['DOM', 'PEDRO']\n"
     ]
    }
   ],
   "source": [
    "teste=['Hino Nacional Brasileiro', 'BRASIL', 'Durante o “Dia do Fico”, D. Pedro declarou que permaneceria no Brasil.', \"Bandeira DO Brasil\", 'Durante o “Dia do Fico”, DOM PEDRO declarou que permaneceria no Brasil.']\n",
    "\n",
    "for frase in teste:\n",
    "    print(re.findall(r'\\b[A-Z]{3,}\\b', frase))"
   ]
  },
  {
   "cell_type": "markdown",
   "metadata": {
    "collapsed": false,
    "pycharm": {
     "name": "#%% md\n"
    }
   },
   "source": [
    "### **Q9)** Detectar duas palavras consecutivas, de no mínimo 2 letras cada, com TODAS as letras maiúsculas.\n",
    "* teste=['Durante o “Dia do Fico”, DOM PEDRO declarou que permaneceria no Brasil.', 'O Magazine Luiza(MGLU) é uma empresa de varejo', 'LUIZA TRAJANO é uma empresária brasileira.', 'RELATÓRIO DE TENDÊNCIAs']\n",
    "* saída= 'DOM PEDRO', 'LUIZA TRAJANO, 'RELATÓRIO DE'"
   ]
  },
  {
   "cell_type": "code",
   "execution_count": 33,
   "metadata": {
    "collapsed": false,
    "pycharm": {
     "name": "#%%\n"
    }
   },
   "outputs": [
    {
     "name": "stdout",
     "output_type": "stream",
     "text": [
      "['DOM PEDRO']\n",
      "[]\n",
      "['LUIZA TRAJANO']\n",
      "['RELATORIO DE']\n"
     ]
    }
   ],
   "source": [
    "teste=['Durante o “Dia do Fico”, DOM PEDRO declarou que permaneceria no Brasil.', 'O Magazine Luiza(MGLU) é uma empresa de varejo', 'LUIZA TRAJANO é uma empresária brasileira.', 'RELATORIO DE TENDÊNCIAs']\n",
    "\n",
    "for i in teste:\n",
    "    print(re.findall(r'[A-Z]{2,}\\s[A-Z]{2,}', i))"
   ]
  },
  {
   "cell_type": "markdown",
   "metadata": {
    "collapsed": false,
    "pycharm": {
     "name": "#%% md\n"
    }
   },
   "source": [
    "### **Q10)** Detectar duas ou mais palavras consecutivas com todas as letras maiúsculas. Cada palavra pode possuir qualquer quantidade de letras..\n",
    "\n",
    "* teste=['Durante o “Dia do Fico”, DOM PEDRO declarou que permaneceria no Brasil.', 'O Magazine Luiza(MGLU) é uma empresa de varejo', 'LUIZA HELENA TRAJANO é uma empresária brasileira.', 'RELATÓRIO de TENDÊNCIAS', 'O RELATÓRIO DE DESEMPENHO foi publicado']\n",
    "* saída= 'DOM PEDRO', 'LUIZA HELENA TRAJANO', 'RELATÓRIO DE DESEMPENHO'"
   ]
  },
  {
   "cell_type": "code",
   "execution_count": null,
   "metadata": {
    "collapsed": false,
    "pycharm": {
     "name": "#%%\n"
    }
   },
   "outputs": [],
   "source": [
    "teste=['Durante o “Dia do Fico”, DOM PEDRO declarou que permaneceria no Brasil.', 'O Magazine Luiza(MGLU) é uma empresa de varejo', 'LUIZA HELENA TRAJANO é uma empresária brasileira.', 'RELATÓRIO de TENDÊNCIAS', 'O RELATÓRIO DE DESEMPENHO foi publicado']\n",
    "\n",
    "\n",
    "for item in teste:\n",
    "    print(re.findall(r'([A-ZÀ-Ú]{2,}\\s[A-ZÀ-Ú]+\\s?[A-ZÀ-Ú]+)', item))"
   ]
  },
  {
   "cell_type": "markdown",
   "metadata": {
    "collapsed": false,
    "pycharm": {
     "name": "#%% md\n"
    }
   },
   "source": [
    "### **Q11)** Detectar um endereço [IP](https://en.wikipedia.org/wiki/IP_address). ex.: 127.0.0.1, 192.168.0.254. Um IP é formado por exatamente 4 números separados por pontos. Cada número possui no máximo 3 dígitos.\n",
    "* teste=['127.0.0.1','192.168.0.254','10.11.10.11','127.127.127.127','9999.0.0.1','127404041','a127.0.0.1', '127.a.a.1']\n",
    "* saída= '127.0.0.1','192.168.0.254','10.11.10.11','127.127.127.127'"
   ]
  },
  {
   "cell_type": "code",
   "execution_count": 18,
   "metadata": {
    "collapsed": false,
    "pycharm": {
     "name": "#%%\n"
    }
   },
   "outputs": [
    {
     "name": "stdout",
     "output_type": "stream",
     "text": [
      "127.0.0.1\n",
      "192.168.0.254\n",
      "10.11.10.11\n",
      "127.127.127.127\n"
     ]
    }
   ],
   "source": [
    "teste = ['127.0.0.1', '192.168.0.254', '10.11.10.11', '127.127.127.127', '9999.0.0.1', '127404041', 'a127.0.0.1',\n",
    "         '127.a.a.1']\n",
    "\n",
    "for ip in teste:\n",
    "    if re.match(r'^(?:[0-9]{1,3}\\.){3}[0-9]{1,3}$', ip):\n",
    "        print(f'{ip}')\n",
    "    else:\n",
    "        pass"
   ]
  },
  {
   "cell_type": "markdown",
   "metadata": {
    "collapsed": false,
    "pycharm": {
     "name": "#%% md\n"
    }
   },
   "source": [
    "### **Q12)** Detectar uma url de um site que inicie com o prefixo 'http://' e finalize ou com '.com' ou '.com.br' ou '.br'\n",
    "\n",
    "* teste=['http://www.obrigado.com', 'hp://www.obrigado.com', 'www.thankyou.com', 'http://www.brasil.br', 'http://www.tearto.art', 'http://www.olance.com.ar' ]\n",
    "* saída= 'http://www.obrigado.com'\n"
   ]
  },
  {
   "cell_type": "code",
   "execution_count": 19,
   "metadata": {
    "collapsed": false,
    "pycharm": {
     "name": "#%%\n"
    }
   },
   "outputs": [
    {
     "name": "stdout",
     "output_type": "stream",
     "text": [
      "http://www.obrigado.com\n",
      "http://www.obrigado.com.br\n"
     ]
    }
   ],
   "source": [
    "teste = ['http://www.obrigado.com', 'hp://www.obrigado.com', 'www.thankyou.com', 'http://www.brasil.br',\n",
    "         'http://www.tearto.art', 'http://www.olance.com.ar', 'http://www.obrigado.com.br',\n",
    "         'http://www.obrigado.com.br.br', 'http://www.obrigado.com.br.br.br', 'http://www.obrigado.com.br.br.br.br']\n",
    "\n",
    "\n",
    "def url_valida(url):\n",
    "    regex = re.compile(r'http://www\\.[a-z]+\\.(com|com\\.br)$')\n",
    "    return regex.search(url)\n",
    "\n",
    "\n",
    "for url in teste:\n",
    "    if url_valida(url):\n",
    "        print(f'{url}')\n",
    "    else:\n",
    "        pass"
   ]
  },
  {
   "cell_type": "markdown",
   "metadata": {
    "collapsed": false,
    "pycharm": {
     "name": "#%% md\n"
    }
   },
   "source": [
    "### **Q13)** Detectar números de CPF com separador de milhares e hífen.\n",
    "\n",
    "* teste=['000.000.000-00','111.111.111-11','0111.111.111-11','11101110111-11','111.111.111111','1110110111111', '..1.11011011-11']\n",
    "* saída= '000.000.000-00','111.111.111-11'"
   ]
  },
  {
   "cell_type": "code",
   "execution_count": 20,
   "metadata": {
    "collapsed": false,
    "pycharm": {
     "name": "#%%\n"
    }
   },
   "outputs": [
    {
     "name": "stdout",
     "output_type": "stream",
     "text": [
      "['000.000.000-00', '111.111.111-11']\n"
     ]
    }
   ],
   "source": [
    "teste=['000.000.000-00','111.111.111-11','0111.111.111-11','11101110111-11','111.111.111111','1110110111111', '..1.11011011-11']\n",
    "saida = []\n",
    "for cpf in teste:\n",
    "    if re.match(r'^\\d{3}\\.\\d{3}\\.\\d{3}-\\d{2}$', cpf):\n",
    "        saida.append(cpf)\n",
    "    else:\n",
    "        pass\n",
    "print(saida )"
   ]
  },
  {
   "cell_type": "markdown",
   "metadata": {
    "id": "By__nCvLJOD6",
    "pycharm": {
     "name": "#%% md\n"
    }
   },
   "source": [
    "### **Q14)** Detectar números de CPF com separador de milhares opcional e hífen opcional.\n",
    "\n",
    "* teste=['000.000.000-00','111.111.111-11','0111.111.111-11','11101110111-11','111.111.111111','1110110111111', '..1.11011011-11', '123456789-12','123.456.78912', '12345678912']\n",
    "* saída= '000.000.000-00','111.111.111-11', '123456789-12','123.456.78912'"
   ]
  },
  {
   "cell_type": "code",
   "execution_count": 21,
   "metadata": {
    "id": "ZceC7KHxpWlQ",
    "pycharm": {
     "name": "#%%\n"
    }
   },
   "outputs": [
    {
     "name": "stdout",
     "output_type": "stream",
     "text": [
      "000.000.000-00\n",
      "111.111.111-11\n",
      "123456789-12\n",
      "123.456.78912\n",
      "12345678912\n"
     ]
    }
   ],
   "source": [
    "teste=['000.000.000-00','111.111.111-11','0111.111.111-11','11101110111-11','111.111.111111','1110110111111', '..1.11011011-11', '123456789-12','123.456.78912', '12345678912']\n",
    "\n",
    "for i in teste:\n",
    "    if re.search(r'^\\d{3}\\.?\\d{3}\\.?\\d{3}\\-?\\d{2}$', i):\n",
    "        print(i)"
   ]
  },
  {
   "cell_type": "markdown",
   "metadata": {
    "id": "_mURUbwdJO6g",
    "pycharm": {
     "name": "#%% md\n"
    }
   },
   "source": [
    "### **Q15)** Detectar CNPJ com separador de milhares, barra e hífen.\n",
    "* teste=['00.000.000/0001-00','xx.000.000/0001-xx','0011001000/0001-00','00.000.00010001-00','00.000.000/0001100','00000.000/0001-00','00000000/0001-00','000000000001-00']\n",
    "* saída= '00.000.000/0001-00'"
   ]
  },
  {
   "cell_type": "code",
   "execution_count": 22,
   "metadata": {
    "id": "dyGsJlLap4T4",
    "pycharm": {
     "name": "#%%\n"
    }
   },
   "outputs": [
    {
     "name": "stdout",
     "output_type": "stream",
     "text": [
      "00.000.000/0001-00\n"
     ]
    }
   ],
   "source": [
    "teste=['00.000.000/0001-00','xx.000.000/0001-xx','0011001000/0001-00','00.000.00010001-00','00.000.000/0001100','00000.000/0001-00','00000000/0001-00','000000000001-00']\n",
    "\n",
    "for i in teste:\n",
    "    if re.search(r'^\\d{2}\\.\\d{3}\\.\\d{3}\\/\\d{4}\\-\\d{2}$', i):\n",
    "        print(i)"
   ]
  },
  {
   "cell_type": "markdown",
   "metadata": {
    "id": "IDQiJmUnJPqz",
    "pycharm": {
     "name": "#%% md\n"
    }
   },
   "source": [
    "### **Q16)** Detectar a sequencia de 7 caracteres que possua o formato sete letras maiúsculas, espaço, e 4 algarismos, sendo que a primeira letra só pode ser J, K ou L.\n",
    "\n",
    "* teste=['JPA 2345', 'JJJ3767', 'JJJ 1234', 'ABJ 0000', 'jkl 1234', 'LAp 1234']\n",
    "* saída= 'JPA 2345', 'JJJ 1234'"
   ]
  },
  {
   "cell_type": "code",
   "execution_count": 24,
   "metadata": {
    "id": "bWu9vlz5rZqY",
    "pycharm": {
     "name": "#%%\n"
    }
   },
   "outputs": [
    {
     "name": "stdout",
     "output_type": "stream",
     "text": [
      "JPA 2345\n",
      "JJJ 1234\n"
     ]
    }
   ],
   "source": [
    "teste=['JPA 2345', 'JJJ3767', 'JJJ 1234', 'ABJ 0000', 'jkl 1234', 'LAp 1234']\n",
    "\n",
    "for i in teste:\n",
    "    if re.search(r'[J|K|L][A-Z]{2}\\s[0-9]{4}', i):\n",
    "        print(i)"
   ]
  },
  {
   "cell_type": "markdown",
   "metadata": {
    "id": "jyt0bg8GJRYi",
    "pycharm": {
     "name": "#%% md\n"
    }
   },
   "source": [
    "### **Q17)** Detectar números de telefone no formato (xx)xxxx-xxxx.\n",
    "\n",
    "* teste=['(61)3316-0000','3316-0000','x61x3316x0000','(61)3316x0000','((61)3316-00006','77(61)3316x000077','(77)(61)3316-00007']\n",
    "* saída= '(61)3316-0000'"
   ]
  },
  {
   "cell_type": "code",
   "execution_count": 23,
   "metadata": {
    "id": "5iVypYb1rY10",
    "pycharm": {
     "name": "#%%\n"
    }
   },
   "outputs": [
    {
     "name": "stdout",
     "output_type": "stream",
     "text": [
      "(61)3316-0000, 3316-0000, "
     ]
    }
   ],
   "source": [
    "teste = ['(61)3316-0000', '3316-0000', 'x61x3316x0000', '(61)3316x0000', '((61)3316-00006', '77(61)3316x000077',\n",
    "         '(77)(61)3316-00007']\n",
    "\n",
    "for telefone in teste:\n",
    "    if re.search(r'^\\(\\d{2}\\)\\d{4}-\\d{4}$', telefone) or re.search(r'^\\d{4}-\\d{4}$', telefone):\n",
    "        print(f'{telefone}', end = ', ')\n",
    "    else:\n",
    "        pass"
   ]
  },
  {
   "cell_type": "markdown",
   "metadata": {
    "id": "LvfKH3J3JSXi",
    "pycharm": {
     "name": "#%% md\n"
    }
   },
   "source": [
    "### **Q18)** Detectar um número de telefone no formato (xx)xxxx-xxxx ou xxxx-xxxx (sem DDD).\n",
    "\n",
    "* teste=['(61)3316-0000','3316-0000','x61x3316x0000','(61)3316x0000','((61)3316-00006','77(61)3316x000077','(77)(61)3316-00007']\n",
    "* saída= '(61)3316-0000','3316-0000'"
   ]
  },
  {
   "cell_type": "code",
   "execution_count": 25,
   "metadata": {
    "id": "4e9dHwjSrrg2",
    "pycharm": {
     "name": "#%%\n"
    }
   },
   "outputs": [
    {
     "name": "stdout",
     "output_type": "stream",
     "text": [
      "(61)3316-0000\n",
      "3316-0000\n"
     ]
    }
   ],
   "source": [
    "teste=['(61)3316-0000','3316-0000','x61x3316x0000','(61)3316x0000','((61)3316-00006','77(61)3316x000077','(77)(61)3316-00007']\n",
    "\n",
    "for i in teste:\n",
    "    if re.search(r'^\\(?(\\d{2})\\)?\\d{4}-\\d{4}$',i):\n",
    "        print(i)\n",
    "    elif re.search(r'^\\d{4}-\\d{4}$',i):\n",
    "        print(i)"
   ]
  },
  {
   "cell_type": "markdown",
   "metadata": {
    "id": "bXTUy9HqJTLJ",
    "pycharm": {
     "name": "#%% md\n"
    }
   },
   "source": [
    "### **Q19)**  Detectar números (0-9) com a quantidade entre 1 e 3 algarismos em um trecho de texto.\n",
    "\n",
    "* teste1='Exercicios 1, 12, 13 e 345 são importantes, mas não o 1002.'\n",
    "* saída= '1', '12', '13', '345'"
   ]
  },
  {
   "cell_type": "code",
   "execution_count": 26,
   "metadata": {
    "id": "EghLh1O1rqk3",
    "pycharm": {
     "name": "#%%\n"
    }
   },
   "outputs": [
    {
     "name": "stdout",
     "output_type": "stream",
     "text": [
      "['1', '12', '13', '345', '100', '2']\n"
     ]
    }
   ],
   "source": [
    "teste1='Exercicios 1, 12, 13 e 345 são importantes, mas não o 1002.'\n",
    "\n",
    "def detectar_numeros(texto):\n",
    "    numeros = re.findall(r'\\d{1,3}', texto)\n",
    "    return numeros\n",
    "\n",
    "\n",
    "numeros = detectar_numeros(teste1)\n",
    "print(numeros)"
   ]
  },
  {
   "cell_type": "markdown",
   "metadata": {
    "id": "__Np4QjiJp_c",
    "pycharm": {
     "name": "#%% md\n"
    }
   },
   "source": [
    "### **Q20)** Criar uma função que receba uma data no formato 'yyyy-mm-dd' e retorne no formato 'dd-mm-yyyy'. Caso a entrada não esteja no formato, lançar exceção.\n",
    "\n",
    "* teste='2022-08-18', '2022-Ago-18'\n",
    "* saída= '18-08-2022', 'Formato inválido'"
   ]
  },
  {
   "cell_type": "code",
   "execution_count": 27,
   "metadata": {
    "id": "MQXHKWD1iqQP",
    "pycharm": {
     "name": "#%%\n"
    }
   },
   "outputs": [
    {
     "name": "stdout",
     "output_type": "stream",
     "text": [
      "18-08-2022\n",
      "Data inválida!\n"
     ]
    }
   ],
   "source": [
    "teste='2022-08-18', '2022-Ago-18'\n",
    "\n",
    "def data(data):\n",
    "    if re.match(r'\\d{4}-\\d{2}-\\d{2}', data):\n",
    "        data = data.split('-')\n",
    "        data.reverse()\n",
    "        return '-'.join(data)\n",
    "    raise Exception('Data inválida!')\n",
    "\n",
    "for i in teste:\n",
    "    try:\n",
    "        print(data(i))\n",
    "    except Exception as e:\n",
    "        print(e)"
   ]
  },
  {
   "cell_type": "markdown",
   "metadata": {
    "id": "biwYWxwy6wNT",
    "pycharm": {
     "name": "#%% md\n"
    }
   },
   "source": [
    "<div align=right>\n",
    " <sub><b>Processamento de Linguagem Natural</b></sub><br>\n",
    " <sub>Autor: Alexandre Vaz Roriz</sub><br>\n",
    " <a href=https://github.com/alexvaroz/portfolio>Portifólio</a>\n",
    "</div>"
   ]
  }
 ],
 "metadata": {
  "colab": {
   "provenance": []
  },
  "kernelspec": {
   "display_name": "Python 3.9.7 ('base')",
   "language": "python",
   "name": "python3"
  },
  "language_info": {
   "codemirror_mode": {
    "name": "ipython",
    "version": 3
   },
   "file_extension": ".py",
   "mimetype": "text/x-python",
   "name": "python",
   "nbconvert_exporter": "python",
   "pygments_lexer": "ipython3",
   "version": "3.9.7"
  },
  "vscode": {
   "interpreter": {
    "hash": "01f8f73e8052737d22aa5cfa52d73709cdbd5ae80fc4fa1112056b0ed1fa47c6"
   }
  }
 },
 "nbformat": 4,
 "nbformat_minor": 1
}
