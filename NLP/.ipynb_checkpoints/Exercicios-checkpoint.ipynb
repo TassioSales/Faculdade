{
 "cells": [
  {
   "cell_type": "markdown",
   "metadata": {
    "id": "qmPmefhtgEud"
   },
   "source": [
    "## Exercícios - Expressões Regulares\n",
    "\n",
    "Hora de praticar!!!\n",
    "\n",
    "Para cada exercício, apresente o código da função que execute a ação proposta e a execute para os exemplos listados. Vide exercício 1 para modelo."
   ]
  },
  {
   "cell_type": "code",
   "execution_count": 1,
   "metadata": {
    "id": "MpHSdsl5h6U8"
   },
   "outputs": [],
   "source": [
    "# importação das bibliotecas\n",
    "import re"
   ]
  },
  {
   "cell_type": "markdown",
   "metadata": {
    "id": "__m85CXsgovk"
   },
   "source": [
    "### Exemplo) Detectar palavra de 5 letras que inicia com a letra `s`.\n",
    "\n",
    "* teste=['sábado', 'sexta', 'vassoura', 'astuto', 'Santo', 'santo']\n",
    "* saída= 'sexta', 'santo'\n"
   ]
  },
  {
   "cell_type": "code",
   "execution_count": 2,
   "metadata": {
    "colab": {
     "base_uri": "https://localhost:8080/"
    },
    "id": "EmqwXECOglzM",
    "outputId": "08f56d27-c41c-49bb-8cc1-0d3578e0940e"
   },
   "outputs": [
    {
     "name": "stdout",
     "output_type": "stream",
     "text": [
      "sexta\n",
      "santo\n"
     ]
    }
   ],
   "source": [
    "teste=['sábado', 'sexta', 'vassoura', 'astuto', 'Santo', 'santo']\n",
    "regex='^s\\w{4}$'\n",
    "\n",
    "for item in teste:\n",
    "  if (re.search(regex, item)):\n",
    "    print(item)"
   ]
  },
  {
   "cell_type": "markdown",
   "metadata": {
    "id": "X6xGh31AGIdO"
   },
   "source": [
    "### **Q1)** Detectar Uma letra `a` imediatamente seguida por uma ou mais letras `e`.\n",
    "\n",
    "* teste=['ae', 'a', 'bae', 'aeeee', 'aeeeeeeeee', 'abeeee']\n",
    "* saída= 'ae', 'bas', 'aeeee', 'aeeeeeeeee'"
   ]
  },
  {
   "cell_type": "code",
   "execution_count": null,
   "metadata": {
    "id": "j7ateImgAhCz"
   },
   "outputs": [],
   "source": []
  },
  {
   "cell_type": "markdown",
   "metadata": {
    "id": "UdY4xhtwImne"
   },
   "source": [
    "### **Q2)** Detectar palavras de 6 a 15 letras, sem considerar caracteres especiais ou acentuação.\n",
    "\n",
    "* teste=['abraço', 'melodia', 'rotin', 'asa-delta', 'amigão', 'inconstitucionalissimamente']\n",
    "* saída= 'melodia'"
   ]
  },
  {
   "cell_type": "code",
   "execution_count": null,
   "metadata": {
    "id": "mPA2yvbqBYpd"
   },
   "outputs": [],
   "source": [
    "# código"
   ]
  },
  {
   "cell_type": "markdown",
   "metadata": {
    "id": "_XSM6VrRIy24"
   },
   "source": [
    "### **Q3)** Detectar uma palavra com 8 a 10 letras que termine com a letra 'z'\n",
    "* teste=['chafariz','antes chafariz depois', 'gravidez', 'robustezjunto', 'antestalvezjunto', 'talvez']\n",
    "* saída= 'chafariz', 'gravidez'"
   ]
  },
  {
   "cell_type": "code",
   "execution_count": null,
   "metadata": {
    "id": "v2CD08SyjSfM"
   },
   "outputs": [],
   "source": []
  },
  {
   "cell_type": "markdown",
   "metadata": {
    "id": "qt9QVmVmI1OW"
   },
   "source": [
    "### **Q4)** Detectar Um número inteiro com 2, 3 ou 4 dígitos, sendo que o primeiro dígito não pode ser zero.\n",
    "\n",
    "* teste=['ae', 'a', 'bae', 'aeeee', 'aeeeeeeeee', 'abeeee']\n",
    "* saída= 'ae', 'bas', 'aeeee', 'aeeeeeeeee'"
   ]
  },
  {
   "cell_type": "code",
   "execution_count": null,
   "metadata": {
    "id": "XYLZSPXfjR2L"
   },
   "outputs": [],
   "source": []
  },
  {
   "cell_type": "markdown",
   "metadata": {
    "id": "NDtHyXjLI3D2"
   },
   "source": [
    "### **Q5)** Detectar trechos em que inicie com um algarismo(0-9) e termine com um letra.\n",
    "\n",
    "* teste=['1111111b','1bbbb','1b1b1b','teste 1a','bb1bbbbb11b','b1b1b1b1']\n",
    "* saída= '1111111b', '1bbbb', '1b1b1b', '1a'] "
   ]
  },
  {
   "cell_type": "code",
   "execution_count": null,
   "metadata": {
    "id": "tIIBHwNle-dD"
   },
   "outputs": [],
   "source": []
  },
  {
   "cell_type": "markdown",
   "metadata": {
    "id": "F-2gWmDLI40R"
   },
   "source": [
    "### **Q6)** Detectar duas palavras unidas pelas preposições 'de', 'do', 'da', 'dos' ou 'das'. *As palavras somente podem conter letras e elas são separadas por um ou mais espaços.*\n",
    "* teste=['Ouviram do Ipiranga','Às margens plácidas\n",
    "De um povo heroico', \n",
    "'Brilhou no céu da pátria nesse instante', \n",
    "'um raio vívido de amor e de esperança, à terra desce']\n",
    "* saída= 'Ouviram do Ipiranga', 'céu da pátria', 'vívido de amor', 'e de esperança'"
   ]
  },
  {
   "cell_type": "code",
   "execution_count": null,
   "metadata": {
    "id": "FCgrg1u_h6fh"
   },
   "outputs": [],
   "source": []
  },
  {
   "cell_type": "markdown",
   "metadata": {
    "id": "rT27VHl3I6nQ"
   },
   "source": [
    "### **Q7)** Detectar uma palavra seguida de um espaço seguido de um sequência de um ou mais dígitos.\n",
    "\n",
    "* teste=['teste 1234', 'parágrafo 12345','letra 1','a b 1 c','cc 11 a', 'dois espaços não pode  2']\n",
    "* saída=['teste 1234', 'parágrafo 12345', 'letra 1', 'cc 11']"
   ]
  },
  {
   "cell_type": "code",
   "execution_count": null,
   "metadata": {
    "id": "jaAQdh1ugDr4"
   },
   "outputs": [],
   "source": []
  },
  {
   "cell_type": "markdown",
   "metadata": {
    "id": "C_geio75I78P"
   },
   "source": [
    "### **Q8)** Detectar palavras de no mínimo 3 letras e com TODAS as letras maiúsculas.\n",
    "\n",
    "* teste=['Hino Nacional Brasileiro', 'BRASIL', 'Durante o “Dia do Fico”, D. Pedro declarou que permaneceria no Brasil.', \"Bandeira DO Brasil\",\n",
    "'Durante o “Dia do Fico”, DOM PEDRO declarou que permaneceria no Brasil.'\n",
    "* saída='BRASIL, DOM, PEDRO"
   ]
  },
  {
   "cell_type": "code",
   "execution_count": null,
   "metadata": {
    "id": "mzP4yxZLjM1s"
   },
   "outputs": [],
   "source": []
  },
  {
   "cell_type": "markdown",
   "metadata": {
    "id": "MW6lugCjJKo0"
   },
   "source": [
    "### **Q9)** Detectar duas palavras consecutivas, de no mínimo 2 letras cada, com TODAS as letras maiúsculas.\n",
    "* teste=['Durante o “Dia do Fico”, DOM PEDRO declarou que permaneceria no Brasil.', 'O Magazine Luiza(MGLU) é uma empresa de varejo', 'LUIZA TRAJANO é uma empresária brasileira.', 'RELATÓRIO DE TENDÊNCIAs']\n",
    "* saída= 'DOM PEDRO', 'LUIZA TRAJANO, 'RELATÓRIO DE'"
   ]
  },
  {
   "cell_type": "code",
   "execution_count": null,
   "metadata": {
    "id": "kZ2SKwKWl4ac"
   },
   "outputs": [],
   "source": []
  },
  {
   "cell_type": "markdown",
   "metadata": {
    "id": "bhMx3YbWJLcI"
   },
   "source": [
    "### **Q10)** Detectar duas ou mais palavras consecutivas com todas as letras maiúsculas. Cada palavra pode possuir qualquer quantidade de letras..\n",
    "\n",
    "* teste=['Durante o “Dia do Fico”, DOM PEDRO declarou que permaneceria no Brasil.', 'O Magazine Luiza(MGLU) é uma empresa de varejo', 'LUIZA HELENA TRAJANO é uma empresária brasileira.', 'RELATÓRIO de TENDÊNCIAS', 'O RELATÓRIO DE DESEMPENHO foi publicado']\n",
    "* saída= 'DOM PEDRO', 'LUIZA HELENA TRAJANO', 'RELATÓRIO DE DESEMPENHO'"
   ]
  },
  {
   "cell_type": "code",
   "execution_count": null,
   "metadata": {
    "id": "xlDrh3kQonVN"
   },
   "outputs": [],
   "source": []
  },
  {
   "cell_type": "markdown",
   "metadata": {
    "id": "FQgW5zoCJMOk"
   },
   "source": [
    "### **Q11)** Detectar um endereço [IP](https://en.wikipedia.org/wiki/IP_address). ex.: 127.0.0.1, 192.168.0.254. Um IP é formado por exatamente 4 números separados por pontos. Cada número possui no máximo 3 dígitos.\n",
    "* teste=['127.0.0.1','192.168.0.254','10.11.10.11','127.127.127.127','9999.0.0.1','127404041','a127.0.0.1', '127.a.a.1']\n",
    "* saída= '127.0.0.1','192.168.0.254','10.11.10.11','127.127.127.127'"
   ]
  },
  {
   "cell_type": "code",
   "execution_count": null,
   "metadata": {
    "id": "oJgJIWKJn0wm"
   },
   "outputs": [],
   "source": []
  },
  {
   "cell_type": "markdown",
   "metadata": {
    "id": "7LHcm1LIJMro"
   },
   "source": [
    "### **Q12)** Detectar uma url de um site que inicie com o prefixo 'http://' e finalize ou com '.com' ou '.com.br' ou '.br'\n",
    "\n",
    "* teste=['http://www.obrigado.com', 'hp://www.obrigado.com', 'www.thankyou.com', 'http://www.brasil.br', 'http://www.tearto.art', 'http://www.olance.com.ar' ]\n",
    "* saída= 'http://www.obrigado.com'\n"
   ]
  },
  {
   "cell_type": "code",
   "execution_count": null,
   "metadata": {
    "id": "8GfuacYZHWI-"
   },
   "outputs": [],
   "source": []
  },
  {
   "cell_type": "markdown",
   "metadata": {
    "id": "SkEYcCf4JNmw"
   },
   "source": [
    "### **Q13)** Detectar números de CPF com separador de milhares e hífen.\n",
    "\n",
    "* teste=['000.000.000-00','111.111.111-11','0111.111.111-11','11101110111-11','111.111.111111','1110110111111', '..1.11011011-11']\n",
    "* saída= '000.000.000-00','111.111.111-11'"
   ]
  },
  {
   "cell_type": "code",
   "execution_count": null,
   "metadata": {
    "id": "oaVIlLdtolZy"
   },
   "outputs": [],
   "source": []
  },
  {
   "cell_type": "markdown",
   "metadata": {
    "id": "By__nCvLJOD6"
   },
   "source": [
    "### **Q14)** Detectar números de CPF com separador de milhares opcional e hífen opcional.\n",
    "\n",
    "* teste=['000.000.000-00','111.111.111-11','0111.111.111-11','11101110111-11','111.111.111111','1110110111111', '..1.11011011-11', '123456789-12','123.456.78912', '12345678912']\n",
    "* saída= '000.000.000-00','111.111.111-11', '123456789-12','123.456.78912'"
   ]
  },
  {
   "cell_type": "code",
   "execution_count": null,
   "metadata": {
    "id": "ZceC7KHxpWlQ"
   },
   "outputs": [],
   "source": []
  },
  {
   "cell_type": "markdown",
   "metadata": {
    "id": "_mURUbwdJO6g"
   },
   "source": [
    "### **Q15)** Detectar CNPJ com separador de milhares, barra e hífen.\n",
    "* teste=['00.000.000/0001-00','xx.000.000/0001-xx','0011001000/0001-00','00.000.00010001-00','00.000.000/0001100','00000.000/0001-00','00000000/0001-00','000000000001-00']\n",
    "* saída= '00.000.000/0001-00'"
   ]
  },
  {
   "cell_type": "code",
   "execution_count": null,
   "metadata": {
    "id": "dyGsJlLap4T4"
   },
   "outputs": [],
   "source": []
  },
  {
   "cell_type": "markdown",
   "metadata": {
    "id": "IDQiJmUnJPqz"
   },
   "source": [
    "### **Q16)** Detectar a sequencia de 7 caracteres que possua o formato sete letras maiúsculas, espaço, e 4 algarismos, sendo que a primeira letra só pode ser J, K ou L.\n",
    "\n",
    "* teste=['JPA 2345', 'JJJ3767', 'JJJ 1234', 'ABJ 0000', 'jkl 1234', 'LAp 1234']\n",
    "* saída= 'JPA 2345', 'JJJ 1234'"
   ]
  },
  {
   "cell_type": "code",
   "execution_count": null,
   "metadata": {
    "id": "bWu9vlz5rZqY"
   },
   "outputs": [],
   "source": []
  },
  {
   "cell_type": "markdown",
   "metadata": {
    "id": "jyt0bg8GJRYi"
   },
   "source": [
    "### **Q17)** Detectar números de telefone no formato (xx)xxxx-xxxx.\n",
    "\n",
    "* teste=['(61)3316-0000','3316-0000','x61x3316x0000','(61)3316x0000','((61)3316-00006','77(61)3316x000077','(77)(61)3316-00007']\n",
    "* saída= '(61)3316-0000'"
   ]
  },
  {
   "cell_type": "code",
   "execution_count": null,
   "metadata": {
    "id": "5iVypYb1rY10"
   },
   "outputs": [],
   "source": []
  },
  {
   "cell_type": "markdown",
   "metadata": {
    "id": "LvfKH3J3JSXi"
   },
   "source": [
    "### **Q18)** Detectar um número de telefone no formato (xx)xxxx-xxxx ou xxxx-xxxx (sem DDD).\n",
    "\n",
    "* teste=['(61)3316-0000','3316-0000','x61x3316x0000','(61)3316x0000','((61)3316-00006','77(61)3316x000077','(77)(61)3316-00007']\n",
    "* saída= '(61)3316-0000','3316-0000'"
   ]
  },
  {
   "cell_type": "code",
   "execution_count": null,
   "metadata": {
    "id": "4e9dHwjSrrg2"
   },
   "outputs": [],
   "source": []
  },
  {
   "cell_type": "markdown",
   "metadata": {
    "id": "bXTUy9HqJTLJ"
   },
   "source": [
    "### **Q19)**  Detectar números (0-9) com a quantidade entre 1 e 3 algarismos em um trecho de texto.\n",
    "\n",
    "* teste1='Exercicios 1, 12, 13 e 345 são importantes, mas não o 1002.'\n",
    "* saída= '1', '12', '13', '345'"
   ]
  },
  {
   "cell_type": "code",
   "execution_count": null,
   "metadata": {
    "id": "EghLh1O1rqk3"
   },
   "outputs": [],
   "source": []
  },
  {
   "cell_type": "markdown",
   "metadata": {
    "id": "__Np4QjiJp_c"
   },
   "source": [
    "### **Q20)** Criar uma função que receba uma data no formato 'yyyy-mm-dd' e retorne no formato 'dd-mm-yyyy'. Caso a entrada não esteja no formato, lançar exceção.\n",
    "\n",
    "* teste='2022-08-18', '2022-Ago-18'\n",
    "* saída= '18-08-2022', 'Formato inválido'"
   ]
  },
  {
   "cell_type": "code",
   "execution_count": null,
   "metadata": {
    "id": "MQXHKWD1iqQP"
   },
   "outputs": [],
   "source": []
  },
  {
   "cell_type": "markdown",
   "metadata": {
    "id": "biwYWxwy6wNT"
   },
   "source": [
    "<div align=right>\n",
    " <sub><b>Processamento de Linguagem Natural</b></sub><br>\n",
    " <sub>Autor: Alexandre Vaz Roriz</sub><br>\n",
    " <a href=https://github.com/alexvaroz/portfolio>Portifólio</a>\n",
    "</div>"
   ]
  }
 ],
 "metadata": {
  "colab": {
   "provenance": []
  },
  "kernelspec": {
   "display_name": "Python 3 (ipykernel)",
   "language": "python",
   "name": "python3"
  },
  "language_info": {
   "codemirror_mode": {
    "name": "ipython",
    "version": 3
   },
   "file_extension": ".py",
   "mimetype": "text/x-python",
   "name": "python",
   "nbconvert_exporter": "python",
   "pygments_lexer": "ipython3",
   "version": "3.9.7"
  }
 },
 "nbformat": 4,
 "nbformat_minor": 1
}
