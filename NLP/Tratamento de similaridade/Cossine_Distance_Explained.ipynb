{
 "cells": [
  {
   "cell_type": "markdown",
   "metadata": {
    "id": "Dd_VsW0Q8vKk"
   },
   "source": [
    "# Cossine Similarity\n",
    "\n",
    "A 'Similaridade por Cosseno' utiliza o cálculo do cosseno do ângulo entre dois vetores para verificar o quão similar são dois vetores.\n",
    "\n",
    "Se o resultado for mais próximo de +1, os vetores são bastante similares. Caso contrário, sendo próximos de -1, os vetores são mais diferentes.\n",
    "\n",
    "Uma das fórmulas para o cálculo é a seguinte:\n",
    "\n",
    "\n",
    "$$\n",
    "cos(\\theta) = \n",
    "\\dfrac{A . B}{||A||||B||} =\\dfrac{A . B}{\\sqrt{\\sum_{i=1}^{i=N}}{w_{iA}^2} + \\sqrt{\\sum_{i=1}^{i=N}}{w_{iB}^2}}\n",
    "$$\n",
    "\n",
    "Considerando os vetores abaixo, calcule a Similaridade por Cosseno para eles:\n",
    "\n",
    "d1 = (5, 0, 3, 0, 2, 0, 0, 2, 0, 0) \n",
    "d2 = (3, 0, 2, 0, 1, 1, 0, 1, 0, 1)"
   ]
  },
  {
   "cell_type": "code",
   "execution_count": 106,
   "metadata": {
    "id": "ApZtDkxy-zlr"
   },
   "outputs": [],
   "source": [
    "import numpy as np\n",
    "\n",
    "def cosine_similarity(vector1, vector2):\n",
    "  vector1 = np.array(vector1)\n",
    "  vector2 = np.array(vector2)\n",
    "  return np.dot(vector1, vector2) / (np.sqrt(np.sum(vector1**2))*np.sqrt(np.sum(vector2**2)))"
   ]
  },
  {
   "cell_type": "code",
   "execution_count": 107,
   "metadata": {
    "id": "gAPRivJc_EHP"
   },
   "outputs": [],
   "source": [
    "d1 = [5, 0, 3, 0, 2, 0, 0, 2, 0, 0] \n",
    "d2 = [3, 0, 2, 0, 1, 1, 0, 1, 0, 1]"
   ]
  },
  {
   "cell_type": "markdown",
   "metadata": {},
   "source": []
  },
  {
   "cell_type": "code",
   "execution_count": 108,
   "metadata": {
    "colab": {
     "base_uri": "https://localhost:8080/"
    },
    "id": "KSNLi7TF_fqy",
    "outputId": "d57edfa7-c752-4deb-839d-d08eb115dabf"
   },
   "outputs": [
    {
     "data": {
      "text/plain": [
       "0.9356014857063997"
      ]
     },
     "execution_count": 108,
     "metadata": {},
     "output_type": "execute_result"
    }
   ],
   "source": [
    "cosine_similarity(d1,d2)"
   ]
  },
  {
   "cell_type": "markdown",
   "metadata": {
    "id": "BB9WuWIv_kII"
   },
   "source": [
    "A biblioteca `scipy` apresenta a função `distance.cosine` que utiliza a similaridade por cosseno. No caso a função recupera a disTância que deve ser subtraída de 1 para a obtenção da similaridade. "
   ]
  },
  {
   "cell_type": "code",
   "execution_count": 109,
   "metadata": {
    "colab": {
     "base_uri": "https://localhost:8080/"
    },
    "id": "JInwAgAY_yrx",
    "outputId": "0a79cf71-b8a9-4c5b-d6a8-83f4dd303e4e"
   },
   "outputs": [
    {
     "data": {
      "text/plain": [
       "0.06439851429360033"
      ]
     },
     "execution_count": 109,
     "metadata": {},
     "output_type": "execute_result"
    }
   ],
   "source": [
    "from scipy import spatial\n",
    "\n",
    "spatial.distance.cosine(d1, d2)"
   ]
  },
  {
   "cell_type": "code",
   "execution_count": 110,
   "metadata": {
    "colab": {
     "base_uri": "https://localhost:8080/"
    },
    "id": "0gfTv7GLBaN1",
    "outputId": "5683ef04-4b2c-4246-ff68-a32be032b08d"
   },
   "outputs": [
    {
     "name": "stdout",
     "output_type": "stream",
     "text": [
      "Distância:  0.06439851429360033\n",
      "Similaridade:  0.9356014857063997\n"
     ]
    }
   ],
   "source": [
    "print(\"Distância: \" , spatial.distance.cosine(d1, d2) )\n",
    "print(\"Similaridade: \" , 1 - spatial.distance.cosine(d1, d2) )"
   ]
  },
  {
   "cell_type": "markdown",
   "metadata": {
    "id": "CD-TUj_ohfHE"
   },
   "source": [
    "### Para exercitar, capture 10 sentenças de forma aleatória do dataset carregado abaixo e aplique a função para identificar as mais semelhantes utilizando a matriz BoW do corpus."
   ]
  },
  {
   "cell_type": "code",
   "execution_count": 111,
   "metadata": {
    "id": "uiKU3r0Eh2sS"
   },
   "outputs": [],
   "source": [
    "import pandas as pd\n",
    "exercicio = pd.read_csv('https://raw.githubusercontent.com/alexvaroz/data_science_alem_do_basico/master/americanas_analise_sentimento_preparado.csv')"
   ]
  },
  {
   "cell_type": "code",
   "execution_count": 112,
   "metadata": {
    "id": "Ba5nIL_CiEux"
   },
   "outputs": [],
   "source": [
    "exercicio = exercicio.sample(10)"
   ]
  },
  {
   "cell_type": "code",
   "execution_count": 113,
   "metadata": {
    "colab": {
     "base_uri": "https://localhost:8080/",
     "height": 363
    },
    "id": "B9Bhst8Z9K86",
    "outputId": "4f6c9c7c-bad1-44ac-e236-84163a80dbab"
   },
   "outputs": [
    {
     "data": {
      "text/html": [
       "<div>\n",
       "<style scoped>\n",
       "    .dataframe tbody tr th:only-of-type {\n",
       "        vertical-align: middle;\n",
       "    }\n",
       "\n",
       "    .dataframe tbody tr th {\n",
       "        vertical-align: top;\n",
       "    }\n",
       "\n",
       "    .dataframe thead th {\n",
       "        text-align: right;\n",
       "    }\n",
       "</style>\n",
       "<table border=\"1\" class=\"dataframe\">\n",
       "  <thead>\n",
       "    <tr style=\"text-align: right;\">\n",
       "      <th></th>\n",
       "      <th>review_text</th>\n",
       "      <th>sentiment</th>\n",
       "    </tr>\n",
       "  </thead>\n",
       "  <tbody>\n",
       "    <tr>\n",
       "      <th>70975</th>\n",
       "      <td>Produto em perfeitíssimo estado e entrega supe...</td>\n",
       "      <td>positive</td>\n",
       "    </tr>\n",
       "    <tr>\n",
       "      <th>31774</th>\n",
       "      <td>A churrasqueira é ótima. A carne fica uma delí...</td>\n",
       "      <td>positive</td>\n",
       "    </tr>\n",
       "    <tr>\n",
       "      <th>11919</th>\n",
       "      <td>Adorei o livro. Muito interessante. Chegou ant...</td>\n",
       "      <td>positive</td>\n",
       "    </tr>\n",
       "    <tr>\n",
       "      <th>71562</th>\n",
       "      <td>já paguei a primeira parcela e ainda não receb...</td>\n",
       "      <td>negative</td>\n",
       "    </tr>\n",
       "    <tr>\n",
       "      <th>68158</th>\n",
       "      <td>Imaginei que o porta escova fosse fechado para...</td>\n",
       "      <td>negative</td>\n",
       "    </tr>\n",
       "    <tr>\n",
       "      <th>54589</th>\n",
       "      <td>Excelente produto, melhor que as de bateria, p...</td>\n",
       "      <td>positive</td>\n",
       "    </tr>\n",
       "    <tr>\n",
       "      <th>15407</th>\n",
       "      <td>Poderia até elogiar a entrega que foi super rá...</td>\n",
       "      <td>negative</td>\n",
       "    </tr>\n",
       "    <tr>\n",
       "      <th>38291</th>\n",
       "      <td>Só encontrei com eles o tamanho grande de 1,5 ...</td>\n",
       "      <td>positive</td>\n",
       "    </tr>\n",
       "    <tr>\n",
       "      <th>5033</th>\n",
       "      <td>Adequado para usar em qualquer ocasião, desde ...</td>\n",
       "      <td>positive</td>\n",
       "    </tr>\n",
       "    <tr>\n",
       "      <th>60255</th>\n",
       "      <td>tive o desprazer de comprar esta bicicleta ale...</td>\n",
       "      <td>negative</td>\n",
       "    </tr>\n",
       "  </tbody>\n",
       "</table>\n",
       "</div>"
      ],
      "text/plain": [
       "                                             review_text sentiment\n",
       "70975  Produto em perfeitíssimo estado e entrega supe...  positive\n",
       "31774  A churrasqueira é ótima. A carne fica uma delí...  positive\n",
       "11919  Adorei o livro. Muito interessante. Chegou ant...  positive\n",
       "71562  já paguei a primeira parcela e ainda não receb...  negative\n",
       "68158  Imaginei que o porta escova fosse fechado para...  negative\n",
       "54589  Excelente produto, melhor que as de bateria, p...  positive\n",
       "15407  Poderia até elogiar a entrega que foi super rá...  negative\n",
       "38291  Só encontrei com eles o tamanho grande de 1,5 ...  positive\n",
       "5033   Adequado para usar em qualquer ocasião, desde ...  positive\n",
       "60255  tive o desprazer de comprar esta bicicleta ale...  negative"
      ]
     },
     "execution_count": 113,
     "metadata": {},
     "output_type": "execute_result"
    }
   ],
   "source": [
    "exercicio"
   ]
  },
  {
   "cell_type": "code",
   "execution_count": 114,
   "metadata": {
    "id": "9rnV7tsyDTIy"
   },
   "outputs": [],
   "source": [
    "sentences = list(exercicio.review_text.values)"
   ]
  },
  {
   "cell_type": "code",
   "execution_count": 115,
   "metadata": {
    "colab": {
     "base_uri": "https://localhost:8080/"
    },
    "id": "dwrQkgazSeUh",
    "outputId": "f77d1a44-be79-4ea8-f31e-c6580f1b6d4e"
   },
   "outputs": [
    {
     "data": {
      "text/plain": [
       "['Produto em perfeitíssimo estado e entrega super rápida.',\n",
       " 'A churrasqueira é ótima. A carne fica uma delícia e com sabor de carne de churrasco mesmo. Excelente produto. Eu recomendo.',\n",
       " 'Adorei o livro. Muito interessante. Chegou antes do prazo.',\n",
       " 'já paguei a primeira parcela e ainda não recebi o Smartphone, sempre comprei na americanas online e nunca demorou tanto para entregar. no anuncio pede 10 dias e depois de efetuar a compra muda para 25 dias, isso e um absurdo. muito insatisfeito.. e sem falar que onde eu moro já tem desse celular para vender no mesmo valor.',\n",
       " 'Imaginei que o porta escova fosse fechado para evitar que insetos tivessem acesso à escova , mas ela tem pequenas aberturas na parte de trás que não permitem tal proteção, porém o produto cumpre com o prometido',\n",
       " 'Excelente produto, melhor que as de bateria, pois o custo da bateria chega a ser o mesmo preço do equipamento.',\n",
       " 'Poderia até elogiar a entrega que foi super rápida, porém não recebi o que comprei, recebi cartuchos recarregados e que a impressora não reconheceu. Até que não estava vazando e tem tinta, não sei até quando. Sugiro que quando venderem um produto que sejam pelo menos honestos pra dizer o tipo de produto estamos comprando afinal de contas, pq eu comprei original e recebi de segunda mão. Insatisfeita com a enganação.',\n",
       " 'Só encontrei com eles o tamanho grande de 1,5 metros aço inox , lindo .',\n",
       " 'Adequado para usar em qualquer ocasião, desde uma reunião a uso do dia a dia.',\n",
       " 'tive o desprazer de comprar esta bicicleta alem deles mandar uma coisa com defeito ainda por cima não nos atende para poder pelome-nos resolver o problema ou dar uma atenção para os clientes. Isso que a  Ride Shop faz é um descaso com o Consumidor ...  NÃO COMPREM PARA NÃO SE ARREPENDER .']"
      ]
     },
     "execution_count": 115,
     "metadata": {},
     "output_type": "execute_result"
    }
   ],
   "source": [
    "sentences"
   ]
  },
  {
   "cell_type": "code",
   "execution_count": 116,
   "metadata": {
    "colab": {
     "base_uri": "https://localhost:8080/"
    },
    "id": "fKMLfMyhDZdw",
    "outputId": "39a007a5-08fa-4ce5-c05d-a6c0dfcb00f7"
   },
   "outputs": [
    {
     "name": "stderr",
     "output_type": "stream",
     "text": [
      "2022-09-30 17:48:28.412147: W tensorflow/stream_executor/platform/default/dso_loader.cc:64] Could not load dynamic library 'cudart64_110.dll'; dlerror: cudart64_110.dll not found\n",
      "2022-09-30 17:48:28.412467: I tensorflow/stream_executor/cuda/cudart_stub.cc:29] Ignore above cudart dlerror if you do not have a GPU set up on your machine.\n",
      "2022-09-30 17:48:30.696971: W tensorflow/stream_executor/platform/default/dso_loader.cc:64] Could not load dynamic library 'cudart64_110.dll'; dlerror: cudart64_110.dll not found\n",
      "2022-09-30 17:48:30.701090: W tensorflow/stream_executor/platform/default/dso_loader.cc:64] Could not load dynamic library 'cublas64_11.dll'; dlerror: cublas64_11.dll not found\n",
      "2022-09-30 17:48:30.705232: W tensorflow/stream_executor/platform/default/dso_loader.cc:64] Could not load dynamic library 'cublasLt64_11.dll'; dlerror: cublasLt64_11.dll not found\n",
      "2022-09-30 17:48:30.709218: W tensorflow/stream_executor/platform/default/dso_loader.cc:64] Could not load dynamic library 'cufft64_10.dll'; dlerror: cufft64_10.dll not found\n",
      "2022-09-30 17:48:30.713146: W tensorflow/stream_executor/platform/default/dso_loader.cc:64] Could not load dynamic library 'curand64_10.dll'; dlerror: curand64_10.dll not found\n",
      "2022-09-30 17:48:30.717296: W tensorflow/stream_executor/platform/default/dso_loader.cc:64] Could not load dynamic library 'cusolver64_11.dll'; dlerror: cusolver64_11.dll not found\n",
      "2022-09-30 17:48:30.721562: W tensorflow/stream_executor/platform/default/dso_loader.cc:64] Could not load dynamic library 'cusparse64_11.dll'; dlerror: cusparse64_11.dll not found\n",
      "2022-09-30 17:48:30.725895: W tensorflow/stream_executor/platform/default/dso_loader.cc:64] Could not load dynamic library 'cudnn64_8.dll'; dlerror: cudnn64_8.dll not found\n",
      "2022-09-30 17:48:30.726196: W tensorflow/core/common_runtime/gpu/gpu_device.cc:1850] Cannot dlopen some GPU libraries. Please make sure the missing libraries mentioned above are installed properly if you would like to use GPU. Follow the guide at https://www.tensorflow.org/install/gpu for how to download and setup the required libraries for your platform.\n",
      "Skipping registering GPU devices...\n",
      "WARNING: Ignoring invalid distribution -rotobuf (c:\\users\\tassi\\anaconda3\\lib\\site-packages)\n",
      "WARNING: Ignoring invalid distribution -rotobuf (c:\\users\\tassi\\anaconda3\\lib\\site-packages)\n",
      "WARNING: Ignoring invalid distribution -rotobuf (c:\\users\\tassi\\anaconda3\\lib\\site-packages)\n",
      "WARNING: Ignoring invalid distribution -rotobuf (c:\\users\\tassi\\anaconda3\\lib\\site-packages)\n",
      "WARNING: Ignoring invalid distribution -rotobuf (c:\\users\\tassi\\anaconda3\\lib\\site-packages)\n",
      "WARNING: Ignoring invalid distribution -rotobuf (c:\\users\\tassi\\anaconda3\\lib\\site-packages)\n"
     ]
    },
    {
     "name": "stdout",
     "output_type": "stream",
     "text": [
      "✔ Download and installation successful\n",
      "You can now load the package via spacy.load('pt_core_news_sm')\n"
     ]
    }
   ],
   "source": [
    "import spacy\n",
    "import pandas as pd\n",
    "import re\n",
    "import numpy as np\n",
    "\n",
    "!spacy download pt_core_news_sm -q\n",
    "\n",
    "# fazer a carga\n",
    "nlp = spacy.load('pt_core_news_sm')"
   ]
  },
  {
   "cell_type": "code",
   "execution_count": 117,
   "metadata": {
    "id": "QGa8_PyeDjmg"
   },
   "outputs": [],
   "source": [
    "def normalize(sentence):\n",
    "  sentence_tokenize = [token.lemma_ for token in nlp(sentence.lower()) \n",
    "              if (token.is_alpha & ~token.is_stop)]\n",
    "  return ' '.join(sentence_tokenize)"
   ]
  },
  {
   "cell_type": "code",
   "execution_count": 118,
   "metadata": {
    "id": "zxRk4EYWDmyY"
   },
   "outputs": [],
   "source": [
    "preprocessed_sentences = [normalize(sentence) for sentence in sentences]"
   ]
  },
  {
   "cell_type": "code",
   "execution_count": 119,
   "metadata": {
    "colab": {
     "base_uri": "https://localhost:8080/"
    },
    "id": "OYRCx39JSn4E",
    "outputId": "78a2b79f-b1d0-4042-e844-75d0d624aa48"
   },
   "outputs": [
    {
     "data": {
      "text/plain": [
       "['produto perfeitíssimo entregar super rápido',\n",
       " 'churrasqueira ótimo carne ficar delícia sabor carne churrasco excelente produto recomendar',\n",
       " 'ador livro interessante chegar prazo',\n",
       " 'paguei parcela recebi smartphone comprar americana online demorar entregar anuncio pedir dia efetuar compra mudar dia absurdo insatisfeito falar morar celular vender',\n",
       " 'imaginar porta escova ser fechar evitar inseto ter acesso escova pequeno abertura trás permitir proteção produto cumprir prometido',\n",
       " 'excelente produto bom bateria custo bateria chegar preço equipamento',\n",
       " 'poder elogiar entrega super rápido recebi comprar recebi cartucho recarregar impressora reconhecer vazar tinta sugiro vender produto ser honesto pra produto estar comprar afinal conta pq compr original recebi mão insatisfeito enganação',\n",
       " 'encontrar tamanho metro aço inox lir',\n",
       " 'adequado ocasião reunião uso dia dia',\n",
       " 'desprazer comprar bicicleta aler de eles mandar defeito atender resolver problema atenção cliente ride shop descaso consumidor compr arrepender']"
      ]
     },
     "execution_count": 119,
     "metadata": {},
     "output_type": "execute_result"
    }
   ],
   "source": [
    "preprocessed_sentences"
   ]
  },
  {
   "cell_type": "code",
   "execution_count": 120,
   "metadata": {
    "id": "InD1b_QwfYNc"
   },
   "outputs": [],
   "source": [
    "from sklearn.feature_extraction.text import CountVectorizer\n",
    "\n",
    "vectorizer = CountVectorizer()\n",
    "bow_matrix = vectorizer.fit_transform(preprocessed_sentences)"
   ]
  },
  {
   "cell_type": "code",
   "execution_count": 121,
   "metadata": {
    "colab": {
     "base_uri": "https://localhost:8080/"
    },
    "id": "yLGNRnfJTLOk",
    "outputId": "501e1559-9243-468d-b64e-f5af8d06477d"
   },
   "outputs": [
    {
     "data": {
      "text/plain": [
       "array([0, 0, 0, 0, 0, 0, 0, 0, 0, 0, 0, 0, 0, 0, 0, 0, 0, 0, 0, 0, 0, 0,\n",
       "       0, 0, 0, 0, 0, 0, 0, 0, 0, 0, 0, 0, 0, 0, 0, 0, 0, 0, 0, 0, 0, 1,\n",
       "       0, 0, 0, 0, 0, 0, 0, 0, 0, 0, 0, 0, 0, 0, 0, 0, 0, 0, 0, 0, 0, 0,\n",
       "       0, 0, 0, 0, 0, 0, 0, 1, 0, 0, 0, 0, 0, 0, 0, 0, 1, 0, 0, 0, 0, 0,\n",
       "       0, 0, 0, 0, 1, 0, 0, 0, 0, 0, 1, 0, 0, 0, 0, 0, 0, 0, 0],\n",
       "      dtype=int64)"
      ]
     },
     "execution_count": 121,
     "metadata": {},
     "output_type": "execute_result"
    }
   ],
   "source": [
    "bow_matrix.toarray()[0]"
   ]
  },
  {
   "cell_type": "code",
   "execution_count": 122,
   "metadata": {
    "colab": {
     "base_uri": "https://localhost:8080/"
    },
    "id": "0fMI8EQQ91uV",
    "outputId": "a59df2fb-a83c-4e9b-bfbd-4c343167bf72"
   },
   "outputs": [
    {
     "data": {
      "text/plain": [
       "0.0"
      ]
     },
     "execution_count": 122,
     "metadata": {},
     "output_type": "execute_result"
    }
   ],
   "source": [
    "from scipy import spatial\n",
    "\n",
    "d1 = bow_matrix.toarray()[5]\n",
    "d2 = bow_matrix.toarray()[8]\n",
    "similaridade = 1 - spatial.distance.cosine(d1,d2)\n",
    "similaridade"
   ]
  },
  {
   "cell_type": "code",
   "execution_count": 123,
   "metadata": {
    "collapsed": false
   },
   "outputs": [],
   "source": [
    "#Para exercitar, capture 10 sentenças de forma aleatória do dataset carregado abaixo e aplique a função para dentificaras mais semelhantes utilizando a matriz BoW do corpus.\n"
   ]
  },
  {
   "cell_type": "code",
   "execution_count": 124,
   "metadata": {},
   "outputs": [
    {
     "name": "stdout",
     "output_type": "stream",
     "text": [
      "['Imaginei que o porta escova fosse fechado para evitar que insetos tivessem acesso à escova , mas ela tem pequenas aberturas na parte de trás que não permitem tal proteção, porém o produto cumpre com o prometido', 'Só encontrei com eles o tamanho grande de 1,5 metros aço inox , lindo .', 'Produto em perfeitíssimo estado e entrega super rápida.', 'já paguei a primeira parcela e ainda não recebi o Smartphone, sempre comprei na americanas online e nunca demorou tanto para entregar. no anuncio pede 10 dias e depois de efetuar a compra muda para 25 dias, isso e um absurdo. muito insatisfeito.. e sem falar que onde eu moro já tem desse celular para vender no mesmo valor.', 'Excelente produto, melhor que as de bateria, pois o custo da bateria chega a ser o mesmo preço do equipamento.', 'Adorei o livro. Muito interessante. Chegou antes do prazo.', 'Adequado para usar em qualquer ocasião, desde uma reunião a uso do dia a dia.', 'tive o desprazer de comprar esta bicicleta alem deles mandar uma coisa com defeito ainda por cima não nos atende para poder pelome-nos resolver o problema ou dar uma atenção para os clientes. Isso que a  Ride Shop faz é um descaso com o Consumidor ...  NÃO COMPREM PARA NÃO SE ARREPENDER .', 'Poderia até elogiar a entrega que foi super rápida, porém não recebi o que comprei, recebi cartuchos recarregados e que a impressora não reconheceu. Até que não estava vazando e tem tinta, não sei até quando. Sugiro que quando venderem um produto que sejam pelo menos honestos pra dizer o tipo de produto estamos comprando afinal de contas, pq eu comprei original e recebi de segunda mão. Insatisfeita com a enganação.', 'A churrasqueira é ótima. A carne fica uma delícia e com sabor de carne de churrasco mesmo. Excelente produto. Eu recomendo.']\n"
     ]
    }
   ],
   "source": [
    "#Para exercitar, capture 10 sentenças de forma aleatória do dataset carregado abaixo e aplique a função para identificar as mais semelhantes utilizando a matriz BoW do corpus.\n",
    "\n",
    "#funçao para capturar 10 sentenças de forma aleatória do dataset \n",
    "def captura_sentencas_aleatorias(dataset, numero_sentencas):\n",
    "      #captura 10 sentenças de forma aleatória do dataset\n",
    "      sentencas = dataset.sample(numero_sentencas)\n",
    "      #captura o texto das sentenças\n",
    "      sentencas = list(sentencas.review_text.values)\n",
    "      #mostra as sentenças\n",
    "      print(sentencas)\n",
    "      return sentencas\n",
    "\n",
    "\n",
    "lista = captura_sentencas_aleatorias(exercicio, 10)"
   ]
  },
  {
   "cell_type": "code",
   "execution_count": 125,
   "metadata": {},
   "outputs": [
    {
     "name": "stdout",
     "output_type": "stream",
     "text": [
      "Setença : 0: Imaginei que o porta escova fosse fechado para evitar que insetos tivessem acesso à escova , mas ela tem pequenas aberturas na parte de trás que não permitem tal proteção, porém o produto cumpre com o prometido\n",
      "Setença : 1: Só encontrei com eles o tamanho grande de 1,5 metros aço inox , lindo .\n",
      "Setença : 2: Produto em perfeitíssimo estado e entrega super rápida.\n",
      "Setença : 3: já paguei a primeira parcela e ainda não recebi o Smartphone, sempre comprei na americanas online e nunca demorou tanto para entregar. no anuncio pede 10 dias e depois de efetuar a compra muda para 25 dias, isso e um absurdo. muito insatisfeito.. e sem falar que onde eu moro já tem desse celular para vender no mesmo valor.\n",
      "Setença : 4: Excelente produto, melhor que as de bateria, pois o custo da bateria chega a ser o mesmo preço do equipamento.\n",
      "Setença : 5: Adorei o livro. Muito interessante. Chegou antes do prazo.\n",
      "Setença : 6: Adequado para usar em qualquer ocasião, desde uma reunião a uso do dia a dia.\n",
      "Setença : 7: tive o desprazer de comprar esta bicicleta alem deles mandar uma coisa com defeito ainda por cima não nos atende para poder pelome-nos resolver o problema ou dar uma atenção para os clientes. Isso que a  Ride Shop faz é um descaso com o Consumidor ...  NÃO COMPREM PARA NÃO SE ARREPENDER .\n",
      "Setença : 8: Poderia até elogiar a entrega que foi super rápida, porém não recebi o que comprei, recebi cartuchos recarregados e que a impressora não reconheceu. Até que não estava vazando e tem tinta, não sei até quando. Sugiro que quando venderem um produto que sejam pelo menos honestos pra dizer o tipo de produto estamos comprando afinal de contas, pq eu comprei original e recebi de segunda mão. Insatisfeita com a enganação.\n",
      "Setença : 9: A churrasqueira é ótima. A carne fica uma delícia e com sabor de carne de churrasco mesmo. Excelente produto. Eu recomendo.\n"
     ]
    }
   ],
   "source": [
    "#mostra as sentenças em ordem de 0 a 9\n",
    "for i in range(len(lista)):\n",
    "  print(f'Setença : {i}: {lista[i]}')"
   ]
  },
  {
   "cell_type": "code",
   "execution_count": 126,
   "metadata": {},
   "outputs": [],
   "source": [
    "#avaliar a similaridade entre as sentenças da lista utilizando a matriz BoW \n",
    "def avalia_similaridade(lista, matriz_bow):\n",
    "    for i in range(len(lista)):\n",
    "        for j in range(len(lista)):\n",
    "            if i != j:\n",
    "                d1 = matriz_bow.toarray()[i]\n",
    "                d2 = matriz_bow.toarray()[j]\n",
    "                similaridade = 1 - spatial.distance.cosine(d1,d2)\n",
    "                print(\"Similaridade entre as sentenças {} e {} é: {}\".format(i, j, similaridade))\n"
   ]
  },
  {
   "cell_type": "code",
   "execution_count": 129,
   "metadata": {},
   "outputs": [
    {
     "name": "stdout",
     "output_type": "stream",
     "text": [
      "Similaridade entre as sentenças 0 e 1 é: 0.12403473458920844\n",
      "Similaridade entre as sentenças 0 e 2 é: 0.0\n",
      "Similaridade entre as sentenças 0 e 3 é: 0.09128709291752768\n",
      "Similaridade entre as sentenças 0 e 4 é: 0.09999999999999998\n",
      "Similaridade entre as sentenças 0 e 5 é: 0.13483997249264845\n",
      "Similaridade entre as sentenças 0 e 6 é: 0.27602622373694174\n",
      "Similaridade entre as sentenças 0 e 7 é: 0.0\n",
      "Similaridade entre as sentenças 0 e 8 é: 0.0\n",
      "Similaridade entre as sentenças 0 e 9 é: 0.0\n",
      "Similaridade entre as sentenças 1 e 0 é: 0.12403473458920844\n",
      "Similaridade entre as sentenças 1 e 2 é: 0.0\n",
      "Similaridade entre as sentenças 1 e 3 é: 0.0\n",
      "Similaridade entre as sentenças 1 e 4 é: 0.062017367294604275\n",
      "Similaridade entre as sentenças 1 e 5 é: 0.1672484020014181\n",
      "Similaridade entre as sentenças 1 e 6 é: 0.08559209850218252\n",
      "Similaridade entre as sentenças 1 e 7 é: 0.0\n",
      "Similaridade entre as sentenças 1 e 8 é: 0.0\n",
      "Similaridade entre as sentenças 1 e 9 é: 0.0\n",
      "Similaridade entre as sentenças 2 e 0 é: 0.0\n",
      "Similaridade entre as sentenças 2 e 1 é: 0.0\n",
      "Similaridade entre as sentenças 2 e 3 é: 0.0\n",
      "Similaridade entre as sentenças 2 e 4 é: 0.0\n",
      "Similaridade entre as sentenças 2 e 5 é: 0.13483997249264845\n",
      "Similaridade entre as sentenças 2 e 6 é: 0.0\n",
      "Similaridade entre as sentenças 2 e 7 é: 0.0\n",
      "Similaridade entre as sentenças 2 e 8 é: 0.0\n",
      "Similaridade entre as sentenças 2 e 9 é: 0.0\n",
      "Similaridade entre as sentenças 3 e 0 é: 0.09128709291752768\n",
      "Similaridade entre as sentenças 3 e 1 é: 0.0\n",
      "Similaridade entre as sentenças 3 e 2 é: 0.0\n",
      "Similaridade entre as sentenças 3 e 4 é: 0.0\n",
      "Similaridade entre as sentenças 3 e 5 é: 0.0\n",
      "Similaridade entre as sentenças 3 e 6 é: 0.2204792759220492\n",
      "Similaridade entre as sentenças 3 e 7 é: 0.0\n",
      "Similaridade entre as sentenças 3 e 8 é: 0.28867513459481287\n",
      "Similaridade entre as sentenças 3 e 9 é: 0.04682929057908469\n",
      "Similaridade entre as sentenças 4 e 0 é: 0.09999999999999998\n",
      "Similaridade entre as sentenças 4 e 1 é: 0.062017367294604275\n",
      "Similaridade entre as sentenças 4 e 2 é: 0.0\n",
      "Similaridade entre as sentenças 4 e 3 é: 0.0\n",
      "Similaridade entre as sentenças 4 e 5 é: 0.06741998624632417\n",
      "Similaridade entre as sentenças 4 e 6 é: 0.10350983390135315\n",
      "Similaridade entre as sentenças 4 e 7 é: 0.0\n",
      "Similaridade entre as sentenças 4 e 8 é: 0.0\n",
      "Similaridade entre as sentenças 4 e 9 é: 0.0\n",
      "Similaridade entre as sentenças 5 e 0 é: 0.13483997249264845\n",
      "Similaridade entre as sentenças 5 e 1 é: 0.1672484020014181\n",
      "Similaridade entre as sentenças 5 e 2 é: 0.13483997249264845\n",
      "Similaridade entre as sentenças 5 e 3 é: 0.0\n",
      "Similaridade entre as sentenças 5 e 4 é: 0.06741998624632417\n",
      "Similaridade entre as sentenças 5 e 6 é: 0.09304842103984712\n",
      "Similaridade entre as sentenças 5 e 7 é: 0.0\n",
      "Similaridade entre as sentenças 5 e 8 é: 0.0\n",
      "Similaridade entre as sentenças 5 e 9 é: 0.0\n",
      "Similaridade entre as sentenças 6 e 0 é: 0.27602622373694174\n",
      "Similaridade entre as sentenças 6 e 1 é: 0.08559209850218252\n",
      "Similaridade entre as sentenças 6 e 2 é: 0.0\n",
      "Similaridade entre as sentenças 6 e 3 é: 0.2204792759220492\n",
      "Similaridade entre as sentenças 6 e 4 é: 0.10350983390135315\n",
      "Similaridade entre as sentenças 6 e 5 é: 0.09304842103984712\n",
      "Similaridade entre as sentenças 6 e 7 é: 0.0\n",
      "Similaridade entre as sentenças 6 e 8 é: 0.0\n",
      "Similaridade entre as sentenças 6 e 9 é: 0.10619884881071828\n",
      "Similaridade entre as sentenças 7 e 0 é: 0.0\n",
      "Similaridade entre as sentenças 7 e 1 é: 0.0\n",
      "Similaridade entre as sentenças 7 e 2 é: 0.0\n",
      "Similaridade entre as sentenças 7 e 3 é: 0.0\n",
      "Similaridade entre as sentenças 7 e 4 é: 0.0\n",
      "Similaridade entre as sentenças 7 e 5 é: 0.0\n",
      "Similaridade entre as sentenças 7 e 6 é: 0.0\n",
      "Similaridade entre as sentenças 7 e 8 é: 0.0\n",
      "Similaridade entre as sentenças 7 e 9 é: 0.0\n",
      "Similaridade entre as sentenças 8 e 0 é: 0.0\n",
      "Similaridade entre as sentenças 8 e 1 é: 0.0\n",
      "Similaridade entre as sentenças 8 e 2 é: 0.0\n",
      "Similaridade entre as sentenças 8 e 3 é: 0.28867513459481287\n",
      "Similaridade entre as sentenças 8 e 4 é: 0.0\n",
      "Similaridade entre as sentenças 8 e 5 é: 0.0\n",
      "Similaridade entre as sentenças 8 e 6 é: 0.0\n",
      "Similaridade entre as sentenças 8 e 7 é: 0.0\n",
      "Similaridade entre as sentenças 8 e 9 é: 0.0\n",
      "Similaridade entre as sentenças 9 e 0 é: 0.0\n",
      "Similaridade entre as sentenças 9 e 1 é: 0.0\n",
      "Similaridade entre as sentenças 9 e 2 é: 0.0\n",
      "Similaridade entre as sentenças 9 e 3 é: 0.04682929057908469\n",
      "Similaridade entre as sentenças 9 e 4 é: 0.0\n",
      "Similaridade entre as sentenças 9 e 5 é: 0.0\n",
      "Similaridade entre as sentenças 9 e 6 é: 0.10619884881071828\n",
      "Similaridade entre as sentenças 9 e 7 é: 0.0\n",
      "Similaridade entre as sentenças 9 e 8 é: 0.0\n"
     ]
    }
   ],
   "source": [
    "avalia_similaridade(lista, bow_matrix)"
   ]
  }
 ],
 "metadata": {
  "colab": {
   "collapsed_sections": [],
   "provenance": []
  },
  "kernelspec": {
   "display_name": "Python 3.9.7 ('base')",
   "language": "python",
   "name": "python3"
  },
  "language_info": {
   "codemirror_mode": {
    "name": "ipython",
    "version": 3
   },
   "file_extension": ".py",
   "mimetype": "text/x-python",
   "name": "python",
   "nbconvert_exporter": "python",
   "pygments_lexer": "ipython3",
   "version": "3.9.7"
  },
  "vscode": {
   "interpreter": {
    "hash": "01f8f73e8052737d22aa5cfa52d73709cdbd5ae80fc4fa1112056b0ed1fa47c6"
   }
  }
 },
 "nbformat": 4,
 "nbformat_minor": 0
}
