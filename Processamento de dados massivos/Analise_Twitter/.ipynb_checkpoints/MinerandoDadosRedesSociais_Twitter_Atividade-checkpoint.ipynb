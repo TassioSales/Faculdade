{
 "cells": [
  {
   "cell_type": "markdown",
   "metadata": {
    "id": "6QCVpWErpShN"
   },
   "source": [
    "# Minerando Redes Sociais - Twitter - ATIVIDADE\n",
    "![twitter_icon.png](data:image/png;base64,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)"
   ]
  },
  {
   "cell_type": "markdown",
   "metadata": {
    "id": "WEq8gLRHpuIR"
   },
   "source": [
    "Este notebook tem o objetivo de exercitar os comandos apresentados no notebook  'MinerandoDadosRedesSociais_Twitter_Aula.ipynb'. No último tópico, é proposta uma atividade de análise da atividade de alguns usuários no Twitter."
   ]
  },
  {
   "cell_type": "code",
   "execution_count": 4,
   "metadata": {
    "id": "VaL8Ten0rX5Z"
   },
   "outputs": [],
   "source": [
    "import tweepy\n",
    "#from tweepy import OAuthHandler, Stream, StreamListener, Cursor\n",
    "import tweepy\n",
    "import datetime\n",
    "import pandas as pd"
   ]
  },
  {
   "cell_type": "markdown",
   "metadata": {
    "id": "9r3ak8I_WgAN"
   },
   "source": [
    "Autenticação na *API*"
   ]
  },
  {
   "cell_type": "code",
   "execution_count": 5,
   "metadata": {
    "id": "1RpPphe1ZD07"
   },
   "outputs": [
    {
     "ename": "TypeError",
     "evalue": "__init__() got an unexpected keyword argument 'wait_on_rate_limit_notify'",
     "output_type": "error",
     "traceback": [
      "\u001b[1;31m---------------------------------------------------------------------------\u001b[0m",
      "\u001b[1;31mTypeError\u001b[0m                                 Traceback (most recent call last)",
      "\u001b[1;32mC:\\Windows\\TEMP/ipykernel_11912/3916400208.py\u001b[0m in \u001b[0;36m<module>\u001b[1;34m\u001b[0m\n\u001b[0;32m     12\u001b[0m \u001b[1;33m\u001b[0m\u001b[0m\n\u001b[0;32m     13\u001b[0m \u001b[1;31m# Parâmentros\u001b[0m\u001b[1;33m\u001b[0m\u001b[1;33m\u001b[0m\u001b[0m\n\u001b[1;32m---> 14\u001b[1;33m api = tweepy.API(auth, wait_on_rate_limit=False,\n\u001b[0m\u001b[0;32m     15\u001b[0m                  wait_on_rate_limit_notify=False)\n\u001b[0;32m     16\u001b[0m \u001b[0mapi\u001b[0m\u001b[1;33m\u001b[0m\u001b[1;33m\u001b[0m\u001b[0m\n",
      "\u001b[1;31mTypeError\u001b[0m: __init__() got an unexpected keyword argument 'wait_on_rate_limit_notify'"
     ]
    }
   ],
   "source": [
    "# Credenciais\n",
    "twitter_keys = {\n",
    "        'consumer_key' : '<consumer_key_do_usuario>',\n",
    "        'consumer_secret' : '<consumer_secret_do_usuario>',\n",
    "        'access_token_key' : '<access_token_key_do_usuario>',\n",
    "        'access_token_secret' : '<access_token_secret_do_usuario>'\n",
    "    }\n",
    "\n",
    "# Setup access to API\n",
    "auth = OAuthHandler(twitter_keys['consumer_key'], twitter_keys['consumer_secret'])\n",
    "auth.set_access_token(twitter_keys['access_token_key'], twitter_keys['access_token_secret'])\n",
    "\n",
    "# Parâmentros \n",
    "api = tweepy.API(auth, wait_on_rate_limit=False,\n",
    "                 wait_on_rate_limit_notify=False)\n",
    "api"
   ]
  },
  {
   "cell_type": "markdown",
   "metadata": {
    "id": "j1ndie2EOLf-"
   },
   "source": [
    "Primeiro contato com a API\n",
    "\n",
    "**Método `get_user`** (informações sobre uma conta)"
   ]
  },
  {
   "cell_type": "code",
   "execution_count": null,
   "metadata": {
    "id": "HabP-bw6Oa2X"
   },
   "outputs": [],
   "source": [
    "bill_gates = api.get_user('BillGates')"
   ]
  },
  {
   "cell_type": "markdown",
   "metadata": {
    "id": "DnLcDbebPaBo"
   },
   "source": [
    "Informações sobre esse objeto na [documentação](https://developer.twitter.com/en/docs/twitter-api/v1/data-dictionary/object-model/user)."
   ]
  },
  {
   "cell_type": "code",
   "execution_count": null,
   "metadata": {
    "id": "nXQ7KO9xR9b4"
   },
   "outputs": [],
   "source": [
    "# pegar id do usuário consultado\n"
   ]
  },
  {
   "cell_type": "code",
   "execution_count": null,
   "metadata": {
    "id": "bmsdSgT0b6My"
   },
   "outputs": [],
   "source": [
    "# quantidade de perfis seguidos\n"
   ]
  },
  {
   "cell_type": "code",
   "execution_count": null,
   "metadata": {
    "id": "L34ZYIdPcKXi"
   },
   "outputs": [],
   "source": [
    "# quantidade de seguidores\n"
   ]
  },
  {
   "cell_type": "code",
   "execution_count": null,
   "metadata": {
    "id": "YMWSOyMsQN6d"
   },
   "outputs": [],
   "source": [
    "# quantidade de posts favoritados\n"
   ]
  },
  {
   "cell_type": "code",
   "execution_count": null,
   "metadata": {
    "id": "7UiaODfEQs7b"
   },
   "outputs": [],
   "source": [
    "# login\n"
   ]
  },
  {
   "cell_type": "code",
   "execution_count": null,
   "metadata": {
    "id": "ZK-DjjzqQ32v"
   },
   "outputs": [],
   "source": [
    "# nome da conta\n"
   ]
  },
  {
   "cell_type": "code",
   "execution_count": null,
   "metadata": {
    "id": "prTJAd0zQ9rq"
   },
   "outputs": [],
   "source": [
    "# Localidade onde foi registrada a conta\n"
   ]
  },
  {
   "cell_type": "code",
   "execution_count": null,
   "metadata": {
    "id": "nb-q6zMmREfW"
   },
   "outputs": [],
   "source": [
    "# Se a conta de usuário é verificada\n"
   ]
  },
  {
   "cell_type": "code",
   "execution_count": null,
   "metadata": {
    "id": "Bj4iTX9ARjib"
   },
   "outputs": [],
   "source": [
    "# quantidade de tweets postados\n"
   ]
  },
  {
   "cell_type": "code",
   "execution_count": null,
   "metadata": {
    "id": "tpBOpCf3SvQ3"
   },
   "outputs": [],
   "source": [
    "# descrição do perfil\n"
   ]
  },
  {
   "cell_type": "code",
   "execution_count": null,
   "metadata": {
    "id": "wQCa-9VFb18A"
   },
   "outputs": [],
   "source": [
    "# Seleciona 20 perfis seguidos\n"
   ]
  },
  {
   "cell_type": "code",
   "execution_count": null,
   "metadata": {
    "id": "TlRTgRqjTK30"
   },
   "outputs": [],
   "source": [
    "# Selecionar 20 seguidores\n"
   ]
  },
  {
   "cell_type": "code",
   "execution_count": null,
   "metadata": {
    "id": "rO8475_pUdTa"
   },
   "outputs": [],
   "source": [
    "# Tweets presentes na timeline, ou seja, a atividade do usuário (tweets, retweets)\n"
   ]
  },
  {
   "cell_type": "code",
   "execution_count": null,
   "metadata": {
    "id": "Q9pthgXnUq-7"
   },
   "outputs": [],
   "source": [
    "# Quantidade máxima de tweets apresentados em uma chamada\n"
   ]
  },
  {
   "cell_type": "markdown",
   "metadata": {
    "id": "pNjrqnbqVgrn"
   },
   "source": [
    "Para a captura de quantidades maiores de dados, o Tweepy oferece um objeto \n",
    "**Cursor** ([tutorial](https://docs.tweepy.org/en/stable/pagination.html)) para tratar a complexidade da paginação dos resultados."
   ]
  },
  {
   "cell_type": "code",
   "execution_count": null,
   "metadata": {
    "id": "ZbvqnSxkY7y7"
   },
   "outputs": [],
   "source": [
    "# o valor máximo de resultados entregues em uma chamada ao método \"followers\" é 200\n"
   ]
  },
  {
   "cell_type": "code",
   "execution_count": null,
   "metadata": {
    "id": "X08ufHxDWO3-"
   },
   "outputs": [],
   "source": [
    "# instanciação de um objeto \"Cursor\" para o acesso ao método específico da API\n"
   ]
  },
  {
   "cell_type": "code",
   "execution_count": null,
   "metadata": {
    "id": "xWCtBGjAXHfU"
   },
   "outputs": [],
   "source": [
    "# iteração sobre o cursor para o acesso aos itens capturados, respeitando os limites quantitativos estabelecidos para cada método da API\n",
    "i = 0\n",
    "for item in cursor.items():\n",
    "  print(i)\n",
    "  print(item.name)\n",
    "  i+=1"
   ]
  },
  {
   "cell_type": "code",
   "execution_count": null,
   "metadata": {
    "id": "H1po_h4RhTTY"
   },
   "outputs": [],
   "source": [
    "# para capturar os tweets da conta, limitada à quantidade de 100\n",
    "cursor = tweepy.Cursor(api.user_timeline, screen_name='BillGates', tweet_mode='extended')\n",
    "for item in cursor.items(100):\n",
    "  print(item.full_text)"
   ]
  },
  {
   "cell_type": "markdown",
   "metadata": {
    "id": "9guQDdskZZiY"
   },
   "source": [
    "\n",
    "\n",
    "**Método `search`**:\n",
    "\n",
    "Pesquisa os tweets de até 7 dias atrás segundo parâmetros estabelecidos.\n",
    "Sendo o parâmetro \"count\" limitado a 100, por default retorna 15."
   ]
  },
  {
   "cell_type": "code",
   "execution_count": null,
   "metadata": {
    "id": "eCOnkfrlZu6A"
   },
   "outputs": [],
   "source": [
    "# Realizar a seguinte pesquisa\n",
    "q = 'Flamengo OR Palmeiras'\n",
    "count = 100"
   ]
  },
  {
   "cell_type": "markdown",
   "metadata": {
    "id": "8GftfxuAw0Y1"
   },
   "source": [
    "## 3. Anatomia de um `tweet`"
   ]
  },
  {
   "cell_type": "markdown",
   "metadata": {
    "id": "IeDCuWNCaqz6"
   },
   "source": [
    "Cada tweet apresenta os seguintes campos: \n",
    "https://developer.twitter.com/en/docs/twitter-api/v1/data-dictionary/object-model/tweet\n",
    "\n",
    "* created_at\n",
    "* id / id_str\n",
    "* full_text\n",
    "* source\n",
    "* truncated\n",
    "* in_reply_to_status_id / in_reply_to_status_id_str\n",
    "* in_reply_to_user_id / in_reply_to_user_id_str\n",
    "* in_reply_to_screen_name\n",
    "* user [id, name, screen_name, location, url, verified, followers_count, friends_count, listed_count, favourites_count,...]  \n",
    "* coordinates\n",
    "* place\n",
    "* quoted_status_id / quoted_status_id_str\n",
    "* quote_count\n",
    "* reply_count\n",
    "* retweet_count\n",
    "* retweeted_status\n",
    "* entities\n",
    "* extended_entities\n",
    "* favorited\n",
    "* retweeted\n",
    "* possibly_sensitive\n",
    "* filter_level\n",
    "* lang"
   ]
  },
  {
   "cell_type": "markdown",
   "metadata": {
    "id": "nNwY0SaNavQp"
   },
   "source": [
    "Pegar os tweets filtrados e criar um dataframe com os campos que interessem...\n",
    "\n",
    "Vamos nos fixar em: **created_at, text, user.name, user.screen_name, user.verified, user.followers_count, retweet_count, favorited, retweeted**"
   ]
  },
  {
   "cell_type": "code",
   "execution_count": null,
   "metadata": {
    "id": "WqV2cVggobiL"
   },
   "outputs": [],
   "source": [
    "# Realizar uma pesquisa que recupere 1000 tweets elaborados em português,\n",
    "# relacionados aos times que disputarão a final da Champions League: Real Madrid e Liverpol\n",
    "q = '(Real Madrid OR Liverpol) lang:pt '\n"
   ]
  },
  {
   "cell_type": "code",
   "execution_count": null,
   "metadata": {
    "id": "xedSM7UjaIqx"
   },
   "outputs": [],
   "source": [
    "# postar os dados obtidos em um dataframe pandas para posterior análise\n"
   ]
  },
  {
   "cell_type": "markdown",
   "metadata": {
    "id": "G-UvngVZyIKA"
   },
   "source": [
    "## **Com base nos resultados alocados no dataframe, qual seria o time com mais menções dentro dos tweets coletados??**"
   ]
  },
  {
   "cell_type": "code",
   "execution_count": null,
   "metadata": {
    "id": "Krpp2EIla9iC"
   },
   "outputs": [],
   "source": []
  },
  {
   "cell_type": "markdown",
   "metadata": {
    "id": "a9aj9TSobE8a"
   },
   "source": [
    "Detalhe para a coluna `users mentioned`, utilizada para verificar os usuários mencionados em um tweet. Essa informação é útil quando se analisa popularidade de usuários."
   ]
  },
  {
   "cell_type": "code",
   "execution_count": null,
   "metadata": {
    "id": "dS3pCgc2kYeX"
   },
   "outputs": [],
   "source": [
    "df_tweets[\"users_mentioned\"][0]"
   ]
  },
  {
   "cell_type": "code",
   "execution_count": null,
   "metadata": {
    "id": "R85p1vZ2bbvZ"
   },
   "outputs": [],
   "source": [
    "# Ordenando os tweets pelos usuários com mais seguidores (mais influentes??)\n",
    "df_tweets.sort_values('user_followers_count', ascending = False)"
   ]
  },
  {
   "cell_type": "markdown",
   "metadata": {
    "id": "tZFGNU-zbol5"
   },
   "source": [
    "## 4. Captura de streaming"
   ]
  },
  {
   "cell_type": "markdown",
   "metadata": {
    "id": "s_valV3UcE_q"
   },
   "source": [
    "Para simular o processamento de um streaming de dados, será utilizada a API de streaming do Twitter, que seleciona, randomicamente, uma amostra dos tweets que satisfazem à condição.\n",
    "\n",
    "Para isso, deve ser criada uma subclasse da classe `StreamListener` do Tweepy e sobrescrever os métodos que sejam necessários para o comportamento desejado.\n",
    "\n",
    "[Aqui](https://developer.twitter.com/en/docs/twitter-api/v1/tweets/filter-realtime/guides/basic-stream-parameters) podem ser encontrados os variados parâmetros a serem utilizados na filtragem dos tweets de interesse."
   ]
  },
  {
   "cell_type": "markdown",
   "metadata": {
    "id": "fuhsT_24zaY8"
   },
   "source": [
    "## **Preparar um fluxo de streaming que capture 2000 tweets que contenham o nome do jogador `Vinicius Jr.`, imprimindo o nome do usuário e o texto do tweet.** "
   ]
  },
  {
   "cell_type": "code",
   "execution_count": null,
   "metadata": {
    "id": "lx9V21B3EEjI"
   },
   "outputs": [],
   "source": [
    "TRACKING_KEYWORDS = ['Vinicius Jr.']"
   ]
  },
  {
   "cell_type": "code",
   "execution_count": null,
   "metadata": {
    "id": "6W7VxOtBzWZT"
   },
   "outputs": [],
   "source": []
  },
  {
   "cell_type": "markdown",
   "metadata": {
    "id": "cn5BtVRLwzZ-"
   },
   "source": [
    "### Explorar Trend Topics\n",
    "\n",
    "**Trend Topics** são os 50 assuntos mais comentados no momento da consulta. É muito utilizado para verificar quais assuntos estão repercutindo no momento e capturar as reações dos usuários.\n",
    "\n",
    "O Twitter entrega essa informação por localidade, bastando ao usuário configurar sua preferência.\n",
    "\n",
    "A API possibilita a obtenção dos Trend Topics de determindas localidades disponibilizadas na consulta por `trends_available`."
   ]
  },
  {
   "cell_type": "markdown",
   "metadata": {
    "id": "Nu64m7ivw8oH"
   },
   "source": [
    "São 467 locais que podem ser pesquisados para verificar os trend topics."
   ]
  },
  {
   "cell_type": "code",
   "execution_count": null,
   "metadata": {
    "id": "a5Bi8njCxDZH"
   },
   "outputs": [],
   "source": [
    "# total de locais disponíveis para consulta dos Trend Topics\n"
   ]
  },
  {
   "cell_type": "markdown",
   "metadata": {
    "id": "xwMXj4DYxCHe"
   },
   "source": [
    "Vamos transformar em um DataFrame do Pandas para consumir essa informação de forma mais fácil."
   ]
  },
  {
   "cell_type": "code",
   "execution_count": null,
   "metadata": {
    "id": "TligEV11xHZO"
   },
   "outputs": [],
   "source": [
    "# Transformar as informações dos locais para um Dataframe\n"
   ]
  },
  {
   "cell_type": "code",
   "execution_count": null,
   "metadata": {
    "id": "yFuemjPdojMl"
   },
   "outputs": [],
   "source": [
    "# Listar os locais do Brasil que possuem localização mapeada nos Trend Topics\n"
   ]
  },
  {
   "cell_type": "code",
   "execution_count": null,
   "metadata": {
    "id": "gVngh-XbpQSy"
   },
   "outputs": [],
   "source": [
    "# Apresentar os trend topics de Brasília\n"
   ]
  },
  {
   "cell_type": "code",
   "execution_count": null,
   "metadata": {
    "id": "O3ofhyKDqAjS"
   },
   "outputs": [],
   "source": [
    "# Apresentar os trend topics de Manaus\n"
   ]
  },
  {
   "cell_type": "markdown",
   "metadata": {
    "id": "P3q0CLtDpF2k"
   },
   "source": [
    "A título de curiosidade, pode-se verificar a diferença entre os dois conjuntos de modo a obter os assuntos que esão em \"alta\" em uma região, mas não na outra."
   ]
  },
  {
   "cell_type": "code",
   "execution_count": null,
   "metadata": {
    "id": "Vc9a0KQfq52B"
   },
   "outputs": [],
   "source": [
    "# Assuntos que constam em Manaus, mas não em Brasília\n"
   ]
  },
  {
   "cell_type": "code",
   "execution_count": null,
   "metadata": {
    "id": "6pFYOHNCpuwO"
   },
   "outputs": [],
   "source": [
    "# Assuntos que constam em Brasília, mas não em Manaus\n"
   ]
  },
  {
   "cell_type": "markdown",
   "metadata": {
    "id": "uFpyBZke0xF6"
   },
   "source": [
    "Com o auxílio do GoogleMaps, coletar um ponto na região do Distrito Federal, coletando a Latitude e Longitude. Em seguida, submeter ao método `trends_closest`. Qual a região que aparece?? "
   ]
  },
  {
   "cell_type": "code",
   "execution_count": null,
   "metadata": {
    "id": "B3k3B4JWqj2L"
   },
   "outputs": [],
   "source": []
  },
  {
   "cell_type": "markdown",
   "metadata": {
    "id": "Q5_q8q7jxcKu"
   },
   "source": [
    "## Análise da atividade de Deputados Federais no Twitter\n",
    "\n",
    "O objetivo da atividade é obter uma métrica para analisar quais seriam os Deputados Federais com maior popularidade e influência no Twitter, baseados na abordagem utilizada nesse [artigo](https://towardsdatascience.com/twitter-data-mining-measuring-users-influence-ef76c9badfc0).\n",
    "\n",
    "As métricas utilizadas serão definidas como **popularidade** e ***alcançabilidade***:\n",
    "* **popularidade** = *quantidade_retweets* + *quantidade_likes_recebidos*\n",
    "* **alcançabilidade** = *quantidade_seguidores* - *quantidade_perfis_seguidos*\n",
    "\n",
    "Para a obtenção dos perfis do Twitter dos deputados federais, pode ser realizada uma extração automatizada da página 'https://auditoriacidada.org.br/contato-dos-deputados-federais-2020-twitter/' .\n",
    "\n",
    "Com os perfis obtidos, pode-se efetuar consultas à API do Twitter para obter as informações necessárias para a construção das métricas indicadas.\n",
    "\n",
    "Para o cálculo da **popularidade**, por motivos de limitações no número de consultas estabelecido pelo Twitter, serão considerados somente os 75 tweets mais recentes de cada um dos parlamentares analisados."
   ]
  },
  {
   "cell_type": "code",
   "execution_count": null,
   "metadata": {
    "id": "CYJHCx7KDF9z"
   },
   "outputs": [],
   "source": [
    "# captura da informação dos perfis\n",
    "from requests import get\n",
    "from bs4 import BeautifulSoup\n",
    "\n",
    "pagina = 'https://auditoriacidada.org.br/contato-dos-deputados-federais-2020-twitter/'\n",
    "\n",
    "page = get(pagina)\n",
    "linhas = BeautifulSoup(page.text, 'html.parser').find_all('tr')\n",
    "\n",
    "perfis_deputados_twitter = []\n",
    "for linha in linhas:\n",
    "    children = linha.findChildren(\"td\")\n",
    "    perfis_deputados_twitter.append(children[2].text)\n",
    "#removendo o primeiro elemento da lista, pois é o título da coluna\n",
    "perfis_deputados_twitter = perfis_deputados_twitter[1:]\n",
    "perfis_deputados_twitter = set([perfil[1:] for perfil in perfis_deputados_twitter])\n",
    "perfis_deputados_twitter.remove('')\n",
    "perfis_deputados_twitter"
   ]
  },
  {
   "cell_type": "markdown",
   "metadata": {
    "id": "xGENwgOQE0Mv"
   },
   "source": [
    "Com a lista dos perfis, passa-se a capturar as informações sobre cada conta:\n"
   ]
  },
  {
   "cell_type": "code",
   "execution_count": null,
   "metadata": {
    "id": "tL0-4u95EQ84"
   },
   "outputs": [],
   "source": [
    "def obter_informacoes_por_perfil_twitter(id):\n",
    "  try:\n",
    "    perfil=api.get_user(id)\n",
    "  except:\n",
    "    return id,0,0,0,False,0, 0\n",
    "  if perfil.protected:\n",
    "    return id,0,0,0,False,0, 0\n",
    "  screen_name = perfil.screen_name\n",
    "  number_friends = perfil.friends_count\n",
    "  number_followers = perfil.followers_count\n",
    "  number_tweets = perfil.statuses_count\n",
    "  verified_user = perfil.verified\n",
    "  try:\n",
    "    public_tweets = perfil.timeline(count=75, tweet_mode='extended')\n",
    "  except:\n",
    "    return screen_name,number_friends,number_tweets,verified_user,0, 0\n",
    "  number_rt = 0\n",
    "  number_likes = 0\n",
    "  for tweet in public_tweets:\n",
    "    try:\n",
    "      if tweet.retweeted_status:\n",
    "        next\n",
    "    except:\n",
    "      number_rt += tweet.retweet_count\n",
    "      number_likes += tweet.favorite_count\n",
    "  return screen_name,number_friends,number_followers,number_tweets,verified_user,number_rt,number_likes"
   ]
  },
  {
   "cell_type": "markdown",
   "metadata": {
    "id": "RUbMP1H3FfZx"
   },
   "source": [
    "Agora é com você... Implemente o restante do código que leia a lista de perfis e gere um dataframe a partir da lista de tuplas que é retornada pelo método `obter_informacoes_por_perfil_twitter`. Com o dataframe obtido, gerar as métricas descritas como **popularidade** e **alcancabilidade**."
   ]
  },
  {
   "cell_type": "code",
   "execution_count": null,
   "metadata": {
    "id": "QmQACkvvD1mh"
   },
   "outputs": [],
   "source": []
  },
  {
   "cell_type": "markdown",
   "metadata": {
    "id": "VFOUS4hVGQjY"
   },
   "source": [
    "Quais os 5 deputados com maior popularidade no Twitter, segundo a métrica?"
   ]
  },
  {
   "cell_type": "code",
   "execution_count": null,
   "metadata": {
    "id": "Rgu81RmwGNhE"
   },
   "outputs": [],
   "source": []
  },
  {
   "cell_type": "markdown",
   "metadata": {
    "id": "YpXFA-UvGYBa"
   },
   "source": [
    "Quais os 5 deputados com maior poder de alcance com seus posts no Twitter, de acordo com a métrica?"
   ]
  },
  {
   "cell_type": "code",
   "execution_count": null,
   "metadata": {
    "id": "GiJyryqnGhjI"
   },
   "outputs": [],
   "source": []
  }
 ],
 "metadata": {
  "colab": {
   "collapsed_sections": [],
   "name": "MinerandoDadosRedesSociais_Twitter_Atividade.ipynb",
   "provenance": []
  },
  "kernelspec": {
   "display_name": "Python 3 (ipykernel)",
   "language": "python",
   "name": "python3"
  },
  "language_info": {
   "codemirror_mode": {
    "name": "ipython",
    "version": 3
   },
   "file_extension": ".py",
   "mimetype": "text/x-python",
   "name": "python",
   "nbconvert_exporter": "python",
   "pygments_lexer": "ipython3",
   "version": "3.9.7"
  }
 },
 "nbformat": 4,
 "nbformat_minor": 1
}
