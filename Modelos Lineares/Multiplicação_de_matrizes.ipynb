{
  "nbformat": 4,
  "nbformat_minor": 0,
  "metadata": {
    "colab": {
      "name": "Multiplicação de matrizes.ipynb",
      "provenance": [],
      "collapsed_sections": []
    },
    "kernelspec": {
      "name": "python3",
      "display_name": "Python 3"
    },
    "language_info": {
      "name": "python"
    }
  },
  "cells": [
    {
      "cell_type": "code",
      "execution_count": 1,
      "metadata": {
        "id": "0Da6TPvl-gDp"
      },
      "outputs": [],
      "source": [
        "import pandas as pd\n",
        "import numpy as np"
      ]
    },
    {
      "cell_type": "code",
      "source": [
        "x = np.array([[1,2,3],[4,5,6],[7,8,12]], np.int16)\n",
        "\n",
        "# Mostrar a matriz completa\n",
        "print(x)"
      ],
      "metadata": {
        "colab": {
          "base_uri": "https://localhost:8080/"
        },
        "id": "uD85hHMt-ovB",
        "outputId": "08f16069-6395-43aa-cc8b-2d8312c751f5"
      },
      "execution_count": 2,
      "outputs": [
        {
          "output_type": "stream",
          "name": "stdout",
          "text": [
            "[[ 1  2  3]\n",
            " [ 4  5  6]\n",
            " [ 7  8 12]]\n"
          ]
        }
      ]
    },
    {
      "cell_type": "code",
      "source": [
        "np.linalg.det(x)"
      ],
      "metadata": {
        "colab": {
          "base_uri": "https://localhost:8080/"
        },
        "id": "Vrd_BXVzVkwi",
        "outputId": "e3cf2881-c47c-4f8b-e057-a139d418e057"
      },
      "execution_count": 3,
      "outputs": [
        {
          "output_type": "execute_result",
          "data": {
            "text/plain": [
              "-8.999999999999998"
            ]
          },
          "metadata": {},
          "execution_count": 3
        }
      ]
    },
    {
      "cell_type": "code",
      "source": [
        "inversa = np.linalg.inv(x)\n",
        "inversa"
      ],
      "metadata": {
        "colab": {
          "base_uri": "https://localhost:8080/"
        },
        "id": "4kNNYqKv-sCZ",
        "outputId": "c29cb98f-94dc-4d70-b217-c91f1a853303"
      },
      "execution_count": 4,
      "outputs": [
        {
          "output_type": "execute_result",
          "data": {
            "text/plain": [
              "array([[-1.33333333,  0.        ,  0.33333333],\n",
              "       [ 0.66666667,  1.        , -0.66666667],\n",
              "       [ 0.33333333, -0.66666667,  0.33333333]])"
            ]
          },
          "metadata": {},
          "execution_count": 4
        }
      ]
    },
    {
      "cell_type": "code",
      "source": [
        "import time\n",
        "\n",
        "t0 = time.time()\n",
        "\n",
        "np.matmul(matriz1, matriz2)\n",
        "\n",
        "t1 = time.time() - t0\n",
        "\n",
        "print(t1)"
      ],
      "metadata": {
        "colab": {
          "base_uri": "https://localhost:8080/"
        },
        "id": "0iLVTvZv_SFf",
        "outputId": "7ef0beef-8ed3-45cf-8573-d463f89bcd4c"
      },
      "execution_count": null,
      "outputs": [
        {
          "output_type": "stream",
          "name": "stdout",
          "text": [
            "0.2593193054199219\n"
          ]
        }
      ]
    },
    {
      "cell_type": "code",
      "source": [
        "t0 = time.time()\n",
        "\n",
        "for i in range(len(matriz1)):\n",
        "    \n",
        "    for j in range(len(matriz2)):\n",
        "\n",
        "        matriz1[i][j] * matriz2[j][i]\n",
        "\n",
        "        # print(matriz1[i][j], matriz2[j][i])\n",
        "\n",
        "t1 = time.time() - t0\n",
        "\n",
        "print(t1)"
      ],
      "metadata": {
        "colab": {
          "base_uri": "https://localhost:8080/"
        },
        "id": "Gd8FavgiBCj-",
        "outputId": "f4b29ece-85bf-487a-92df-33be68b0d083"
      },
      "execution_count": null,
      "outputs": [
        {
          "output_type": "stream",
          "name": "stdout",
          "text": [
            "0.07146930694580078\n"
          ]
        }
      ]
    }
  ]
}