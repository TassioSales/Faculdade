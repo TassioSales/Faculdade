{
 "cells": [
  {
   "cell_type": "code",
   "execution_count": 3,
   "id": "ed5d0b3b",
   "metadata": {},
   "outputs": [
    {
     "data": {
      "text/plain": [
       "<Figure size 432x288 with 0 Axes>"
      ]
     },
     "metadata": {},
     "output_type": "display_data"
    }
   ],
   "source": [
    "#Bibliotecas necessárias\n",
    "import pandas as pd\n",
    "import math\n",
    "from pandas_datareader import data, wb\n",
    "import numpy as np\n",
    "import datetime\n",
    "import seaborn as sns\n",
    "import matplotlib.pyplot as plt\n",
    "import mplfinance as mpf\n",
    "sns.set_style('white')\n",
    "sns.despine(top=True, right=True)"
   ]
  },
  {
   "cell_type": "markdown",
   "id": "04f20bea",
   "metadata": {},
   "source": [
    "<h1>Análise exploratoria de dados</h1>"
   ]
  },
  {
   "cell_type": "code",
   "execution_count": null,
   "id": "2ee80363",
   "metadata": {},
   "outputs": [],
   "source": [
    "inicio = datetime.datetime(2020, 1, 1)\n",
    "fim = datetime.datetime(2020, 12, 1)\n",
    "tickers = ['BANCO DO BRASIL', 'PETROBRÁS', 'GOL', 'JBS', 'MAGAZINE LUIZA', 'COGNA EDUCAÇÃO']\n",
    "BANCO_DO_BRASIL = data.DataReader('BBAS3.SA', \"yahoo\", inicio, fim)\n",
    "PETROBRAS = data.DataReader('PETR4.SA', 'yahoo', inicio, fim)\n",
    "GOL = data.DataReader('GOLL4.SA', 'yahoo', inicio, fim)\n",
    "JBS = data.DataReader('JBSS3.SA', 'yahoo', inicio, fim)\n",
    "MAGAZINE_LUIZA = data.DataReader('MGLU3.SA', 'yahoo', inicio, fim)\n",
    "COGNA_EDUCACAO = data.DataReader('COGN3.SA','yahoo', inicio, fim)\n",
    "\n",
    "ativos = pd.concat([BANCO_DO_BRASIL, PETROBRAS, GOL, JBS, MAGAZINE_LUIZA, COGNA_EDUCACAO], axis=1, keys=tickers)\n",
    "ativos.columns.names = ['Nome_ativo','Acontecimento']\n",
    "ativos.head()"
   ]
  },
  {
   "cell_type": "markdown",
   "id": "75486662",
   "metadata": {},
   "source": [
    "<h2>1. Análise dos preços de cada ativo financeiro</h2>\n",
    "\n",
    "<p>Os preços numa economia de mercado estão sempre num movimento de sobe e desce, obedecendo a lei da oferta e demanda. No mercado financeiro isso não é diferente, o preço dos ativos estão sempre subindo e descendo, obedecendo a lei fundamental do mercado.</p>"
   ]
  },
  {
   "cell_type": "code",
   "execution_count": null,
   "id": "c9e3d742",
   "metadata": {},
   "outputs": [],
   "source": [
    "for i in tickers:\n",
    "  ativos[i]['Close'].plot(figsize=(10,6),legend=True, label=i)\n",
    "  ax = plt.title('Preço dos ativos financeiros em 2020', fontsize=20,)\n",
    "  sns.despine()\n",
    "  plt.xlabel('')\n",
    "  plt.xticks(rotation=360)\n",
    "  sns.set_style('white')\n",
    "ax.figure.set_size_inches(16, 10)"
   ]
  },
  {
   "cell_type": "markdown",
   "id": "d5fe3898",
   "metadata": {},
   "source": [
    "<p>Podemos observar que os preços caíram na mesma época do ano. O que será que aconteceu no início de março? Se formos lembrar, foi a época em que iniciaram os isolamentos sociais, os comércios fecharam, os números de mortes já começava a preocupar, e o mercado começou a tombar. As expectativas sobre a economia não eram muito boas no mundo inteiro, então ações começaram a se desvalorizar devido essa incerteza gerada pelo início da crise sanitária. Até aquele ponto, a sociedade e o mercado possuíam poucas informações sobre o que aconteceria nos próximos meses. A resposta do mercado foi no sentido das expectativas: para baixo!\n",
    "\n",
    "Estatísticas descritivas dos fechamentos</p>"
   ]
  },
  {
   "cell_type": "code",
   "execution_count": null,
   "id": "10ed61c1",
   "metadata": {},
   "outputs": [],
   "source": [
    "print(f'Fechamento mínimo: {ativos.xs(key=\"Close\", axis=1, level=\"Acontecimento\").min()}\\n\\nFechamento máximo: {ativos.xs(key=\"Close\", axis=1, level=\"Acontecimento\").max()}\\n\\nFechamendo médio:  {ativos.xs(key=\"Close\", axis=1, level=\"Acontecimento\").mean()}\\n\\nDesvio padrão:  {ativos.xs(key=\"Close\", axis=1, level=\"Acontecimento\").std()}')\n"
   ]
  },
  {
   "cell_type": "markdown",
   "id": "9f677f41",
   "metadata": {},
   "source": [
    "<h2>Volatilidade</h2>"
   ]
  },
  {
   "cell_type": "markdown",
   "id": "e401d388",
   "metadata": {},
   "source": [
    "<p>A volatilidade é uma variável que representa a frequência e intensidade oscilações no preço de um ativo num determinado período de tempo. Quanto maior a volatilidade, maior a variação do preço do ativo ativo. Mas a volatilidade vai além disso. Ela mostra se relaciona também com o próprio mercado. Os índices do mercado financeiro podem ser influenciados por uma série de fatores externos, como o cenário político, o otimismo e pessimismo dos investidores, ou uma pandemia.\n",
    "\n",
    "Veremos agora, a volatilidade dos ativos financeiros que estamos analisando</p>"
   ]
  },
  {
   "cell_type": "code",
   "execution_count": null,
   "id": "f15ad8c8",
   "metadata": {},
   "outputs": [],
   "source": [
    "volatilidade = pd.DataFrame()\n",
    "for tick in tickers:\n",
    "  volatilidade[tick + '(volatilidade)'] = ativos[tick]['Close'].pct_change()\n",
    "volatilidade.head()"
   ]
  },
  {
   "cell_type": "code",
   "execution_count": null,
   "id": "d4777039",
   "metadata": {},
   "outputs": [],
   "source": [
    "for i in volatilidade.columns:\n",
    "  plt.figure()\n",
    "  volatilidade[i].plot(figsize=(10,5))\n",
    "  plt.title(f'Volatilidade do retorno do ativo {str(i).strip(\"(volatilidade)\")}')\n",
    "  sns.despine(bottom=True)\n",
    "  plt.xticks(fontsize=8, rotation=360)\n",
    "  plt.xlabel('')"
   ]
  },
  {
   "cell_type": "markdown",
   "id": "b555ae06",
   "metadata": {},
   "source": [
    "<p>Como podemos observar, entre março e maio, as variações do preço do ativo foram muito mais intensas, e isso é representado pelas oscilações nos gráficos. O que explica essa oscilação nessa intensidade? A explicação mais plausível é que esse foi o período onde começaram os isolamentos sociais, e as quarentenas. Seguido do fechamento de comércios e muitos postos de trabalho\n",
    "\n",
    "Descobrir o que aconteceu no dia da alta e baixa dos ativos</p>"
   ]
  },
  {
   "cell_type": "code",
   "execution_count": null,
   "id": "4d4d73be",
   "metadata": {},
   "outputs": [],
   "source": [
    "print(f'Dias de baixa volatilidade:\\n\\n{volatilidade.idxmin()}\\n\\n\\nDias de alta volatilidade\\n\\n{volatilidade.idxmax()}')"
   ]
  },
  {
   "cell_type": "markdown",
   "id": "5390bb8a",
   "metadata": {},
   "source": [
    "<p>Observa-se que o dia com menor volatilidade for 16/03 e o dia com maior volatilidade foi 13/03. Foi justamente na época onde começamos a apertar o isolamento social, por volta do meado de março. O leitor ainda pode pesquisar no Google sobre notícias que aconteceram nesse dia.</p>"
   ]
  },
  {
   "cell_type": "markdown",
   "id": "87a99b39",
   "metadata": {},
   "source": [
    "<h2>Médias móveis<h2>"
   ]
  },
  {
   "cell_type": "code",
   "execution_count": null,
   "id": "b1ecbd74",
   "metadata": {},
   "outputs": [],
   "source": [
    "for i in ativos.columns.levels[0]:\n",
    "  ativos_2020_close = ativos[f'{i}']['Close'][ativos[f'{i}'].index.year == 2020]\n",
    "  ativos_2020_open = ativos[f'{i}']['Open'][ativos[f'{i}'].index.year == 2020]\n",
    "  ativos_2020_high = ativos[f'{i}']['High'][ativos[f'{i}'].index.year == 2020]\n",
    "  ativos_2020_low = ativos[f'{i}']['Low'][ativos[f'{i}'].index.year == 2020]\n",
    "  ativos_2020_volume = ativos[f'{i}']['Volume'][ativos[f'{i}'].index.year == 2020]\n",
    "\n",
    "  media = ativos_2020_close.rolling(30).mean()\n",
    "  std = ativos_2020_close.rolling(30).std()\n",
    "\n",
    "  plt.figure(figsize=(10,4))\n",
    "  ativos_2020_close.plot(label='Fechamento')\n",
    "  media.plot(label='Média móvel')\n",
    "  plt.fill_between(ativos_2020_close.index, media - 2 * std, media + 2 * std, color='b', alpha=0.09)#Dois desvios padroes da média\n",
    "  plt.legend()\n",
    "  sns.despine()\n",
    "  plt.xlabel('')\n",
    "  plt.xticks(rotation=360)\n",
    "  plt.title(f'Média móvel do {f\"{i}\"}')"
   ]
  },
  {
   "cell_type": "markdown",
   "id": "d7167d53",
   "metadata": {},
   "source": [
    "<p>As oscilações maiores (em laranja) nos mostram os ciclos que se passaram no mercado durante esse ano, sendo no período de março a maior queda. De fato, a doença, o isolamento social (que foi necessário para conter o avanço da pandemia), as incertezas sobre o ano, as notícias sobre mortes e casos avançando cada vez mais, e todo o caos influenciaram as expectativas no mercado financeiro. Podemos observar aqui, que a Magazine Luiza conseguiu decolar em meio a uma crise mundial. Quando analisarmos as correlações, ela terá correlação muito baixa/negativa com os demais ativos.</p>"
   ]
  },
  {
   "cell_type": "markdown",
   "id": "51944207",
   "metadata": {},
   "source": [
    "<h2>Correlação entre a volatilidade</h2>"
   ]
  },
  {
   "cell_type": "code",
   "execution_count": null,
   "id": "ec5b687f",
   "metadata": {},
   "outputs": [],
   "source": [
    "volatilidade.corr()"
   ]
  },
  {
   "cell_type": "markdown",
   "id": "acbc969c",
   "metadata": {},
   "source": [
    "<p>Temos a maior correlação da volatilidade sendo entre BANCO DO BRASIL e PETROBRÁS, com 75,08% de correlação\n",
    "\n",
    "Ainda conseguimos visualizar, de forma que a informação seja assimilada com mais facilidade. Faremos um mapa de calor para a correlação entre a volatilidade dos ativos financeiros.</p>"
   ]
  },
  {
   "cell_type": "code",
   "execution_count": null,
   "id": "ef9e119c",
   "metadata": {},
   "outputs": [],
   "source": [
    "mask = np.zeros_like(volatilidade.corr())\n",
    "mask[np.triu_indices_from(mask)] = True\n",
    "ax = sns.heatmap(volatilidade.corr(), annot=True, cmap='Blues', vmin=0.5, linewidths=1, fmt='.3g', mask=mask);\n",
    "ax.figure.set_size_inches(16, 10)"
   ]
  },
  {
   "cell_type": "markdown",
   "id": "f787a2b5",
   "metadata": {},
   "source": [
    "<p>Com um gráfico de dispersão podemos observar as mesmas informações de maneira diferente, nos dando mais uma percepção sobre a mesma informação.\n",
    "\n",
    "Uma maneira simples e eficiente de fazer isso é usando o pairplot do seaborn.</p>"
   ]
  },
  {
   "cell_type": "code",
   "execution_count": null,
   "id": "3dba351d",
   "metadata": {},
   "outputs": [],
   "source": [
    "sns.pairplot(volatilidade);"
   ]
  },
  {
   "cell_type": "markdown",
   "id": "2d1b0cd5",
   "metadata": {},
   "source": [
    "<h2>Correlações</h2>\n",
    "\n",
    "<p>O quão correlacionadas estão essas volatilidades? Elas se acompanham? Positivamente ou negativamente?\n",
    "\n",
    "Os ativos no mercado costumam se comportar de maneira similar em casos de crise ou de boom. Isso porque a economia vai perdendo ou ganhando como um todo, o que por sua vez reflete o resultado no mercado financeiro.\n",
    "\n",
    "Um guia para interpretar correlações:\n",
    "\n",
    "Utilizaremos a correlação de Pearson nessa análise, ela se encaixa melhor com o objetivo do projeto.</p>\n",
    "<ul>\n",
    "<li>1.0 positivo ou negativo indica uma correlação perfeita\n",
    "<li>0.9 positivo ou negativo indica uma correlação muito forte.\n",
    "<li>:0.7 a 0.9 positivo ou negativo indica uma correlação forte.\n",
    "<li>0.5 a 0.7 positivo ou negativo indica uma correlação moderada.\n",
    "<li>0.3 a 0.5 positivo ou negativo indica uma correlação fraca.\n",
    "<li>0.1 a 0.3 positivo ou negativo indica uma correlação desprezível.\n",
    "<li>0 indica uma correlação inexistente\n",
    "</ul>    "
   ]
  },
  {
   "cell_type": "markdown",
   "id": "fc21683f",
   "metadata": {},
   "source": [
    "<h2>Correlação entre os preços</h2>"
   ]
  },
  {
   "cell_type": "code",
   "execution_count": null,
   "id": "03208e20",
   "metadata": {},
   "outputs": [],
   "source": [
    "preço_ativos = pd.DataFrame()\n",
    "for i in tickers:\n",
    "  preço_ativos[i + '(preço)'] = ativos[i]['Close']\n",
    "preço_ativos.corr()"
   ]
  },
  {
   "cell_type": "code",
   "execution_count": null,
   "id": "56151b40",
   "metadata": {},
   "outputs": [],
   "source": [
    "mask = np.zeros_like(preço_ativos.corr())\n",
    "mask[np.triu_indices_from(mask)] = True\n",
    "ax = sns.heatmap(preço_ativos.corr(), annot=True, cmap='Blues', fmt='.3g', linewidths=1, mask = mask)\n",
    "ax.figure.set_size_inches(16, 10)"
   ]
  },
  {
   "cell_type": "markdown",
   "id": "94663989",
   "metadata": {},
   "source": [
    "<h4>Podemos observar aqui, uma correlação muito alta entre:</h4>\n",
    "<ul>\n",
    "    <li>BANCO DO BRASIL e COGNA EDUCAÇÃO (0.932)\n",
    "    <li>BANCO DO BRASIL e GOL (0.945)\n",
    "    <li>PETROBRÁS e GOL (0.942);\n",
    "</ul>\n",
    "    \n",
    "<h4>Alta entre:</h4>\n",
    "<ul>\n",
    "    <li>BANCO DO BRASIL e PETROBRÁS (0.887)\n",
    "    <li>BANCO DO BRASIL e JBS (0.777)\n",
    "    <li>PETROBRÁS e COGNA EDUCAÇÃO (0.82)\n",
    "    <li>PETROBRÁS e JBS (0.792)\n",
    "    <li>GOL e JBS (0.814)\n",
    "    <li>GOL e COGNA EDUCAÇÃO (0.867)\n",
    "    <li>JBS e COGNA EDUCAÇÃO (0.762)\n",
    "</ul>\n",
    "    \n",
    "<h4>Desprezível/inexistente entre:</h4>\n",
    "<ul>\n",
    "    <li>MAGAZINE LUIZA e BANCO DO BRASIL (-0,193)\n",
    "    <li>MAGAZINE LUIZA e PETROBRÁS (0,154)\n",
    "    <li>MAGAZINE LUIZA e JBS (0,028)\n",
    "    <li>MAGAZINE LUIZA e GOL (-0,174)\n",
    "    <li>MAGAZINE LUIZA e COGNA EDUCAÇÃO (-0,268)\n",
    "</ul>    "
   ]
  },
  {
   "cell_type": "code",
   "execution_count": null,
   "id": "4b282c99",
   "metadata": {},
   "outputs": [],
   "source": [
    "sns.pairplot(preço_ativos);\n"
   ]
  }
 ],
 "metadata": {
  "kernelspec": {
   "display_name": "Python 3 (ipykernel)",
   "language": "python",
   "name": "python3"
  },
  "language_info": {
   "codemirror_mode": {
    "name": "ipython",
    "version": 3
   },
   "file_extension": ".py",
   "mimetype": "text/x-python",
   "name": "python",
   "nbconvert_exporter": "python",
   "pygments_lexer": "ipython3",
   "version": "3.9.7"
  }
 },
 "nbformat": 4,
 "nbformat_minor": 5
}
