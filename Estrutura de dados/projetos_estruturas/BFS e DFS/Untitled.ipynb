{
 "cells": [
  {
   "cell_type": "markdown",
   "id": "d9935a1c",
   "metadata": {},
   "source": [
    "<h1>Pesquisa em profundidade e pesquisa em largura em Python</h1>\n",
    "\n",
    "<p>A teoria dos grafos e em particular o gráfico ADT (abstract data-type) é amplamente explorada e implementada no campo da Ciência da Computação e da Matemática. Consistindo em vértices (nós) e as arestas (opcionalmente direcionadas / ponderadas) que os conectam, a estrutura de dados é efetivamente capaz de representar e resolver muitos domínios de problemas. Uma das áreas mais populares do projeto de algoritmo neste espaço é o problema de verificar a existência ou o caminho (mais curto) entre dois ou mais vértices no gráfico. Propriedades como peso da aresta e direção são dois fatores que o designer do algoritmo pode levar em consideração. Nesta postagem, explorarei dois dos algoritmos mais simples disponíveis, pesquisa de profundidade e respiração para atingir os objetivos destacados abaixo:</p>\n",
    "<ol>\n",
    "    <li>Encontre todos os vértices em um componente conectado de vértices de assunto.</li>\n",
    "    <li>Retorne todos os caminhos disponíveis entre dois vértices.</li>\n",
    "    <li>E, no caso do BFS, retorna o caminho mais curto (comprimento medido pelo número de bordas do caminho).</li>\n",
    "</ol>\n",
    "\n",
    "<h1>O gráfico</h1>\n",
    "\n",
    "<p>Para discutir claramente cada algoritmo, criei um grafo conectado com seis vértices e seis arestas incidentes. O gráfico resultante não é direcionado sem nenhuma ponderação de aresta atribuída, pois o comprimento será avaliado com base no número de arestas do caminho percorridas. Existem duas opções populares para representar um grafo, a primeira sendo uma matriz de adjacência (efetiva com grafos densos) e a segunda uma lista de adjacência (efetiva com grafos esparsos). Optei por implementar uma lista de adjacências que armazena cada nó em um dicionário junto com um conjunto contendo seus nós adjacentes. À medida que o gráfico não é direcionado, cada borda é armazenada em ambos os conjuntos adjacentes de nós incidentes.</p>"
   ]
  },
  {
   "cell_type": "code",
   "execution_count": 2,
   "id": "3b9278ee",
   "metadata": {},
   "outputs": [
    {
     "data": {
      "text/plain": [
       "{'A': {'B', 'C'},\n",
       " 'B': {'A', 'D', 'E'},\n",
       " 'C': {'A', 'F'},\n",
       " 'D': {'B'},\n",
       " 'E': {'B', 'F'},\n",
       " 'F': {'C', 'E'}}"
      ]
     },
     "execution_count": 2,
     "metadata": {},
     "output_type": "execute_result"
    }
   ],
   "source": [
    "graph = {'A': set(['B', 'C']),\n",
    "         'B': set(['A', 'D', 'E']),\n",
    "         'C': set(['A', 'F']),\n",
    "         'D': set(['B']),\n",
    "         'E': set(['BF': set(['C', 'E'])}\n",
    "graph', 'F']),\n",
    "         '"
   ]
  },
  {
   "cell_type": "markdown",
   "id": "7d4ef385",
   "metadata": {},
   "source": [
    "<p>Olhando para a representação gráfica abaixo, você também notará a inclusão de um ciclo, pelas conexões adjacentes entre 'F' e 'C / E'. Isso foi incluído propositalmente para fornecer aos algoritmos a opção de retornar vários caminhos entre dois nós desejados.</p>"
   ]
  },
  {
   "cell_type": "markdown",
   "id": "516b243d",
   "metadata": {},
   "source": [
    "<img src=\"img.png\">"
   ]
  },
  {
   "cell_type": "markdown",
   "id": "0fd8d517",
   "metadata": {},
   "source": [
    "<h1>Pesquisa em profundidade</h1>\n",
    "\n",
    "<p>O primeiro algoritmo que irei discutir é a pesquisa em profundidade que, como o nome sugere, explora os vértices possíveis (de uma raiz fornecida) em cada ramificação antes de retroceder. Esta propriedade permite que o algoritmo seja implementado de forma sucinta nas formas iterativa e recursiva. Abaixo está uma lista das ações realizadas em cada visita a um nó.</p>\n",
    "\n",
    "<ul>\n",
    "    <li>Marque o vértice atual como sendo visitado.</li>\n",
    "    <li>Explore cada vértice adjacente que não está incluído no conjunto visitado.</li>\n",
    "</ul>\n",
    "\n",
    "<h1>Componente Conectado</h1>\n",
    "\n",
    "<p>A implementação abaixo usa a estrutura de dados da pilha para construir e retornar um conjunto de vértices que são acessíveis dentro do componente conectado do sujeito. Usando a sobrecarga do Python do operador de subtração para remover itens de um conjunto, somos capazes de adicionar apenas os vértices adjacentes não visitados.</p>"
   ]
  },
  {
   "cell_type": "code",
   "execution_count": 5,
   "id": "7d531b74",
   "metadata": {},
   "outputs": [
    {
     "data": {
      "text/plain": [
       "{'A', 'B', 'C', 'D', 'E', 'F'}"
      ]
     },
     "execution_count": 5,
     "metadata": {},
     "output_type": "execute_result"
    }
   ],
   "source": [
    "def dfs(graph, start):\n",
    "    visited, stack = set(), [start] # ❌ Como set () não está ordenado, a ordem das visitas aos nós é perdida.\n",
    "    while stack:\n",
    "        vertex = stack.pop()\n",
    "        if vertex not in visited:\n",
    "            visited.add(vertex)\n",
    "            stack.extend(graph[vertex] - visited)\n",
    "    return visited\n",
    "\n",
    "dfs(graph, 'A') # {'E', 'D', 'F', 'A', 'C', 'B'} ❌ Resultado não codificado ou correto para algoritmo"
   ]
  },
  {
   "cell_type": "code",
   "execution_count": 6,
   "id": "2a51dad0",
   "metadata": {},
   "outputs": [
    {
     "data": {
      "text/plain": [
       "['A', 'B', 'E', 'F', 'C', 'D']"
      ]
     },
     "execution_count": 6,
     "metadata": {},
     "output_type": "execute_result"
    }
   ],
   "source": [
    "# ✅ Fixo?\n",
    "\n",
    "def dfs(graph, start):\n",
    "    visited, stack = [], [start] # ✅ Lista de uso\n",
    "    while stack:\n",
    "        vertex = stack.pop()\n",
    "        if vertex not in visited:\n",
    "            visited.append(vertex)\n",
    "            stack.extend(graph[vertex] - set(visited)) # ✅ Converter para conjunto ()\n",
    "    return visited\n",
    "\n",
    "dfs(graph, 'A') # ['A', 'B', 'E', 'F', 'C', 'D'] # Saída correta"
   ]
  },
  {
   "cell_type": "markdown",
   "id": "cb52bef3",
   "metadata": {},
   "source": [
    "<p>A segunda implementação fornece a mesma funcionalidade que a primeira, entretanto, desta vez estamos usando a forma recursiva mais sucinta. Devido a uma pegadinha comum do Python com valores de parâmetro padrão sendo criados apenas uma vez, somos obrigados a criar um novo conjunto visitado em cada invocação do usuário. Outro detalhe da linguagem Python é que as variáveis ​​de função são passadas por referência, fazendo com que o conjunto mutável visitado não precise ser reatribuído a cada chamada recursiva.</p>"
   ]
  },
  {
   "cell_type": "code",
   "execution_count": 7,
   "id": "5251d039",
   "metadata": {},
   "outputs": [
    {
     "data": {
      "text/plain": [
       "{'A', 'B', 'C', 'D', 'E', 'F'}"
      ]
     },
     "execution_count": 7,
     "metadata": {},
     "output_type": "execute_result"
    }
   ],
   "source": [
    "def dfs(graph, start, visited=None):\n",
    "    if visited is None:\n",
    "        visited = set() # ❌ Como set () não está ordenado, a ordem das visitas aos nós é perdida.\n",
    "    visited.add(start)\n",
    "    for next in graph[start] - visited:\n",
    "        dfs(graph, next, visited)\n",
    "    return visited\n",
    "\n",
    "dfs(graph, 'C') # {'E', 'D', 'F', 'A', 'C', 'B'} ❌ Não corresponde à saída e a saída está incorreta"
   ]
  },
  {
   "cell_type": "code",
   "execution_count": 8,
   "id": "c6af5dd0",
   "metadata": {},
   "outputs": [
    {
     "data": {
      "text/plain": [
       "['C', 'F', 'E', 'B', 'D', 'A', 'A']"
      ]
     },
     "execution_count": 8,
     "metadata": {},
     "output_type": "execute_result"
    }
   ],
   "source": [
    "# ✅ Fixo?\n",
    "\n",
    "def dfs(graph, start, visited=[]): # ✅ Lista de uso\n",
    "    visited.append(start)\n",
    "    for next in graph[start] - set(visited): # ✅ Converter para conjunto ()\n",
    "        dfs(graph, next, visited)\n",
    "    return visited\n",
    "\n",
    "dfs(graph, 'C') # ['C', 'F', 'E', 'B', 'A', 'D', 'A']"
   ]
  },
  {
   "cell_type": "markdown",
   "id": "44472c97",
   "metadata": {},
   "source": [
    "<h1>Caminhos</h1>\n",
    "\n",
    "<p>Podemos ajustar ambas as implementações anteriores para retornar todos os caminhos possíveis entre um vértice inicial e objetivo. A implementação abaixo usa a estrutura de dados da pilha novamente para resolver o problema de forma iterativa, produzindo cada caminho possível quando localizamos a meta. Usar um gerador permite que o usuário calcule apenas a quantidade desejada de caminhos alternativos.</p>"
   ]
  },
  {
   "cell_type": "code",
   "execution_count": 9,
   "id": "77c52fcc",
   "metadata": {},
   "outputs": [
    {
     "data": {
      "text/plain": [
       "[['A', 'B', 'E', 'F'], ['A', 'C', 'F']]"
      ]
     },
     "execution_count": 9,
     "metadata": {},
     "output_type": "execute_result"
    }
   ],
   "source": [
    "def dfs_paths(graph, start, goal):\n",
    "    stack = [(start, [start])]\n",
    "    while stack:\n",
    "        (vertex, path) = stack.pop()\n",
    "        for next in graph[vertex] - set(path):\n",
    "            if next == goal:\n",
    "                yield path + [next]\n",
    "            else:\n",
    "                stack.append((next, path + [next]))\n",
    "\n",
    "list(dfs_paths(graph, 'A', 'F')) # [['A', 'C', 'F'], ['A', 'B', 'E', 'F']] ⚠️ Correto, mas a ordem é diferente"
   ]
  },
  {
   "cell_type": "markdown",
   "id": "ad1f7ccd",
   "metadata": {},
   "source": [
    "<p>A implementação abaixo usa a abordagem recursiva chamando a adição \"rendimento de\" PEP380 para retornar os caminhos localizados invocados. Infelizmente, a versão de Pygments instalada no servidor neste momento não inclui a combinação de palavras-chave atualizada.</p>"
   ]
  },
  {
   "cell_type": "code",
   "execution_count": 10,
   "id": "51a10e65",
   "metadata": {},
   "outputs": [
    {
     "data": {
      "text/plain": [
       "[['C', 'F'], ['C', 'A', 'B', 'E', 'F']]"
      ]
     },
     "execution_count": 10,
     "metadata": {},
     "output_type": "execute_result"
    }
   ],
   "source": [
    "def dfs_paths(graph, start, goal, path=None):\n",
    "    if path is None:\n",
    "        path = [start]\n",
    "    if start == goal:\n",
    "        yield path\n",
    "    for next in graph[start] - set(path):\n",
    "        yield from dfs_paths(graph, next, goal, path + [next])\n",
    "\n",
    "list(dfs_paths(graph, 'C', 'F')) # [['C', 'F'], ['C', 'A', 'B', 'E', 'F']]"
   ]
  },
  {
   "cell_type": "markdown",
   "id": "b16e092d",
   "metadata": {},
   "source": [
    "<h1>Pesquisa em amplitude</h1>\n",
    "\n",
    "<p>Um algoritmo alternativo chamado pesquisa Breath-First nos fornece a capacidade de retornar os mesmos resultados que o DFS, mas com a garantia adicional de retornar o caminho mais curto primeiro. Esse algoritmo é um pouco mais complicado de implementar de maneira recursiva, em vez de usar a estrutura de dados da fila, como tal, documentarei apenas a abordagem iterativa. As ações executadas por cada vértice explorado são as mesmas da implementação em profundidade, no entanto, substituir a pilha por uma fila explorará a amplitude da profundidade de um vértice antes de prosseguir. Este comportamento garante que o primeiro caminho localizado seja um dos caminhos mais curtos presentes, com base no número de arestas sendo o fator de custo.</p>\n",
    "\n",
    "<p>Componente conectado Semelhante à implementação iterativa do DFS, a única alteração necessária é remover o próximo item do início da estrutura da lista em vez das pilhas por último.</p>"
   ]
  },
  {
   "cell_type": "code",
   "execution_count": 11,
   "id": "d981ce79",
   "metadata": {},
   "outputs": [
    {
     "data": {
      "text/plain": [
       "{'A', 'B', 'C', 'D', 'E', 'F'}"
      ]
     },
     "execution_count": 11,
     "metadata": {},
     "output_type": "execute_result"
    }
   ],
   "source": [
    "def bfs(graph, start):\n",
    "    visited, queue = set(), [start]\n",
    "    while queue:\n",
    "        vertex = queue.pop(0)\n",
    "        if vertex not in visited:\n",
    "            visited.add(vertex)\n",
    "            queue.extend(graph[vertex] - visited)\n",
    "    return visited\n",
    "\n",
    "bfs(graph, 'A') # {'B', 'C', 'A', 'F', 'D', 'E'} ❌❌❌"
   ]
  },
  {
   "cell_type": "code",
   "execution_count": 12,
   "id": "9a09517c",
   "metadata": {},
   "outputs": [
    {
     "data": {
      "text/plain": [
       "['A', 'C', 'B', 'F', 'D', 'E']"
      ]
     },
     "execution_count": 12,
     "metadata": {},
     "output_type": "execute_result"
    }
   ],
   "source": [
    "# ✅ Fixo?\n",
    "\n",
    "def bfs(graph, start):\n",
    "    visited, queue = [], [start] # ✅ Lista de uso\n",
    "    while queue:\n",
    "        vertex = queue.pop(0)\n",
    "        if vertex not in visited:\n",
    "            visited.append(vertex)\n",
    "            queue.extend(graph[vertex] - set(visited)) # ✅ Converter lista em conjunto ()\n",
    "    return visited\n",
    "\n",
    "bfs(graph, 'A') # ['A', 'C', 'B', 'F', 'D', 'E'] # ✅"
   ]
  },
  {
   "cell_type": "markdown",
   "id": "f0d8b3f3",
   "metadata": {},
   "source": [
    "<h1>Caminhos</h1>\n",
    "\n",
    "<p>Esta implementação pode novamente ser ligeiramente alterada para, em vez disso, retornar todos os caminhos possíveis entre dois vértices, o primeiro dos quais sendo um dos caminhos mais curtos.</p>"
   ]
  },
  {
   "cell_type": "code",
   "execution_count": 13,
   "id": "2bcc2525",
   "metadata": {},
   "outputs": [
    {
     "data": {
      "text/plain": [
       "[['A', 'C', 'F'], ['A', 'B', 'E', 'F']]"
      ]
     },
     "execution_count": 13,
     "metadata": {},
     "output_type": "execute_result"
    }
   ],
   "source": [
    "def bfs_paths(graph, start, goal):\n",
    "    queue = [(start, [start])]\n",
    "    while queue:\n",
    "        (vertex, path) = queue.pop(0)\n",
    "        for next in graph[vertex] - set(path):\n",
    "            if next == goal:\n",
    "                yield path + [next]\n",
    "            else:\n",
    "                queue.append((next, path + [next]))\n",
    "\n",
    "list(bfs_paths(graph, 'A', 'F')) # [['A', 'C', 'F'], ['A', 'B', 'E', 'F']]"
   ]
  },
  {
   "cell_type": "markdown",
   "id": "0dd97aad",
   "metadata": {},
   "source": [
    "<p>Sabendo que o caminho mais curto será retornado primeiro do método gerador de caminho BFS, podemos criar um método útil que simplesmente retorna o caminho mais curto encontrado ou 'Nenhum' se nenhum caminho existir. Como estamos usando um gerador, isso em teoria deve fornecer resultados de desempenho semelhantes como apenas quebrar e retornar o primeiro caminho correspondente na implementação do BFS.</p>"
   ]
  },
  {
   "cell_type": "code",
   "execution_count": 14,
   "id": "af031038",
   "metadata": {},
   "outputs": [
    {
     "data": {
      "text/plain": [
       "['A', 'C', 'F']"
      ]
     },
     "execution_count": 14,
     "metadata": {},
     "output_type": "execute_result"
    }
   ],
   "source": [
    "def shortest_path(graph, start, goal):\n",
    "    try:\n",
    "        return next(bfs_paths(graph, start, goal))\n",
    "    except StopIteration:\n",
    "        return None\n",
    "\n",
    "shortest_path(graph, 'A', 'F') # ['A', 'C', 'F']"
   ]
  }
 ],
 "metadata": {
  "kernelspec": {
   "display_name": "Python 3",
   "language": "python",
   "name": "python3"
  },
  "language_info": {
   "codemirror_mode": {
    "name": "ipython",
    "version": 3
   },
   "file_extension": ".py",
   "mimetype": "text/x-python",
   "name": "python",
   "nbconvert_exporter": "python",
   "pygments_lexer": "ipython3",
   "version": "3.8.8"
  }
 },
 "nbformat": 4,
 "nbformat_minor": 5
}
