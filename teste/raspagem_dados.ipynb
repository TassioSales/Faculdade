{
 "cells": [
  {
   "cell_type": "code",
   "execution_count": 1,
   "metadata": {},
   "outputs": [],
   "source": [
    "import requests\n",
    "import pandas as pd\n",
    "import os\n",
    "import zipfile\n",
    "import io\n",
    "import os\n",
    "from dowload_arquivos import lista_fim_links\n",
    "from dowload_arquivos import baixar_csv"
   ]
  },
  {
   "cell_type": "code",
   "execution_count": 2,
   "outputs": [],
   "source": [
    "links = lista_fim_links"
   ],
   "metadata": {
    "collapsed": false
   }
  },
  {
   "cell_type": "code",
   "execution_count": 3,
   "outputs": [
    {
     "name": "stdout",
     "output_type": "stream",
     "text": [
      "baixando o arquivo ca-2004-01.csv\n",
      "Tamanho do arquivo: 46.38 MB\n",
      "tempo de download: 0.071114 segundos\n",
      "Arquivo salvo com sucesso!\n",
      "baixando o arquivo ca-2004-02.csv\n",
      "Tamanho do arquivo: 150.79 MB\n",
      "tempo de download: 0.065222 segundos\n",
      "Arquivo salvo com sucesso!\n",
      "baixando o arquivo ca-2005-01.csv\n",
      "Tamanho do arquivo: 150.43 MB\n",
      "tempo de download: 0.075211 segundos\n",
      "Arquivo salvo com sucesso!\n",
      "baixando o arquivo ca-2005-02.csv\n",
      "Tamanho do arquivo: 121.86 MB\n",
      "tempo de download: 0.079061 segundos\n",
      "Arquivo salvo com sucesso!\n",
      "baixando o arquivo ca-2006-01.csv\n",
      "Tamanho do arquivo: 143.31 MB\n",
      "tempo de download: 0.08527 segundos\n",
      "Arquivo salvo com sucesso!\n",
      "baixando o arquivo ca-2006-02.csv\n",
      "Tamanho do arquivo: 131.99 MB\n",
      "tempo de download: 0.087628 segundos\n",
      "Arquivo salvo com sucesso!\n",
      "baixando o arquivo ca-2007-01.csv\n",
      "Tamanho do arquivo: 138.63 MB\n",
      "tempo de download: 0.079335 segundos\n",
      "Arquivo salvo com sucesso!\n",
      "baixando o arquivo ca-2007-02.csv\n",
      "Tamanho do arquivo: 6.94 MB\n",
      "tempo de download: 0.092684 segundos\n",
      "Arquivo salvo com sucesso!\n",
      "baixando o arquivo ca-2008-01.csv\n",
      "Tamanho do arquivo: 1.44 MB\n",
      "tempo de download: 0.08142 segundos\n",
      "Arquivo salvo com sucesso!\n",
      "baixando o arquivo ca-2008-02.csv\n",
      "Tamanho do arquivo: 112.01 MB\n",
      "tempo de download: 0.077806 segundos\n",
      "Arquivo salvo com sucesso!\n",
      "baixando o arquivo ca-2009-01.csv\n",
      "Tamanho do arquivo: 18.81 MB\n",
      "tempo de download: 0.112753 segundos\n",
      "Arquivo salvo com sucesso!\n",
      "baixando o arquivo ca-2009-02.csv\n",
      "Tamanho do arquivo: 80.34 MB\n",
      "tempo de download: 0.063802 segundos\n",
      "Arquivo salvo com sucesso!\n",
      "baixando o arquivo ca-2010-01.csv\n",
      "Tamanho do arquivo: 103.56 MB\n",
      "tempo de download: 0.066051 segundos\n",
      "Arquivo salvo com sucesso!\n",
      "baixando o arquivo ca-2010-02.csv\n",
      "Tamanho do arquivo: 22.88 MB\n",
      "tempo de download: 0.096331 segundos\n",
      "Arquivo salvo com sucesso!\n",
      "baixando o arquivo ca-2011-01.csv\n",
      "Tamanho do arquivo: 107.64 MB\n",
      "tempo de download: 0.099694 segundos\n",
      "Arquivo salvo com sucesso!\n",
      "baixando o arquivo ca-2011-02.csv\n",
      "Tamanho do arquivo: 6.62 MB\n",
      "tempo de download: 0.099108 segundos\n",
      "Arquivo salvo com sucesso!\n",
      "baixando o arquivo ca-2012-01.csv\n",
      "Tamanho do arquivo: 109.98 MB\n",
      "tempo de download: 0.095299 segundos\n",
      "Arquivo salvo com sucesso!\n",
      "baixando o arquivo ca-2012-02.csv\n",
      "Tamanho do arquivo: 111.82 MB\n",
      "tempo de download: 0.067191 segundos\n",
      "Arquivo salvo com sucesso!\n",
      "baixando o arquivo ca-2013-01.csv\n",
      "Tamanho do arquivo: 8.88 MB\n",
      "tempo de download: 0.098703 segundos\n",
      "Arquivo salvo com sucesso!\n",
      "baixando o arquivo ca-2013-02.csv\n",
      "Tamanho do arquivo: 33.12 MB\n",
      "tempo de download: 0.076309 segundos\n",
      "Arquivo salvo com sucesso!\n",
      "baixando o arquivo ca-2014-01.csv\n",
      "Tamanho do arquivo: 31.75 MB\n",
      "tempo de download: 0.093004 segundos\n",
      "Arquivo salvo com sucesso!\n",
      "baixando o arquivo ca-2014-02.csv\n",
      "Tamanho do arquivo: 50.38 MB\n",
      "tempo de download: 0.088164 segundos\n",
      "Arquivo salvo com sucesso!\n",
      "baixando o arquivo ca-2015-01.csv\n",
      "Tamanho do arquivo: 116.19 MB\n",
      "tempo de download: 0.073957 segundos\n",
      "Arquivo salvo com sucesso!\n",
      "baixando o arquivo ca-2015-02.csv\n",
      "Tamanho do arquivo: 68.73 MB\n",
      "tempo de download: 0.084514 segundos\n",
      "Arquivo salvo com sucesso!\n",
      "baixando o arquivo ca-2016-01.csv\n",
      "Tamanho do arquivo: 81.30 MB\n",
      "tempo de download: 0.107754 segundos\n",
      "Arquivo salvo com sucesso!\n",
      "baixando o arquivo ca-2016-02.csv\n",
      "Tamanho do arquivo: 6.62 MB\n",
      "tempo de download: 0.110702 segundos\n",
      "Arquivo salvo com sucesso!\n",
      "baixando o arquivo ca-2017-01.csv\n",
      "Tamanho do arquivo: 81.81 MB\n",
      "tempo de download: 0.072422 segundos\n",
      "Arquivo salvo com sucesso!\n",
      "baixando o arquivo ca-2017-02.csv\n",
      "Tamanho do arquivo: 50.45 MB\n",
      "tempo de download: 0.099783 segundos\n",
      "Arquivo salvo com sucesso!\n",
      "baixando o arquivo ca-2018-01.csv\n",
      "Tamanho do arquivo: 3.75 MB\n",
      "tempo de download: 0.097315 segundos\n",
      "Arquivo salvo com sucesso!\n",
      "baixando o arquivo ca-2018-02.csv\n",
      "Tamanho do arquivo: 82.56 MB\n",
      "tempo de download: 0.07231 segundos\n",
      "Arquivo salvo com sucesso!\n",
      "baixando o arquivo ca-2019-01.csv\n",
      "Tamanho do arquivo: 59.88 MB\n",
      "tempo de download: 0.094634 segundos\n",
      "Arquivo salvo com sucesso!\n",
      "baixando o arquivo ca-2019-02.csv\n",
      "Tamanho do arquivo: 84.89 MB\n",
      "tempo de download: 0.089388 segundos\n",
      "Arquivo salvo com sucesso!\n",
      "baixando o arquivo ca-2020-01.csv\n",
      "Tamanho do arquivo: 38.12 MB\n",
      "tempo de download: 0.080455 segundos\n",
      "Arquivo salvo com sucesso!\n",
      "baixando o arquivo ca-2020-02.csv\n",
      "Tamanho do arquivo: 2.94 MB\n",
      "tempo de download: 0.095283 segundos\n",
      "Arquivo salvo com sucesso!\n",
      "baixando o arquivo ca-2021-01.csv\n",
      "Tamanho do arquivo: 55.23 MB\n",
      "tempo de download: 0.090721 segundos\n",
      "Arquivo salvo com sucesso!\n",
      "baixando o arquivo ca-2021-02.csv\n",
      "Tamanho do arquivo: 7.25 MB\n",
      "tempo de download: 0.092047 segundos\n",
      "Arquivo salvo com sucesso!\n"
     ]
    }
   ],
   "source": [
    "for link in links:\n",
    "    baixar_csv(link)"
   ],
   "metadata": {
    "collapsed": false
   }
  },
  {
   "cell_type": "code",
   "execution_count": 1,
   "outputs": [],
   "source": [
    "from tratamentos import lista_arquivos\n",
    "from tratamentos import verificar_linhas_colunas\n",
    "from tratamentos import concatenar_arquivos"
   ],
   "metadata": {
    "collapsed": false
   }
  },
  {
   "cell_type": "code",
   "execution_count": 2,
   "outputs": [],
   "source": [
    "lista_arquivos_csv = lista_arquivos"
   ],
   "metadata": {
    "collapsed": false
   }
  },
  {
   "cell_type": "code",
   "execution_count": 9,
   "outputs": [
    {
     "name": "stdout",
     "output_type": "stream",
     "text": [
      "O arquivo ca-2004-01.csv possui 281531 linhas e 16 colunas\n",
      "O arquivo ca-2004-02.csv possui 915317 linhas e 16 colunas\n",
      "O arquivo ca-2005-01.csv possui 912729 linhas e 16 colunas\n",
      "O arquivo ca-2005-02.csv possui 741813 linhas e 16 colunas\n",
      "O arquivo ca-2006-01.csv possui 868880 linhas e 16 colunas\n",
      "O arquivo ca-2006-02.csv possui 802334 linhas e 16 colunas\n",
      "O arquivo ca-2007-01.csv possui 843679 linhas e 16 colunas\n",
      "O arquivo ca-2007-02.csv possui 42049 linhas e 16 colunas\n",
      "O arquivo ca-2008-01.csv possui 8760 linhas e 16 colunas\n",
      "O arquivo ca-2008-02.csv possui 678557 linhas e 16 colunas\n",
      "O arquivo ca-2009-01.csv possui 114040 linhas e 16 colunas\n",
      "O arquivo ca-2009-02.csv possui 485891 linhas e 16 colunas\n",
      "O arquivo ca-2010-01.csv possui 628516 linhas e 16 colunas\n",
      "O arquivo ca-2010-02.csv possui 138380 linhas e 16 colunas\n",
      "O arquivo ca-2011-01.csv possui 649693 linhas e 16 colunas\n",
      "O arquivo ca-2011-02.csv possui 40108 linhas e 16 colunas\n",
      "O arquivo ca-2012-01.csv possui 662246 linhas e 16 colunas\n",
      "O arquivo ca-2012-02.csv possui 672257 linhas e 16 colunas\n",
      "O arquivo ca-2013-01.csv possui 53476 linhas e 16 colunas\n",
      "O arquivo ca-2013-02.csv possui 198669 linhas e 16 colunas\n",
      "O arquivo ca-2014-01.csv possui 190492 linhas e 16 colunas\n",
      "O arquivo ca-2014-02.csv possui 301732 linhas e 16 colunas\n",
      "O arquivo ca-2015-01.csv possui 696774 linhas e 16 colunas\n",
      "O arquivo ca-2015-02.csv possui 410974 linhas e 16 colunas\n",
      "O arquivo ca-2016-01.csv possui 486897 linhas e 16 colunas\n",
      "O arquivo ca-2016-02.csv possui 39512 linhas e 16 colunas\n",
      "O arquivo ca-2017-01.csv possui 487659 linhas e 16 colunas\n",
      "O arquivo ca-2017-02.csv possui 300947 linhas e 16 colunas\n",
      "O arquivo ca-2018-01.csv possui 22453 linhas e 16 colunas\n",
      "O arquivo ca-2018-02.csv possui 493169 linhas e 16 colunas\n",
      "O arquivo ca-2019-01.csv possui 357881 linhas e 16 colunas\n",
      "O arquivo ca-2019-02.csv possui 507299 linhas e 16 colunas\n",
      "O arquivo ca-2020-01.csv possui 228548 linhas e 16 colunas\n",
      "O arquivo ca-2020-02.csv possui 17761 linhas e 16 colunas\n",
      "O arquivo ca-2021-01.csv possui 334681 linhas e 16 colunas\n",
      "O arquivo ca-2021-02.csv possui 44241 linhas e 16 colunas\n"
     ]
    }
   ],
   "source": [
    "for arquivo in lista_arquivos:\n",
    "    verificar_linhas_colunas(arquivo)"
   ],
   "metadata": {
    "collapsed": false
   }
  },
  {
   "cell_type": "code",
   "execution_count": 5,
   "outputs": [],
   "source": [
    "df = concatenar_arquivos(lista_arquivos)"
   ],
   "metadata": {
    "collapsed": false
   }
  },
  {
   "cell_type": "code",
   "execution_count": 7,
   "outputs": [
    {
     "data": {
      "text/plain": "Index(['ï»¿Regiao - Sigla', 'Estado - Sigla', 'Municipio', 'Revenda',\n       'CNPJ da Revenda', 'Nome da Rua', 'Numero Rua', 'Complemento', 'Bairro',\n       'Cep', 'Produto', 'Data da Coleta', 'Valor de Venda', 'Valor de Compra',\n       'Unidade de Medida', 'Bandeira', 'Regiao - Sigla'],\n      dtype='object')"
     },
     "execution_count": 7,
     "metadata": {},
     "output_type": "execute_result"
    }
   ],
   "source": [
    "df.columns"
   ],
   "metadata": {
    "collapsed": false
   }
  }
 ],
 "metadata": {
  "kernelspec": {
   "display_name": "Python 3.9.7 ('base')",
   "language": "python",
   "name": "python3"
  },
  "language_info": {
   "codemirror_mode": {
    "name": "ipython",
    "version": 3
   },
   "file_extension": ".py",
   "mimetype": "text/x-python",
   "name": "python",
   "nbconvert_exporter": "python",
   "pygments_lexer": "ipython3",
   "version": "3.9.7"
  },
  "orig_nbformat": 4,
  "vscode": {
   "interpreter": {
    "hash": "01f8f73e8052737d22aa5cfa52d73709cdbd5ae80fc4fa1112056b0ed1fa47c6"
   }
  }
 },
 "nbformat": 4,
 "nbformat_minor": 2
}
