{
 "cells": [
  {
   "cell_type": "markdown",
   "id": "9e43aec5-2171-4fd6-8402-22ab5100f763",
   "metadata": {
    "pycharm": {
     "name": "#%% md\n"
    }
   },
   "source": [
    "# Segunda atividade de programação\n",
    "\n",
    "No código que se segue, você deverá completar as partes indicadas.\n",
    "\n",
    "Note que o código está construído em OOP (Orientação ao Objeto), usando classes e métodos.\n",
    "\n",
    "Leitura recomendada:\n",
    "\n",
    "https://docs.microsoft.com/pt-br/learn/modules/python-object-oriented-programming/"
   ]
  },
  {
   "cell_type": "code",
   "execution_count": 1,
   "id": "5f93a8c4-c0fd-4dc4-a142-19c8dc5655cf",
   "metadata": {
    "pycharm": {
     "name": "#%%\n"
    }
   },
   "outputs": [],
   "source": [
    "from __future__ import annotations\n",
    "from typing import List, Callable, Optional\n",
    "from random import random\n",
    "from math import exp"
   ]
  },
  {
   "cell_type": "code",
   "execution_count": 2,
   "id": "58b341ca-49fc-4d28-a8c4-c9ab4199f12c",
   "metadata": {
    "pycharm": {
     "name": "#%%\n"
    }
   },
   "outputs": [],
   "source": [
    "# Funções auxiliares\n",
    "\n",
    "def dot_product(xs: List[float], ys: List[float]) -> float:\n",
    "    return sum(x * y for x, y in zip(xs, ys))\n",
    "\n",
    "def sigmoid(x: float) -> float:\n",
    "    return 1.0/(1.0 + exp(-x))\n",
    "\n",
    "def derivative_sigmoid(x: float) -> float:\n",
    "    sig: float = sigmoid(x)\n",
    "    return sig * (1 - sig)"
   ]
  },
  {
   "cell_type": "code",
   "execution_count": 4,
   "id": "08aa32d3-21ce-4f87-8e4e-2f601a82c0f2",
   "metadata": {
    "tags": [],
    "pycharm": {
     "name": "#%%\n"
    }
   },
   "outputs": [
    {
     "ename": "SyntaxError",
     "evalue": "invalid syntax (Temp/ipykernel_708/3905345281.py, line 5)",
     "output_type": "error",
     "traceback": [
      "\u001B[1;36m  File \u001B[1;32m\"C:\\Users\\tassi\\AppData\\Local\\Temp/ipykernel_708/3905345281.py\"\u001B[1;36m, line \u001B[1;32m5\u001B[0m\n\u001B[1;33m    self.weights: List[float] = #CODIGO AQUI\u001B[0m\n\u001B[1;37m                                ^\u001B[0m\n\u001B[1;31mSyntaxError\u001B[0m\u001B[1;31m:\u001B[0m invalid syntax\n"
     ]
    }
   ],
   "source": [
    "class Neuron:\n",
    "    def __init__(self, weigths: List[float], learning_rate: float,\n",
    "                 activation_function: Callable[[float], float],\n",
    "                 derivative_activation_function: Callable[[float], float]) -> None:\n",
    "        self.weights: List[float] = #CODIGO AQUI\n",
    "        self.activation_function: Callable[[float], float] = #CODIGO AQUI\n",
    "        self.derivative_activation_function: Callable[[float], float] = #CODIGO AQUI\n",
    "        self.learning_rate: float = learning_rate\n",
    "        self.output_cache: float = .0\n",
    "        self.delta: float = .0\n",
    "        \n",
    "    def output(self, inputs: List[float]) -> float:\n",
    "        self.output_cache = \n",
    "        return self.activation_function(self.output_cache)    "
   ]
  },
  {
   "cell_type": "code",
   "execution_count": null,
   "id": "e96db7cd-136d-41dc-91d4-d8872a3b6d2e",
   "metadata": {
    "tags": [],
    "pycharm": {
     "name": "#%%\n"
    }
   },
   "outputs": [],
   "source": [
    "# Implementação de uma classe para as camadas\n",
    "\n",
    "class Layer:\n",
    "    def __init__(self, previous_layer: Optional[Layer], num_neurons: int,\n",
    "                 learning_rate: float, activation_function: Callable[[float], float],\n",
    "                 derivatve_activation_function: Callable[[float], float]) -> None:\n",
    "        self.previous_layer: Optional[Layer] = previous_layer\n",
    "        self.neurons: List[Neuron] = []\n",
    "        for i in range(num_neurons):\n",
    "            if previous_layer is None:\n",
    "                random_weights: List[float] = []\n",
    "            else:\n",
    "                random_weights = [random() for _ in range(len(previous_layer.neurons))]\n",
    "            neuron: Neuron = Neuron(random_weights, learning_rate, activation_function,\n",
    "                                    derivatve_activation_function)\n",
    "            self.neurons.append(neuron)\n",
    "        self.output_cache: List[float] = [.0 for _ in range(num_neurons)]\n",
    "        \n",
    "    def outputs(self, inputs: List[float]) -> List[float]:\n",
    "        if self.previous_layer is None:\n",
    "            self.output_cache =\n",
    "        else:\n",
    "            self.output_cache = [n.output(inputs) for n in self.neurons]\n",
    "        return self.output_cache\n",
    "    \n",
    "    def calculate_delas_for_out_put_layer(self, expected: List[float]) -> None:\n",
    "        for n in range(len(self.neurons)):\n",
    "            self.neurons[n].delta = self.neurons[n].derivatve_activation_function(\n",
    "                self.neurons[n].output_cache) * (expected[n] - self.output_cache[n])\n",
    "    \n",
    "    def calculate_deltas_for_hidden_layers(self, next_layer: Layer) -> None:\n",
    "        for index, neuron in enumerate(self.neurons):\n",
    "            next_weights: List[float] = [n.weights[index] for n in next_layer.neurons]\n",
    "            next_deltas: List[float] = [n.delta for n in next_layer.neurons]\n",
    "            sum_weights_and_deltas: float = # CODIGO AQUI\n",
    "            neuron.delta = # CODIGO AQUI"
   ]
  },
  {
   "cell_type": "code",
   "execution_count": null,
   "id": "6d97f964-c01e-48cb-bc1f-f5e005f03cd9",
   "metadata": {
    "pycharm": {
     "name": "#%%\n"
    }
   },
   "outputs": [],
   "source": []
  },
  {
   "cell_type": "code",
   "execution_count": null,
   "id": "a9c4ba1c-3e8a-4faf-a950-1887a7d2565d",
   "metadata": {
    "pycharm": {
     "name": "#%%\n"
    }
   },
   "outputs": [],
   "source": []
  },
  {
   "cell_type": "code",
   "execution_count": null,
   "id": "37c1bec9-f7b4-44b0-a5b6-cda04cffebea",
   "metadata": {
    "pycharm": {
     "name": "#%%\n"
    }
   },
   "outputs": [],
   "source": []
  },
  {
   "cell_type": "code",
   "execution_count": null,
   "id": "beca08c6-e01e-4f06-905c-5d41e0b90bf7",
   "metadata": {
    "pycharm": {
     "name": "#%%\n"
    }
   },
   "outputs": [],
   "source": []
  },
  {
   "cell_type": "code",
   "execution_count": null,
   "id": "ce9c76a1-9b4b-4f6f-b9fc-9cc249e6d846",
   "metadata": {
    "pycharm": {
     "name": "#%%\n"
    }
   },
   "outputs": [],
   "source": []
  }
 ],
 "metadata": {
  "kernelspec": {
   "display_name": "Python 3.10.5 64-bit (windows store)",
   "language": "python",
   "name": "python3"
  },
  "language_info": {
   "codemirror_mode": {
    "name": "ipython",
    "version": 3
   },
   "file_extension": ".py",
   "mimetype": "text/x-python",
   "name": "python",
   "nbconvert_exporter": "python",
   "pygments_lexer": "ipython3",
   "version": "3.10.6"
  },
  "vscode": {
   "interpreter": {
    "hash": "a462b4b234b70283fe9b98dd45241c6040f0eb1c9693a0b6e9e5b6ed8bfa6244"
   }
  }
 },
 "nbformat": 4,
 "nbformat_minor": 5
}